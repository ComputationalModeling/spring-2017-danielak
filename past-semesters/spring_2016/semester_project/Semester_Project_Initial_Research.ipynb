{
 "cells": [
  {
   "cell_type": "markdown",
   "metadata": {},
   "source": [
    "# Semester project - summary of initial research\n"
   ]
  },
  {
   "cell_type": "markdown",
   "metadata": {},
   "source": [
    "## Your name"
   ]
  },
  {
   "cell_type": "markdown",
   "metadata": {},
   "source": [
    "// put your name here"
   ]
  },
  {
   "cell_type": "markdown",
   "metadata": {},
   "source": [
    "## Goals for this assignment\n",
    "\n",
    "For your semester project, you have been asked to find a computational model that is interesting to you, and that you think you understand reasonably well now that you have taken this course.  In a few weeks you will be asked to give a short presentation to the class describing this model, its underlying numerical algorithms, its connections to class, and ways that one can identify whether this is a good model or not.\n",
    "\n",
    "**The point of this assignment** is to get you to do some in-depth research and to think  about the model that you have chosen, examples that you will use to explain it, and how it connects to class.  This will help you to think through the model, and will also provide source material for your presentation!\n",
    "\n",
    "## Questions\n",
    "\n",
    "\n",
    "**Briefly describe** the two models that you presented to your group (a sentence or two for each).  Which model are you going to present at the end of the semester, and why did you choose that one?"
   ]
  },
  {
   "cell_type": "markdown",
   "metadata": {},
   "source": [
    "// put your answer here!"
   ]
  },
  {
   "cell_type": "markdown",
   "metadata": {},
   "source": [
    "**Describe the model** that you chose in more detail.  In particular, talk about:\n",
    "\n",
    "1. The purpose of the model.  What is it used for?  (In other words, why should I care?)\n",
    "2. How does the model work?  In other words, what are the numerical algorithms that underly the model?\n",
    "3. How does it connect to what we've done in class?\n",
    "4. If I were using this model, what sort of data would I compare it to in order to decide if it's a good model or a bad model?\n",
    "\n",
    "Make sure to put references to relevant web pages, articles, etc. in your answers - this is an important part of the project, and will significantly affect your grade!  You can add links either by putting the URL in directly (i.e., www.google.com) or by using this syntax:\n",
    "\n",
    "```\n",
    "[text](URL)\n",
    "```\n",
    "\n",
    "(note that this latter method is preferred for long URLs)"
   ]
  },
  {
   "cell_type": "markdown",
   "metadata": {},
   "source": [
    "// put your answer here!"
   ]
  },
  {
   "cell_type": "markdown",
   "metadata": {},
   "source": [
    "**What resources** have you used to find information about your model?  Put links to web pages, papers, etc. below and include some text describing why you chose each link, what useful information it has, and why you believe that it's a credible source.  You should use the syntax described in the previous question."
   ]
  },
  {
   "cell_type": "markdown",
   "metadata": {},
   "source": [
    "// put your answer here!"
   ]
  },
  {
   "cell_type": "markdown",
   "metadata": {},
   "source": [
    "**What graphics, images, or animations** can you use to demonstrate to the other students in this class how the model works and how it is compared to data?  Please provide links, and describe why you think that these visualizations are useful to make the points that you wish to make."
   ]
  },
  {
   "cell_type": "markdown",
   "metadata": {},
   "source": [
    "// put your answer here!"
   ]
  },
  {
   "cell_type": "markdown",
   "metadata": {},
   "source": [
    "**What questions do you still have about your model** now that you've spent some time doing research?"
   ]
  },
  {
   "cell_type": "markdown",
   "metadata": {},
   "source": [
    "// put your answer here!"
   ]
  },
  {
   "cell_type": "markdown",
   "metadata": {},
   "source": [
    "----\n",
    "\n",
    "# Congratulations, you're done!\n",
    "\n",
    "## How to submit this assignment\n",
    "\n",
    "Log into the course Desire2Learn website (d2l.msu.edu) and go to the \"Semester Project\" folder.  There will be a dropbox labeled \"Initial research summary\".  Upload this notebook there. "
   ]
  }
 ],
 "metadata": {
  "kernelspec": {
   "display_name": "Python 3",
   "language": "python",
   "name": "python3"
  },
  "language_info": {
   "codemirror_mode": {
    "name": "ipython",
    "version": 3
   },
   "file_extension": ".py",
   "mimetype": "text/x-python",
   "name": "python",
   "nbconvert_exporter": "python",
   "pygments_lexer": "ipython3",
   "version": "3.5.1"
  }
 },
 "nbformat": 4,
 "nbformat_minor": 0
}
