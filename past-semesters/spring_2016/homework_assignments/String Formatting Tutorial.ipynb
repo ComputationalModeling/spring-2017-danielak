{
 "cells": [
  {
   "cell_type": "markdown",
   "metadata": {},
   "source": [
    "## Text and String Formatting Tutorial - some examples\n",
    "\n",
    "This notebook demonstrates how to make nicely formatted numbers and tables in Python 3 (the version of Python we're using in class.)\n",
    "\n",
    "Some useful references (which are the source of all of the information in this tutorial) are:\n",
    "* https://mkaz.tech/python-string-format.html\n",
    "* https://pyformat.info/\n",
    "* https://docs.python.org/3.5/tutorial/inputoutput.html\n",
    "* http://www.python-course.eu/python3_formatted_output.php\n",
    "\n",
    "Note that the first part of this tutorial shows how to format numbers, and the last part shows how to add new lines, tabs, and special characters in Python."
   ]
  },
  {
   "cell_type": "markdown",
   "metadata": {},
   "source": [
    "## Number Formatting\n",
    "The following table shows various ways to format numbers using python's str.format() method.  Examples include both float and integer formatting.\n",
    "\n",
    "To run examples use this syntax: \n",
    "\n",
    "```print(\"FORMAT\".format(NUMBER))```\n",
    "\n",
    "So, to get the output of the first example shown in the table below, you would run:\n",
    "\n",
    "```print(\"{:.2f}\".format(3.1415926))```\n",
    "\n"
   ]
  },
  {
   "cell_type": "markdown",
   "metadata": {},
   "source": [
    "<img src=\"stringformattingchart.png\">\n",
    "\n",
    "**Note:** If you can't see this table, you can find it at https://mkaz.tech/python-string-format.html"
   ]
  },
  {
   "cell_type": "markdown",
   "metadata": {},
   "source": [
    "### string.format() basics\n",
    "\n",
    "Here are a couple of example of basic string substitution. The {} (i.e., \"curly brackets\") are the placeholder for the substituted variables. If no format is specified, it will insert and format the variables as a string.  Note that you can have multiple variables in the print statement - just make sure you have the same number of pairs of brackets as you do variables in the format statement!"
   ]
  },
  {
   "cell_type": "code",
   "execution_count": null,
   "metadata": {
    "collapsed": false
   },
   "outputs": [],
   "source": [
    "s1 = \"so much depends upon {}\".format(\"a red wheel barrow\")\n",
    "s2 = \"glazed with {} water beside the {} chickens\".format(\"rain\", \"white\")\n",
    "print(s1)\n",
    "print(s2)"
   ]
  },
  {
   "cell_type": "markdown",
   "metadata": {},
   "source": [
    "You can also use the numeric position of the variables and change them in the strings.  This gives some flexibility when doing the formatting - if you made a mistake in the order you can easily correct without shuffling all variables around.  Note that you start counting from zero, just like in lists and arrays!"
   ]
  },
  {
   "cell_type": "code",
   "execution_count": null,
   "metadata": {
    "collapsed": false
   },
   "outputs": [],
   "source": [
    "s1 = \" {0} are better than {1} \".format(\"dogs\", \"cats\")\n",
    "s2 = \" {1} are better than {0} \".format(\"dogs\", \"cats\")\n",
    "print(s1)\n",
    "print(s2)"
   ]
  },
  {
   "cell_type": "markdown",
   "metadata": {},
   "source": [
    "### Reuse Same Variable Multiple Times\n",
    "\n",
    "The .format() method allows you to put them in any order as we saw above in the basics, but also allows for reuse."
   ]
  },
  {
   "cell_type": "code",
   "execution_count": null,
   "metadata": {
    "collapsed": false
   },
   "outputs": [],
   "source": [
    "s1 = \"Oh {0}, {0}! wherefore art thou {0}?\".format(\"Romeo\")\n",
    "print(s1)"
   ]
  },
  {
   "cell_type": "markdown",
   "metadata": {},
   "source": [
    "It's generally helpful to make sure you have the same number of {} as variables as arguments. For example, the following line of code will not work, since there are more sets of brackets than arguments to the format function **and** there aren't zeros in all of the brackets to indicate that the variable should be reused. "
   ]
  },
  {
   "cell_type": "code",
   "execution_count": null,
   "metadata": {
    "collapsed": false
   },
   "outputs": [],
   "source": [
    "s1 = \"{} {}\".format(\"testing\")"
   ]
  },
  {
   "cell_type": "markdown",
   "metadata": {},
   "source": [
    "### Named Arguments\n",
    "You can also use the new string format as a templating engine and use named arguments, instead of requiring a strict order."
   ]
  },
  {
   "cell_type": "code",
   "execution_count": null,
   "metadata": {
    "collapsed": false
   },
   "outputs": [],
   "source": [
    "madlib = \" I {verb} the {object} off the {place} \".format(verb=\"took\", object=\"cheese\", place=\"table\")\n",
    "print(madlib)"
   ]
  },
  {
   "cell_type": "markdown",
   "metadata": {},
   "source": [
    "## Padding and Aligning Strings\n",
    "By default values are formatted to take up only as many characters as needed to represent the content. It is however also possible to define that a value should be \"padded\" to a specific length. The number in the brackets tells Python what the minimum length of the string should be: if the number is smaller than the length of the string given, it'll print the entire string.\n"
   ]
  },
  {
   "cell_type": "code",
   "execution_count": null,
   "metadata": {
    "collapsed": false
   },
   "outputs": [],
   "source": [
    "s1 = \"--{:10}--\".format(\"test\") #added dashes to see where the spaces are between them.\n",
    "s2 = \"--{:10}--\".format(\"long test string\")\n",
    "print(s1)\n",
    "print(s2)"
   ]
  },
  {
   "cell_type": "markdown",
   "metadata": {},
   "source": [
    "By default, strings will left align, so the words will be on the left side of the resulting string. Integers and floats will right align by default. To enforce one alignment or another, you can add '>', '<', or '^'. The character should \"point\" in the direction of alignment (ex: '>' means right alignment, '^' means center alignment). "
   ]
  },
  {
   "cell_type": "code",
   "execution_count": null,
   "metadata": {
    "collapsed": false
   },
   "outputs": [],
   "source": [
    "s1 = \"--{:10}--\".format(\"test\") #added dashes to see where the spaces are between them.\n",
    "s2 = \"--{:10}--\".format(14)\n",
    "print(s1)\n",
    "print(s2)\n",
    "print()\n",
    "\n",
    "s1 = \"--{:>10}--\".format(\"test\") #added dashes to see where the spaces are between them.\n",
    "s2 = \"--{:<10}--\".format(14)\n",
    "print(s1)\n",
    "print(s2)\n",
    "print()\n",
    "\n",
    "s1 = \"--{:^10}--\".format(\"test\") #added dashes to see where the spaces are between them.\n",
    "s2 = \"--{:^10}--\".format(14)\n",
    "print(s1)\n",
    "print(s2)"
   ]
  },
  {
   "cell_type": "markdown",
   "metadata": {
    "collapsed": true
   },
   "source": [
    "## Adding tabs and blank lines\n",
    "\n",
    "An additional way to add space to print statements is to use special print comments called \"escape sequences.\"  The two most common (and most useful) of these are:\n",
    "\n",
    "```\n",
    "\\n     add a new line (go to the next line)\n",
    "\\t     add a horizontal tab (several spaces)\n",
    "```"
   ]
  },
  {
   "cell_type": "code",
   "execution_count": null,
   "metadata": {
    "collapsed": false
   },
   "outputs": [],
   "source": [
    "print(\"on the first line\\non a second line\")"
   ]
  },
  {
   "cell_type": "code",
   "execution_count": null,
   "metadata": {
    "collapsed": false
   },
   "outputs": [],
   "source": [
    "print(\"these\\tare\\tseparated\\tby\\ttabs\")"
   ]
  },
  {
   "cell_type": "markdown",
   "metadata": {},
   "source": [
    "These can be combined with the string formatting described above to make nicely-formatted tables.  For example:"
   ]
  },
  {
   "cell_type": "code",
   "execution_count": null,
   "metadata": {
    "collapsed": false
   },
   "outputs": [],
   "source": [
    "for i in range(0,101,10):\n",
    "    print(\"{}\\t{:2e}\\t{:2f}\\twoo!\".format(i,10**i,i/10))"
   ]
  },
  {
   "cell_type": "markdown",
   "metadata": {},
   "source": [
    "## Including special characters in print statements\n",
    "\n",
    "When it comes to strings, Python interprets the backslash character (\\) and single and double quotations (' and \") to mean special things.  So how do you include these characters in strings?  You add an additioanl backslash in front of them!  For example:"
   ]
  },
  {
   "cell_type": "code",
   "execution_count": null,
   "metadata": {
    "collapsed": false
   },
   "outputs": [],
   "source": [
    "print(\"so I said \\\"hi, mom!\\\" and she waved at me.\")"
   ]
  },
  {
   "cell_type": "code",
   "execution_count": null,
   "metadata": {
    "collapsed": false
   },
   "outputs": [],
   "source": [
    "print(\"this looks like a newline: \\\\n, but it doesn't go to a new line!\")"
   ]
  }
 ],
 "metadata": {
  "kernelspec": {
   "display_name": "Python 3",
   "language": "python",
   "name": "python3"
  },
  "language_info": {
   "codemirror_mode": {
    "name": "ipython",
    "version": 3
   },
   "file_extension": ".py",
   "mimetype": "text/x-python",
   "name": "python",
   "nbconvert_exporter": "python",
   "pygments_lexer": "ipython3",
   "version": "3.5.1"
  }
 },
 "nbformat": 4,
 "nbformat_minor": 0
}
