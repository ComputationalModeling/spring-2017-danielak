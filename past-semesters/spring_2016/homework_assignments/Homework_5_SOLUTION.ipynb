{
 "cells": [
  {
   "cell_type": "markdown",
   "metadata": {},
   "source": [
    "# Homework \\#5 - Using Bag of Words on the 2016 Presidential Race\n",
    "\n",
    "This homework assignment expands upon our in-class work analyzing twitter data, focusing on the 2016 presidential elections.  Please make sure to get started early, and come by the instructors' office hours if you have any questions.  Office hours and locations can be found in the course syllabus.  **IMPORTANT:** While it's fine if you talk to other people in class about this homework - and in fact we encourage it! - you are responsible for creating the  solutions for this homework on your own, and each student must submit their own homework assignment."
   ]
  },
  {
   "cell_type": "markdown",
   "metadata": {},
   "source": [
    "## Name"
   ]
  },
  {
   "cell_type": "markdown",
   "metadata": {
    "collapsed": true
   },
   "source": [
    "// Put your name here"
   ]
  },
  {
   "cell_type": "markdown",
   "metadata": {},
   "source": [
    "\n",
    "# Off to the races\n",
    "\n",
    "Let's see how positive the 2016 Presidential candidate race is so far.  I have downloaded Twitter feed data using the [tweepy](http://www.tweepy.org/) module.  You can download the Tweepy.ipynb example from the class D2L website to see how this was done, but it's not necessary to do so if you don't want to.  We are going to make a bar graph of each of the candidate's tweets and see how positive their campaign is so far.  \n",
    "\n",
    "The first thing to do is review how we downloaded the Twitter files using the code from the in-class assignment. "
   ]
  },
  {
   "cell_type": "code",
   "execution_count": null,
   "metadata": {
    "collapsed": false,
    "scrolled": true
   },
   "outputs": [],
   "source": [
    "%matplotlib inline\n",
    "import matplotlib.pyplot as plt\n",
    "from string import punctuation\n",
    "import urllib.request"
   ]
  },
  {
   "cell_type": "code",
   "execution_count": null,
   "metadata": {
    "collapsed": false,
    "scrolled": true
   },
   "outputs": [],
   "source": [
    "files=['negative.txt','positive.txt']\n",
    "path='http://www.unc.edu/~ncaren/haphazard/'\n",
    "for file_name in files:\n",
    "    urllib.request.urlretrieve(path+file_name,file_name)"
   ]
  },
  {
   "cell_type": "code",
   "execution_count": null,
   "metadata": {
    "collapsed": true,
    "scrolled": true
   },
   "outputs": [],
   "source": [
    "pos_sent = open(\"positive.txt\").read()\n",
    "positive_words=pos_sent.split('\\n')\n",
    "neg_sent = open(\"negative.txt\").read()\n",
    "negative_words=neg_sent.split('\\n')"
   ]
  },
  {
   "cell_type": "code",
   "execution_count": null,
   "metadata": {
    "collapsed": true,
    "scrolled": true
   },
   "outputs": [],
   "source": [
    "#positive_words.remove('');\n",
    "#negative_words.remove('');"
   ]
  },
  {
   "cell_type": "markdown",
   "metadata": {},
   "source": [
    "For this homework we are going to use new data downloaded in the last week.  The file names are:\n",
    "\n",
    "```<<twitter_names>>_tweets.txt```\n",
    "\n",
    "Where ```Twitter_names``` is the Twitter name of the individual polititions.  The following Twitter names are available for download:"
   ]
  },
  {
   "cell_type": "code",
   "execution_count": null,
   "metadata": {
    "collapsed": true,
    "scrolled": true
   },
   "outputs": [],
   "source": [
    "twitter_names = [ 'BarackObama', 'realDonaldTrump','HillaryClinton', 'BernieSanders', 'tedcruz']"
   ]
  },
  {
   "cell_type": "markdown",
   "metadata": {},
   "source": [
    "So, for example, the file name for Barack Obama is ```BarackObama_tweets.txt```.  The first step is to rewrite the above loop to download all five files and save them to your local directory.  \n",
    "\n",
    "**NOTE:** these files are no longer on Dr. Neal Caren's Website.  We have posted them locally at MSU, at http://www.msu.edu/~colbrydi.  As a result, the full URL and file name for Barack Obama is http://www.msu.edu/~colbrydi/BarackObama_tweets.txt"
   ]
  },
  {
   "cell_type": "markdown",
   "metadata": {},
   "source": [
    "**Step 1: Download Data**. Download the tweet data:"
   ]
  },
  {
   "cell_type": "code",
   "execution_count": null,
   "metadata": {
    "collapsed": false,
    "scrolled": true
   },
   "outputs": [],
   "source": [
    "# Write your code to download the tweet files from each of the politicians. \n",
    "\n",
    "path='http://www.msu.edu/~colbrydi/'\n",
    "for name in twitter_names:\n",
    "    file_name=name+'_tweets.txt'\n",
    "    print(file_name)\n",
    "    urllib.request.urlretrieve(path+file_name,file_name)"
   ]
  },
  {
   "cell_type": "markdown",
   "metadata": {},
   "source": [
    "**Step 2: Create a tweetcount function**\n",
    "\n",
    "Let's see if we can make a function (let's call it ```tweetcount```). The function should take a tweet string, ```positive_words```, and ```negative_words``` as inputs and return a \"positiveness\" ratio - i.e., count all the positive words and subtract all of the negative words and divide by the total words in the tweet (**HINT: See the pre-class and in-class assignments!**).  This value should be a number that ranges from -1.0 to 1.0. \n",
    "\n",
    "I put in a \"stub\" function to help get you started. Just fill in your own code. \n",
    "\n",
    "A code \"stub\" is a common way to outline a program without getting into all of the details. You can define what your functions need as inputs and ouputs without needing to write the function code.  It is common practice to output an \"invalid\" value (0.5 in this case).  You can then use your \"stub\" to test other code that will call your function.  "
   ]
  },
  {
   "cell_type": "code",
   "execution_count": null,
   "metadata": {
    "collapsed": false,
    "scrolled": true
   },
   "outputs": [],
   "source": [
    "def tweetcount(tweet, positive_words, negative_words):\n",
    "    counter = 0\n",
    "    #Put your code here\n",
    "    tweet_processed=tweet.lower()\n",
    "    for p in punctuation:\n",
    "        tweet_processed=tweet_processed.replace(p,'')\n",
    "        \n",
    "    words=tweet_processed.split(' ')\n",
    "    #if '' in words:\n",
    "    #    words.remove('');\n",
    "    if len(words) == 0:\n",
    "        return 0;\n",
    "    for word in words:\n",
    "        if word in positive_words:\n",
    "            counter=counter+1\n",
    "        if word in negative_words:\n",
    "            counter=counter-1\n",
    "    return counter/len(words)\n",
    "    #return 0.5"
   ]
  },
  {
   "cell_type": "markdown",
   "metadata": {},
   "source": [
    "Let's test this on a simple tweet to make sure everything is working. (Note: this is sometimes called \"unit testing\", and is considered to be very good programming practice.) What answer do you expect?\n",
    "\n",
    "Since there are two positive words (delightful and Awesome) and 10 words in the tweet, we expect to get a value of 0.2. If you do not get 0.2 then something is wrong in your code. Go back and fix it until you do get 0.2."
   ]
  },
  {
   "cell_type": "code",
   "execution_count": null,
   "metadata": {
    "collapsed": false,
    "scrolled": true
   },
   "outputs": [],
   "source": [
    "tweetcount('We have some delightful new food in the cafeteria. Awesome!!!', positive_words, negative_words)"
   ]
  },
  {
   "cell_type": "markdown",
   "metadata": {},
   "source": [
    "**Step 3: Bug Fixing **\n",
    "\n",
    "During the class assignment someone noticed an interesting problem when working with real tweet data.  Consider the following test. Can you identify the simple difference between this test and the previous test? "
   ]
  },
  {
   "cell_type": "code",
   "execution_count": null,
   "metadata": {
    "collapsed": false,
    "scrolled": true
   },
   "outputs": [],
   "source": [
    "tweetcount('We have some delightful new  food in the cafeteria. Awesome!!!', positive_words, negative_words)"
   ]
  },
  {
   "cell_type": "markdown",
   "metadata": {},
   "source": [
    "I assume you got a different answer (maybe 0.18181818181812)?  Take a moment and see if you can figure out why. \n",
    "\n",
    "Hopefully you noticed there is an extra space between the words \"new\" and \"food.\" Why would this produce a different answer?  \n",
    "\n",
    "Let's break down the problem some more. Using code from the pre-class assignment, let's remove the punctuation and split the words for both tweets:"
   ]
  },
  {
   "cell_type": "code",
   "execution_count": null,
   "metadata": {
    "collapsed": false,
    "scrolled": true
   },
   "outputs": [],
   "source": [
    "tweet = 'We have some delightful new food in the cafeteria. Awesome!!!'; \n",
    "tweet_processed=tweet.lower()\n",
    "for p in punctuation:\n",
    "    tweet_processed=tweet_processed.replace(p,'')\n",
    "words=tweet_processed.split(' ')\n",
    "print(len(words))\n",
    "\n",
    "tweet = 'We have some delightful new  food in the cafeteria. Awesome!!!'; \n",
    "tweet_processed=tweet.lower()\n",
    "for p in punctuation:\n",
    "    tweet_processed=tweet_processed.replace(p,'')\n",
    "words=tweet_processed.split(' ')\n",
    "print(len(words))"
   ]
  },
  {
   "cell_type": "markdown",
   "metadata": {},
   "source": [
    "That is interesting.  The original tweet had 10 words (what we would expect) and the tweet with the doublespace has one extra word? Where did that come from?  Well, let's look by printing the entire list instead of just the length (We can do this because the list is short)."
   ]
  },
  {
   "cell_type": "code",
   "execution_count": null,
   "metadata": {
    "collapsed": false,
    "scrolled": true
   },
   "outputs": [],
   "source": [
    "tweet = 'We have some delightful new food in the cafeteria. Awesome!!!'; \n",
    "tweet_processed=tweet.lower()\n",
    "for p in punctuation:\n",
    "    tweet_processed=tweet_processed.replace(p,'')\n",
    "words=tweet_processed.split(' ')\n",
    "print(words)\n",
    "\n",
    "tweet = 'We have some delightful new  food in the cafeteria. Awesome!!!'; \n",
    "tweet_processed=tweet.lower()\n",
    "for p in punctuation:\n",
    "    tweet_processed=tweet_processed.replace(p,'')\n",
    "words=tweet_processed.split(' ')\n",
    "print(words)"
   ]
  },
  {
   "cell_type": "markdown",
   "metadata": {},
   "source": [
    "See the empty string represented by the two quotations? It seems that the ```split()``` function is adding a \"word\" which is completely empty between the double spaces.  If you think about it, it makes sense, but this can cause trouble.  The same problem is occuring in both the ```positive_words``` and ```negative_words``` lists. You can check this with the following command."
   ]
  },
  {
   "cell_type": "code",
   "execution_count": null,
   "metadata": {
    "collapsed": false,
    "scrolled": true
   },
   "outputs": [],
   "source": [
    "if '' in positive_words:\n",
    "    print('emtpy string in positive words')\n",
    "if '' in negative_words:\n",
    "    print('emtpy string in negative words')"
   ]
  },
  {
   "cell_type": "markdown",
   "metadata": {},
   "source": [
    "This means that anytime there is a doublespace in a tweet that will be counted as both a positive and negative word. This may not be a problem for the \"total\" emotion (since the net is zero) - however, the extra words impact the total words in the tweet.  The best way to avoid this problem is to just remove the doublespaces. For example:"
   ]
  },
  {
   "cell_type": "code",
   "execution_count": null,
   "metadata": {
    "collapsed": false,
    "scrolled": true
   },
   "outputs": [],
   "source": [
    "words.remove('')\n",
    "print(words)"
   ]
  },
  {
   "cell_type": "markdown",
   "metadata": {},
   "source": [
    "Fix your above function to take into account the empty strings.  Make sure you consider all cases: for example,  what happens if there is no doublespace?  What happens if there is more than one?  "
   ]
  },
  {
   "cell_type": "code",
   "execution_count": null,
   "metadata": {
    "collapsed": false,
    "scrolled": true
   },
   "outputs": [],
   "source": [
    "#Put your new function code here.\n",
    "def tweetcount(tweet, positive_words, negative_words):\n",
    "    counter = 0\n",
    "    #Put your code here\n",
    "    tweet_processed=tweet.lower()\n",
    "    for p in punctuation:\n",
    "        tweet_processed=tweet_processed.replace(p,'')\n",
    "        \n",
    "    words=tweet_processed.split(' ')\n",
    "    while '' in words:\n",
    "        words.remove('');\n",
    "    if len(words) == 0:\n",
    "        return 0;\n",
    "    for word in words:\n",
    "        if word in positive_words:\n",
    "            counter=counter+1\n",
    "        if word in negative_words:\n",
    "            counter=counter-1\n",
    "    return counter/len(words)\n"
   ]
  },
  {
   "cell_type": "markdown",
   "metadata": {},
   "source": [
    "Test your code here and make sure it returns 0.2 for both tests:"
   ]
  },
  {
   "cell_type": "code",
   "execution_count": null,
   "metadata": {
    "collapsed": false,
    "scrolled": true
   },
   "outputs": [],
   "source": [
    "tweetcount('We have some delightful new food in the cafeteria. Awesome!!!', positive_words, negative_words)"
   ]
  },
  {
   "cell_type": "code",
   "execution_count": null,
   "metadata": {
    "collapsed": false,
    "scrolled": true
   },
   "outputs": [],
   "source": [
    "tweetcount('We   have  some    delightful   new  food in the cafeteria.  Awesome!!!', positive_words, negative_words)"
   ]
  },
  {
   "cell_type": "markdown",
   "metadata": {},
   "source": [
    "** Step 4: Total average Tweet **\n",
    "\n",
    "Now let's make a second function (let's call it ```average_tweet```). The function should take ```tweets_list```, ```positive_words```, and ```negative_words``` as inputs, loop over all of the tweets in the ```tweets_list```, calulate the ```tweetcount``` for each tweet, and store the value.  The last step in this function will be to average all of the ```tweetcount```s and return the average.  "
   ]
  },
  {
   "cell_type": "code",
   "execution_count": null,
   "metadata": {
    "collapsed": false,
    "scrolled": true
   },
   "outputs": [],
   "source": [
    "def average_tweet(tweets_list, positive_words, negative_words):\n",
    "    total = 0\n",
    "    ## put your code here. Note that this is not a trick question. \n",
    "    ## You may be able to do this in just a couple lines of code.\n",
    "    for tweet in tweets_list:\n",
    "        total = total + tweetcount(tweet, positive_words, negative_words)\n",
    "    return total / len(tweets_list)"
   ]
  },
  {
   "cell_type": "markdown",
   "metadata": {},
   "source": [
    "Assuming we wrote this function correctly we can use it to test the tweets in an entire file. For example, the following should work:"
   ]
  },
  {
   "cell_type": "code",
   "execution_count": null,
   "metadata": {
    "collapsed": false,
    "scrolled": true
   },
   "outputs": [],
   "source": [
    "tweets = open('BarackObama_tweets.txt').read()\n",
    "tweets = tweets.split('\\n')\n",
    "average_tweet(tweets, positive_words, negative_words)"
   ]
  },
  {
   "cell_type": "markdown",
   "metadata": {},
   "source": [
    "**Step 5: loop over twitter_names** \n",
    "\n",
    "Now create a loop.  For each politician, load their tweets file, calculate the ```average_tweet``` and appends the ```average_tweet``` to a list (one average for each politician)."
   ]
  },
  {
   "cell_type": "code",
   "execution_count": null,
   "metadata": {
    "collapsed": false,
    "scrolled": true
   },
   "outputs": [],
   "source": [
    "average_tweets = []\n",
    "# Put your loop here. Again, if we call the functions, this code should be fairly short. \n",
    "for name in twitter_names:\n",
    "    tweets = open(name+'_tweets.txt').read()\n",
    "    tweets_list = tweets.split('\\n')\n",
    "    average_tweets.append(average_tweet(tweets_list, positive_words, negative_words))"
   ]
  },
  {
   "cell_type": "markdown",
   "metadata": {},
   "source": [
    "**Step 6: Generate a bar graph of candidates** Finally, use the ```plt.bar``` function to generate a bargraph of candidates.  See if you can label the x axis, the y axis, and each individal bar with the candidate's name."
   ]
  },
  {
   "cell_type": "code",
   "execution_count": null,
   "metadata": {
    "collapsed": false,
    "scrolled": true
   },
   "outputs": [],
   "source": [
    "plt.bar(range(len(average_tweets)), average_tweets);"
   ]
  },
  {
   "cell_type": "markdown",
   "metadata": {},
   "source": [
    "**Step 7: Make your graph readable**\n",
    "\n",
    "Okay, now let's practice making the graph easier to read by using Google to find examples and adjust your code. For example, please search for the Python code to make the following adjustments to a figure:\n",
    "\n",
    "1. Add labels for the x and y axes (i.e. \"Candidates\" and \"Tweet Emotion Measure\" would work)\n",
    "2. Set x and y axis font size to 24 point\n",
    "3. Rename each bar to the candidate's Twitter name and set the font size to 20\n",
    "4. Set the yaxis font size to 20\n",
    "5. Make the figure approximatly the same hieght but span more of the notebook from left to right\n",
    "6. Center the labels on each of the bars.\n",
    "7. Set the x and y axis ticks to a font size of 20\n",
    "8. Set the Republican politicians (Trump and Cruz) to red and the Democratic politicians to blue (Obama, Clinton, and Sanders)."
   ]
  },
  {
   "cell_type": "markdown",
   "metadata": {},
   "source": [
    "**Question 1:** Type in some example search keywords that you successfully used to help find the solutions. I did the first two to help you get started."
   ]
  },
  {
   "cell_type": "markdown",
   "metadata": {},
   "source": [
    "Modify the following list\n",
    "\n",
    "1. How do I add x and y labels to a matplotlib figure\n",
    "2. How do I change the xlabel font size in matplotlib\n",
    "3. \n",
    "4. \n",
    "5. \n",
    "6. \n",
    "7. \n",
    "8. \n",
    "\n"
   ]
  },
  {
   "cell_type": "markdown",
   "metadata": {},
   "source": [
    "**Question 2:** Using what you learned using google try and generate a new (more readable) bar plot following the guildlines outlined above. Your figure should look something like this (note the values on this bar chart are were picked for illustration, not correctness):\n",
    "\n",
    "\n",
    "<img src=\"http://www.msu.edu/~colbrydi/Formatted_BoW_Image.png\">"
   ]
  },
  {
   "cell_type": "code",
   "execution_count": null,
   "metadata": {
    "collapsed": false,
    "scrolled": true
   },
   "outputs": [],
   "source": [
    "#Put your code here\n",
    "fig,ax = plt.subplots(1, 1, figsize=(20, 10)) \n",
    "#Center Lables\n",
    "barlist = plt.bar(range(len(average_tweets)), average_tweets, align='center');\n",
    "\n",
    "plt.xticks(range(len(average_tweets)), twitter_names, fontsize=20);\n",
    "plt.yticks(fontsize=20)\n",
    "plt.xlabel('Candidate', fontsize=24)\n",
    "plt.ylabel('Emotion', fontsize=24)\n",
    "barlist[1].set_color('r')\n",
    "barlist[4].set_color('r')"
   ]
  },
  {
   "cell_type": "markdown",
   "metadata": {},
   "source": [
    "**Question 3:** In your own words, describe what these results say about the politicians.  "
   ]
  },
  {
   "cell_type": "markdown",
   "metadata": {},
   "source": [
    "// Write your answer here"
   ]
  },
  {
   "cell_type": "markdown",
   "metadata": {},
   "source": [
    "**Question 4:** Only one snapshot of data was provided for this homework.  How does this snapshot limit the questions you can ask of the data?  What type of data would you like to gather to make stronger claims? "
   ]
  },
  {
   "cell_type": "markdown",
   "metadata": {},
   "source": [
    "// Write your answer here"
   ]
  },
  {
   "cell_type": "markdown",
   "metadata": {},
   "source": [
    "**Question 5:** What other scientific questions can you ask using this type of data and model?  Write new code to generate a different plot that answers one of the scientific questions that you have devised.  Feel free to be expressive when you design your own metrics (for example, you could use the only_positive, only_negative, both and neither counts from the in-class assignment, or you can go completely beyond this). The goal here is to come up with something interesting that can be expressed with this data. **More creative questions and answers will be rewarded appropriately!**"
   ]
  },
  {
   "cell_type": "code",
   "execution_count": null,
   "metadata": {
    "collapsed": true
   },
   "outputs": [],
   "source": [
    "# Put your code here.  Add additional cells as necessary!"
   ]
  },
  {
   "cell_type": "markdown",
   "metadata": {},
   "source": [
    "**Question 6:** What does your new graph say about the data? "
   ]
  },
  {
   "cell_type": "markdown",
   "metadata": {
    "collapsed": true
   },
   "source": [
    "// Put your answer here"
   ]
  },
  {
   "cell_type": "markdown",
   "metadata": {},
   "source": [
    "----\n",
    "\n",
    "## Feedback (required!)"
   ]
  },
  {
   "cell_type": "markdown",
   "metadata": {},
   "source": [
    "## How long did you spend on the homework?"
   ]
  },
  {
   "cell_type": "markdown",
   "metadata": {},
   "source": [
    "// Write your answer here"
   ]
  },
  {
   "cell_type": "markdown",
   "metadata": {},
   "source": [
    "----\n",
    "\n",
    "# Congratulations, you're done!\n",
    "\n",
    "## How to submit this assignment\n",
    "\n",
    "Log into the course Desire2Learn website (d2l.msu.edu) and go to the \"Homework assignments\" folder.  There will be a dropbox labeled \"Homework 5\".  Upload this notebook there. "
   ]
  }
 ],
 "metadata": {
  "kernelspec": {
   "display_name": "Python 3",
   "language": "python",
   "name": "python3"
  },
  "language_info": {
   "codemirror_mode": {
    "name": "ipython",
    "version": 3
   },
   "file_extension": ".py",
   "mimetype": "text/x-python",
   "name": "python",
   "nbconvert_exporter": "python",
   "pygments_lexer": "ipython3",
   "version": "3.4.3"
  }
 },
 "nbformat": 4,
 "nbformat_minor": 0
}
