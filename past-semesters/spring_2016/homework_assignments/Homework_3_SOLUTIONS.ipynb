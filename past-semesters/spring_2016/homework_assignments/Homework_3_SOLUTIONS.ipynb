{
 "cells": [
  {
   "cell_type": "markdown",
   "metadata": {},
   "source": [
    "# Homework 3: 1D Schelling model\n",
    "\n",
    "**Schelling's model for happiness:** Recall that in a 1D line of stars and zeros (to use Schelling's terminology), an element is \"happy\" if at least half of its neighbors (defined as the four elements to the left and four elements to the right) are like it, and \"unhappy\" otherwise.  For those near the end of the line the rule is that, of the four neighbors on the side toward the center plus the one, two or three outboard neighbors, at least half must be like oneself.\n",
    "\n",
    "Your assignment is to implement the Schelling model using zeros and ones to indicate the two types of elements.  As with Schelling's original paper, you will play twice through the entire list, moving each element in a row (possibly moving a given element multiple times if it goes to the right).  Print out the state of the list at each step so that you can see how the solution evolves.\n",
    "\n",
    "Break up your code into functions whenever possible, and add comments to make sure that we know what's going on!\n",
    "\n",
    "## Name"
   ]
  },
  {
   "cell_type": "markdown",
   "metadata": {},
   "source": [
    "## SOLUTIONS!!!!"
   ]
  },
  {
   "cell_type": "code",
   "execution_count": null,
   "metadata": {
    "collapsed": true
   },
   "outputs": [],
   "source": [
    "import random\n",
    "import math"
   ]
  },
  {
   "cell_type": "code",
   "execution_count": null,
   "metadata": {
    "collapsed": true
   },
   "outputs": [],
   "source": [
    "def initialize_list(array_size=32, randseed=8675309):\n",
    "    '''\n",
    "    This function optionally takes in an array size and random seed\n",
    "    and returns the initial neighborhood that we're going to start \n",
    "    from - a string of zeros and ones.  If no arguments are given, it\n",
    "    defaults to the values specified.\n",
    "    '''\n",
    "\n",
    "    random.seed(randseed)\n",
    "    \n",
    "    initial_list = []\n",
    "\n",
    "    for i in range(array_size):\n",
    "        initial_list.append(random.randint(0,1))\n",
    "\n",
    "    return initial_list"
   ]
  },
  {
   "cell_type": "code",
   "execution_count": null,
   "metadata": {
    "collapsed": true
   },
   "outputs": [],
   "source": [
    "def is_happy(my_list, my_value, my_index):\n",
    "    '''\n",
    "    This function assumes that my_list has a value (my_value)\n",
    "    popped out of it already, and checkes to see if my_value\n",
    "    would be happy in my_list at index my_index.  It returns\n",
    "    'True' if happy and 'False' if unhappy under those circumstances.\n",
    "    '''\n",
    "\n",
    "    # do some error-checking (is the index within the allowed range?)\n",
    "    if my_index < 0 or my_index > len(my_list):\n",
    "        print(\"you've made an indexing error!\", my_index)\n",
    "        \n",
    "    start = my_index-4 # start 4 to the left\n",
    "    end = my_index+4   # end 3 to the right b/c we count the value at my_index too\n",
    "    \n",
    "    # if the starting value is out of bounds, fix it\n",
    "    if start < 0:\n",
    "        start = 0\n",
    "    \n",
    "    # if the ending value is out of bounds, fix it.  note that we want to go to \n",
    "    # len(list), not len(list)-1, because range() goes to 1 before the end of \n",
    "    # the range!\n",
    "    if end > len(my_list):\n",
    "        end = len(my_list)\n",
    "\n",
    "    # keep track of the neighbors that are like me\n",
    "    neighbors_like_me = 0\n",
    "    \n",
    "    # keep track of total neighbors\n",
    "    total_neighbors = 0\n",
    "    \n",
    "    # loop over the specified range\n",
    "    for i in range(start,end):\n",
    "        if my_list[i] == my_value:  # if this neighbor is like me, keep track of that\n",
    "            neighbors_like_me += 1\n",
    "        total_neighbors+=1  # also keep track of total neighbors\n",
    "    \n",
    "    # happy if at least half are like me, unhappy otherwise\n",
    "    # note: it's *at least* half because we're not double-counting our\n",
    "    # own value\n",
    "    if neighbors_like_me/total_neighbors >= 0.5:\n",
    "        return True\n",
    "    else:\n",
    "        return False\n"
   ]
  },
  {
   "cell_type": "code",
   "execution_count": null,
   "metadata": {
    "collapsed": true
   },
   "outputs": [],
   "source": [
    "def where_to_move(my_list, my_value, my_index):\n",
    "    '''\n",
    "    Given a neighborhood (my_list), a value (my_value), and the index\n",
    "    that it started at (my_index), figure out where to move my_value\n",
    "    so that it's happy.  This assumes that my_value is unhappy where it \n",
    "    is, by the way!  This function then returns the index where my_value\n",
    "    should move to in order to be happy.\n",
    "    '''\n",
    "\n",
    "    # this block of code steps to the left to see where (if anywhere) it's \n",
    "    # happy to the left.  If it continues to be unhappy, it'll stop when it\n",
    "    # is about to step off the end of the list.\n",
    "    left_index=my_index-1\n",
    "    left_happy=False\n",
    "    \n",
    "    while left_happy==False and left_index >= 0:\n",
    "        left_happy = is_happy(my_list,my_value,left_index)\n",
    "        if left_happy==False:\n",
    "            left_index -= 1\n",
    "    \n",
    "    # as above, but to the right.\n",
    "    right_index=my_index+1\n",
    "    right_happy=False\n",
    "\n",
    "    while right_happy==False and right_index < len(my_list):\n",
    "        right_happy = is_happy(my_list,my_value,right_index)\n",
    "        if right_happy==False:\n",
    "            right_index += 1\n",
    "\n",
    "    # now we figure out where the new index should be!\n",
    "    \n",
    "    if left_index < 0 and right_index < len(my_list):\n",
    "        # can't be happy to the left; only possible answer is right_index\n",
    "        new_index = right_index\n",
    "        \n",
    "    elif left_index >= 0 and right_index > len(my_list):  \n",
    "        # can't be happy to the right; only possible answer is left_index\n",
    "        new_index = left_index\n",
    "        \n",
    "    elif left_index >= 0 and right_index <= len(my_list): \n",
    "        # we're within bounds, so now check to see which side is closer.\n",
    "        # if they're the same we move it to the left.  (This was never specified\n",
    "        # by Schelling, so we have to make a choice on that.)\n",
    "        if math.fabs(left_index-my_index) > math.fabs(right_index-my_index):\n",
    "            new_index = right_index\n",
    "        else:\n",
    "            new_index = left_index        \n",
    "    else:\n",
    "        # this should only ever be called if something goes horribly wrong.\n",
    "        print(\"something has gone wrong in where_to_move!\")\n",
    "    \n",
    "    return new_index;"
   ]
  },
  {
   "cell_type": "code",
   "execution_count": null,
   "metadata": {
    "collapsed": true
   },
   "outputs": [],
   "source": [
    "def neighborhood_print(neighborhood, note=''):\n",
    "    '''\n",
    "    This is a convenience function to take our neighborhood list,\n",
    "    make a string of stars and zeros out of it, and print the string\n",
    "    plus optional text at the end.  It's not necessary but it looks pretty.  \n",
    "    '''\n",
    "    \n",
    "    neighborstring=''\n",
    "\n",
    "    for i in range(len(neighborhood)):\n",
    "        if(neighborhood[i]) > 0:\n",
    "            neighborstring += '*'\n",
    "        else:\n",
    "            neighborstring += '0'\n",
    "    \n",
    "    # make sure optional text is a string\n",
    "    if type(note)!=str:\n",
    "        note = str(note)\n",
    "    \n",
    "    # add an extra space to make it look nice!\n",
    "    if note != '':\n",
    "        note = ' ' + note\n",
    "        \n",
    "    neighborstring += note\n",
    "    \n",
    "    print(neighborstring)"
   ]
  },
  {
   "cell_type": "code",
   "execution_count": null,
   "metadata": {
    "collapsed": false
   },
   "outputs": [],
   "source": [
    "# initialize list to defaults\n",
    "neighborhood = initialize_list(array_size=32)\n",
    "\n",
    "neighborhood_print(neighborhood, 'initial state')\n",
    "\n",
    "# do 2 loops over the list\n",
    "for i in range(2):\n",
    "\n",
    "    this_index = 0 \n",
    "\n",
    "    # step through the neighborhood once\n",
    "    while this_index < len(neighborhood):\n",
    "        \n",
    "        this_val = neighborhood.pop(this_index)\n",
    "\n",
    "        if is_happy(neighborhood,this_val,this_index):\n",
    "            # if we're happy where we are, don't change anything!\n",
    "            neighborhood.insert(this_index,this_val)\n",
    "            \n",
    "        else:\n",
    "            # we're unhappy; we need to figure out where to move and then move.\n",
    "            new_index = where_to_move(neighborhood,this_val,this_index)\n",
    "            neighborhood.insert(new_index,this_val)\n",
    "\n",
    "        neighborhood_print(neighborhood, this_index)\n",
    "\n",
    "        # increment this_index or we'll never stop looping\n",
    "        this_index += 1\n",
    "\n",
    "# print out the final state, just to see what it's like.\n",
    "neighborhood_print(neighborhood, 'final state!')\n",
    "        "
   ]
  },
  {
   "cell_type": "code",
   "execution_count": null,
   "metadata": {
    "collapsed": false
   },
   "outputs": [],
   "source": [
    "%matplotlib inline\n",
    "import matplotlib.pyplot as plt\n",
    "\n",
    "plt.plot(neighborhood,'ro')\n",
    "plt.xlim(-2,len(neighborhood)+1)\n",
    "plt.ylim(-0.1,1.1)\n"
   ]
  }
 ],
 "metadata": {
  "kernelspec": {
   "display_name": "Python 3",
   "language": "python",
   "name": "python3"
  },
  "language_info": {
   "codemirror_mode": {
    "name": "ipython",
    "version": 3
   },
   "file_extension": ".py",
   "mimetype": "text/x-python",
   "name": "python",
   "nbconvert_exporter": "python",
   "pygments_lexer": "ipython3",
   "version": "3.5.1"
  }
 },
 "nbformat": 4,
 "nbformat_minor": 0
}
