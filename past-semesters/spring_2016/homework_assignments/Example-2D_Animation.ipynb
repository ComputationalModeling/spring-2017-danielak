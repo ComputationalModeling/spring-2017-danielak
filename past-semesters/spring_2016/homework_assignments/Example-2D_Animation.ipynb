{
 "cells": [
  {
   "cell_type": "markdown",
   "metadata": {},
   "source": [
    "# Matplotlib animation example"
   ]
  },
  {
   "cell_type": "markdown",
   "metadata": {},
   "source": [
    "This example notebook shows one possible way to make an animation using Matplotlib in a Jupyter notebook.  \n",
    "\n",
    "Feel free to use some or all of this code in your projects!"
   ]
  },
  {
   "cell_type": "code",
   "execution_count": null,
   "metadata": {
    "collapsed": true
   },
   "outputs": [],
   "source": [
    "#First thing we need to do is import pyplot and numpy\n",
    "%matplotlib inline\n",
    "import matplotlib.pyplot as plt\n",
    "import numpy as np\n"
   ]
  },
  {
   "cell_type": "code",
   "execution_count": null,
   "metadata": {
    "collapsed": true
   },
   "outputs": [],
   "source": [
    "#Next we are going to import some specific libraries we will use to get the animation to work cleanly\n",
    "from IPython.display import display, clear_output\n",
    "import time  "
   ]
  },
  {
   "cell_type": "markdown",
   "metadata": {},
   "source": [
    "## Create function to show neighborhood plots\n",
    "Next I will create a function that takes an array as an input and generates a grid.  We have chosen a value of zero (0) to represent an empty cell, a one (1) to represent a square and a (2) to represent a triangle.  "
   ]
  },
  {
   "cell_type": "code",
   "execution_count": null,
   "metadata": {
    "collapsed": false
   },
   "outputs": [],
   "source": [
    "# function plotgrid() takes in a 2D array and uses pyplot to make a plot.\n",
    "# this function returns no values!\n",
    "\n",
    "def plotgrid(myarray):\n",
    "    \n",
    "    # first create two vectors based on the x and y sizes of the grid\n",
    "    x_range = np.linspace(0, myarray.shape[0], myarray.shape[0]) \n",
    "    y_range = np.linspace(0, myarray.shape[0], myarray.shape[0])\n",
    "    \n",
    "    # use the numpy meshgrid function to create two matrices \n",
    "    # of the same size as myarray with x and y indexes\n",
    "    x_indexes, y_indexes = np.meshgrid(x_range, y_range)\n",
    "    \n",
    "    # make a list of all the x and y indexes that are either squares or triangles.\n",
    "    # the notation below is relatively new to us; it means that when myarray==(value),\n",
    "    # only record those values.\n",
    "    sq_x = x_indexes[myarray == 1]; \n",
    "    sq_y = y_indexes[myarray == 1]; \n",
    "    tr_x = x_indexes[myarray == 2]; \n",
    "    tr_y = y_indexes[myarray == 2]; \n",
    "    \n",
    "    # plot the squares and triangles.  make the size of the polygons \n",
    "    # larger than the default so they're easy to see!\n",
    "    plt.plot(sq_x,sq_y, 'bs',markersize=20)   \n",
    "    plt.plot(tr_x,tr_y, '^g',markersize=20)  \n",
    "    \n",
    "    #Set the x and y limits to include half a space overlap so we don't cut off the shapes\n",
    "    plt.ylim([-0.5,20.5]) \n",
    "    plt.xlim([-0.5,20.5])\n"
   ]
  },
  {
   "cell_type": "markdown",
   "metadata": {},
   "source": [
    "# ALWAYS Test\n",
    "Now test the function by creating a random neighborhood array with either zeros, ones, or twos"
   ]
  },
  {
   "cell_type": "code",
   "execution_count": null,
   "metadata": {
    "collapsed": false,
    "scrolled": true
   },
   "outputs": [],
   "source": [
    "# Generate a random grid of points (note this does not guarantee 1/3, 1/3 and 1/3 like in the homework)\n",
    "neighborhood_array = np.random.random_integers(0,2,size=[20,20]) \n",
    "plt.figure(figsize=(10,10)) #Do you know what this line is doing? Try commenting this out to see how the figure looks?\n",
    "plotgrid(neighborhood_array)\n"
   ]
  },
  {
   "cell_type": "markdown",
   "metadata": {},
   "source": [
    "# Moving Animation\n",
    "\n",
    "Looks good so far! Finally, we are going to animate the loop using a dynamic display trick. What we will do is create a figure and keep clearing the figure and overwriting it with a new figure. In this example we just keep making a new random neighborhood 10 times while pausing a half second between each neighbornood; if you were to do this in your own homework assignment you would probably do something a bit different."
   ]
  },
  {
   "cell_type": "code",
   "execution_count": null,
   "metadata": {
    "collapsed": false
   },
   "outputs": [],
   "source": [
    "# Create a figure\n",
    "fig = plt.figure(figsize=(10,10))\n",
    "\n",
    "# Run animation for 10 iterations\n",
    "for i in range(10): \n",
    "    # Generate the random neighborhood \n",
    "    myarray = np.random.random_integers(0,2,size=[20,20])\n",
    "    \n",
    "    # Put display code here\n",
    "    plotgrid(myarray)   \n",
    "    \n",
    "    # Animaiton part (dosn't change)\n",
    "    time.sleep(0.5)         # Sleep for half a second to slow down the animation\n",
    "    clear_output(wait=True) # Clear output for dynamic display\n",
    "    display(fig)            # Reset display\n",
    "    fig.clear()             # Prevent overlapping and layered plots\n",
    "\n",
    "plt.close()                 # Close dynamic display\n",
    "\n"
   ]
  },
  {
   "cell_type": "markdown",
   "metadata": {
    "collapsed": true
   },
   "source": [
    "That's it! You can see the animation again by just re-running the above cell.  Have fun making your own animations using Jupyter Notebooks!"
   ]
  }
 ],
 "metadata": {
  "kernelspec": {
   "display_name": "Python 3",
   "language": "python",
   "name": "python3"
  },
  "language_info": {
   "codemirror_mode": {
    "name": "ipython",
    "version": 3
   },
   "file_extension": ".py",
   "mimetype": "text/x-python",
   "name": "python",
   "nbconvert_exporter": "python",
   "pygments_lexer": "ipython3",
   "version": "3.5.1"
  }
 },
 "nbformat": 4,
 "nbformat_minor": 0
}
