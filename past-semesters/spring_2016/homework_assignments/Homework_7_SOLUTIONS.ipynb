{
 "cells": [
  {
   "cell_type": "markdown",
   "metadata": {
    "collapsed": true
   },
   "source": [
    "# Homework 7 - \"Catch me if you can!\" - Modeling predators and prey\n",
    "\n",
    "One of the most common interactions between species of animals is the **predator-prey** relationship, which can take many forms.  These interactions are critical to the health of animal populations and to the flow of energy through an ecosystem, and altering these populations (by hunting, for example) can have significant consequences to an ecosystem.\n",
    "\n",
    "The [Michigan Department of Natural Resources](https://www.michigan.gov/dnr) (DNR) has been examining the population of deer on [North Manitou Island](https://en.wikipedia.org/wiki/North_Manitou_Island) (part of [Sleeping Bear Dunes National Lakeshore](https://en.wikipedia.org/wiki/Sleeping_Bear_Dunes_National_Lakeshore)).  The main large predators are North Manitou Island are [coyotes](https://en.wikipedia.org/wiki/Coyote), and the main large prey animals are [white-tailed deer](https://en.wikipedia.org/wiki/White-tailed_deer).  There are not enough coyotes on the island due to former residents of the island hunting them, and the deer population is getting too large.  One consequence of this is that there is not enough readily available food for the deer population, which is destroying the vegetation on the island and also affecting the health of the deer.  The DNR has decided that some number of deer should be removed from the population (by hunting or transportation to the mainland) in order for the remaining population to stay at a healthy level.\n",
    "\n",
    "**You have been asked by the Michigan Department of Natural Resources to make a model of the interactions between coyotes and deer to determine how many deer should be removed from North Manitou Island.**  You're going to do this by developing an agent-based model of the interactions between coyotes and deer, and vary the number and properties of both species to examine how the populations change in relation to each other.  In the sections below, we will provide you with some instructions on how to set up the model and some specific questions that the Michigan DNR would like to know the answers to.  Happy simulating!\n",
    "\n",
    "**Note:** While it's fine to talk with others about this homework - and in fact we strongly encourage you to do so - **you need to write your own code and turn in your own homework assignment!**  \n",
    "\n",
    "<img src=\"http://www.pa.msu.edu/~osheabr/class_images/kitten_stalking.jpg\" width=500>\n"
   ]
  },
  {
   "cell_type": "markdown",
   "metadata": {
    "collapsed": true
   },
   "source": [
    "# Your name"
   ]
  },
  {
   "cell_type": "markdown",
   "metadata": {
    "collapsed": true
   },
   "source": [
    "**SOLUTIONS**"
   ]
  },
  {
   "cell_type": "markdown",
   "metadata": {},
   "source": [
    "---\n",
    "\n",
    "## Building a predator-prey model\n",
    "\n",
    "Here are the rules of this model:\n",
    "\n",
    "* The island is represented by a square grid of cells that is $N_{G}$ on a side.\n",
    "* The model takes a total of $N_{S}$ steps.\n",
    "* There are two species, Coyotes and Deer, with $N_{C}$ coyotes and $N_{D}$ deer initially, which are placed at random places on the island (i.e., in random cells on the board).  \n",
    "* If a coyote does not catch a deer after $N_{eat}$ turns, it dies of starvation.  Deer are assumed to have sufficient food.  (Not really true, but we're simplifying for this model.)\n",
    "* Both species move around the island island randomly, moving one cell in any direction per time step.  (Note that \"any direction\" means into any of the up to 8 adjacent cells!)  \n",
    "  * Animals at the edge of the board cannot leave the board - they must move in some other direction.\n",
    "  * Animals cannot move into a cell that is already occupied by another animal.\n",
    "  * If an animal has nowhere to move (i.e., it is totally surrounded by other animals) it stays still.\n",
    "* If two deer end up in adjacent cells, there is a probability $P_{d}$ that the two deer breed and produce a new deer.  The new deer is placed in one of the cells immediately adjacent to the other two deer.\n",
    "* If two coyotes end up in adjacent cells, there is a probability $P_{c}$ that the two coyotes breed and produce a new coyote.  The new coyote is placed in one of the cells immediately adjacent to the other two coyotes.\n",
    "* If a coyote is in a cell next to a deer, there is a probability $P_{eat}$ that the coyote catches and eats the deer.  In this case, the deer dies and is replaced by an empty cell.\n",
    "* Every step, there is a probability $P_{rem}$ that each deer is removed from the island's population by hunting or transport to the mainland.\n"
   ]
  },
  {
   "cell_type": "markdown",
   "metadata": {},
   "source": [
    "----\n",
    "\n",
    "## Section 1 - The Model\n",
    "\n",
    "Your task is to create a code that implements the predator-prey interaction model described above.  No code has been provided to get you started - however, we strongly encourage you to look back at previous in-class and homework assignments, since there's a lot of code from previous assignments that you will find to be very helpful.\n",
    "\n",
    "Some specific instructions are as follows.\n",
    "\n",
    "* Implement everything as functions, which separate functions for:\n",
    "  * evolving the system\n",
    "  * plotting the game board (with predators and prey shown as different shapes and colors)\n",
    "  * moving animals around the game board\n",
    "  * determining if animals reproduce\n",
    "  * determining if deer are eaten by coyotes or removed from the island by humans.\n",
    "  * calculating the total number of deer and, separately, coyotes at each simulation step\n",
    "* Keep track of the number of deer and coyotes as a function of simulation step, and return that in your simulation code.\n",
    "  \n",
    "Note that **you will be graded both on the correctness of your solution and the quality of your code.**  Use functions when possible, and make sure that your code is clearly written and has comments explaining what everything does.  Also make sure that all plots are clearly marked with axis labels and a title!"
   ]
  },
  {
   "cell_type": "code",
   "execution_count": null,
   "metadata": {
    "collapsed": true
   },
   "outputs": [],
   "source": [
    "# Put your code here, and add additional cells as necessary\n",
    "\n",
    "import numpy as np\n",
    "%matplotlib inline\n",
    "import matplotlib.pyplot as plt\n",
    "import random\n",
    "from IPython.display import display, clear_output\n",
    "import time"
   ]
  },
  {
   "cell_type": "code",
   "execution_count": null,
   "metadata": {
    "collapsed": true
   },
   "outputs": [],
   "source": [
    "def initialize_game_board(N_G,N_C,N_D,N_eat):\n",
    "    '''\n",
    "    Initializes game board.  Takes in grid size, number of coyotes, number of dear, and how many turns\n",
    "    a coyote can live without eating before it dies.  Returns a game board that is N_G * N_G * 2 cells \n",
    "    in size, with the extra slab of cells in the 3rd dimension keeping track of the number of turns a \n",
    "    coyote has left until it dies.  Note: for first slab (index 0 in 3rd dimension), 0 = empty, 1 = deer,\n",
    "    2 = coyote\n",
    "    '''\n",
    "    \n",
    "    # start out with empty board\n",
    "    game_board = np.zeros((N_G,N_G,2),dtype='int64')\n",
    "    \n",
    "    # do a bit of error-checking\n",
    "    if N_C+N_D >= N_G*N_G:\n",
    "        print(\"board is too small for number of coyotes and deer!\")\n",
    "    \n",
    "    done = False\n",
    "    placed = 0\n",
    "    \n",
    "    # place deer (if we want any)\n",
    "    while N_D > 0 and done==False:\n",
    "        i = random.randint(0,N_G-1)\n",
    "        j = random.randint(0,N_G-1)\n",
    "    \n",
    "        if game_board[i,j,0] == 0:\n",
    "            game_board[i,j,0] = 1\n",
    "            placed += 1\n",
    "        \n",
    "        if placed >= N_D:\n",
    "            done=True\n",
    "\n",
    "    done = False\n",
    "    placed = 0\n",
    "    \n",
    "    # place coyotes (if we want any)\n",
    "    while N_C > 0 and done==False:\n",
    "        i = random.randint(0,N_G-1)\n",
    "        j = random.randint(0,N_G-1)\n",
    "    \n",
    "        if game_board[i,j,0] == 0:\n",
    "            game_board[i,j,0] = 2\n",
    "            game_board[i,j,1] = N_eat\n",
    "            placed += 1\n",
    "        \n",
    "        if placed >= N_C:\n",
    "            done=True\n",
    "            \n",
    "    return game_board\n"
   ]
  },
  {
   "cell_type": "code",
   "execution_count": null,
   "metadata": {
    "collapsed": false
   },
   "outputs": [],
   "source": [
    "# take in game board and animal type requested, return total number of that\n",
    "# type of animal\n",
    "def number_of_animals(game_board,animal_type):\n",
    "    return (game_board[:,:,0]==animal_type).sum()"
   ]
  },
  {
   "cell_type": "code",
   "execution_count": null,
   "metadata": {
    "collapsed": false
   },
   "outputs": [],
   "source": [
    "def plot_board(game_board):\n",
    "    '''\n",
    "    This function takes in a 3D array and uses pyplot to make a matplotlib\n",
    "    plot.  It returns no value.\n",
    "    '''\n",
    "\n",
    "    # first create two vectors based on the x and y sizes of the grid\n",
    "    x_range = np.linspace(0, game_board.shape[0], game_board.shape[0]) \n",
    "    y_range = np.linspace(0, game_board.shape[1], game_board.shape[1])\n",
    "    \n",
    "    # use the numpy meshgrid function to create two matrices \n",
    "    # of the same size as game_board with x and y indexes\n",
    "    x_indexes, y_indexes = np.meshgrid(x_range, y_range)\n",
    "    \n",
    "    # make a list of all the x and y indexes that are either squares or triangles.\n",
    "    # the notation below is relatively new to us; it means that when game_board==(value),\n",
    "    # only record those values.\n",
    "    sq_x = x_indexes[game_board[:,:,0] == 1]; \n",
    "    sq_y = y_indexes[game_board[:,:,0] == 1]; \n",
    "    tr_x = x_indexes[game_board[:,:,0] == 2]; \n",
    "    tr_y = y_indexes[game_board[:,:,0] == 2]; \n",
    "    \n",
    "    # plot the squares and triangles.  make the size of the polygons \n",
    "    # larger than the default so they're easy to see!\n",
    "    plt.plot(sq_x,sq_y, 'bs',markersize=10)   \n",
    "    plt.plot(tr_x,tr_y, '^g',markersize=10)  \n",
    "    \n",
    "    #Set the x and y limits to include half a space overlap so we don't cut off the shapes\n",
    "    plt.ylim([-0.5,game_board.shape[1]+0.5]) \n",
    "    plt.xlim([-0.5,game_board.shape[0]+0.5])"
   ]
  },
  {
   "cell_type": "code",
   "execution_count": null,
   "metadata": {
    "collapsed": false
   },
   "outputs": [],
   "source": [
    "def move_animals(game_board):\n",
    "    '''\n",
    "    Move every animal on the board to an adjacent empty space.  If no space is available,\n",
    "    don't move the animal.  Game board is taken in; nothing is returned.\n",
    "    '''\n",
    "    Ngrid = game_board.shape[0]\n",
    "    \n",
    "    # loop over the entire board\n",
    "    for i in range(0,Ngrid):\n",
    "        for j in range(0,Ngrid):\n",
    "            \n",
    "            # Does this cell have an animal in it?\n",
    "            if game_board[i,j,0]>0:\n",
    "                \n",
    "                counter = 0\n",
    "                \n",
    "                # loop for a while - we're randomizing, so make it large enough we'll\n",
    "                # plausibly try every adjacent cell.\n",
    "                while counter < 20:\n",
    "\n",
    "                    # calculate index to step to\n",
    "                    newi = i + random.randint(-1,1)\n",
    "                    newj = j + random.randint(-1,1)\n",
    "\n",
    "                    # continue if we're trying to step off the board\n",
    "                    if newi < 0 or newj < 0 or newi >= Ngrid or newj >= Ngrid:\n",
    "                        counter += 1\n",
    "                        continue\n",
    "                    \n",
    "                    # if the cell is empty, we can move to it.\n",
    "                    if game_board[newi,newj,0]==0:\n",
    "                        # move animal to new cell\n",
    "                        game_board[newi,newj,0] = game_board[i,j,0]\n",
    "                        game_board[newi,newj,1] = game_board[i,j,1]\n",
    "\n",
    "                        # set old cell to empty\n",
    "                        game_board[i,j,0] = 0\n",
    "                        game_board[i,j,1] = 0\n",
    "\n",
    "                        # break the while loop\n",
    "                        break\n",
    "                        \n",
    "                    else:\n",
    "                        counter+=1\n"
   ]
  },
  {
   "cell_type": "code",
   "execution_count": null,
   "metadata": {
    "collapsed": false
   },
   "outputs": [],
   "source": [
    "def animal_multiply(game_board,animal_type,prob_mult,N_eat):\n",
    "    '''\n",
    "    Loop through board and check to see if each animal of a given type multiplies.\n",
    "    If it DOES multiply, put the offspring in a random adjacent empty cell.  If there \n",
    "    is no adjacent empty cell, don't create any offspring.  Only do this for a single\n",
    "    species, because we might have different probabilities of each type of animal multiplying.\n",
    "    Takes in the game board, type of animal, probability of that animal multiplying, and the\n",
    "    number of turns a coyote can go without eating (for initialization of the new board).\n",
    "    Nothing is returned.\n",
    "    '''\n",
    "    Ngrid = game_board.shape[0]\n",
    "    \n",
    "    # loop over board\n",
    "    for i in range(0,Ngrid):\n",
    "        for j in range(0,Ngrid):\n",
    "\n",
    "            # only do something if it's an animal of the appropriate type\n",
    "            if game_board[i,j,0]==animal_type:\n",
    "                \n",
    "                il = i-1\n",
    "                jl = j-1\n",
    "                ir = i+2\n",
    "                jr = j+2\n",
    "                \n",
    "                if il < 0:\n",
    "                    il=0\n",
    "                    \n",
    "                if jl < 0:\n",
    "                    jl=0\n",
    "    \n",
    "                if ir > Ngrid:\n",
    "                    ir = Ngrid\n",
    "                \n",
    "                if jr > Ngrid:\n",
    "                    jr = Ngrid\n",
    "                \n",
    "                \n",
    "                # how many of my neighbors are like me?  (subtract 1 b/c I'm always like me)\n",
    "                like_me = (game_board[il:ir,jl:jr,0]==game_board[i,j,0]).sum()-1\n",
    "\n",
    "                # if one of my neighbors are like me, check to see if we breed.\n",
    "                if like_me > 0:\n",
    "                    \n",
    "                    # breeding is determined by generating a random number in the interval [0,1)\n",
    "                    # and then seeing if it's less than prob_mult.\n",
    "                    if random.random() < prob_mult:\n",
    "                \n",
    "                        # if we breed, put the new animal in a random adjacent cell.  If none\n",
    "                        # is available, then don't put down a new animal.  (This is not exactly\n",
    "                        # right.)\n",
    "                        \n",
    "                        counter = 0\n",
    "                        \n",
    "                        #print(\"new animal\",prob_mult,animal_type)\n",
    "                        while counter < 20:\n",
    "\n",
    "                            # calculate index of new cell\n",
    "                            newi = i + random.randint(-1,1)\n",
    "                            newj = j + random.randint(-1,1)\n",
    "\n",
    "                            # is new cell outside of the grid?\n",
    "                            if newi < 0 or newj < 0 or newi >= Ngrid or newj >= Ngrid:\n",
    "                                counter += 1\n",
    "                                continue\n",
    "\n",
    "                            # if new cell is empty, put in our new animal.\n",
    "                            if game_board[newi,newj,0]==0:\n",
    "\n",
    "                                # clone original animal\n",
    "                                game_board[newi,newj,0] = game_board[i,j,0]\n",
    "                                \n",
    "                                # if it's a coyote, set N_eat\n",
    "                                if animal_type==2:\n",
    "                                    game_board[newi,newj,1] = N_eat\n",
    "                                    #game_board[newi,newj,1]=game_board[i,j,1]\n",
    "                    \n",
    "                                # break the while loop\n",
    "                                break\n",
    "\n",
    "                            else:  # if cell isn't empty, just increment counter\n",
    "                                counter+=1\n"
   ]
  },
  {
   "cell_type": "code",
   "execution_count": null,
   "metadata": {
    "collapsed": false
   },
   "outputs": [],
   "source": [
    "def eat_or_remove_deer(game_board,P_eat,P_rem,N_eat):\n",
    "    '''\n",
    "    If a coyote and deer are in adjacent cells, check to see if the coyote eats the deer\n",
    "    (only one deer per turn) with probability P_eat.  If that happens, the coyote's eating\n",
    "    counter gets reset.  There is also some probability P_rem that a deer will get removed\n",
    "    from the island each turn.\n",
    "    '''\n",
    "    \n",
    "    Ngrid = game_board.shape[0]\n",
    "    \n",
    "    # loop over grid\n",
    "    for i in range(0,Ngrid):\n",
    "        for j in range(0,Ngrid):\n",
    "            \n",
    "            # if this cell contains a coyote, check to see if a deer is eaten.\n",
    "            if game_board[i,j,0]==2:\n",
    "                \n",
    "                il = i-1\n",
    "                jl = j-1\n",
    "                ir = i+2\n",
    "                jr = j+2\n",
    "                \n",
    "                if il < 0:\n",
    "                    il=0\n",
    "                    \n",
    "                if jl < 0:\n",
    "                    jl=0\n",
    "    \n",
    "                if ir > Ngrid:\n",
    "                    ir = Ngrid\n",
    "                \n",
    "                if jr > Ngrid:\n",
    "                    jr = Ngrid\n",
    "\n",
    "                # check for nearby deer\n",
    "                deer_near_me = (game_board[il:ir,jl:jr,0]==1).sum()-1\n",
    "\n",
    "                \n",
    "                # if there ARE nearby deer loop over nearby deer and possibly eat one\n",
    "                if deer_near_me > 0:\n",
    "                    \n",
    "                    #print(\"there are deer near me!\")\n",
    "\n",
    "                    have_i_eaten = 0\n",
    "\n",
    "                    # loop over cells \n",
    "                    for di in range(il,ir):\n",
    "                        for dj in range(jl,jr):\n",
    "                            \n",
    "                            # is it a deer?\n",
    "                            if game_board[di,dj,0]==1:\n",
    "                                                                    \n",
    "                                # check to see if deer can get eaten and if the coyote CAN eat.  \n",
    "                                # If so, remove dear, reset N_eat counter, and also set have_i_eaten.\n",
    "                                if random.random() < P_eat and have_i_eaten < 1:\n",
    "                                    game_board[di,dj,0]=0  # remove deer\n",
    "                                    game_board[i,j,1]=N_eat  # reset N_eat counter \n",
    "                                    have_i_eaten = 1  # set have_i_eaten\n",
    "                                    #print(\"I ate a deer!\")\n",
    "\n",
    "            # all remaining deer have some probability of being removed by a hunter.\n",
    "            if game_board[i,j,0]==1:\n",
    "                if random.random() < P_rem:\n",
    "                    game_board[i,j,0]=0\n"
   ]
  },
  {
   "cell_type": "code",
   "execution_count": null,
   "metadata": {
    "collapsed": true
   },
   "outputs": [],
   "source": [
    "def check_remove_coyote(game_board):\n",
    "    '''\n",
    "    Checks to see if a coyote has starved to death, and if so, remove it.  Takes in game\n",
    "    board.  Returns nothing.\n",
    "    '''\n",
    "    Ngrid = game_board.shape[0]\n",
    "\n",
    "    # loop over grid\n",
    "    for i in range(0,Ngrid):\n",
    "        for j in range(0,Ngrid):\n",
    "\n",
    "            # is this cell a coyote?\n",
    "            if game_board[i,j,0]==2:\n",
    "                \n",
    "                # remove one from the counter\n",
    "                game_board[i,j,1] -= 1\n",
    "                \n",
    "                # if the counter has gone negative, coyote dies\n",
    "                if game_board[i,j,1] < 0:\n",
    "                    #print(\"coyote died!\")\n",
    "                    game_board[i,j,0]=game_board[i,j,1]=0\n"
   ]
  },
  {
   "cell_type": "code",
   "execution_count": null,
   "metadata": {
    "collapsed": true
   },
   "outputs": [],
   "source": [
    "def evolve_system(N_G = 40, N_S=100, N_C=2, N_D=20, N_eat=10, P_D=0.25, P_C=0.25, P_eat = 1.0, P_rem = 0.0):\n",
    "    \n",
    "    #fig = plt.figure(figsize=(N_G,N_G))\n",
    "\n",
    "    # arrays for record-keeping\n",
    "    step = []\n",
    "    N_coyotes = []\n",
    "    N_deer = []\n",
    "    \n",
    "    # initialize game board\n",
    "    game_board = initialize_game_board(N_G, N_C, N_D, N_eat)\n",
    "    #plot_board(game_board)\n",
    "\n",
    "    this_step = 0 \n",
    "    \n",
    "    # loop for N_S steps.\n",
    "    while this_step <= N_S:\n",
    "        \n",
    "        # move animals\n",
    "        move_animals(game_board)\n",
    "        \n",
    "        # check to see if deer multiply\n",
    "        animal_multiply(game_board,1,P_D,N_eat)\n",
    "        \n",
    "        # check to see if coyotes multiply\n",
    "        animal_multiply(game_board,2,P_C,N_eat)\n",
    "\n",
    "        # check to see if deer get eaten or removed\n",
    "        eat_or_remove_deer(game_board,P_eat,P_rem,N_eat)\n",
    "\n",
    "        # check to see if coyotes have died\n",
    "        check_remove_coyote(game_board)\n",
    "        \n",
    "        #plot_board(game_board)\n",
    "        #time.sleep(1.0)\n",
    "        #clear_output(wait=True)\n",
    "        #display(fig)\n",
    "        #fig.clear()\n",
    "        \n",
    "        # keep track of steps, number of coyotes, number of deer\n",
    "        N_coyotes.append(number_of_animals(game_board,2))\n",
    "        N_deer.append(number_of_animals(game_board,1))\n",
    "        step.append(this_step)\n",
    "\n",
    "        # increment step counter\n",
    "        this_step += 1\n",
    "    \n",
    "    # return all of the requested info\n",
    "    return step, N_coyotes, N_deer, game_board"
   ]
  },
  {
   "cell_type": "markdown",
   "metadata": {
    "collapsed": false
   },
   "source": [
    "----\n",
    "## Section 2 - some questions and plots\n",
    "\n",
    "Note: make sure that all plots have appropriate x- and y-limits, as well as figure titles and axis labels.  The questions may require both code and a written answer, so please make sure to do both!\n",
    "\n",
    "**For all models, assume a game board that is $N_G = 40$ cells on a side** unless otherwise instructed!"
   ]
  },
  {
   "cell_type": "markdown",
   "metadata": {
    "collapsed": true
   },
   "source": [
    "**Question 1:** First, let's test the limits of our model.  How does it behave when there are only Coyotes, and only Deer?  Try setting $N_C = 20$ and $N_D = 0$, and then do a second model with $N_C = 0$ and $N_D = 20$.  For both models, take $N_S = 100$ steps, set $N_{eat} = 10$, and give both deer and coyotes a probability of $P_D = P_C = 0.25$ of reproducing when they interact with others of their species.  Set $P_{rem}=0$ (no deer are removed by humans).  Use the code you have written to show how these two situations evolve over time (i.e., show the total population of coyotes and deer as a function of simulation time step), explain what you see, and explain why it makes sense."
   ]
  },
  {
   "cell_type": "code",
   "execution_count": null,
   "metadata": {
    "collapsed": false
   },
   "outputs": [],
   "source": [
    "# Put your code and figures here - add additional cells if necessary\n",
    "\n",
    "# N_G = grid size    # grid size\n",
    "# N_S = number of steps\n",
    "# N_C = number of coyotes\n",
    "# N_D = number of deer\n",
    "# N_eat = number of steps before a coyote eats\n",
    "# P_D = probability that two deer breed and produce a new deer\n",
    "# P_C = probability that two coyotes breed and produce a new coyote\n",
    "# P_eat = probability that a coyote eats a deer in an adjacent space\n",
    "# P_rem =  probability that a deer is removed from the island in any given timestep\n",
    "\n",
    "step, N_coyotes, N_deer, game_board = evolve_system(N_G=20,\n",
    "                                                    N_D=0, N_C=20,\n",
    "                                                    N_S=100,\n",
    "                                                    P_D=0.25, P_C=0.25,\n",
    "                                                    N_eat=10, P_eat=0.5,\n",
    "                                                    P_rem=0.0)\n",
    "\n",
    "plt.plot(step,N_deer,'b-',step,N_coyotes,'r-')\n",
    "#print(N_deer,N_coyotes)\n"
   ]
  },
  {
   "cell_type": "code",
   "execution_count": null,
   "metadata": {
    "collapsed": false
   },
   "outputs": [],
   "source": [
    "step, N_coyotes, N_deer, game_board = evolve_system(N_G=20,\n",
    "                                                    N_D=20, N_C=0,\n",
    "                                                    N_S=100,\n",
    "                                                    P_D=0.25, P_C=0.25,\n",
    "                                                    N_eat=10, P_eat=0.5,\n",
    "                                                    P_rem=0.0)\n",
    "\n",
    "plt.plot(step,N_deer,'b-',step,N_coyotes,'r-')"
   ]
  },
  {
   "cell_type": "markdown",
   "metadata": {},
   "source": [
    "**We expect to see** exponential behavior in this circumstance - explosive growth of deer and coyote populations. The coyote behavior may be surprising because if there are lots of coyotes they breed before they die, and keep breeding."
   ]
  },
  {
   "cell_type": "markdown",
   "metadata": {},
   "source": [
    "**Question 2:** Now, let's try models with both species, but where they are far out of equilibrium.  Consider a model with $N_C = 20$ and $N_D = 2$, and then do a second model with $N_C = 2$ and $N_D = 20$.  For both models, take $N_S = 100$ steps, set $N_{eat} = 10$, give both deer and coyotes a probability of $P_D = P_C = 0.25$ of reproducing when they interact with others of their species, and give coyotes a probability $P_{eat} = 0.5$ of catching and eating a deer upon encountering it.  Set $P_{rem}=0$ (no deer are removed by humans).  Use the code you have written to show how these two situations evolve over time (i.e., show the total population of coyotes and deer as a function of simulation time step), explain what you see, and explain why it makes sense."
   ]
  },
  {
   "cell_type": "code",
   "execution_count": null,
   "metadata": {
    "collapsed": false
   },
   "outputs": [],
   "source": [
    "# Put your code and figures here - add additional cells if necessary\n",
    "\n",
    "\n",
    "step, N_coyotes, N_deer, game_board = evolve_system(N_G=20,\n",
    "                                                    N_D=20, N_C=2,\n",
    "                                                    N_S=100,\n",
    "                                                    P_D=0.25, P_C=0.25,\n",
    "                                                    N_eat=10, P_eat=0.5,\n",
    "                                                    P_rem=0.0)\n",
    "\n",
    "plt.plot(step,N_deer,'b-',step,N_coyotes,'r-')\n"
   ]
  },
  {
   "cell_type": "code",
   "execution_count": null,
   "metadata": {
    "collapsed": false
   },
   "outputs": [],
   "source": [
    "\n",
    "step, N_coyotes, N_deer, game_board = evolve_system(N_G=20,\n",
    "                                                    N_D=2, N_C=20,\n",
    "                                                    N_S=100,\n",
    "                                                    P_D=0.25, P_C=0.25,\n",
    "                                                    N_eat=10, P_eat=0.5,\n",
    "                                                    P_rem=0.0)\n",
    "\n",
    "plt.plot(step,N_deer,'b-',step,N_coyotes,'r-')\n"
   ]
  },
  {
   "cell_type": "markdown",
   "metadata": {},
   "source": [
    "**We expect to see** exponential growth or decay and possibly some sinusoidal behavior.  Out-of-equilibrium situations are fairly stochastic and dependent on initial conditions - be generous with grading."
   ]
  },
  {
   "cell_type": "markdown",
   "metadata": {},
   "source": [
    "**Question 3:** Now, let's modify the model above to try to create stable populations of coyotes and deer by removing deer from the island.  Consider a model with $N_C = 2$ and $N_D = 40$.  For both models, take $N_S = 100$ steps, set $N_{eat} = 10$, give both deer and coyotes a probability of $P_D = P_C = 0.25$ of reproducing when they interact with others of their species, and give coyotes a probability $P_{eat} = 0.5$ of catching and eating a deer upon encountering it.  Start with $P_{rem}=0$ and do several runs where you increase it by steps of 0.1 to $P_{rem} = 1.0$, showing all of the results on a single plot with lines of different colors and/or types indicating different models.  How does the situation change as deer are removed by humans?  Over what range of $P_{rem}$ do you get populations that are relatively stable, meaning that they do not continuously increase or decrease?\n"
   ]
  },
  {
   "cell_type": "code",
   "execution_count": null,
   "metadata": {
    "collapsed": false
   },
   "outputs": [],
   "source": [
    "# Put your code here!\n",
    "\n",
    "step, N_coyotes, N_deer, game_board = evolve_system(N_G=20,\n",
    "                                                    N_D=20, N_C=2,\n",
    "                                                    N_S=100,\n",
    "                                                    P_D=0.25, P_C=0.25,\n",
    "                                                    N_eat=10, P_eat=0.5,\n",
    "                                                    P_rem=0.1)\n",
    "\n",
    "plt.plot(step,N_deer,'b-',step,N_coyotes,'r-')\n"
   ]
  },
  {
   "cell_type": "markdown",
   "metadata": {},
   "source": [
    "**We expect to see:** At really low values of P_rem you should get explosive growth of deer population; at higher values you should see the deer population plummet, followed by the coyote population.  The difference between explosive deer population and hunting to extinction is quite small in terms of P_Prem - look for that."
   ]
  },
  {
   "cell_type": "markdown",
   "metadata": {},
   "source": [
    "**Question 4:** Run several models where you change the other parameters, and show two or three of the most interesting ones below.  Explain in the text box below your figures what is going on, and why."
   ]
  },
  {
   "cell_type": "code",
   "execution_count": null,
   "metadata": {
    "collapsed": true
   },
   "outputs": [],
   "source": [
    "# Put your code here!\n",
    "\n"
   ]
  },
  {
   "cell_type": "markdown",
   "metadata": {
    "collapsed": true
   },
   "source": [
    "This could be anything - basically we're looking for some interesting scenarios and analaysis."
   ]
  },
  {
   "cell_type": "markdown",
   "metadata": {},
   "source": [
    "**Question 5:** After you've run all of these different models, what general principles can you take away?  In other words, what have you learned about the interactions of predator and prey species from this model?"
   ]
  },
  {
   "cell_type": "markdown",
   "metadata": {},
   "source": [
    "**We're looking for** any thoughts that the students have on this subject.  basically hoping that they get the idea that unchecked deer populations will grow explosively, and unchecked coyote populations will die off rapidly.  Some hunting is necessary to maintain the population at a roughly constant level."
   ]
  },
  {
   "cell_type": "markdown",
   "metadata": {},
   "source": [
    "**Question 6:** In what ways could this model be modified to make it more realistic?"
   ]
  },
  {
   "cell_type": "markdown",
   "metadata": {},
   "source": [
    "**We're looking for** pretty much anything sensible here.  For example:\n",
    "\n",
    "* Neither deer nor coyotes should immediately reproduce\n",
    "* Deer need food; that should be taken into account.  Deer food should grow since it is made of plants!\n",
    "* If there was deer food, deer should seek that out.\n",
    "* Deer typically move in groups and run from coyotes; coyotes typically actively hunt.  Neither move randomly.\n",
    "* Number of hunting permits (i.e. removal percentage) should probably fluctuate based on deer population.\n",
    "\n",
    "There are probably many others; I can't think of them now."
   ]
  },
  {
   "cell_type": "markdown",
   "metadata": {},
   "source": [
    "----\n",
    "\n",
    "## Section 3: Feedback (required!)"
   ]
  },
  {
   "cell_type": "markdown",
   "metadata": {},
   "source": [
    "### How long did you spend on the homework?"
   ]
  },
  {
   "cell_type": "markdown",
   "metadata": {},
   "source": [
    "// Write your answer here"
   ]
  },
  {
   "cell_type": "markdown",
   "metadata": {},
   "source": [
    "## What questions do you have after this assignment?"
   ]
  },
  {
   "cell_type": "markdown",
   "metadata": {},
   "source": [
    "// Write your answer here"
   ]
  },
  {
   "cell_type": "markdown",
   "metadata": {},
   "source": [
    "----\n",
    "\n",
    "# Congratulations, you're done!\n",
    "\n",
    "## How to submit this assignment\n",
    "\n",
    "Log into the course Desire2Learn website (d2l.msu.edu) and go to the \"Homework assignments\" folder.  There will be a dropbox labeled \"Homework 7\".  Upload this notebook there. "
   ]
  }
 ],
 "metadata": {
  "kernelspec": {
   "display_name": "Python 3",
   "language": "python",
   "name": "python3"
  },
  "language_info": {
   "codemirror_mode": {
    "name": "ipython",
    "version": 3
   },
   "file_extension": ".py",
   "mimetype": "text/x-python",
   "name": "python",
   "nbconvert_exporter": "python",
   "pygments_lexer": "ipython3",
   "version": "3.5.1"
  }
 },
 "nbformat": 4,
 "nbformat_minor": 0
}
