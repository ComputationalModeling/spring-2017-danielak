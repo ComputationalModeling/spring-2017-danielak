{
 "cells": [
  {
   "cell_type": "markdown",
   "metadata": {},
   "source": [
    "# Homework \\#1 \n",
    "\n",
    "This notebook contains the first homework for this class, and is due on **Sunday, January 31st, 2016 at 11:59 p.m.**.  Please make sure to get started early, and come by the instructors' office hours if you have any questions.  Office horus and locations can be found in the course syllabus.  **IMPORTANT:** While it's fine if you talk to other people in class about this homework - and in fact we encourage it! - you are responsible for creating the  solutions for this homework on your own, and each student must submit their own homework assignment.\n",
    "\n",
    "**Some links that you may find helpful:**\n",
    "\n",
    "* [Markdown tutorial](https://guides.github.com/features/mastering-markdown/)\n",
    "* [The matplotlib website](http://matplotlib.org/)\n",
    "* [The matplotlib figure gallery](http://matplotlib.org/gallery.html)  (this is particularly helpful for getting ideas!)\n",
    "* [The Pyplot tutoiral](http://matplotlib.org/users/pyplot_tutorial.html)\n",
    " "
   ]
  },
  {
   "cell_type": "markdown",
   "metadata": {},
   "source": [
    "## Your name"
   ]
  },
  {
   "cell_type": "markdown",
   "metadata": {},
   "source": [
    "Put your name here!"
   ]
  },
  {
   "cell_type": "markdown",
   "metadata": {},
   "source": [
    "----\n",
    "\n",
    "## Section 1: Carbon dioxide"
   ]
  },
  {
   "cell_type": "markdown",
   "metadata": {},
   "source": [
    "**Part 1.**  Consider this:  How much carbon dioxide does a square kilometer of forest remove from the Earth's atmosphere each year? And, how does that compare to the amount of carbon dioxide that a car adds to the atmosphere each year?\n",
    "\n",
    "Come up with a simple order-of-magnitude approximation for each of those two questions, and in the cell below this one write a paragraph or two addressing each of the two questions above.  What are the factors you need to consider?  What range of values might they have?  In what way is your estimate limited?  (Also, to add a twist: does it matter how old the trees in the forst are, or the car?)\n",
    "\n",
    "Note:  if you use a Google search or two to figure out what range of values you might want to use, include links to the relevant web page.  You can either just paste the URL, or do something prettier, like this:  [google!](http://google.com).  The syntax for that second one is `[google!](http://google.com)`.\n"
   ]
  },
  {
   "cell_type": "markdown",
   "metadata": {},
   "source": [
    "*put your answer here!*"
   ]
  },
  {
   "cell_type": "markdown",
   "metadata": {},
   "source": [
    "**Part 2.** In the space below, write a Python program to model the answer to both of those questions, and keep track of the answers in a numpy array.  Plot your answers to both questions in some convenient way (probably not a scatter plot - look at the [matplotlib gallery](http://matplotlib.org/gallery.html) for inspiration!).  Do the answers you get make sense to you?"
   ]
  },
  {
   "cell_type": "code",
   "execution_count": null,
   "metadata": {
    "collapsed": true
   },
   "outputs": [],
   "source": [
    "# write any code you need here!  \n",
    "# Create additional cells if you need them by using the \n",
    "# 'Insert' menu at the top of the browser window.\n",
    "\n",
    "\n"
   ]
  },
  {
   "cell_type": "markdown",
   "metadata": {},
   "source": [
    "----\n",
    "\n",
    "## Section 2: Get the Lead Out, continued"
   ]
  },
  {
   "cell_type": "markdown",
   "metadata": {},
   "source": [
    "As described in the in-class assignment on this subject, **You're going to create a letter to [send to the Governor's office](http://michigan.gov/snyder/0,4668,7-277--267869--,00.html)** based on the data anlysis you did in class and what you do here. Use the rest of this notebook (starting with the \"Your Document to the Governor's Office\") to write that letter. Consider this core question:\n",
    "\n",
    "**Did water lead levels exceed the EPA's action limits? And if they did, how can we understand how badly it exceeded the limits?**\n",
    "\n",
    "Your document should be about 3-4 paragraphs long. You're encouraged to use code and results from your in-class work in your document. And, your  should do the following:\n",
    "\n",
    "1. *State your position* on whether lead levels exceeded EPA limits. Make it clear what your investigation found.\n",
    "2. *Justify your position* with graphics and written analysis to explain why you think what you think.\n",
    "3. *Consider counterarguments*. Could someone try to use the same data to arrive at a different conclusion than yours? If they could, explain why you think that position is flawed.\n",
    "\n",
    "Remember: *This is real data.* So,\n",
    "\n",
    "- **The conclusions you draw matter.** These are Flint resident's actual living conditions.\n",
    "- You may find other results online, but you still have to do your own analysis to decide whether you agree with their results. \n",
    "- Any numerical conclusions you draw should be backed up by your code. If you say the average lead level was below EPA limits, you'll need to be able to back up that claim in your notebook either with graphical evidence or numerical evidence (calculations)."
   ]
  },
  {
   "cell_type": "markdown",
   "metadata": {},
   "source": [
    "### Your Letter to the Governor's Office"
   ]
  },
  {
   "cell_type": "code",
   "execution_count": null,
   "metadata": {
    "collapsed": true
   },
   "outputs": [],
   "source": [
    "# Create any Python and Markdown cells you need\n",
    "# to write your letter, do calculations, and make figures\n",
    "# You can add more cells using the 'Insert' menu\n",
    "\n",
    "# Note: you do not actually have to send this letter, but you can if you want!"
   ]
  },
  {
   "cell_type": "markdown",
   "metadata": {},
   "source": [
    "----\n",
    "\n",
    "## Section 3: Feedback (required!)"
   ]
  },
  {
   "cell_type": "markdown",
   "metadata": {},
   "source": [
    "## How far did you get on this in class?"
   ]
  },
  {
   "cell_type": "markdown",
   "metadata": {},
   "source": [
    "// Write your answer here"
   ]
  },
  {
   "cell_type": "markdown",
   "metadata": {},
   "source": [
    "## How long did you spend on the homework?"
   ]
  },
  {
   "cell_type": "markdown",
   "metadata": {},
   "source": [
    "// Write your answer here"
   ]
  },
  {
   "cell_type": "markdown",
   "metadata": {},
   "source": [
    "## What questions do you have after this assignment?"
   ]
  },
  {
   "cell_type": "markdown",
   "metadata": {},
   "source": [
    "// Write your answer here"
   ]
  },
  {
   "cell_type": "markdown",
   "metadata": {},
   "source": [
    "----\n",
    "\n",
    "# Congratulations, you're done!\n",
    "\n",
    "## How to submit this assignment\n",
    "\n",
    "Log into the course Desire2Learn website (d2l.msu.edu) and go to the \"Homework assignments\" folder.  There will be a dropbox labeled \"Homework 1\".  Upload this notebook there. "
   ]
  }
 ],
 "metadata": {
  "kernelspec": {
   "display_name": "Python 3",
   "language": "python",
   "name": "python3"
  },
  "language_info": {
   "codemirror_mode": {
    "name": "ipython",
    "version": 3
   },
   "file_extension": ".py",
   "mimetype": "text/x-python",
   "name": "python",
   "nbconvert_exporter": "python",
   "pygments_lexer": "ipython3",
   "version": "3.5.1"
  }
 },
 "nbformat": 4,
 "nbformat_minor": 0
}
