{
 "cells": [
  {
   "cell_type": "markdown",
   "metadata": {},
   "source": [
    "# Homework 3: 1D Schelling model\n",
    "\n",
    "**Schelling's model for happiness:** Recall that in a 1D line of stars and zeros (to use Schelling's terminology), an element is \"happy\" if at least half of its neighbors (defined as the four elements to the left and four elements to the right) are like it, and \"unhappy\" otherwise.  For those near the end of the line the rule is that, of the four neighbors on the side toward the center plus the one, two or three outboard neighbors, at least half must be like oneself.\n",
    "\n",
    "Your assignment is to implement the Schelling model using zeros and ones to indicate the two types of elements.  As with Schelling's original paper, you will play twice through the entire list, moving each element in a row (possibly moving a given element multiple times if it goes to the right).  Print out the state of the list at each step so that you can see how the solution evolves.\n",
    "\n",
    "Break up your code into functions whenever possible, and add comments to make sure that we know what's going on!\n",
    "\n",
    "## Name"
   ]
  },
  {
   "cell_type": "markdown",
   "metadata": {},
   "source": [
    "Put your name here!"
   ]
  },
  {
   "cell_type": "markdown",
   "metadata": {},
   "source": [
    "## Code"
   ]
  },
  {
   "cell_type": "code",
   "execution_count": null,
   "metadata": {
    "collapsed": true
   },
   "outputs": [],
   "source": [
    "# put your code here, adding additional cells if necessary.\n",
    "\n",
    "\n"
   ]
  }
 ],
 "metadata": {
  "kernelspec": {
   "display_name": "Python 3",
   "language": "python",
   "name": "python3"
  },
  "language_info": {
   "codemirror_mode": {
    "name": "ipython",
    "version": 3
   },
   "file_extension": ".py",
   "mimetype": "text/x-python",
   "name": "python",
   "nbconvert_exporter": "python",
   "pygments_lexer": "ipython3",
   "version": "3.5.1"
  }
 },
 "nbformat": 4,
 "nbformat_minor": 0
}
