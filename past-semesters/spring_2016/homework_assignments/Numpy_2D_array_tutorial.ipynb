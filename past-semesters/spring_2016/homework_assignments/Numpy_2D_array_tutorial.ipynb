{
 "cells": [
  {
   "cell_type": "markdown",
   "metadata": {},
   "source": [
    "# Numpy 2D arrays - some examples\n",
    "\n",
    "This notebook demonstrates how to work with 2D numpy arrays, including array slicing, random numbers, and making plots with them.  Note that this works with higher-dimensional arrays as well!\n",
    "\n",
    "### Some useful links:\n",
    "\n",
    "* [Numpy quickstart](https://docs.scipy.org/doc/numpy-dev/user/quickstart.html)\n",
    "* [A useful numpy tutorial](http://cs231n.github.io/python-numpy-tutorial/#numpy)\n",
    "* [Numpy array creation methods](http://docs.scipy.org/doc/numpy/reference/routines.array-creation.html)\n",
    "* [Numpy array slicing/indexing tutorial](http://cs231n.github.io/python-numpy-tutorial/#numpy-array-indexing)\n",
    "* [Numpy array slicing and indexing techniques](http://docs.scipy.org/doc/numpy/reference/arrays.indexing.html) (more extensive documentation)\n",
    "* [The Numpy random module](http://docs.scipy.org/doc/numpy/reference/routines.random.html)"
   ]
  },
  {
   "cell_type": "code",
   "execution_count": null,
   "metadata": {
    "collapsed": true
   },
   "outputs": [],
   "source": [
    "%matplotlib inline\n",
    "import matplotlib.pyplot as plt\n",
    "import numpy as np\n",
    "import random"
   ]
  },
  {
   "cell_type": "markdown",
   "metadata": {},
   "source": [
    "# Array creation and basic properties\n",
    "\n",
    "Create an 8x10 array of zeros called ```my_array```.  Note that you can do this with any numpy array method (```ones```, ```zeros_like```, ```ones_like```, etc.).  See [this page](http://docs.scipy.org/doc/numpy/reference/routines.array-creation.html) for a full list of routines for array creation."
   ]
  },
  {
   "cell_type": "code",
   "execution_count": null,
   "metadata": {
    "collapsed": false
   },
   "outputs": [],
   "source": [
    "a = np.zeros([8,10])\n",
    "print(a)"
   ]
  },
  {
   "cell_type": "markdown",
   "metadata": {},
   "source": [
    "You have already created a 1D numpy array of predetermined values by giving ```np.array``` a list.  You can make a multi-dimensional numpy array by giving  ```np.array``` a set of nested lists (i.e., a list of lists).  The following will create a 3x3 array with predetermined values:"
   ]
  },
  {
   "cell_type": "code",
   "execution_count": null,
   "metadata": {
    "collapsed": false
   },
   "outputs": [],
   "source": [
    "b = np.array([[1,2,3],[4,5,6],[7,8,9]])\n",
    "print(b)"
   ]
  },
  {
   "cell_type": "markdown",
   "metadata": {},
   "source": [
    "The array ```.shape``` property tells you how large the array is in each dimension, ```.ndim``` tells you the number of dimensions, and ```.size``` tells you the total number of elements in the array.  You can access each of the dimensions ```dim``` by ```.shape[dim]```."
   ]
  },
  {
   "cell_type": "code",
   "execution_count": null,
   "metadata": {
    "collapsed": false
   },
   "outputs": [],
   "source": [
    "print(\"the shape of this array is:\", a.shape)\n",
    "print(\"there are:\", a.ndim, \"dimensions\")\n",
    "print(\"there are\", a.size, \"total elements\")\n",
    "\n",
    "for i in range(a.ndim):\n",
    "    print(\"the size of dimension\", i, \"is\", a.shape[i])"
   ]
  },
  {
   "cell_type": "markdown",
   "metadata": {},
   "source": [
    "You can manipulate individual cells of an array by:\n",
    "\n",
    "```a[index_1,index_2]```\n",
    "\n",
    "Note that when you print it, the first index corresponds to rows (counting down from the top) and the second index corresponds to columns (counting from the left).  Indices in both directions count by zeros."
   ]
  },
  {
   "cell_type": "code",
   "execution_count": null,
   "metadata": {
    "collapsed": false
   },
   "outputs": [],
   "source": [
    "a[2,6]=11\n",
    "\n",
    "#print entire array\n",
    "print(a)\n",
    "\n",
    "#print a single element of the array\n",
    "print(a[2,6])"
   ]
  },
  {
   "cell_type": "markdown",
   "metadata": {},
   "source": [
    "# Slicing arrays \n",
    "\n",
    "You can also use the same type of slicing that you use with lists - in other words, python allows you to select some subset of the elements in a list or an array to manipulate or copy.  With slicing, there are three values that can be used along each dimension: ```start```,```end```, and ```step```, separated by colons.  Here are some examples in 1D:\n",
    "\n",
    "```\n",
    "myarray[start,end]   # items start through end-1\n",
    "myarray[start:]      # items start through the end of the array\n",
    "myarray[:end]        # items from the beginning of the array through end-1\n",
    "myarray[:]           # a copy of the whole array\n",
    "myarray[start,end,step]  # every \"step\" item from start to end-1\n",
    "myarray[::step]      # every \"step\" item over the whole array, starting with the first element.\n",
    "```\n",
    "\n",
    "Note that negative indices count from the end of the array, so ```myarray[-1]``` is the last element in the array, ```myarray[-2]``` is the second-to-last element, etc.  You can also reverse the order of the array by starting at the end and counting to the beginning by negative numbers -- in other words, ```myarray[-1::-1]``` starts at the end of the array and goes to the first element by counting down by one each time."
   ]
  },
  {
   "cell_type": "code",
   "execution_count": null,
   "metadata": {
    "collapsed": false
   },
   "outputs": [],
   "source": [
    "# create a 1D array with values 0...10\n",
    "c = np.arange(0,10)\n",
    "\n",
    "# note: the '\\n' at the beginning of many of the print statements \n",
    "# adds a carriage return (blank line)\n",
    "\n",
    "print(\"some elements from the middle of the array:\",c[3:7] )\n",
    "print(\"\\nthe second element through the second-to-last element:\", c[2:-1]) \n",
    "print(\"\\nthe first half of the array:\", c[:5])\n",
    "print(\"\\nthe second half of the array:\", c[5:])\n",
    "print(\"\\nevery other element from 2-8 (inclusive):\",c[2:9:2])\n",
    "print(\"\\nevery third element in the array:\",c[::3])\n",
    "print(\"\\nreverse the array:\",c[-1::-1]) "
   ]
  },
  {
   "cell_type": "markdown",
   "metadata": {},
   "source": [
    "The same sort of technique can be used with a multi-dimensional array, with ```start```, ```stop```, and (optionally) ```step``` specified along each dimension, with the dimensions separated by a comma.  The syntax would be:\n",
    "\n",
    "```\n",
    "my2Darray[start1:stop1:step1, start2:stop2:step2]\n",
    "```\n",
    "\n",
    "With the same rules as above.  You can also combine slicing with fixed indices to get some or all elements from a single row or column of your array.\n",
    "\n",
    "For example,  array ```b``` created above is a 3x3 array with the values 1-9 stored in it.  We can do several different things:\n",
    "\n",
    "```\n",
    "b[0,:]     # get the first row\n",
    "b[:,2]     # get the third column\n",
    "b[1,::2]   # get every other element of the first row, starting at element 0\n",
    "b[:2,:2]   # get a square array containing the first two elements along each dimension\n",
    "b[-2:,-2:] # get a square array containing the last two elements along each dimension\n",
    "b[::2,::2] # get a square array of every other element along each dimension\n",
    "b[-1::-1,-1::-1]  # original sized array, but reversed along both dimensions\n",
    "```"
   ]
  },
  {
   "cell_type": "code",
   "execution_count": null,
   "metadata": {
    "collapsed": false
   },
   "outputs": [],
   "source": [
    "print(\"the array b:\\n\",b,\"\\n\")\n",
    "#  To get a square array containing the first two elements along each dimension:\n",
    "print(\"the first row:\", b[0,:])\n",
    "\n",
    "print(\"\\nthe third column:\",b[:,2])\n",
    "\n",
    "print(\"\\nevery other element of the second row, starting with element 0:\",b[1,::2])\n",
    "\n",
    "print(\"\\nsquare array of first two elements along each dimension:\\n\",b[:2,:2])\n",
    "\n",
    "print(\"\\nsquare array of last two elements along each dimension:\\n\",b[-2:,-2:])\n",
    "\n",
    "print(\"\\nsquare array of every other element along each dimension:\\n\",b[::2,::2])\n",
    "\n",
    "print(\"\\nreversed array:\\n\",b[-1::-1,-1::-1])"
   ]
  },
  {
   "cell_type": "markdown",
   "metadata": {},
   "source": [
    "# Copying arrays\n",
    "\n",
    "So far, we've only shown you how to create arrays and manipulate subsets of arrays.  But what about copying arrays?  What happens when you create an array c, and set d=c?"
   ]
  },
  {
   "cell_type": "code",
   "execution_count": null,
   "metadata": {
    "collapsed": false
   },
   "outputs": [],
   "source": [
    "c = np.full((4,4),10.0)  # makes an array of shape (4,4) where all elements are value 10.0\n",
    "\n",
    "d = c\n",
    "\n",
    "print(\"c:\\n\",c, \"\\nd:\\n\", d)"
   ]
  },
  {
   "cell_type": "markdown",
   "metadata": {},
   "source": [
    "The two arrays are the same, which is what you would expect.  But, what happens if we make changes to array d?"
   ]
  },
  {
   "cell_type": "code",
   "execution_count": null,
   "metadata": {
    "collapsed": false
   },
   "outputs": [],
   "source": [
    "d[:,0] = -1.0  # make column 0 equal to -1\n",
    "d[:,2] = -6.0  # make column 2 equal to -6\n",
    "\n",
    "print(\"c:\\n\",c, \"\\nd:\\n\", d)"
   ]
  },
  {
   "cell_type": "markdown",
   "metadata": {},
   "source": [
    "Arrays ```c``` and ```d``` are identical, even though you only changed ```d```!\n",
    "\n",
    "So what's going on here?  When you equate arrays in Numpy (i.e., ```d = c```), you create a **reference**, rather than copying the array -- in other words, the array ```d``` is not a distinct array, but rather *points to* the array ```c``` in memory.  Any modification to either ```c``` or ```d``` will be seen by both.  To actually make a copy, you have to use the ```np.copy()``` method:"
   ]
  },
  {
   "cell_type": "code",
   "execution_count": null,
   "metadata": {
    "collapsed": false
   },
   "outputs": [],
   "source": [
    "e = np.full((4,4),10.0)  # makes an array of shape (4,4) where all elements are value 10.0\n",
    "\n",
    "f = np.copy(e)\n",
    "\n",
    "f[:,0] = -1.0  # make column 0 equal to -1\n",
    "f[:,2] = -6.0  # make column 2 equal to -6\n",
    "\n",
    "print(\"e:\\n\",e, \"\\nf:\\n\", f)"
   ]
  },
  {
   "cell_type": "markdown",
   "metadata": {},
   "source": [
    "You can also make a copy of a subset of an arrays:"
   ]
  },
  {
   "cell_type": "code",
   "execution_count": null,
   "metadata": {
    "collapsed": false
   },
   "outputs": [],
   "source": [
    "g = np.full((4,4),10.0)  # makes an array of shape (4,4) where all elements are value 10.0\n",
    "\n",
    "h = np.copy(g[0:2,0:2])\n",
    "\n",
    "print(\"g:\\n\",g, \"\\nh:\\n\", h)"
   ]
  },
  {
   "cell_type": "markdown",
   "metadata": {},
   "source": [
    "Note that you can also create an array that references a subset of another array rather than copies it, and manipulate that in any way you want.  The changes will then appear in both the new array and your original array.  For example:"
   ]
  },
  {
   "cell_type": "code",
   "execution_count": null,
   "metadata": {
    "collapsed": false
   },
   "outputs": [],
   "source": [
    "i = np.full((4,4),10.0)  # makes an array of shape (4,4) where all elements are value 10.0\n",
    "\n",
    "j = i[0:2,0:2]\n",
    "\n",
    "print(\"\\nunmodified arrays:\\n\")\n",
    "\n",
    "print(\"i:\\n\",i, \"\\nj:\\n\", j)\n",
    "\n",
    "print(\"\\narrays after modification:\\n\")\n",
    "\n",
    "j[1,1]=-999.0\n",
    "\n",
    "print(\"i:\\n\",i, \"\\nj:\\n\", j)\n"
   ]
  },
  {
   "cell_type": "markdown",
   "metadata": {},
   "source": [
    "# Numpy and random numbers\n",
    "\n",
    "Numpy has a ```random``` module that can be used to [generate random numbers](http://docs.scipy.org/doc/numpy/reference/routines.random.html) in a similar way to the standard Python ```random``` module, but with the added advantage that it can do so for arrays of values.  Two commonly-used methods are:\n",
    "\n",
    "* [```random```](http://docs.scipy.org/doc/numpy/reference/generated/numpy.random.random.html#numpy.random.random), which generates an array with user-specified dimensions (1D, 2D, or more dimensions!) and fills it with random floating-point values in the interval [0,1).\n",
    "* [```randint```](http://docs.scipy.org/doc/numpy/reference/generated/numpy.random.randint.html#numpy.random.randint), which generates an array with user-specified dimensions and fills it with random integers in a user-specified interval."
   ]
  },
  {
   "cell_type": "code",
   "execution_count": null,
   "metadata": {
    "collapsed": false
   },
   "outputs": [],
   "source": [
    "random_float_array = np.random.random((5,5))\n",
    "\n",
    "print(random_float_array)\n",
    "\n",
    "random_int_array = np.random.randint(0,10,(5,5))\n",
    "\n",
    "print(\"\\n\",random_int_array)"
   ]
  },
  {
   "cell_type": "markdown",
   "metadata": {},
   "source": [
    "# Plotting numpy arrays\n",
    "\n",
    "It's easy to plot 2D Numpy arrays in matplotlib using the pyplot [```matshow```](http://matplotlib.org/api/pyplot_api.html#matplotlib.pyplot.matshow) method:"
   ]
  },
  {
   "cell_type": "code",
   "execution_count": null,
   "metadata": {
    "collapsed": false
   },
   "outputs": [],
   "source": [
    "new_rand_array = np.random.random((100,100))\n",
    "\n",
    "plt.matshow(new_rand_array)\n",
    "\n",
    "# uncomment the following line to save the figure to your hard drive!\n",
    "#plt.savefig(\"myimage.png\")"
   ]
  },
  {
   "cell_type": "markdown",
   "metadata": {},
   "source": [
    "And you can turn off the array axes with the following incantation:"
   ]
  },
  {
   "cell_type": "code",
   "execution_count": null,
   "metadata": {
    "collapsed": false
   },
   "outputs": [],
   "source": [
    "myplot = plt.matshow(new_rand_array)\n",
    "myplot.axes.get_xaxis().set_visible(False)\n",
    "myplot.axes.get_yaxis().set_visible(False)"
   ]
  },
  {
   "cell_type": "markdown",
   "metadata": {},
   "source": [
    "(See [this page](http://stackoverflow.com/questions/16492830/colorplot-of-2d-array-matplotlib) for a more complex example.)  Finally, you can use the pyplot [```imshow```](http://matplotlib.org/api/pyplot_api.html#matplotlib.pyplot.imshow) method to control many aspects of a plotted array, including things like the [color map](http://matplotlib.org/examples/color/colormaps_reference.html), opacity, and the minimum and maximum range."
   ]
  },
  {
   "cell_type": "code",
   "execution_count": null,
   "metadata": {
    "collapsed": false
   },
   "outputs": [],
   "source": [
    "# interpolation='none' keeps imshow() from trying to interpolate between values and\n",
    "#   making it look fuzzy.\n",
    "# cmap='mapname' changes the color map.\n",
    "# vmin, vmax sets the range of the color bar (from 0.0 - 0.5 in this example)\n",
    "\n",
    "myplot = plt.imshow(new_rand_array, interpolation='none',cmap='hot',vmin=0.0,vmax=0.5)\n",
    "\n",
    "# uncomment the following lines to remove the axis labels\n",
    "#myplot.axes.get_xaxis().set_visible(False)\n",
    "#myplot.axes.get_yaxis().set_visible(False)\n",
    "\n",
    "# uncomment the following line to save the figure to your hard drive!\n",
    "#plt.savefig(\"myimage.png\")"
   ]
  }
 ],
 "metadata": {
  "kernelspec": {
   "display_name": "Python 3",
   "language": "python",
   "name": "python3"
  },
  "language_info": {
   "codemirror_mode": {
    "name": "ipython",
    "version": 3
   },
   "file_extension": ".py",
   "mimetype": "text/x-python",
   "name": "python",
   "nbconvert_exporter": "python",
   "pygments_lexer": "ipython3",
   "version": "3.5.1"
  }
 },
 "nbformat": 4,
 "nbformat_minor": 0
}
