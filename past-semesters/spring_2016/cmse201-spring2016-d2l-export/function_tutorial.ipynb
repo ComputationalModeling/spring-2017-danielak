{
 "cells": [
  {
   "cell_type": "markdown",
   "metadata": {},
   "source": [
    "# Python functions - some examples\n",
    "\n",
    "This notebook demonstrates how to work with python functions, including some complex examples.\n",
    "\n",
    "Some useful links:\n",
    "\n",
    "* [Python tutorial - defining functions](https://docs.python.org/2/tutorial/controlflow.html#defining-functions)\n",
    "* [A different tutorial on Python functions](https://en.wikibooks.org/wiki/Python_Programming/Functions)\n"
   ]
  },
  {
   "cell_type": "markdown",
   "metadata": {},
   "source": [
    "## A very simple function\n",
    "\n",
    "This function takes no parameters and doesn't explicitly return a value.  Note that a function with no return actually returns \"None\"."
   ]
  },
  {
   "cell_type": "code",
   "execution_count": null,
   "metadata": {
    "collapsed": false
   },
   "outputs": [],
   "source": [
    "def print_hello():\n",
    "    print(\"hello!\")\n",
    "\n",
    "# call the function and store its output.  You don't really have to have the output= part if you don't want to.\n",
    "output=print_hello()\n",
    "\n",
    "print(\"output of print_hello() is:\", output)"
   ]
  },
  {
   "cell_type": "markdown",
   "metadata": {},
   "source": [
    "## A function with one argument and one returned quantity\n",
    "\n",
    "This function takes in one parameter, ```thisval```, and returns the square of it.  We'll store the output in a variable and print it."
   ]
  },
  {
   "cell_type": "code",
   "execution_count": null,
   "metadata": {
    "collapsed": false
   },
   "outputs": [],
   "source": [
    "def squareme(thisval):\n",
    "    return thisval**2\n",
    "\n",
    "output = squareme(4)\n",
    "\n",
    "print(\"output of squareme() is:\", output)"
   ]
  },
  {
   "cell_type": "markdown",
   "metadata": {},
   "source": [
    "## A function with several arguments and one returned quantity\n",
    "\n",
    "This function takes three arguments and returns their sum."
   ]
  },
  {
   "cell_type": "code",
   "execution_count": null,
   "metadata": {
    "collapsed": false
   },
   "outputs": [],
   "source": [
    "def sum_me(a,b,c):\n",
    "    sum = a+b+c\n",
    "    return sum\n",
    "\n",
    "output = sum_me(1,2,3)\n",
    "\n",
    "print(\"output of sum_me() is:\", output)"
   ]
  },
  {
   "cell_type": "markdown",
   "metadata": {},
   "source": [
    "## A function that returns multiple quantities\n",
    "\n",
    "Python allows functions to return multiple quantities.  The quantities returned can be of any type: numbers, strings, lists, arrays, and so on.  You can **either** put all of the returns into a single variable (and can then extract the various returns through indexes) **or** put the returned quantities into one variable per returned quantity.  \n",
    "\n",
    "**Note:** For the purposes of the function below, we're assuming that the input values a, b, and c are all integers - however, think about what might happen if they were some combination of numbers and other quantities (such as strings or lists).  What do you think the function would do?"
   ]
  },
  {
   "cell_type": "code",
   "execution_count": null,
   "metadata": {
    "collapsed": false
   },
   "outputs": [],
   "source": [
    "def more_math(a,b,c):\n",
    "    d = a+b+c  # should be a number\n",
    "    e = [a,b,c]  # should be a list of three numbers\n",
    "    f = str(a) + str(b) + str(c)  # should be a string composed of three characters, each of which is a number\n",
    "    return d,e,f"
   ]
  },
  {
   "cell_type": "code",
   "execution_count": null,
   "metadata": {
    "collapsed": false
   },
   "outputs": [],
   "source": [
    "# put all returns in one variable\n",
    "val1 = more_math(2,4,6)\n",
    "\n",
    "print(\"printing out all returns in one variable:\", val1)\n",
    "print(\"\")  # adds an extra line\n",
    "print(\"getting the second returned quantity:\",val1[1])\n",
    "print(\"\")\n",
    "print(\"second quantity is a list.  Getting one value out of that list:\",val1[1][2])"
   ]
  },
  {
   "cell_type": "code",
   "execution_count": null,
   "metadata": {
    "collapsed": false
   },
   "outputs": [],
   "source": [
    "# put returns in separate variables\n",
    "val2, val3, val4 = more_math(8,10,12)\n",
    "\n",
    "print(\"first return:\", val2)\n",
    "print(\"second return:\", val3)\n",
    "print(\"third return:\", val4)"
   ]
  },
  {
   "cell_type": "markdown",
   "metadata": {},
   "source": [
    "**What do you think happens if you have more than one variable, but not the right number of variables to accept all of the returns?**"
   ]
  },
  {
   "cell_type": "code",
   "execution_count": null,
   "metadata": {
    "collapsed": false
   },
   "outputs": [],
   "source": [
    "val5, val6 = more_math(14,16,18)"
   ]
  },
  {
   "cell_type": "markdown",
   "metadata": {},
   "source": [
    "## A function that has default arguments\n",
    "\n",
    "Python allows you to have functions that have a default value for one or more arguments.  This allows you to call a function with fewer arguments than it is defined to allow (i.e., fewer than the maximum number of possible arguments).  In function definitions of this sort, the mandatory arguments (ones that do not have a default value) must come before the optional arguments (ones that have default values). This can be extremely helpful in many circumstances, and can be called in several ways:\n",
    "\n",
    "1.  Giving only the mandatory argument\n",
    "2.  Giving the mandatory argument plus one of the optional arguments\n",
    "3.  Giving the mandatory argument plus two or more of the optional arguments\n",
    "\n",
    "**There does not need to be a mandatory argument** - all arguments can have defaults!  Note that if you are going to give more than just the mandatory argument, the optional arguments need to be given in the order they are defined.  In other words, you can't just give the mandatory argument and the second optional argument in a function with one mandatory argument and multiple optional arguments - you have to give all arguments up to the one that you want."
   ]
  },
  {
   "cell_type": "code",
   "execution_count": null,
   "metadata": {
    "collapsed": false
   },
   "outputs": [],
   "source": [
    "# this version has one default value\n",
    "\n",
    "def print_stuff(first,second='dog',third='monkey'):\n",
    "    print(first,second,third)"
   ]
  },
  {
   "cell_type": "code",
   "execution_count": null,
   "metadata": {
    "collapsed": false
   },
   "outputs": [],
   "source": [
    "print_stuff('cat')"
   ]
  },
  {
   "cell_type": "code",
   "execution_count": null,
   "metadata": {
    "collapsed": false
   },
   "outputs": [],
   "source": [
    "print_stuff('cat','elephant')"
   ]
  },
  {
   "cell_type": "code",
   "execution_count": null,
   "metadata": {
    "collapsed": false
   },
   "outputs": [],
   "source": [
    "print_stuff('donkey','wolf','mouse')"
   ]
  },
  {
   "cell_type": "code",
   "execution_count": null,
   "metadata": {
    "collapsed": false
   },
   "outputs": [],
   "source": [
    "# this version has no default values!\n",
    "\n",
    "def print_stuff_2(first='fish',second='bird',third='dinosaur'):\n",
    "    print(first,second,third)"
   ]
  },
  {
   "cell_type": "code",
   "execution_count": null,
   "metadata": {
    "collapsed": false
   },
   "outputs": [],
   "source": [
    "print_stuff_2()"
   ]
  },
  {
   "cell_type": "code",
   "execution_count": null,
   "metadata": {
    "collapsed": false
   },
   "outputs": [],
   "source": [
    "print_stuff_2('newt')"
   ]
  },
  {
   "cell_type": "code",
   "execution_count": null,
   "metadata": {
    "collapsed": false
   },
   "outputs": [],
   "source": [
    "print_stuff_2('vole','koala')"
   ]
  },
  {
   "cell_type": "code",
   "execution_count": null,
   "metadata": {
    "collapsed": false
   },
   "outputs": [],
   "source": [
    "print_stuff_2('lion','armadillo','cow')"
   ]
  },
  {
   "cell_type": "markdown",
   "metadata": {},
   "source": [
    "## A function that has keyword arguments\n",
    "\n",
    "Finally, functions can also be called with \"keyword arguments\" that have the form ```keyword=value```.  For example, the function below has one mandatory argument and two keyword arguments.  The mandatory arguments must always be called first, and in the same order that they appear in the function call.  The keyword arguments have to be after that, and can be called in any order.  Note that you don't have to take advantage of the keywords - it's perfectly acceptable to just treat the keyword arguments as arguments with default values (because that's actually what they are!) and just give them in the order they appear in the function call.  For example:"
   ]
  },
  {
   "cell_type": "code",
   "execution_count": null,
   "metadata": {
    "collapsed": true
   },
   "outputs": [],
   "source": [
    "# function with one mandatory argument, two keyword arguments\n",
    "def orbit(mass1, mass2=1.0, distance=17.0):\n",
    "    print(\"mass1:   \", mass1)\n",
    "    print(\"mass2:   \", mass2)\n",
    "    print(\"distance:\", distance)"
   ]
  },
  {
   "cell_type": "code",
   "execution_count": null,
   "metadata": {
    "collapsed": false
   },
   "outputs": [],
   "source": [
    "# just the mandatory argument\n",
    "orbit(3.0)"
   ]
  },
  {
   "cell_type": "code",
   "execution_count": null,
   "metadata": {
    "collapsed": false
   },
   "outputs": [],
   "source": [
    "# two arguments, given in the order they appear in the function call.\n",
    "orbit(3.0,9.0)"
   ]
  },
  {
   "cell_type": "code",
   "execution_count": null,
   "metadata": {
    "collapsed": false
   },
   "outputs": [],
   "source": [
    "# the mandatory argument and one keyword argument\n",
    "orbit(3.0,distance=8.0)"
   ]
  },
  {
   "cell_type": "code",
   "execution_count": null,
   "metadata": {
    "collapsed": false
   },
   "outputs": [],
   "source": [
    "# the mandatory argument and the two keyword arguments given out of order\n",
    "orbit(5.0,distance=3.0,mass2=17.0)"
   ]
  },
  {
   "cell_type": "markdown",
   "metadata": {},
   "source": [
    "### A note about functions with keyword arguments\n",
    "\n",
    "A function with keyword arguments does not need to have any default arguments at all.  For example:"
   ]
  },
  {
   "cell_type": "code",
   "execution_count": null,
   "metadata": {
    "collapsed": true
   },
   "outputs": [],
   "source": [
    "# function with all keyword arguments\n",
    "def orbit_new(mass1=3.0, mass2=1.0, distance=17.0):\n",
    "    print(\"mass1:   \", mass1)\n",
    "    print(\"mass2:   \", mass2)\n",
    "    print(\"distance:\", distance)"
   ]
  },
  {
   "cell_type": "code",
   "execution_count": null,
   "metadata": {
    "collapsed": false
   },
   "outputs": [],
   "source": [
    "orbit_new()"
   ]
  },
  {
   "cell_type": "code",
   "execution_count": null,
   "metadata": {
    "collapsed": false
   },
   "outputs": [],
   "source": [
    "orbit_new(distance=9.0)"
   ]
  },
  {
   "cell_type": "code",
   "execution_count": null,
   "metadata": {
    "collapsed": false
   },
   "outputs": [],
   "source": [
    "orbit_new(distance=5.0,mass1=81.0)"
   ]
  },
  {
   "cell_type": "code",
   "execution_count": null,
   "metadata": {
    "collapsed": false
   },
   "outputs": [],
   "source": [
    "orbit_new(distance=5.0,mass2=0.7,mass1=81.0)"
   ]
  }
 ],
 "metadata": {
  "kernelspec": {
   "display_name": "Python 3",
   "language": "python",
   "name": "python3"
  },
  "language_info": {
   "codemirror_mode": {
    "name": "ipython",
    "version": 3
   },
   "file_extension": ".py",
   "mimetype": "text/x-python",
   "name": "python",
   "nbconvert_exporter": "python",
   "pygments_lexer": "ipython3",
   "version": "3.5.1"
  }
 },
 "nbformat": 4,
 "nbformat_minor": 0
}
