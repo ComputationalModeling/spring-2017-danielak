{
 "cells": [
  {
   "cell_type": "markdown",
   "metadata": {},
   "source": [
    "# Homework #4 - implementing the simple 2D Schelling model\n",
    "\n",
    "In this homework assignment, we're going to build upon our in-class experiments with Nicky Case's [Parable of the Polygons](http://ncase.me/polygons/), which is a 2D version of the Schelling model we've been working on in class.  You'll also want to look at the 2D Numpy array tutorial that we have provided!"
   ]
  },
  {
   "cell_type": "markdown",
   "metadata": {},
   "source": [
    "## Your name"
   ]
  },
  {
   "cell_type": "markdown",
   "metadata": {},
   "source": [
    "Put your name here!"
   ]
  },
  {
   "cell_type": "markdown",
   "metadata": {},
   "source": [
    "## Section 1: The simple 2D Schelling model"
   ]
  },
  {
   "cell_type": "markdown",
   "metadata": {},
   "source": [
    "In this section, you will implement a simple version of the 2D Schelling model.  Create a 2D Numpy array that is 20x20 cells.  In our implementation, the number 0 will represent an empty cell, 1 will represent a triangle, and 2 will represent a square.  Initialize the array with approximately 1/3 empty cells, 1/3 triangles, and 1/3 squares, all of which are placed in random cells.  Then, evolve this model using the following rules:\n",
    "\n",
    "* Neighbors are defined as polygons that are in any cell that's immediately adjacent (either left/right/up/down or diagonal) to a given polygon.\n",
    "* A polygon (triangle or square) is **happy** if at least 1/3 of its neighbors are like it\n",
    "* A polygon is **meh** if all of its neighbors are like it, or if it has no neighbors.\n",
    "* A polygon is considered to be **segregated** if all of its neighbors are like it, or if it has no neighbors.  The \"segregation measure\" is the fraction of polygons that are considered to be segregated.\n",
    "\n",
    "First, plot your initial setup so that it's clear which polygons are which.  Then, evolve the board forward by randomly selecting a single *unhappy* polygon and moving it to an empty cell.  Continue doing so until every polygon is either *meh* or *happy*.  Keep track of how your segregation index evolves with each step, as well as the fraction of polygons that are *meh* and *happy*.  Finally, plot both the board and (separately), the evolution of the segregation, meh fraction, and happy fraction over time.\n",
    "\n",
    "**IMPORTANT NOTE:** Create functions that do the tasks that are complex or that you will need to do repeatedly, such as creating the initial array, determining if polygons are sad/meh/happy, moving polygons, and calculating segregation.  Also put comments in your code to indicate what it is you're doing, and make sure these comments are both clear and easy to read!"
   ]
  },
  {
   "cell_type": "code",
   "execution_count": null,
   "metadata": {
    "collapsed": true
   },
   "outputs": [],
   "source": [
    "# put your code here.  Add additional cells as necessary!\n",
    "\n",
    "\n"
   ]
  },
  {
   "cell_type": "markdown",
   "metadata": {},
   "source": [
    "## Section 2:  Some questions relating to this model"
   ]
  },
  {
   "cell_type": "markdown",
   "metadata": {},
   "source": [
    "**Question 1:** How would you change your code so that the fraction of cells that was empty, triangle, and square could be specified by the user?"
   ]
  },
  {
   "cell_type": "markdown",
   "metadata": {},
   "source": [
    "put your answer here!"
   ]
  },
  {
   "cell_type": "markdown",
   "metadata": {},
   "source": [
    "**Question 2:** How would you change your code so that the conditions for happiness were different - in other words, if the polygons were happy if at least some arbitrary fraction of their nieghbors, $f_{like}$, were like them, and if a second fraction, $f_{unlike}$, were unlike them?"
   ]
  },
  {
   "cell_type": "markdown",
   "metadata": {},
   "source": [
    "put your answer here!"
   ]
  },
  {
   "cell_type": "markdown",
   "metadata": {},
   "source": [
    "**Question 3:** Does using functions to create this model make it less easy, or easier, to make these sorts of changes?  Explain your answer."
   ]
  },
  {
   "cell_type": "markdown",
   "metadata": {},
   "source": [
    "put your answer here!"
   ]
  },
  {
   "cell_type": "markdown",
   "metadata": {},
   "source": [
    "----\n",
    "\n",
    "## Section 3: Feedback (required!)"
   ]
  },
  {
   "cell_type": "markdown",
   "metadata": {},
   "source": [
    "## How long did you spend on the homework?"
   ]
  },
  {
   "cell_type": "markdown",
   "metadata": {},
   "source": [
    "Write your answer here"
   ]
  },
  {
   "cell_type": "markdown",
   "metadata": {},
   "source": [
    "## What questions do you have after this assignment?"
   ]
  },
  {
   "cell_type": "markdown",
   "metadata": {},
   "source": [
    "Write your answer here"
   ]
  },
  {
   "cell_type": "markdown",
   "metadata": {},
   "source": [
    "----\n",
    "\n",
    "# Congratulations, you're done!\n",
    "\n",
    "## How to submit this assignment\n",
    "\n",
    "Log into the course Desire2Learn website (d2l.msu.edu) and go to the \"Homework assignments\" folder.  There will be a dropbox labeled \"Homework 4\".  Upload this notebook there. "
   ]
  }
 ],
 "metadata": {
  "kernelspec": {
   "display_name": "Python 3",
   "language": "python",
   "name": "python3"
  },
  "language_info": {
   "codemirror_mode": {
    "name": "ipython",
    "version": 3
   },
   "file_extension": ".py",
   "mimetype": "text/x-python",
   "name": "python",
   "nbconvert_exporter": "python",
   "pygments_lexer": "ipython3",
   "version": "3.5.1"
  }
 },
 "nbformat": 4,
 "nbformat_minor": 0
}
