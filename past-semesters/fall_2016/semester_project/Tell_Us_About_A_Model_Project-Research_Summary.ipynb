{
 "cells": [
  {
   "cell_type": "markdown",
   "metadata": {},
   "source": [
    "# \"Tell us about a model\" project - research summary"
   ]
  },
  {
   "cell_type": "markdown",
   "metadata": {},
   "source": [
    "## Your name"
   ]
  },
  {
   "cell_type": "markdown",
   "metadata": {},
   "source": [
    "// put your name here"
   ]
  },
  {
   "cell_type": "markdown",
   "metadata": {},
   "source": [
    "## Goals for this assignment\n",
    "\n",
    "For your semester project, you have been asked to find a computational model that is interesting to you, and that you think you understand reasonably well now that you have taken this course.  At the end of the semester, you will be asked to give a short presentation to the class describing this model, its underlying numerical algorithms, its connections to class, and ways that one can identify whether this is a good model or not (where \"good\" means that it reasonably describes the phenomenon that it's trying to model).\n",
    "\n",
    "**The point of this assignment** is to get you to do some in-depth research and to think  about the model that you have chosen, examples that you will use to explain it, and how it connects to class.  This will help you to think through the model, and will also provide source material for your presentation!\n",
    "\n",
    "## Questions\n",
    "\n",
    "**Describe the model** that you chose in more detail by answering the questions below. Make sure to put references to relevant web pages, articles, etc. in your answers - this is an important part of the project, and will significantly affect your grade!  You can add links by using this syntax:\n",
    "\n",
    "```\n",
    "[text](URL)\n",
    "```\n",
    "\n",
    "**Question 1:**  What is the purpose of this model? What is it used for, and why should I care?  What are the kinds of questions that this model would be used to answer?"
   ]
  },
  {
   "cell_type": "markdown",
   "metadata": {},
   "source": [
    "Put your answer here!"
   ]
  },
  {
   "cell_type": "markdown",
   "metadata": {},
   "source": [
    "**Question 2:**  How does the model work?  What are the numerical algorithms that underly the model?"
   ]
  },
  {
   "cell_type": "markdown",
   "metadata": {},
   "source": [
    "Put your answer here!"
   ]
  },
  {
   "cell_type": "markdown",
   "metadata": {},
   "source": [
    "**Question 3:**  What are the model inputs and outputs?  What goes into the model, and what comes out? "
   ]
  },
  {
   "cell_type": "markdown",
   "metadata": {},
   "source": [
    "Put your answer here!"
   ]
  },
  {
   "cell_type": "markdown",
   "metadata": {},
   "source": [
    "**Question 4:**  How does this model connect to what we've done in class?  Connect it to the methods you've learned about in modeling and data analysis."
   ]
  },
  {
   "cell_type": "markdown",
   "metadata": {},
   "source": [
    "Put your answer here!"
   ]
  },
  {
   "cell_type": "markdown",
   "metadata": {},
   "source": [
    "**Question 5:** If I were using this model, what sort of data would I compare it to in order to decide if it's a good model or a bad model?\n",
    "\n"
   ]
  },
  {
   "cell_type": "markdown",
   "metadata": {},
   "source": [
    "Put your answer here!"
   ]
  },
  {
   "cell_type": "markdown",
   "metadata": {},
   "source": [
    "**What resources** have you used to find information about your model?  Put links to web pages, papers, etc. below and include some text describing why you chose each link, what useful information it has, and why you believe that it's a credible source.  You should use the syntax described in the previous question."
   ]
  },
  {
   "cell_type": "markdown",
   "metadata": {},
   "source": [
    "Put your answer here!"
   ]
  },
  {
   "cell_type": "markdown",
   "metadata": {},
   "source": [
    "**What graphics, images, or animations** can you use to demonstrate to the other students in this class how the model works and how it is compared to data?  Please provide links, and describe why you think that these visualizations are useful to make the points that you wish to make."
   ]
  },
  {
   "cell_type": "markdown",
   "metadata": {},
   "source": [
    "Put your answer here!"
   ]
  },
  {
   "cell_type": "markdown",
   "metadata": {},
   "source": [
    "**What questions do you still have about your model** now that you've spent some time doing research?"
   ]
  },
  {
   "cell_type": "markdown",
   "metadata": {},
   "source": [
    "Put your answer here!"
   ]
  },
  {
   "cell_type": "markdown",
   "metadata": {},
   "source": [
    "----\n",
    "\n",
    "# Congratulations, you're done!\n",
    "\n",
    "## How to submit this assignment\n",
    "\n",
    "Log into the course Desire2Learn website (d2l.msu.edu) and go to the \"Semester Project\" folder.  There will be a dropbox labeled \"Research summary\".  Upload this notebook there. "
   ]
  }
 ],
 "metadata": {
  "kernelspec": {
   "display_name": "Python 3",
   "language": "python",
   "name": "python3"
  },
  "language_info": {
   "codemirror_mode": {
    "name": "ipython",
    "version": 3
   },
   "file_extension": ".py",
   "mimetype": "text/x-python",
   "name": "python",
   "nbconvert_exporter": "python",
   "pygments_lexer": "ipython3",
   "version": "3.5.1"
  }
 },
 "nbformat": 4,
 "nbformat_minor": 0
}
