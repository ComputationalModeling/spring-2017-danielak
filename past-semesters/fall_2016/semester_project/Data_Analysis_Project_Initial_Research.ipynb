{
 "cells": [
  {
   "cell_type": "markdown",
   "metadata": {},
   "source": [
    "# Data analysis project - initial research\n"
   ]
  },
  {
   "cell_type": "markdown",
   "metadata": {},
   "source": [
    "## Your name"
   ]
  },
  {
   "cell_type": "markdown",
   "metadata": {},
   "source": [
    "// put your name here"
   ]
  },
  {
   "cell_type": "markdown",
   "metadata": {},
   "source": [
    "## Goals for this assignment\n",
    "\n",
    "For your data analysis project, you have been asked to find and analyze a publicly-available dataset, and to use that analysis to answer questions asked of the data.\n",
    "\n",
    "**The point of this assignment** is to give you in-depth experience working with a dataset, coming up with questions, and doing data analysis and visualization to answer those questions.  In two weeks you'll be asked to turn in some preliminary analysis, and two weeks after that the final analysis.\n",
    "\n",
    "You first need to find two public datasets, and identify some questions that you can answer with those datasets.  Some places that you can look are:\n",
    "\n",
    "- [Data.gov - Federal](http://www.data.gov)\n",
    "- [Data.gov - State of Michigan](http://data.michigan.gov)\n",
    "- [Kaggle](http://kaggle.com)\n",
    "- [Data.world](http://data.world)\n",
    "- [A large list of public datasets](https://github.com/caesar0301/awesome-public-datasets)\n",
    "\n",
    "\n",
    "## Questions\n",
    "\n",
    "\n",
    "**Briefly describe** the two datasets that you presented to your group (a sentence or two for each, including a link to where you found the datasets and the kinds of questions that you might ask of each dataset).  Which dataset are you going to analyze, and why did you choose that one?"
   ]
  },
  {
   "cell_type": "markdown",
   "metadata": {},
   "source": [
    "// put your answer here!"
   ]
  },
  {
   "cell_type": "markdown",
   "metadata": {},
   "source": [
    "**Describe the dataset** that you chose in more detail (i.e., the winner of the two you were thinking about).  In particular, talk about:\n",
    "\n",
    "1. What is this a dataset *of*?  In other words, what information is contained in the dataset?\n",
    "2. Why did you choose this dataset?  In other words, what interests you about it?\n",
    "3. What are the questions that you would like to answer with this data?  (this is non-binding - you can answer different questions once you've started analyzing the data)\n",
    "\n",
    "Make sure to put references to relevant web pages, articles, etc. in your answers - this is an important part of the project, and will significantly affect your grade!  You can add links either by putting the URL in directly (i.e., www.google.com) or by using this syntax:\n",
    "\n",
    "```\n",
    "[text](URL)\n",
    "```\n",
    "\n",
    "(note that this latter method is preferred for long URLs)."
   ]
  },
  {
   "cell_type": "markdown",
   "metadata": {},
   "source": [
    "// put your answer here!"
   ]
  },
  {
   "cell_type": "markdown",
   "metadata": {},
   "source": [
    "**What questions do you still have about your dataset** now that you've spent some time doing research?"
   ]
  },
  {
   "cell_type": "markdown",
   "metadata": {},
   "source": [
    "// put your answer here!"
   ]
  },
  {
   "cell_type": "markdown",
   "metadata": {},
   "source": [
    "----\n",
    "\n",
    "# Congratulations, you're done!\n",
    "\n",
    "## How to submit this assignment\n",
    "\n",
    "Log into the course Desire2Learn website (d2l.msu.edu) and go to the \"Semester Project\" folder.  There will be a dropbox labeled \"Initial research summary\".  Upload this notebook there. "
   ]
  }
 ],
 "metadata": {
  "kernelspec": {
   "display_name": "Python 3",
   "language": "python",
   "name": "python3"
  },
  "language_info": {
   "codemirror_mode": {
    "name": "ipython",
    "version": 3
   },
   "file_extension": ".py",
   "mimetype": "text/x-python",
   "name": "python",
   "nbconvert_exporter": "python",
   "pygments_lexer": "ipython3",
   "version": "3.5.1"
  }
 },
 "nbformat": 4,
 "nbformat_minor": 0
}
