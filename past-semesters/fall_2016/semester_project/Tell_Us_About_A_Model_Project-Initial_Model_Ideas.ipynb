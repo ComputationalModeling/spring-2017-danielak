{
 "cells": [
  {
   "cell_type": "markdown",
   "metadata": {},
   "source": [
    "# \"Tell us about a model\" project - initial ideas"
   ]
  },
  {
   "cell_type": "markdown",
   "metadata": {},
   "source": [
    "## Your name"
   ]
  },
  {
   "cell_type": "markdown",
   "metadata": {},
   "source": [
    "// put your name here"
   ]
  },
  {
   "cell_type": "markdown",
   "metadata": {},
   "source": [
    "## Goals for this assignment\n",
    "\n",
    "For the modeling component of your semester project, you have been asked to find a computational model that is interesting to you (either because of your major or your personal interests), and that you think you understand reasonably well now that you have taken this course.  In a few weeks you will be asked to give a short presentation to the class describing this model, its underlying numerical algorithms, its connections to class, and ways that one can identify whether this is a good model or not.\n",
    "\n",
    "**The point of this specific assignment** is for you to find two models and think about how they work and how they connect to what you've learned in class.  After you summarize these two models, you'll present them to your groupmates, get feedback, and then choose which of the two you are going to do more in-depth research on.\n",
    "\n",
    "## The assignment\n",
    "\n",
    "Spend some time finding two models that interest you.  Use Google, journal articles, textbooks, the course staff, and other instructors as resources!\n",
    "\n",
    "**Briefly describe** the two models that you are thinking about in the spaces below.  In particular, briefly summarize:\n",
    "\n",
    "1. The purpose of the model.  What is it used for?  (In other words, why should we care?)\n",
    "2. How does the model work?  In other words, what are the numerical algorithms that underly the model?\n",
    "3. How does it connect to what we've done in class?\n",
    "4. If I were using this model, what sort of data would I compare it to in order to decide if it's a good model or a bad model?"
   ]
  },
  {
   "cell_type": "markdown",
   "metadata": {},
   "source": [
    "**Model 1:**"
   ]
  },
  {
   "cell_type": "markdown",
   "metadata": {},
   "source": [
    "Put your description here!"
   ]
  },
  {
   "cell_type": "markdown",
   "metadata": {},
   "source": [
    "**Model 2:**"
   ]
  },
  {
   "cell_type": "markdown",
   "metadata": {},
   "source": [
    "Put your description here!"
   ]
  },
  {
   "cell_type": "markdown",
   "metadata": {},
   "source": [
    "----\n",
    "\n",
    "# Congratulations, you're done!\n",
    "\n",
    "## How to submit this assignment\n",
    "\n",
    "Log into the course Desire2Learn website (d2l.msu.edu) and go to the \"Semester Project\" folder.  There will be a dropbox labeled \"Initial model ideas\".  Upload this notebook there. "
   ]
  }
 ],
 "metadata": {
  "kernelspec": {
   "display_name": "Python 3",
   "language": "python",
   "name": "python3"
  },
  "language_info": {
   "codemirror_mode": {
    "name": "ipython",
    "version": 3
   },
   "file_extension": ".py",
   "mimetype": "text/x-python",
   "name": "python",
   "nbconvert_exporter": "python",
   "pygments_lexer": "ipython3",
   "version": "3.5.1"
  }
 },
 "nbformat": 4,
 "nbformat_minor": 0
}
