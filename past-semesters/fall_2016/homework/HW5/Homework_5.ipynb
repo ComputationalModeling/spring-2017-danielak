{
 "cells": [
  {
   "cell_type": "markdown",
   "metadata": {},
   "source": [
    "# Homework \\#5\n",
    "\n",
    "This notebook is due on **Friday, December 9th, 2016 at 11:59 p.m.**.  Please make sure to get started early, and come by the instructors' office hours if you have any questions.  Office hours and locations can be found in the course syllabus.  **IMPORTANT:** While it's fine if you talk to other people in class about this homework - and in fact we encourage it! - you are responsible for creating the  solutions for this homework on your own, and each student must submit their own homework assignment.\n"
   ]
  },
  {
   "cell_type": "markdown",
   "metadata": {},
   "source": [
    "**FOR THIS HOMEWORK:** In addition to the correctness of your answers, we will be grading you on:\n",
    "\n",
    "1. The quality of your code\n",
    "2. The correctness of your code\n",
    "3. Whether your code runs.\n",
    "\n",
    "To that end:\n",
    "\n",
    "1. Code quality: make sure that you use functions whenever possible, use descriptive variable names, and use comments to explain what your code does as well as function properties (including what arguments they take, what they do, and what they return).\n",
    "2. Whether your code runs: prior to submitting your homework assignment, re-run the entire notebook and test it.  Go to the \"kernel\" menu, select \"Restart\", and then click \"clear all outputs and restart.\"  Then, go to the \"Cell\" menu and choose \"Run all\" to ensure that your code produces the correct results.  **We will take off points for code that does not work correctly when we run it!**."
   ]
  },
  {
   "cell_type": "markdown",
   "metadata": {},
   "source": [
    "## Your name"
   ]
  },
  {
   "cell_type": "markdown",
   "metadata": {},
   "source": [
    "Put your name here!"
   ]
  },
  {
   "cell_type": "markdown",
   "metadata": {},
   "source": [
    "----\n",
    "\n",
    "# Section 1:  Open the parachute!\n",
    "\n",
    "Emboldened by his success in parachuting from a helicopter that's hovering in place, your professor has decided to start jumping from actual moving airplanes.  In this section, we're going to model the behavior of a skydiver that is jumping from a moving plane and opening their parachute at some point above the ground.  Your professor has requested your help in trying to figure out where he is going to land, knowing some basic information about how high above the ground he is and how fast he's going when he jumps out of the plane.\n",
    "\n",
    "## Some background that we need for this model\n",
    "\n",
    "### Position, velocity, and acceleration \n",
    "\n",
    "An object's position ($\\vec{x}$) and velocity ($\\vec{v}$) evolve according to a straightforward set of mathematical rules:\n",
    "\n",
    "$\\vec{x} = \\vec{x}_0 + \\int_0^t \\vec{v} dt$\n",
    "\n",
    "$\\vec{v} = \\vec{v}_0 + \\int_0^t \\vec{a} dt$\n",
    "\n",
    "$\\vec{a} = \\frac{d\\vec{v}}{dt} = \\frac{1}{m}\\sum \\vec{F}$\n",
    "\n",
    "Note that $\\vec{a}$ is the acceleration, m is the mass of the skydiver, and $\\sum \\vec{F}$ are the sum of all of the forces acting on the sky diver.  $\\vec{x}_0$ and $\\vec{v}_0$ are the position and velocity at $t=0$, respectively.  The little arrows on top of letters indicate *vector quantities* - i.e., quantities that have direction as well as magnitude.  With vector quantities, you can separate the components and solve them independently - for example, you only need to know the x-velocity to calculate the x-position (though ultimately you may need some quantities that need information from both - you need the speed, which includes x- and y-velocity, to calculate the acceleration due to air resistance).  In the last term of the third equation, the sum is over all forces acting on the object (i.e., the sky diver).  \n",
    "\n",
    "### Forces acting on the sky diver\n",
    "\n",
    "The forces acting on the object are gravity, which points downward with a magnitude of $g=9.81$m s$^{-2}$, and air resistance, which can be written as:\n",
    "\n",
    "$\\vec{F}_{air} = -\\frac{1}{2} C \\rho A v^2 \\hat{v}$\n",
    "\n",
    "Where C is a constant corresponding to the shape of the object ($C=0.47$ for a sphere, $C=2.0$ for a parachute), $\\rho$ is the density of the atmosphere, 1.2 kg/m$^3$, A is the cross-sectional area of the object, v is the magnitude of the velocity, and $\\hat{v}$ is the unit vector of the velocity.  Note the minus sign - this means that the force of air resistance always opposes the motion of the object, regardless of its direction.\n",
    "\n",
    "## The model\n",
    "\n",
    "Your task is to create a code that implements the equations presented above to model the position and velocity of the sky diver as a function of time, assuming the sky diver jumps out of the plane at some height above the ground Y and traveling at some horizontal speed V, and that the parachute opens at some time T.  You have been provided a function that calculates the acceleration on the sky diver due to both air resistance and gravity; you need to write a function that takes in the height at which sky diver jumps out of the plane, his initial horizontal speed, and the time that the parachute opens, and returns the sky diver's position and velocity over time (so position, velocity, and time).  **Assume that the sky diver jumps out of the plane 2,000 meters above the ground while traveling at 50 m/s in the horizontal direction, and pulls the rip cord when he is 500 meters above the ground.**\n",
    "\n",
    "**After you create the model,** plot the sky diver's horizontal and vertical position and velocity as a function of time.  Assuming that he jumps out of the plane at $t=0$ and $x=0$, how far does he land from the place he jumped out of the plane (in terms of horizontal distance), and at what time does he reach the ground?"
   ]
  },
  {
   "cell_type": "markdown",
   "metadata": {},
   "source": [
    "**PUT YOUR ANSWSERS TO THE QUESTIONS HERE!**  (And put your plots below, after your model)"
   ]
  },
  {
   "cell_type": "code",
   "execution_count": null,
   "metadata": {
    "collapsed": true
   },
   "outputs": [],
   "source": [
    "%matplotlib inline\n",
    "import matplotlib.pyplot as plt\n",
    "import numpy as np\n",
    "import math \n",
    "\n",
    "def calc_accel(velocity, parachute_open=False, use_resistance=True):\n",
    "    '''\n",
    "    This function calculates and returns the acceleration vector \n",
    "    for a sky diver, given an input velocity.  You can indicate whether the \n",
    "    parachute is open or not (which affects the air resistance). Optionally,\n",
    "    you can turn on and off air resistance for comparison purposes with\n",
    "    resistance=True or False.  \n",
    "    \n",
    "    Inputs are velocity, a Boolean argument indicating if the parachute is open \n",
    "    (default False, so the parachute is assumed to be closed), and a Boolean argument\n",
    "    indicating if air resistance is to be used.  \n",
    "    \n",
    "    Output is a 2-element numpy array that indicates velocity.\n",
    "    \n",
    "    Note 1: inputs and outputs are in SI units - meters per second for \n",
    "    velocity and meters per second^2 for acceleration. \n",
    "    \n",
    "    Note 2: both input velocity and returned acceleration are 2-element\n",
    "    numpy arrays, with the horizontal (x) direction in the first element \n",
    "    and vertical (y) direction in the second element of the array.\n",
    "    '''\n",
    "    \n",
    "    C_diver = 0.47  # skydiver, parachute closed\n",
    "    C_chute = 1.0   # skydiver, parachute open\n",
    "    rho_air = 1.225     # kg/m^3\n",
    "    mass_obj = 100.0  # mass of skydiver in kg, including all gear\n",
    "    \n",
    "    # speed = magnitude of velocity vector\n",
    "    speed = (velocity[0]**2 + velocity[1]**2)**0.5\n",
    "\n",
    "    accel_vector = np.zeros(2)\n",
    "    \n",
    "    # if we have air resistance turned on, compute the force due to air \n",
    "    # resistance and add it to the acceleration.\n",
    "    if use_resistance==True:\n",
    "        \n",
    "        '''\n",
    "        Depending on whether the parachute is open or not, \n",
    "        that radically changes our air resistance!  Check to\n",
    "        see if parachute's open and set parameters accordingly.\n",
    "        '''\n",
    "        if parachute_open==True:\n",
    "            rad_obj = 3.0\n",
    "            C_obj = C_chute\n",
    "        else:\n",
    "            rad_obj = 0.75\n",
    "            C_obj = C_diver\n",
    "        \n",
    "        '''\n",
    "        Calculates acceleration due to air resistance\n",
    "        |F_air| = 0.5 * C * rho * A * v^2\n",
    "        C = constant based on shape\n",
    "        rho = density of air\n",
    "        A = cross-sectional area (depends on whether parachute is open or closed)\n",
    "        v = speed (magnitude of velocity)\n",
    "        Note that we calculate the magnitude in the first step and turn it into a vector in the second step.\n",
    "        '''\n",
    "\n",
    "        accel_air_resist = -0.5 * (C_obj/mass_obj) * rho_air * math.pi * rad_obj**2 * speed**2\n",
    "\n",
    "        # turn this into a vector quantity - velocity[0]/speed gives x-component of velocity unit vector\n",
    "        # and velocity[1]/speed gives y-component of velocity unit vector\n",
    "        accel_vector[0] += accel_air_resist*velocity[0]/speed\n",
    "        accel_vector[1] += accel_air_resist*velocity[1]/speed\n",
    "\n",
    "        # quick check to make sure that the acceleration magnitude isn't too ridiculous\n",
    "        # (this is for numerical stability, and is a slight hack.  Forgive me!)\n",
    "        accel_mag = (accel_vector[0]**2 + accel_vector[1]**2)**0.5\n",
    "        max_accel = 40.0\n",
    "        if accel_mag > max_accel:\n",
    "            accel_vector[0] *= max_accel / accel_mag\n",
    "            accel_vector[1] *= max_accel / accel_mag\n",
    "        \n",
    "    # we always have gravity, which always points downward.\n",
    "    accel_vector[1] -= 9.81\n",
    "    \n",
    "    return accel_vector"
   ]
  },
  {
   "cell_type": "code",
   "execution_count": null,
   "metadata": {
    "collapsed": true
   },
   "outputs": [],
   "source": [
    "# Put your model here.  Add additional cells if necessary!\n",
    "\n"
   ]
  },
  {
   "cell_type": "code",
   "execution_count": null,
   "metadata": {
    "collapsed": false
   },
   "outputs": [],
   "source": [
    "# Put the code that generates your plots here.  Add additional cells if necessary!\n",
    "\n"
   ]
  },
  {
   "cell_type": "markdown",
   "metadata": {},
   "source": [
    "----\n",
    "\n",
    "## Section 2:  Fire!  Fire!\n",
    "\n",
    "In this part of the homework, we're going to extend our fire model to make it more realistic.  This model, like all models, makes a variety of simplifying assumptions.  One that is particularly important is that there are many factors that affect the spread of fire in a forest, such as wind, the type of wood, the amount of dead underbrush, and even how close the branches of adjoining trees are to each other.\n",
    "\n",
    "Given that there are so many possible complications, we're going to make a small modification of our model to take all of these uncertainties into account.  We know that it's not certain that fire will spread, but we don't know exactly what that probability is.  So, we're going to make this a new parameter for our system, called `prob_spread`.  By experimenting with values of `prob_spread` (which is a fraction that should vary between 0 and 1), we can see what effect the probability of the fire spreading from cell to cell has on the overall spread of the fire.\n",
    "\n",
    "**The plan:** Modify the fire model you developed in class as follows.  In the original model, if a cell has trees and an adjacent cell is on fire, that cell automatically catches on fire in the next turn.  Now, instead of it automatically catchin on fire, you generate a random number and compare it to `prob_spread`.  If the number is smaller than `prob_spread`, the trees catch on fire.\n",
    "\n",
    "**Question:** In the original model, you see a rapid transition in the amount of the forest that catches on fire when more than approximately 59% of cells are occupied by trees (this is referred to as the \"tipping point\" or \"critical threshold\").  As you try different values of `prob_spread` (say, values of 0.1 to 1.0 by steps of 0.1), how does the behavior differ from the standard model?  At what value of `prob_spread` is it essentially indistinguishable from the standard model?  Answer the question below, and support your answer with plots!"
   ]
  },
  {
   "cell_type": "markdown",
   "metadata": {},
   "source": [
    "**Put your answer here!**"
   ]
  },
  {
   "cell_type": "code",
   "execution_count": null,
   "metadata": {
    "collapsed": true
   },
   "outputs": [],
   "source": [
    "# Put your model here. Add additional cells if necessary.\n",
    "\n"
   ]
  },
  {
   "cell_type": "code",
   "execution_count": null,
   "metadata": {
    "collapsed": false
   },
   "outputs": [],
   "source": [
    "# Put the code that generates your plots here.  Add additional cells if necessary.\n",
    "\n"
   ]
  },
  {
   "cell_type": "markdown",
   "metadata": {},
   "source": [
    "----\n",
    "\n",
    "## Section 3: Feedback (required!)"
   ]
  },
  {
   "cell_type": "code",
   "execution_count": null,
   "metadata": {
    "collapsed": false
   },
   "outputs": [],
   "source": [
    "from IPython.display import HTML\n",
    "HTML(\n",
    "\"\"\"\n",
    "<iframe\n",
    "    src=\"https://goo.gl/forms/OU4CVKhXdrdTGVVx1?embedded=true\" \n",
    "    width=\"80%\" \n",
    "    height=\"1200px\" \n",
    "    frameborder=\"0\" \n",
    "    marginheight=\"0\" \n",
    "    marginwidth=\"0\">\n",
    "    Loading...\n",
    "</iframe>\n",
    "\"\"\"\n",
    ")"
   ]
  },
  {
   "cell_type": "markdown",
   "metadata": {},
   "source": [
    "----\n",
    "\n",
    "# Congratulations, you're done!\n",
    "\n",
    "## How to submit this assignment\n",
    "\n",
    "Log into the course Desire2Learn website (d2l.msu.edu) and go to the \"Homework assignments\" folder.  There will be a dropbox labeled \"Homework 5\".  Upload this notebook there. "
   ]
  }
 ],
 "metadata": {
  "anaconda-cloud": {},
  "kernelspec": {
   "display_name": "Python 3",
   "language": "python",
   "name": "python3"
  },
  "language_info": {
   "codemirror_mode": {
    "name": "ipython",
    "version": 3
   },
   "file_extension": ".py",
   "mimetype": "text/x-python",
   "name": "python",
   "nbconvert_exporter": "python",
   "pygments_lexer": "ipython3",
   "version": "3.5.1"
  }
 },
 "nbformat": 4,
 "nbformat_minor": 0
}
