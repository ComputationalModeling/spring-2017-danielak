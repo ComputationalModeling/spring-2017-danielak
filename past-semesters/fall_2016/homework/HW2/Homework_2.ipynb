{
 "cells": [
  {
   "cell_type": "markdown",
   "metadata": {},
   "source": [
    "# Homework \\#2\n",
    "\n",
    "This notebook is due on **Friday, October 7th, 2016 at 11:59 p.m.**.  Please make sure to get started early, and come by the instructors' office hours if you have any questions.  Office hours and locations can be found in the course syllabus.  **IMPORTANT:** While it's fine if you talk to other people in class about this homework - and in fact we encourage it! - you are responsible for creating the  solutions for this homework on your own, and each student must submit their own homework assignment.\n",
    "\n",
    "**Some links that you may find helpful:**\n",
    "\n",
    "* [Markdown tutorial](https://guides.github.com/features/mastering-markdown/)\n",
    "* The [Pandas website](http://pandas.pydata.org/)\n",
    "* [The Pandas tutorial](http://pandas.pydata.org/pandas-docs/stable/tutorials.html)\n",
    "* [10-minute Panda Tutorial](http://pandas.pydata.org/pandas-docs/stable/10min.html)\n",
    "* [All CMSE 201 YouTube videos](https://www.youtube.com/playlist?list=PLqPfbT7gwVP-xvbZMFKlFIOEaVlEP_M2e)\n"
   ]
  },
  {
   "cell_type": "markdown",
   "metadata": {},
   "source": [
    "## Your name"
   ]
  },
  {
   "cell_type": "markdown",
   "metadata": {},
   "source": [
    "Put your name here!"
   ]
  },
  {
   "cell_type": "markdown",
   "metadata": {},
   "source": [
    "----\n",
    "\n",
    "## Section 1: Radioactivity wrapup"
   ]
  },
  {
   "cell_type": "markdown",
   "metadata": {},
   "source": [
    "In this part of the homework, we're going to finish what we started regarding modeling the count rate of radioactive data that you worked wtih in class, to try to estimate the strength of the radioactive background that was seen in the radioactive count rates.\n",
    "\n",
    "In class, we discussed that for radioactive material with an initial amount $N_0$ and a half life $t_{1/2}$, the amount left after time t is $N(t) = N_0 2^{-t/t_{1/2}}$.  The expected radioactive decay rate is then:\n",
    "\n",
    "$\\mathrm{CR}(t) = - \\frac{dN}{dt} = \\frac{N_0 \\ln 2}{t_{1/2}}2^{-t/t_{1/2}}$\n",
    "\n",
    "However, the data doesn't agree well with this - there's something contaminating our count rate data that's causing a radioactive \"background\" that is approximately constant with time.  A better estimate of the count rates is more like:\n",
    "\n",
    "$\\mathrm{CR}(t) = \\mathrm{CR}_{\\mathrm{S}}(t) + \\mathrm{CR}_{\\mathrm{BG}}$\n",
    "\n",
    "where $\\mathrm{CR}_{\\mathrm{S}}(t)$ is the count rate from the sample, which has the shape expected above, and $\\mathrm{CR}_{\\mathrm{BG}}$ is the count rate from the radioactive background.\n",
    "\n",
    "We're now going to try to figure out the values that go into the expressions for $\\mathrm{CR}_{\\mathrm{S}}(t)$ and $\\mathrm{CR}_{\\mathrm{BG}}$ by using the data.  What you're going to do is:\n",
    "\n",
    "1. \"Smooth\" the decay rate data over N adjacent samples in time to get rid of some of the noise.  Try writing a piece of code to loop over the array of data and average the sample you're interested in along with the N samples on either side (i.e., from element i-N to i+N, for an arbitrary number of cells).  Store this smoothed data in a new array (perhaps using ``np.zeros_like()`` to create the new array?).\n",
    "2. Plot your smoothed data on top of the noisy data to ensure that it agrees.\n",
    "3. Create a new array with the analytic equation from above that describes for the decay rate as a function of time, taking into account what you're seeing in point (2), and try to find the values of the various constants in the equation.  Plot the new array on top of the raw data and smoothed values. \n",
    "\n",
    "Note that code to load the file `count_rates.txt` has been added below, and puts the data into two numpy arrays as it did in the in-class assignment."
   ]
  },
  {
   "cell_type": "code",
   "execution_count": null,
   "metadata": {
    "collapsed": false
   },
   "outputs": [],
   "source": [
    "import numpy as np\n",
    "%matplotlib inline\n",
    "import matplotlib.pyplot as plt\n",
    "\n",
    "'''\n",
    "count_times = the time since the start of data-taking when the data was \n",
    "               taken (in seconds)\n",
    "count_rates = the number of counts since the last time data was taken, at \n",
    "               the time in count_times\n",
    "'''\n",
    "\n",
    "count_times = np.loadtxt(\"count_rates.txt\", dtype=int)[0]\n",
    "count_rates = np.loadtxt(\"count_rates.txt\", dtype=int)[1]"
   ]
  },
  {
   "cell_type": "code",
   "execution_count": null,
   "metadata": {
    "collapsed": true
   },
   "outputs": [],
   "source": [
    "# Put your code here - add additional cells if necessary\n",
    "\n"
   ]
  },
  {
   "cell_type": "markdown",
   "metadata": {},
   "source": [
    "**Question:**  What are the constants that you came up with for the count rate equation?  Do these values make sense given the experimental data?  Why or why not?"
   ]
  },
  {
   "cell_type": "markdown",
   "metadata": {},
   "source": [
    "*put your answer here!*"
   ]
  },
  {
   "cell_type": "markdown",
   "metadata": {},
   "source": [
    "----\n",
    "\n",
    "## Section 2:  Great Lakes water levels"
   ]
  },
  {
   "cell_type": "markdown",
   "metadata": {},
   "source": [
    "The water level in the Great Lakes fluctuates over the course of a year, and also fluctuates in many-year cycles.  About two and a half years ago (in Feb. 2014), there was an [article in Scientific American](http://www.scientificamerican.com/article/water-levels-of-the-great-lakes-are-declining/) describing the historically low levels of the Great Lakes - in particular, that of Lake Michigan and Lake Huron, which together make up the largest body of fresh water in the world.  In this part of the homework assignment, we're going to look at water height data from the [Great Lakes Environmental Research Laboratory](https://www.glerl.noaa.gov/data/) - in particular, data from [1918 to the present day](https://www.glerl.noaa.gov/data/dashboard/data/levels/1918_PRES/).  In the cell below this, we're using Pandas to load four CSV (\"Comma-Separated Value\") files with data from Lake Eric, Lakes Michigan and Huron combined, Lake Ontario, and Lake Superior into data frames.  Each dataset contains the annual average water level for every year from 1918 to the present.  Use these datasets to answer the questions posed below."
   ]
  },
  {
   "cell_type": "code",
   "execution_count": null,
   "metadata": {
    "collapsed": false
   },
   "outputs": [],
   "source": [
    "import pandas\n",
    "\n",
    "erie = pandas.read_csv('erie1918Ann.csv', skiprows=2)\n",
    "miHuron = pandas.read_csv('miHuron1918Ann.csv', skiprows=2)\n",
    "ontario = pandas.read_csv('ontario1918Ann.csv', skiprows=2)\n",
    "superior = pandas.read_csv('superior1918Ann.csv', skiprows=2)"
   ]
  },
  {
   "cell_type": "markdown",
   "metadata": {},
   "source": [
    "**Question 1:**  Calculate the mean water levels of all of the Great Lakes over the past century (treating Lakes Michigan and Huron as a single body of water).  Are all of the values similar?  Why does your answer make sense?  (Hint: where is Niagara Falls, and what direction does the water flow?)"
   ]
  },
  {
   "cell_type": "markdown",
   "metadata": {},
   "source": [
    "*put your answer here!*"
   ]
  },
  {
   "cell_type": "code",
   "execution_count": null,
   "metadata": {
    "collapsed": false
   },
   "outputs": [],
   "source": [
    "# Put your code here!\n",
    "\n"
   ]
  },
  {
   "cell_type": "markdown",
   "metadata": {
    "collapsed": true
   },
   "source": [
    "**Question 2:** Make a plot where you show the fluctuations of each lake around the mean value from the last century (i.e., subtracting the mean value of the lake's water level from the data of water level over time).  In general, do you see similar patterns of fluctuations in all of the lakes?  What might this suggest to you about the source of the fluctuations?  \n",
    "\n",
    "Hint: you may want to use pyplot instead of the built-in Pandas plotting functions!"
   ]
  },
  {
   "cell_type": "markdown",
   "metadata": {},
   "source": [
    "*put your answer here!*"
   ]
  },
  {
   "cell_type": "code",
   "execution_count": null,
   "metadata": {
    "collapsed": false
   },
   "outputs": [],
   "source": [
    "# Put your code here\n",
    "\n"
   ]
  },
  {
   "cell_type": "markdown",
   "metadata": {},
   "source": [
    "**Question 3:** Finally, let's look at the original issue - the water level of the Lake Michigan+Lake Huron system and how it changes over time.  When you examine just the Lake Michigan data, zooming in on only the last 20 years of data, does the decrease in water level continue, does it reverse itself, or does it stay the same?  In other words, was the low level reported in 2014 something we should continue to be worried about, or was it a fluke?"
   ]
  },
  {
   "cell_type": "markdown",
   "metadata": {},
   "source": [
    "*put your answer here!*"
   ]
  },
  {
   "cell_type": "code",
   "execution_count": null,
   "metadata": {
    "collapsed": true
   },
   "outputs": [],
   "source": [
    "# Put your code here\n",
    "\n"
   ]
  },
  {
   "cell_type": "markdown",
   "metadata": {},
   "source": [
    "----\n",
    "\n",
    "## Section 3: Modeling drug doses in the human body\n",
    "\n",
    "Modeling the behavior of drugs in the human body is very important in medicine.  One frequently-used model is called the [\"Single-Compartment Drug Model\"](http://sepia.unil.ch/pharmacology/index.php?id=72), which takes the complex human body and treats it as one homogeneous unit, where drug distribution is instantaneous, the concentration of the drug in the blood (i.e., the amount of drug per volume of blood) is proportional to the drug dosage, and the rate of elimination of the drug is proportional to the amount of drug in the system.  Using this model allows the prediction of the range of [therapeutic doses](http://medical-dictionary.thefreedictionary.com/therapeutic+dose) where the drug will be effective.\n",
    "\n",
    "We'll first model the concentration in the body of aspirin, which is commonly used to treat headaches and reduce fever.  For adults, it is typical to take 1 or 2 325 mg tablets every four hours, up to a maximum of 12 tablets/day.  This dose is assumed to be dissolved immediately into the blood plasma.  (An average adult human has about 3 liters of blood plasma.)  The concentration of drugs in the blood (represented with the symbol **Q**) is typically measured in $\\mu$g/ml, where 1000 $\\mu$g (micrograms) = 1 mg (milligram).  For aspirin, the does that is effective for relieving headaches is typically between 150-300 $\\mu$g/ml, and the half-life for removal of the drug from the system is about 3.2 hours (more on that later).\n",
    "\n",
    "The rate of removal of aspirin from the body (elimination) is proportional to the amount present in the system:\n",
    "\n",
    "$\\frac{dQ}{dt} = -K Q$\n",
    "\n",
    "Where Q is the concentration, and K is a constant of proportionality that is related to the half-life of removal of drug from the system:  $K = 0.693 / t_{1/2}$.\n",
    "\n",
    "**Part 1:** We're now going to make a simple model of the amount of aspirin in the human body.  Assuming that an adult human has a headache and takes 2 325 mg aspirin tablets.  If the drug immediately enters their system, for how long will their headache be relieved?  Show a plot, with an appropriate title, x-axis label, and y-axis label, that shows the concentration of aspirin in the patient's blood over a 12-hour time span.  In your model, make sure to resolve the time evolution well - make sure that your individual time steps are only a few minutes!\n",
    "\n",
    "Put your answer immediately below, and the code you wrote (and plots you generated) to solve this immediately below that."
   ]
  },
  {
   "cell_type": "markdown",
   "metadata": {},
   "source": [
    "*put your answer here!*"
   ]
  },
  {
   "cell_type": "code",
   "execution_count": null,
   "metadata": {
    "collapsed": true
   },
   "outputs": [],
   "source": [
    "#  put your code and plots here!\n",
    "\n"
   ]
  },
  {
   "cell_type": "markdown",
   "metadata": {},
   "source": [
    "**Part 2:** We're now going to model the concentration of a drug that needs to be repeatedly administered - the drug [Dilantin](https://www.drugs.com/dilantin.html), which is used to treat [epilepsy](http://www.epilepsy.com/learn/epilepsy-101/what-epilepsy).  The effective concentration of the drug in humans is 10-20 $\\mu$g/ml, the half-life of Dilantin is approximately 22 hours, and the drug comes in 100 mg tablets which are effectively instantaneously released into your bloodstream.  For this particular drug, only about 12% of the drug in each dose is actually available for absorption in the bloodstream, meaning that the effective amount added to the blood is 12 mg per dose.\n",
    "\n",
    "Assuming that the drug is administered every 8 hours to a patient that starts out having none of the drug in their body, make a plot of the drug concentration over a ten day period and use it to answer the following two questions:\n",
    "\n",
    "1. How long does it take to reach an effective concentration of the drug in the patient's blood?\n",
    "2. By roughly when does the drug concentration reach a steady state in the patient's blood?  (In other words, after how long is the concentration neither rising nor falling on average?)"
   ]
  },
  {
   "cell_type": "markdown",
   "metadata": {},
   "source": [
    "*put your answer here!*"
   ]
  },
  {
   "cell_type": "code",
   "execution_count": null,
   "metadata": {
    "collapsed": true
   },
   "outputs": [],
   "source": [
    "#  put your code and plots here!\n",
    "\n"
   ]
  },
  {
   "cell_type": "markdown",
   "metadata": {},
   "source": [
    "----\n",
    "\n",
    "## Section 4: Feedback (required!)"
   ]
  },
  {
   "cell_type": "code",
   "execution_count": null,
   "metadata": {
    "collapsed": false
   },
   "outputs": [],
   "source": [
    "from IPython.display import HTML\n",
    "HTML(\n",
    "\"\"\"\n",
    "<iframe\n",
    "    src=\"https://goo.gl/forms/Px7wk9DcldfyCqMt2?embedded=true\" \n",
    "    width=\"80%\" \n",
    "    height=\"1200px\" \n",
    "    frameborder=\"0\" \n",
    "    marginheight=\"0\" \n",
    "    marginwidth=\"0\">\n",
    "    Loading...\n",
    "</iframe>\n",
    "\"\"\"\n",
    ")"
   ]
  },
  {
   "cell_type": "markdown",
   "metadata": {},
   "source": [
    "----\n",
    "\n",
    "# Congratulations, you're done!\n",
    "\n",
    "## How to submit this assignment\n",
    "\n",
    "Log into the course Desire2Learn website (d2l.msu.edu) and go to the \"Homework assignments\" folder.  There will be a dropbox labeled \"Homework 2\".  Upload this notebook there. "
   ]
  }
 ],
 "metadata": {
  "anaconda-cloud": {},
  "kernelspec": {
   "display_name": "Python 3",
   "language": "python",
   "name": "python3"
  },
  "language_info": {
   "codemirror_mode": {
    "name": "ipython",
    "version": 3
   },
   "file_extension": ".py",
   "mimetype": "text/x-python",
   "name": "python",
   "nbconvert_exporter": "python",
   "pygments_lexer": "ipython3",
   "version": "3.5.1"
  }
 },
 "nbformat": 4,
 "nbformat_minor": 0
}
