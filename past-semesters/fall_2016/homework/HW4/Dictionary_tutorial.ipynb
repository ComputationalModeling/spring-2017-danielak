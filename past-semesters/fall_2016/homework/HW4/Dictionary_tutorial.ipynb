{
 "cells": [
  {
   "cell_type": "markdown",
   "metadata": {},
   "source": [
    "# Dictionary tutorial\n",
    "\n",
    "Python has several useful data types beyond what we've already been using in class.  One that is particularly helpful in some circumstances is the [dictionary](https://docs.python.org/3/tutorial/datastructures.html#dictionaries).  In some ways, a dictionary behaves like a list - however, instead of accessing elements of the list by a number (e.g., `my_list[3]`), you access values by using *keys*, which can be strings or numbers.  As you might imagine, using strings as keys is particularly helpful!\n",
    "\n",
    "A pair of braces are used to create an empty dictionary: {}\n",
    "\n",
    "Placing a comma-separated list of key:value pairs within the braces adds initial pairs to the dictionary:"
   ]
  },
  {
   "cell_type": "code",
   "execution_count": null,
   "metadata": {
    "collapsed": false
   },
   "outputs": [],
   "source": [
    "# create a dictionary with one key:value pair\n",
    "animals = {'dog':'canine'}\n",
    "\n",
    "print(animals)"
   ]
  },
  {
   "cell_type": "markdown",
   "metadata": {},
   "source": [
    "New key:value pairs can be added easily:"
   ]
  },
  {
   "cell_type": "code",
   "execution_count": null,
   "metadata": {
    "collapsed": false
   },
   "outputs": [],
   "source": [
    "animals['rabbit'] = 'rodent'\n",
    "animals['lion'] = 'cat'\n",
    "animals['mouse'] = 'rodent'\n",
    "animals['coyote'] = 'canine'\n",
    "\n",
    "print(animals)\n",
    "\n",
    "print(animals['mouse'])"
   ]
  },
  {
   "cell_type": "markdown",
   "metadata": {},
   "source": [
    "You can get at the value for a particular key:"
   ]
  },
  {
   "cell_type": "code",
   "execution_count": null,
   "metadata": {
    "collapsed": false
   },
   "outputs": [],
   "source": [
    "mouse_type = animals['mouse']\n",
    "\n",
    "print(\"the mouse type is:\", mouse_type)"
   ]
  },
  {
   "cell_type": "markdown",
   "metadata": {},
   "source": [
    "You can find out how many key:value pairs there are in the dictionary:"
   ]
  },
  {
   "cell_type": "code",
   "execution_count": null,
   "metadata": {
    "collapsed": false
   },
   "outputs": [],
   "source": [
    "num_entries = len(animals)\n",
    "print(\"there are\", num_entries, \"entries\")"
   ]
  },
  {
   "cell_type": "markdown",
   "metadata": {},
   "source": [
    "You can get the value of a particular key and store it in a variable:"
   ]
  },
  {
   "cell_type": "code",
   "execution_count": null,
   "metadata": {
    "collapsed": false
   },
   "outputs": [],
   "source": [
    "what_is_a_rabbit = animals['rabbit']\n",
    "\n",
    "print(what_is_a_rabbit)"
   ]
  },
  {
   "cell_type": "markdown",
   "metadata": {},
   "source": [
    "Values associated with keys can be modified:"
   ]
  },
  {
   "cell_type": "code",
   "execution_count": null,
   "metadata": {
    "collapsed": false
   },
   "outputs": [],
   "source": [
    "animals['rabbit'] = 'NOT A CANINE'\n",
    "\n",
    "print(animals)"
   ]
  },
  {
   "cell_type": "markdown",
   "metadata": {},
   "source": [
    "Pairs that exist can be deleted:"
   ]
  },
  {
   "cell_type": "code",
   "execution_count": null,
   "metadata": {
    "collapsed": false
   },
   "outputs": [],
   "source": [
    "del animals['rabbit']\n",
    "\n",
    "print(animals)"
   ]
  },
  {
   "cell_type": "markdown",
   "metadata": {},
   "source": [
    "You can print out the keys that exist:"
   ]
  },
  {
   "cell_type": "code",
   "execution_count": null,
   "metadata": {
    "collapsed": false
   },
   "outputs": [],
   "source": [
    "# print out the existing keys\n",
    "animals.keys()"
   ]
  },
  {
   "cell_type": "markdown",
   "metadata": {},
   "source": [
    "You can also make a list of the keys that exist, and also a list of the values:"
   ]
  },
  {
   "cell_type": "code",
   "execution_count": null,
   "metadata": {
    "collapsed": false
   },
   "outputs": [],
   "source": [
    "# get a list of the keys that exist\n",
    "list_of_animal_keys = list(animals.keys())\n",
    "\n",
    "list_of_animal_values = list(animals.values())\n",
    "\n",
    "print(\"list of keys:\", list_of_animal_keys)\n",
    "print(\"list of values:\", list_of_animal_values)"
   ]
  },
  {
   "cell_type": "markdown",
   "metadata": {},
   "source": [
    "You can also loop over the existing keys in the dictionary:"
   ]
  },
  {
   "cell_type": "code",
   "execution_count": null,
   "metadata": {
    "collapsed": false
   },
   "outputs": [],
   "source": [
    "for key in animals.keys():\n",
    "    print(key)"
   ]
  },
  {
   "cell_type": "markdown",
   "metadata": {},
   "source": [
    "You can loop over the dictionary and access both the keys and the values:"
   ]
  },
  {
   "cell_type": "code",
   "execution_count": null,
   "metadata": {
    "collapsed": false
   },
   "outputs": [],
   "source": [
    "for key, val in animals.items():\n",
    "    print(\"key is:\", key, \"\\tand value is:\", val)"
   ]
  },
  {
   "cell_type": "markdown",
   "metadata": {},
   "source": [
    "You can check to see if a key either **is** or **is not** in the dictionary:"
   ]
  },
  {
   "cell_type": "code",
   "execution_count": null,
   "metadata": {
    "collapsed": false
   },
   "outputs": [],
   "source": [
    "if 'lion' in animals:\n",
    "    print(\"lion is one of the keys, and a lion is a\", animals['lion'])\n",
    "    \n",
    "if 'donkey' not in animals:\n",
    "    print(\"donkey is not one of the keys.  BOO!\")"
   ]
  },
  {
   "cell_type": "markdown",
   "metadata": {},
   "source": [
    "Here's a more complicated example of something neat we can do.  We can create a dictionary to keep track of how often something occurs - say, the number of rodents, canines, and cats that we have in our dictionary of animals.  We can then loop through our dictionary of animals and keep track of the number of times that each value appears in our dictionary.  If we have forgotten to put in one of our types, we can also add it on the fly!"
   ]
  },
  {
   "cell_type": "code",
   "execution_count": null,
   "metadata": {
    "collapsed": false
   },
   "outputs": [],
   "source": [
    "# make a dictionary containing some of the types and setting the number to zero.  \n",
    "# Note that we are deliberately leaving one out!\n",
    "number_each_animal_type = {'rodent':0, 'canine':0}\n",
    "\n",
    "print(\"our starting dict of animal types:\", number_each_animal_type)\n",
    "\n",
    "# now, we loop over our dictionary of animals\n",
    "for key, val in animals.items():\n",
    "\n",
    "    # if that animal's type exists in our dictionary of animal types, \n",
    "    # just add one to the number.\n",
    "    if val in number_each_animal_type:\n",
    "        number_each_animal_type[val] += 1\n",
    "\n",
    "    # if that animal's type does NOT exist in our dictionary of animal types,\n",
    "    # create it and then set it to one since this is the first one we've found.\n",
    "    else:\n",
    "        number_each_animal_type[val] = 1\n",
    "\n",
    "print(\"animals:\", animals)\n",
    "print(\"number of each type\", number_each_animal_type)"
   ]
  },
  {
   "cell_type": "markdown",
   "metadata": {},
   "source": [
    "## Further information and useful links:\n",
    "\n",
    "* [Python tutorial - dictionaries](https://docs.python.org/3/tutorial/datastructures.html#dictionaries)\n",
    "* [Detailed documentation on dictionaries](https://docs.python.org/3/library/stdtypes.html#typesmapping)"
   ]
  }
 ],
 "metadata": {
  "kernelspec": {
   "display_name": "Python 3",
   "language": "python",
   "name": "python3"
  },
  "language_info": {
   "codemirror_mode": {
    "name": "ipython",
    "version": 3
   },
   "file_extension": ".py",
   "mimetype": "text/x-python",
   "name": "python",
   "nbconvert_exporter": "python",
   "pygments_lexer": "ipython3",
   "version": "3.5.1"
  }
 },
 "nbformat": 4,
 "nbformat_minor": 0
}
