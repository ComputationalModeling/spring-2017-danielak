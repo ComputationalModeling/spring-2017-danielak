{
 "cells": [
  {
   "cell_type": "markdown",
   "metadata": {},
   "source": [
    "# Homework \\#4\n",
    "\n",
    "This notebook is due on **Friday, November 18th, 2016 at 11:59 p.m.**.  Please make sure to get started early, and come by the instructors' office hours if you have any questions.  Office hours and locations can be found in the course syllabus.  **IMPORTANT:** While it's fine if you talk to other people in class about this homework - and in fact we encourage it! - you are responsible for creating the  solutions for this homework on your own, and each student must submit their own homework assignment.\n"
   ]
  },
  {
   "cell_type": "markdown",
   "metadata": {},
   "source": [
    "**FOR THIS HOMEWORK:** In addition to the correctness of your answers, we will be grading you on:\n",
    "\n",
    "1. The quality of your code\n",
    "2. The correctness of your code\n",
    "3. Whether your code runs.\n",
    "\n",
    "To that end:\n",
    "\n",
    "1. Code quality: make sure that you use functions whenever possible, use descriptive variable names, and use comments to explain what your code does as well as function properties (including what arguments they take, what they do, and what they return).\n",
    "2. Whether your code runs: prior to submitting your homework assignment, re-run the entire notebook and test it.  Go to the \"kernel\" menu, select \"Restart\", and then click \"clear all outputs and restart.\"  Then, go to the \"Cell\" menu and choose \"Run all\" to ensure that your code produces the correct results.  **We will take off points for code that does not work correctly when we run it!**."
   ]
  },
  {
   "cell_type": "markdown",
   "metadata": {},
   "source": [
    "## Your name"
   ]
  },
  {
   "cell_type": "markdown",
   "metadata": {},
   "source": [
    "Put your name here!"
   ]
  },
  {
   "cell_type": "markdown",
   "metadata": {},
   "source": [
    "----\n",
    "\n",
    "## Section 1: The 1D Schelling model\n",
    "\n",
    "**Schelling's model for happiness:** Recall that in a 1D line of stars and zeros (to use Schelling's terminology), an element is \"happy\" if at least half of its neighbors (defined as the four elements to the left and four elements to the right) are like it, and \"unhappy\" otherwise.  For those near the end of the line the rule is that, of the four neighbors on the side toward the center plus the one, two or three outboard neighbors, at least half must be like oneself.\n",
    "\n",
    "Your assignment is to implement the Schelling model **exactly as described in the in-class project** using zeros and ones to indicate the two types of elements.  As with Schelling's original paper, you will play twice through the entire list, moving each element in a row (possibly moving a given element multiple times if it goes to the right).  Print out the state of the list at each step so that you can see how the solution evolves.\n",
    "\n",
    "Break up your code into functions whenever possible, and add comments to each function and to the rest of the code to make sure that we know what's going on!"
   ]
  },
  {
   "cell_type": "code",
   "execution_count": null,
   "metadata": {
    "collapsed": true
   },
   "outputs": [],
   "source": [
    "# put your code here\n",
    "\n",
    "\n"
   ]
  },
  {
   "cell_type": "markdown",
   "metadata": {},
   "source": [
    "----\n",
    "\n",
    "## Section 2: Wrapping up our twitter analysis\n",
    "\n",
    "In this part of the homework, we're going to extend our analysis of the tweets of the presidential candidates (well, by the time you're actually coding this up, the president-to-be and their defeated opponent).  We're going to do a few things:\n",
    "\n",
    "1. Clean the data more comprehensively.\n",
    "2. Examine the candidates' tweeting styles in a more in-depth fashion.\n",
    "3. See how often the candidates refer to each other, and when they do refer to each other, is it positive, negative, or neutral?\n",
    "\n",
    "The cells that are immediately below this download the various files needed for this project, and then load the two files of tweets into huge strings named `clinton_tweets` and `trump_tweets`."
   ]
  },
  {
   "cell_type": "code",
   "execution_count": null,
   "metadata": {
    "collapsed": true
   },
   "outputs": [],
   "source": [
    "# download the files\n",
    "import urllib.request\n",
    "\n",
    "files=['negative.txt','positive.txt']\n",
    "path='http://www.unc.edu/~ncaren/haphazard/'\n",
    "for file_name in files:\n",
    "    urllib.request.urlretrieve(path+file_name,file_name)\n",
    "    \n",
    "files=['HillaryClinton_tweets.txt','realDonaldTrump_tweets.txt']\n",
    "path='https://raw.githubusercontent.com/bwoshea/CMSE201_datasets/master/pres_tweets/'\n",
    "for file_name in files:\n",
    "    urllib.request.urlretrieve(path+file_name,file_name)"
   ]
  },
  {
   "cell_type": "code",
   "execution_count": null,
   "metadata": {
    "collapsed": true
   },
   "outputs": [],
   "source": [
    "'''\n",
    "Now we open up the files.  Note that the 'encoding=\"utf8\"' portion\n",
    "is to take care of the fact that some windows machines have a hard \n",
    "time reading the text files generated on Mac and Linux computers.\n",
    "'''\n",
    "clinton_tweets = open(\"HillaryClinton_tweets.txt\",encoding=\"utf8\").read()\n",
    "trump_tweets = open(\"realDonaldTrump_tweets.txt\",encoding=\"utf8\").read()"
   ]
  },
  {
   "cell_type": "markdown",
   "metadata": {},
   "source": [
    "### Cleaning the data\n",
    "\n",
    "We want to do a more comprehensive job cleaning the data than we did in class. We still want to do that too, though!  In particular, in addition to making all of the words lower case and removing punctuation, we want to remove words corresponding to hash tags (words starting with a pound sign, \\#) or websites (words starting with \"http\"), and any empty strings (an empty string looks like this: '').\n",
    "\n",
    "In the space below, you are given a test tweet that has capitalizations, punctuation, hash tags, and that will have empty strings when split into words.  **Write a function** that takes a tweet as an argument, cleans it, and returns a list of words.  Demonstrate that this function works by using it to clean the test tweet and print out the returned words."
   ]
  },
  {
   "cell_type": "code",
   "execution_count": null,
   "metadata": {
    "collapsed": false
   },
   "outputs": [],
   "source": [
    "test_tweet = \" Here is My test TWEET!!!?! #whoah #so_much_election #cmserocks   http://whoahdude.com \"\n",
    "\n",
    "words = test_tweet.split(' ')\n",
    "\n",
    "print(\"the words in the uncleaned test tweet are:\", words)\n",
    "\n",
    "# put your code here!\n",
    "\n",
    "\n",
    "\n"
   ]
  },
  {
   "cell_type": "markdown",
   "metadata": {},
   "source": [
    "### A more comprehensive examination of the candidates' twitter styles\n",
    "\n",
    "Now that we've figured out how to clean the tweets, we're going to do a more in-depth analysis of the candidates' writing styles (or, more accurately, the styles of the candidates and their campaign staff - not all of the tweets come from the candidates themselves).  In particular, we want to determine:\n",
    "\n",
    "1. What is the **distribution of word lengths** that each candidate uses?  The average length of words used is one way to estimate the sophistication of writing - longer words may suggest more complex thoughts.\n",
    "2. Which candidate has used **a larger vocabulary** in their tweets?  In other words, which candidate uses more distinct or unique words, and thus uses less repetition of individual words?  As with word length, a larger vocabulary may suggest more complex thoughts.\n",
    "\n",
    "**Hint:** Consider using a [dictionary](https://docs.python.org/3/tutorial/datastructures.html#dictionaries) to help address the second question!  (And see the tutorial we have provided on dictionaries.)\n",
    "\n",
    "**In the cell below, summarize what you've learned** about the candidates' tweeting styles.  Use the cell below that (and any additional cells you need) to include the code, figures, etc. that you needed to determine your answer. "
   ]
  },
  {
   "cell_type": "markdown",
   "metadata": {},
   "source": [
    "Put your summary here!"
   ]
  },
  {
   "cell_type": "code",
   "execution_count": null,
   "metadata": {
    "collapsed": true
   },
   "outputs": [],
   "source": [
    "# put your code and figures here.  Add additional cells if necessary!\n",
    "\n",
    "\n",
    "\n"
   ]
  },
  {
   "cell_type": "markdown",
   "metadata": {},
   "source": [
    "### How do the candidates talk about each other?\n",
    "\n",
    "We're now going to examine how the candidates have talked about each other.  Go through their list of tweets and find all of the incidences where they refer to the other candidate, and determine:\n",
    "\n",
    "1. If they typically refer to their opponent using positive words, negative words, both positive and negative words, or neither?\n",
    "2. Keep track of all of the positive and negative words that they use to refer to their opponent.  What are the most common positive and negative words that they use about their opponent?\n",
    "\n",
    "**Hint:** What words do the candidates use to refer to each other?  By their first names, last names, Twitter handles, or something else?\n",
    "\n",
    "**In the cell below, summarize what you've learned** about how the candidates talk about each other."
   ]
  },
  {
   "cell_type": "markdown",
   "metadata": {},
   "source": [
    "Put your summary here!"
   ]
  },
  {
   "cell_type": "code",
   "execution_count": null,
   "metadata": {
    "collapsed": true
   },
   "outputs": [],
   "source": [
    "# put your code and figures here.  Add additional cells if necessary!\n",
    "\n",
    "\n",
    "\n"
   ]
  },
  {
   "cell_type": "markdown",
   "metadata": {},
   "source": [
    "### A different way of visualizing the data\n",
    "\n",
    "Finally, we're going to visualize the positive and negative words that the candidates use to describe each other using [word clouds](http://www.boostlabs.com/what-are-word-clouds-value-simple-visualizations/).  In a word cloud, the more a specific word appears in some source of textual data, the larger and bolder the word appears in the cloud.  While this is not a perfectly representative way of visualizing data, it gives a good sense of what words are commonly used.  So, here's how we will proceed:\n",
    "\n",
    "First, install some software that can be used to [generate word clouds](https://pypi.python.org/pypi/wordcloud) by typing:\n",
    "\n",
    "`!pip install wordcloud`\n",
    "\n",
    "in a code cell and wait for the code to install, which may take a minute or two.  Make sure to include the exclamation point.  You only have to do this once per computer!\n",
    "\n",
    "Then, generate separate lists of the positive and negative words that each candidate uses to refer to their opponent (making sure to keep the duplicate words in the list - you need this for the word cloud!).  You'll take each list, convert it into a string, clean up the string, and then make it into a word cloud.  This is kind of a pain, so we're including example code below.  Note that we are only showing you how to generate a simple word cloud - to make a more complicated one, look at the [documentation](https://github.com/amueller/word_cloud)."
   ]
  },
  {
   "cell_type": "code",
   "execution_count": null,
   "metadata": {
    "collapsed": false
   },
   "outputs": [],
   "source": [
    "%matplotlib inline\n",
    "import matplotlib.pyplot as plt\n",
    "\n",
    "# imports the word cloud module\n",
    "from wordcloud import WordCloud\n",
    "\n",
    "# we assume you have a list called candidate_word_list_positive,\n",
    "# which we then convert into a string\n",
    "candidate_positive_words = str(candidate_word_list_positive)\n",
    "\n",
    "# take that string and clean out all of the list-y things by replacing them with blank spaces.\n",
    "candidate_positive_words = candidate_positive_words.replace('\\'','').replace(',','').replace('\\\"','').replace('[','').replace(']','')\n",
    "\n",
    "# now we make the word cloud, using only the 60 most common words and keeping the\n",
    "# font size relatively small.\n",
    "wordcloud = WordCloud(background_color=\"white\",max_words=60, max_font_size=40).generate(candidate_positive_words)\n",
    "plt.figure()\n",
    "plt.imshow(wordcloud)\n",
    "plt.axis(\"off\")\n",
    "plt.show()\n"
   ]
  },
  {
   "cell_type": "code",
   "execution_count": null,
   "metadata": {
    "collapsed": true
   },
   "outputs": [],
   "source": [
    "# Put your code here!\n",
    "\n"
   ]
  },
  {
   "cell_type": "markdown",
   "metadata": {},
   "source": [
    "----\n",
    "\n",
    "## Section 3: Feedback (required!)"
   ]
  },
  {
   "cell_type": "code",
   "execution_count": null,
   "metadata": {
    "collapsed": false
   },
   "outputs": [],
   "source": [
    "from IPython.display import HTML\n",
    "HTML(\n",
    "\"\"\"\n",
    "<iframe\n",
    "    src=\"https://goo.gl/forms/8HNgy9DipNjx0Xe42?embedded=true\" \n",
    "    width=\"80%\" \n",
    "    height=\"1200px\" \n",
    "    frameborder=\"0\" \n",
    "    marginheight=\"0\" \n",
    "    marginwidth=\"0\">\n",
    "    Loading...\n",
    "</iframe>\n",
    "\"\"\"\n",
    ")"
   ]
  },
  {
   "cell_type": "markdown",
   "metadata": {},
   "source": [
    "----\n",
    "\n",
    "# Congratulations, you're done!\n",
    "\n",
    "## How to submit this assignment\n",
    "\n",
    "Log into the course Desire2Learn website (d2l.msu.edu) and go to the \"Homework assignments\" folder.  There will be a dropbox labeled \"Homework 4\".  Upload this notebook there. "
   ]
  }
 ],
 "metadata": {
  "anaconda-cloud": {},
  "kernelspec": {
   "display_name": "Python 3",
   "language": "python",
   "name": "python3"
  },
  "language_info": {
   "codemirror_mode": {
    "name": "ipython",
    "version": 3
   },
   "file_extension": ".py",
   "mimetype": "text/x-python",
   "name": "python",
   "nbconvert_exporter": "python",
   "pygments_lexer": "ipython3",
   "version": "3.5.1"
  }
 },
 "nbformat": 4,
 "nbformat_minor": 0
}
