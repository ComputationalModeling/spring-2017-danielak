{
 "cells": [
  {
   "cell_type": "markdown",
   "metadata": {},
   "source": [
    "# Homework \\#1 \n",
    "\n",
    "This notebook contains the first homework for this class, and is due on **Friday, October 23rd, 2016 at 11:59 p.m.**.  Please make sure to get started early, and come by the instructors' office hours if you have any questions.  Office hours and locations can be found in the course syllabus.  **IMPORTANT:** While it's fine if you talk to other people in class about this homework - and in fact we encourage it! - you are responsible for creating the  solutions for this homework on your own, and each student must submit their own homework assignment.\n",
    "\n",
    "**Some links that you may find helpful:**\n",
    "\n",
    "* [Markdown tutorial](https://guides.github.com/features/mastering-markdown/)\n",
    "* [The matplotlib website](http://matplotlib.org/)\n",
    "* [The matplotlib figure gallery](http://matplotlib.org/gallery.html)  (this is particularly helpful for getting ideas!)\n",
    "* [The Pyplot tutorial](http://matplotlib.org/users/pyplot_tutorial.html)\n",
    "* [The Pandas tutorial](http://pandas.pydata.org/pandas-docs/stable/tutorials.html)\n",
    "* [All CMSE 201 YouTube videos](https://www.youtube.com/playlist?list=PLqPfbT7gwVP-xvbZMFKlFIOEaVlEP_M2e)\n",
    " "
   ]
  },
  {
   "cell_type": "markdown",
   "metadata": {},
   "source": [
    "## Your name"
   ]
  },
  {
   "cell_type": "markdown",
   "metadata": {},
   "source": [
    "Put your name here!"
   ]
  },
  {
   "cell_type": "markdown",
   "metadata": {},
   "source": [
    "----\n",
    "\n",
    "## Section 1: Find me a model, any model"
   ]
  },
  {
   "cell_type": "markdown",
   "metadata": {},
   "source": [
    "Look around online and find a model that you think is interesting.  This model can be of anything that you are intrigued by, and as simple or complicated as you want.  Write a paragraph or two describing the model, and identifying the components of the model that we talked about in class - the model's inputs, inner workings, outputs, and how one might decide if this is a good model or not.  Make sure to cite your sources by providing links to the web pages that you looked at to create this description.  You can either just paste the URL into the cell below, or do something prettier, like this: [google](http://google.com).  The syntax for that second one is `[google](http://google.com)`.\n"
   ]
  },
  {
   "cell_type": "markdown",
   "metadata": {},
   "source": [
    "*put your answer here!*"
   ]
  },
  {
   "cell_type": "markdown",
   "metadata": {},
   "source": [
    "----\n",
    "\n",
    "## Section 2: Car conundrum"
   ]
  },
  {
   "cell_type": "markdown",
   "metadata": {},
   "source": [
    "**Part 1.**  Consider this:  What volume of gasoline does a typical automobile (car, SUV, or pickup) use during its entire lifetime?  How does the weight of the total fuel consumed compare to the weight of the car?  How about the price of the fuel compared to the price of the car?\n",
    "\n",
    "Come up with a simple order-of-magnitude approximation for each of those three questions, and in the cell below this one write a paragraph or two addressing each of the questions above.  What are the factors you need to consider?  What range of values might they have?  In what way is your estimate limited?  (Also, to add a twist: does it matter what type of car you choose?)\n",
    "\n",
    "Note: if you use a Google search or two to figure out what range of values you might want to use, include links to the relevant web page(s).  As described above, you can either just paste the URL, or do something prettier, like this:  [google](http://google.com).  The syntax for that second one is `[google](http://google.com)`.\n"
   ]
  },
  {
   "cell_type": "markdown",
   "metadata": {},
   "source": [
    "*put your answer here!*"
   ]
  },
  {
   "cell_type": "markdown",
   "metadata": {},
   "source": [
    "**Part 2.** In the space below, write a Python program to model the answer to all three of those questions, and keep track of the answers in a numpy array.  Plot your answers to both questions in some convenient way (probably not a scatter plot - look at the [matplotlib gallery](http://matplotlib.org/gallery.html) for inspiration!).  Do the answers you get make sense to you?"
   ]
  },
  {
   "cell_type": "code",
   "execution_count": null,
   "metadata": {
    "collapsed": true
   },
   "outputs": [],
   "source": [
    "# write any code you need here!  \n",
    "# Create additional cells if you need them by using the \n",
    "# 'Insert' menu at the top of the browser window.\n",
    "\n",
    "\n"
   ]
  },
  {
   "cell_type": "markdown",
   "metadata": {},
   "source": [
    "----\n",
    "\n",
    "## Section 3: Get the Lead Out (continued from your in-class assignment)"
   ]
  },
  {
   "cell_type": "markdown",
   "metadata": {},
   "source": [
    "### You're going to make a Jupyter Notebook. We'll feature our class's work on the [CMSE Homepage][1]\n",
    "\n",
    "This is real data. And, you're some of the first people with the chance to analyze it and make your results public. \n",
    "\n",
    "We want you to create a new Jupyter notebook to answer this question (which will be uploaded separately, as a second document to this notebook) that we can post publicly, to the world, on the [CMSE Department Homepage][1].\n",
    "\n",
    "### Your Notebook Presentation Should Answer These Questions:\n",
    "\n",
    "Your presentation should try to answer the following questions:\n",
    "\n",
    "1. How bad was the lead level situation in August, 2015 when the first lead levels were taken?\n",
    "2. How has the lead situation changed since August, 2015?\n",
    "    1. Is it getting better? If so, show your readers and convince them\n",
    "    2. Is it getting worse? If so, show your readers and convince them\n",
    "\n",
    "### *How* you answer the questions is up to you. But, remember to:\n",
    "\n",
    "1. *State your positions clearly*.\n",
    "2. *Justify your positions* with graphics, calculations, and written analysis to explain why you think what you think.\n",
    "3. *Consider counterarguments*. Could someone try to use the same data to arrive at a different conclusion than yours? If they could, explain that conclusion *and* (if appropriate) why you think that position is flawed.\n",
    "4. *Do your best*. Write as clearly as you can, use what you know, and don't confuse sizzle with quality. You don't need [fancy pants visual and graphical animations][2] to be persuasive. The humble [scatterplot](https://visage.co/data-visualization-101-scatter-plots/) and its cousins the bar chart and histogram are extraordinarily powerful when you craft them carefully. And [all of them are built-in to `pandas`](http://pandas.pydata.org/pandas-docs/stable/visualization.html#other-plots).\n",
    "\n",
    "### Lastly, *This is real data* and you really do have a chance to be featured on the CMSE webpage. So:\n",
    "\n",
    "- **The conclusions you draw matter.** These are Flint resident's actual living conditions.\n",
    "- **Any numerical conclusions you draw should be backed up by your code**. If you say the average lead level was below EPA limits, you'll need to be able to back up that claim in your notebook either with graphical evidence or numerical evidence (calculations).  So, make sure to show your (computational) work!\n",
    "- **Your analysis is a check on the scientific community**. The more eyes we have looking at this data and offering reproducible analyses (which Jupyter Notebooks are), the more confidence we can have in the data.\n",
    "- You may find other results online, but **you still have to do your own analysis** to decide whether you agree with their results. \n",
    "\n",
    "\n",
    "[1]: https://cmse.msu.edu/\n",
    "[2]: http://mbostock.github.io/d3/talk/20111116/bar-hierarchy.html"
   ]
  },
  {
   "cell_type": "markdown",
   "metadata": {},
   "source": [
    "----\n",
    "\n",
    "## Section 4: Feedback (required!)"
   ]
  },
  {
   "cell_type": "code",
   "execution_count": null,
   "metadata": {
    "collapsed": false
   },
   "outputs": [],
   "source": [
    "from IPython.display import HTML\n",
    "HTML(\n",
    "\"\"\"\n",
    "<iframe\n",
    "    src=\"https://docs.google.com/forms/d/e/1FAIpQLSd0yvuDR2XP5QhWHJZTZHgsSi84QAZU7x-C9NEA40y6NnArAA/viewform?embedded=true\" \n",
    "    width=\"80%\" \n",
    "    height=\"1200px\" \n",
    "    frameborder=\"0\" \n",
    "    marginheight=\"0\" \n",
    "    marginwidth=\"0\">\n",
    "    Loading...\n",
    "</iframe>\n",
    "\"\"\"\n",
    ")"
   ]
  },
  {
   "cell_type": "markdown",
   "metadata": {},
   "source": [
    "----\n",
    "\n",
    "# Congratulations, you're done!\n",
    "\n",
    "## How to submit this assignment\n",
    "\n",
    "Log into the course Desire2Learn website (d2l.msu.edu) and go to the \"Homework assignments\" folder.  There will be a dropbox labeled \"Homework 1\".  Upload this notebook there. "
   ]
  }
 ],
 "metadata": {
  "anaconda-cloud": {},
  "kernelspec": {
   "display_name": "Python 3",
   "language": "python",
   "name": "python3"
  },
  "language_info": {
   "codemirror_mode": {
    "name": "ipython",
    "version": 3
   },
   "file_extension": ".py",
   "mimetype": "text/x-python",
   "name": "python",
   "nbconvert_exporter": "python",
   "pygments_lexer": "ipython3",
   "version": "3.5.1"
  }
 },
 "nbformat": 4,
 "nbformat_minor": 0
}
