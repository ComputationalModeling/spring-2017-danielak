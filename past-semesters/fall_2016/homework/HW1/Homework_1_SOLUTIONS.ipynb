{
 "cells": [
  {
   "cell_type": "markdown",
   "metadata": {},
   "source": [
    "# Homework \\#1 \n",
    "\n",
    "This notebook contains the first homework for this class, and is due on **Friday, October 23rd, 2016 at 11:59 p.m.**.  Please make sure to get started early, and come by the instructors' office hours if you have any questions.  Office hours and locations can be found in the course syllabus.  **IMPORTANT:** While it's fine if you talk to other people in class about this homework - and in fact we encourage it! - you are responsible for creating the  solutions for this homework on your own, and each student must submit their own homework assignment.\n",
    "\n",
    "**Some links that you may find helpful:**\n",
    "\n",
    "* [Markdown tutorial](https://guides.github.com/features/mastering-markdown/)\n",
    "* [The matplotlib website](http://matplotlib.org/)\n",
    "* [The matplotlib figure gallery](http://matplotlib.org/gallery.html)  (this is particularly helpful for getting ideas!)\n",
    "* [The Pyplot tutorial](http://matplotlib.org/users/pyplot_tutorial.html)\n",
    "* [The Pandas tutorial](http://pandas.pydata.org/pandas-docs/stable/tutorials.html)\n",
    "* [All CMSE 201 YouTube videos](https://www.youtube.com/playlist?list=PLqPfbT7gwVP-xvbZMFKlFIOEaVlEP_M2e)\n",
    " "
   ]
  },
  {
   "cell_type": "markdown",
   "metadata": {},
   "source": [
    "## Your name"
   ]
  },
  {
   "cell_type": "markdown",
   "metadata": {},
   "source": [
    "Put your name here!"
   ]
  },
  {
   "cell_type": "markdown",
   "metadata": {},
   "source": [
    "----\n",
    "\n",
    "## Section 1: Find me a model, any model"
   ]
  },
  {
   "cell_type": "markdown",
   "metadata": {},
   "source": [
    "Look around online and find a model that you think is interesting.  This model can be of anything that you are intrigued by, and as simple or complicated as you want.  Write a paragraph or two describing the model, and identifying the components of the model that we talked about in class - the model's inputs, inner workings, outputs, and how one might decide if this is a good model or not.  Make sure to cite your sources by providing links to the web pages that you looked at to create this description.  You can either just paste the URL into the cell below, or do something prettier, like this: [google](http://google.com).  The syntax for that second one is `[google](http://google.com)`.\n"
   ]
  },
  {
   "cell_type": "markdown",
   "metadata": {},
   "source": [
    "**ANSWER:** There's not really a \"solution\" to this problem, per se.  We want to see that students have found an actual model online (as opposed to something else that may have inputs and outputs and so on, but which is not a model).  The model can be descriptive (i.e., carbon cycle), predictive (black hole mergers and gravitational waves), or some sort of statistical model (i.e., fantasy baseball-type modeling of player performance)."
   ]
  },
  {
   "cell_type": "markdown",
   "metadata": {},
   "source": [
    "----\n",
    "\n",
    "## Section 2: Car conundrum"
   ]
  },
  {
   "cell_type": "markdown",
   "metadata": {},
   "source": [
    "**Part 1.**  Consider this:  What volume of gasoline does a typical automobile (car, SUV, or pickup) use during its entire lifetime?  How does the weight of the total fuel consumed compare to the weight of the car?  How about the price of the fuel compared to the price of the car?\n",
    "\n",
    "Come up with a simple order-of-magnitude approximation for each of those three questions, and in the cell below this one write a paragraph or two addressing each of the questions above.  What are the factors you need to consider?  What range of values might they have?  In what way is your estimate limited?  (Also, to add a twist: does it matter what type of car you choose?)\n",
    "\n",
    "Note: if you use a Google search or two to figure out what range of values you might want to use, include links to the relevant web page(s).  As described above, you can either just paste the URL, or do something prettier, like this:  [google](http://google.com).  The syntax for that second one is `[google](http://google.com)`.\n"
   ]
  },
  {
   "cell_type": "markdown",
   "metadata": {},
   "source": [
    "**ANSWER:**\n",
    "\n",
    "We want to figure out how much gas is consumed by a typical car during its lifetime, and then answer some questions relating to that.  To figure this out, we need to know the volume of a gallon of gas ($V_{1 gal}$), the mass of a gallon of gas ($M_{1 gal}$), the cost of a gallon of gas ($C_{1 gal}$), the fuel efficiency of the car in question ($M_{PG}$), and the number of miles that a car is tyipcally driven ($M_{drive}$).  In that case, the model would be:\n",
    "\n",
    "$V_{gas} = V_{1 gal} * N_{gals} = V_{1 gal} * \\frac{M_{drive}}{M_{PG}}$\n",
    "\n",
    "and for the total mass of gas:\n",
    "\n",
    "$M_{gas} = M_{1 gal} * N_{gals} = M_{1 gal} * \\frac{M_{drive}}{M_{PG}}$\n",
    "\n",
    "and the cost for all of the gas:\n",
    "\n",
    "$C_{gas} = C_{1 gal} * N_{gals} = C_{1 gal} * \\frac{M_{drive}}{M_{PG}}$\n",
    "\n",
    "The various quantities we need are:\n",
    "\n",
    "* $V_{1 gal}$ - 3785 cubic cm (via google)\n",
    "* $M_{1 gal}$ - 2.9 kg (via Google)\n",
    "* $C_{1 gal}$ - between \\$2 - \\$5 depending on where you live and when it is\n",
    "* $M_{drive}$ - between $10^5$ and $5 \\times 10^5$ miles\n",
    "* $M_{PG}$ - between $8-60$ miles per gallon depending on the type of car you drive\n",
    "* Mass of car: between 1000-4000 kg depending on the type of car you drive (cars with poorer fuel efficiency tend to be more massive)\n",
    "\n",
    "This estimate is limited because the cost of gasoline varies over time and fuel efficiency also varies over time with weather and also with the age and maintenance of the car.  It's also somewhat hard to tell how long a given car is driven, because cars are often resold."
   ]
  },
  {
   "cell_type": "markdown",
   "metadata": {},
   "source": [
    "**Part 2.** In the space below, write a Python program to model the answer to all three of those questions, and keep track of the answers in a numpy array.  Plot your answers to both questions in some convenient way (probably not a scatter plot - look at the [matplotlib gallery](http://matplotlib.org/gallery.html) for inspiration!).  Do the answers you get make sense to you?"
   ]
  },
  {
   "cell_type": "code",
   "execution_count": null,
   "metadata": {
    "collapsed": false
   },
   "outputs": [],
   "source": [
    "# write any code you need here!  \n",
    "# Create additional cells if you need them by using the \n",
    "# 'Insert' menu at the top of the browser window.\n",
    "import numpy as np\n",
    "\n",
    "C_gas = [2.0, 3.0, 4.0, 5.0]\n",
    "M_drive = [1.0e+5, 2.0e+5, 3.0e+5, 4.0e+5, 5.0e+5]\n",
    "M_pg = [8,15,25,35,45,60]\n",
    "\n",
    "V1g = 0.003785  # in m^3\n",
    "M1g = 2.9  # in kg\n",
    "\n",
    "gals_gas = []\n",
    "cost_gas = []\n",
    "\n",
    "for Md in M_drive:\n",
    "    for Mpg in M_pg:\n",
    "        gals_gas.append(Md/Mpg)\n",
    "        for Cg in C_gas:\n",
    "            cost_gas.append(Cg*Md/Mpg)\n",
    "\n",
    "gals_gas = np.array(gals_gas)  \n",
    "cost_gas = np.array(cost_gas)\n",
    "\n",
    "vol_gas = gals_gas * V1g\n",
    "mass_gas = gals_gas * M1g"
   ]
  },
  {
   "cell_type": "code",
   "execution_count": null,
   "metadata": {
    "collapsed": false
   },
   "outputs": [],
   "source": [
    "%matplotlib inline\n",
    "import matplotlib.pyplot as plt\n",
    "\n",
    "plt.hist(vol_gas,bins=20)\n",
    "plt.title(\"Volume of gas\")\n",
    "plt.xlabel(\"Volume of gas [cubic meters]\")\n",
    "plt.ylabel(\"number\")"
   ]
  },
  {
   "cell_type": "code",
   "execution_count": null,
   "metadata": {
    "collapsed": false
   },
   "outputs": [],
   "source": [
    "plt.hist(mass_gas,bins=20)\n",
    "plt.title(\"Mass of gas\")\n",
    "plt.xlabel(\"Mass [kg]\")\n",
    "plt.ylabel(\"number\")"
   ]
  },
  {
   "cell_type": "code",
   "execution_count": null,
   "metadata": {
    "collapsed": false
   },
   "outputs": [],
   "source": [
    "plt.hist(cost_gas,bins=20)\n",
    "plt.title(\"Cost of gas\")\n",
    "plt.xlabel(\"Cost [dollars]\")\n",
    "plt.ylabel(\"number\")"
   ]
  },
  {
   "cell_type": "markdown",
   "metadata": {},
   "source": [
    "Answers to questions (based on this model): \n",
    "\n",
    "* The volume of gas ranges from a few cubic meters to 200+, with a median value around 40-50 cubic meters.  This is typically much more than the volome of the car itself.\n",
    "* The mass of gas ranges from a few thousand kg to 150,000+ kg, with a median value around 25,000 kg.  This is typically much more than the mass of the car.\n",
    "* The cost of gas ranges from a few tens of thousands of dollars to much more than 300,000, with a median of somewhere in the 30-40,000 range.  The price of the fuel is comparable to the price of the car, on average.\n",
    "\n",
    "It does matter what type of car I choose - smaller, more fuel efficient cars tend to have better mileage, which radically affects the other values.\n",
    "    "
   ]
  },
  {
   "cell_type": "markdown",
   "metadata": {},
   "source": [
    "----\n",
    "\n",
    "## Section 3: Get the Lead Out (continued from your in-class assignment)"
   ]
  },
  {
   "cell_type": "markdown",
   "metadata": {},
   "source": [
    "### You're going to make a Jupyter Notebook. We'll feature our class's work on the [CMSE Homepage][1]\n",
    "\n",
    "This is real data. And, you're some of the first people with the chance to analyze it and make your results public. \n",
    "\n",
    "We want you to create a new Jupyter notebook to answer this question (which will be uploaded separately, as a second document to this notebook) that we can post publicly, to the world, on the [CMSE Department Homepage][1].\n",
    "\n",
    "### Your Notebook Presentation Should Answer These Questions:\n",
    "\n",
    "Your presentation should try to answer the following questions:\n",
    "\n",
    "1. How bad was the lead level situation in August, 2015 when the first lead levels were taken?\n",
    "2. How has the lead situation changed since August, 2015?\n",
    "    1. Is it getting better? If so, show your readers and convince them\n",
    "    2. Is it getting worse? If so, show your readers and convince them\n",
    "\n",
    "### *How* you answer the questions is up to you. But, remember to:\n",
    "\n",
    "1. *State your positions clearly*.\n",
    "2. *Justify your positions* with graphics, calculations, and written analysis to explain why you think what you think.\n",
    "3. *Consider counterarguments*. Could someone try to use the same data to arrive at a different conclusion than yours? If they could, explain that conclusion *and* (if appropriate) why you think that position is flawed.\n",
    "4. *Do your best*. Write as clearly as you can, use what you know, and don't confuse sizzle with quality. You don't need [fancy pants visual and graphical animations][2] to be persuasive. The humble [scatterplot](https://visage.co/data-visualization-101-scatter-plots/) and its cousins the bar chart and histogram are extraordinarily powerful when you craft them carefully. And [all of them are built-in to `pandas`](http://pandas.pydata.org/pandas-docs/stable/visualization.html#other-plots).\n",
    "\n",
    "### Lastly, *This is real data* and you really do have a chance to be featured on the CMSE webpage. So:\n",
    "\n",
    "- **The conclusions you draw matter.** These are Flint resident's actual living conditions.\n",
    "- **Any numerical conclusions you draw should be backed up by your code**. If you say the average lead level was below EPA limits, you'll need to be able to back up that claim in your notebook either with graphical evidence or numerical evidence (calculations).  So, make sure to show your (computational) work!\n",
    "- **Your analysis is a check on the scientific community**. The more eyes we have looking at this data and offering reproducible analyses (which Jupyter Notebooks are), the more confidence we can have in the data.\n",
    "- You may find other results online, but **you still have to do your own analysis** to decide whether you agree with their results. \n",
    "\n",
    "\n",
    "[1]: https://cmse.msu.edu/\n",
    "[2]: http://mbostock.github.io/d3/talk/20111116/bar-hierarchy.html"
   ]
  },
  {
   "cell_type": "code",
   "execution_count": null,
   "metadata": {
    "collapsed": false
   },
   "outputs": [],
   "source": [
    "# THIS CELL READS IN THE FLINT DATASET - DO NOT CHANGE ANYTHING!\n",
    "\n",
    "# Make plots inline\n",
    "%matplotlib inline\n",
    "\n",
    "# Make inline plots vector graphics instead of raster graphics\n",
    "from IPython.display import set_matplotlib_formats\n",
    "set_matplotlib_formats('pdf', 'svg')\n",
    "\n",
    "# import modules for plotting and data analysis\n",
    "import matplotlib.pyplot # as plt\n",
    "import pandas\n",
    "import numpy as np\n",
    "import functools\n",
    "\n",
    "def add_bottle_id_column(data, key_name):\n",
    "    data['bottleID'] = np.repeat(key_name, data.shape[0])\n",
    "    return data\n",
    "\n",
    "'''\n",
    "Loads the flint water quality dataset from the spreadsheet.  \n",
    "This manipulation is necessary because (1) the data is in a spreadsheet\n",
    "rather than a CSV file or something else, and (2) the data is spread out\n",
    "across multiple sheets in the spreadsheet.\n",
    "'''\n",
    "def load_flint_water_data():\n",
    "    flint_water_data = pandas.read_excel(\n",
    "        # NOTE: uncomment the following line and comment out the one after that if\n",
    "        # you have problems getting this to run on a Windows machine.\n",
    "        #io = “https://github.com/ComputationalModeling/flint-water-data/raw/f6093bba145b1745b68bac2964b341fa30f3a08a/Flint%20Lead%20Kits%20ICP%20Data.xlsx”,\n",
    "        io = \"Flint_Lead_Kits_ICP_Data.xlsx\",\n",
    "        sheetname = [\n",
    "            \"Sub_B1-8.15\",\n",
    "            \"Sub_B2-8.15\",\n",
    "            \"Sub_B3-8.15\",\n",
    "            \"Sub_B1-3.16\",\n",
    "            \"Sub_B2-3.16\",\n",
    "            \"Sub_B3-3.16\",\n",
    "            \"Sub_B1-7.16\",\n",
    "            \"Sub_B2-7.16\",\n",
    "            \"Sub_B3-7.16\"],\n",
    "        header = 0,\n",
    "        skiprows = 3,\n",
    "        names = [\n",
    "            \"Sample\",\n",
    "            \"208Pb\",\n",
    "            \"\",\n",
    "            \"23Na\",\n",
    "            \"25Mg\",\n",
    "            \"27Al\",\n",
    "            \"28Si\",\n",
    "            \"31P\",\n",
    "            \"PO4\",\n",
    "            \"34S\",\n",
    "            \"35Cl\",\n",
    "            \"39K\",\n",
    "            \"43Ca\",\n",
    "            \"47Ti\",\n",
    "            \"51V\",\n",
    "            \"52Cr\",\n",
    "            \"54Fe\",\n",
    "            \"55Mn\",\n",
    "            \"59Co\",\n",
    "            \"60Ni\",\n",
    "            \"65Cu\",\n",
    "            \"66Zn\",\n",
    "            \"75As\",\n",
    "            \"78Se\",\n",
    "            \"88Sr\",\n",
    "            \"95Mo\",\n",
    "            \"107Ag\",\n",
    "            \"111Cd\",\n",
    "            \"112Sn\",\n",
    "            \"137Ba\",\n",
    "            \"238U\"\n",
    "        ]    \n",
    "    )\n",
    "    data_with_id = [\n",
    "    add_bottle_id_column(value, key)\n",
    "        for key, value\n",
    "        in flint_water_data.items()]\n",
    "    # collapse dataframes into one long dataframe\n",
    "    flint_water_data = functools.reduce(lambda x,y: x.append(y), data_with_id)\n",
    "    return flint_water_data\n",
    "\n",
    "def add_date_and_bottle_number(flint_data): \n",
    "    flint_data['bottle_number'] = flint_data['bottleID'].apply(lambda x: x.split('-')[0])\n",
    "    flint_data['date_collected'] = flint_data['bottleID'].apply(lambda x: x.split('-')[1])\n",
    "    return(flint_data)\n",
    "\n",
    "bottle_map = {\n",
    "    'Sub_B1': 'bottle1',\n",
    "    'Sub_B2': 'bottle2',\n",
    "    'Sub_B3': 'bottle3'\n",
    "}\n",
    "\n",
    "date_map = {\n",
    "    '8.15': '2015-08-01',\n",
    "    '3.16': '2016-03-01',\n",
    "    '7.16': '2016-07-01'\n",
    "}\n",
    "\n",
    "\n",
    "flint_data = load_flint_water_data()\n",
    "flint_data = add_date_and_bottle_number(flint_data)\n",
    "flint_data = flint_data.replace(\n",
    "    {'bottle_number': bottle_map,\n",
    "     'date_collected': date_map })\n",
    "flint_data['date_collected'] = pandas.DatetimeIndex(flint_data['date_collected'])\n",
    "flint_data = flint_data.drop('bottleID', axis = 1)\n",
    "\n",
    "# the end result is that you have a data frame called \"flint_data\""
   ]
  },
  {
   "cell_type": "code",
   "execution_count": null,
   "metadata": {
    "collapsed": false
   },
   "outputs": [],
   "source": [
    "flint_data.columns"
   ]
  },
  {
   "cell_type": "code",
   "execution_count": null,
   "metadata": {
    "collapsed": false
   },
   "outputs": [],
   "source": [
    "# break data into individual days\n",
    "\n",
    "aug15 = flint_data[flint_data['date_collected'] == '2015-08-01']\n",
    "mar16 = flint_data[flint_data['date_collected'] == '2016-03-01']\n",
    "jul16 = flint_data[flint_data['date_collected'] == '2016-07-01']"
   ]
  },
  {
   "cell_type": "code",
   "execution_count": null,
   "metadata": {
    "collapsed": false
   },
   "outputs": [],
   "source": [
    "# break data into individual bottles (for each day)\n",
    "\n",
    "# note: data is in ppb, and we want to think about it in mg/L.\n",
    "# 1 part per million = 1 mg/L, so 1000 ppb = 1 mg/L.  \n",
    "# The EPA action limit is 0.015 mg/L, or 15 ppb.\n",
    "\n",
    "aug15_b1 = aug15[aug15['bottle_number']=='bottle1']\n",
    "aug15_b2 = aug15[aug15['bottle_number']=='bottle2']\n",
    "aug15_b3 = aug15[aug15['bottle_number']=='bottle3']\n",
    "\n",
    "mar16_b1 = mar16[mar16['bottle_number']=='bottle1']\n",
    "mar16_b2 = mar16[mar16['bottle_number']=='bottle2']\n",
    "mar16_b3 = mar16[mar16['bottle_number']=='bottle3']\n",
    "\n",
    "jul16_b1 = jul16[jul16['bottle_number']=='bottle1']\n",
    "jul16_b2 = jul16[jul16['bottle_number']=='bottle2']\n",
    "jul16_b3 = jul16[jul16['bottle_number']=='bottle3']"
   ]
  },
  {
   "cell_type": "markdown",
   "metadata": {},
   "source": [
    "**Note:** The raw data is in ppb, and we want to think about it in mg/L.\n",
    "1 part per million = 1 mg/L, so 1000 ppb = 1 mg/L.  \n",
    "The EPA action limit is 0.015 mg/L, or 15 ppb.\n",
    "\n",
    "Our strategy is to figure out what fraction of the houses are above the action limit for each day and for each bottle, and make a line plot of that showing the temporal evolution of the fraction of samples above the action limit."
   ]
  },
  {
   "cell_type": "code",
   "execution_count": null,
   "metadata": {
    "collapsed": false
   },
   "outputs": [],
   "source": [
    "aug15_b1['208Pb'].describe()"
   ]
  },
  {
   "cell_type": "code",
   "execution_count": null,
   "metadata": {
    "collapsed": false
   },
   "outputs": [],
   "source": [
    "# list containing all 3 days\n",
    "days = [1,2,3]\n",
    "\n",
    "\n",
    "'''\n",
    "What I do here is a very pithy way of describing things; what I'm doing is counting \n",
    "the number of lead samples above 15 ppb for a given bottle on a given day, and then \n",
    "dividing by the total number of lead samples for a given bottle on a given day. \n",
    "'''\n",
    "\n",
    "frac_aug15_b1 = aug15_b1['208Pb'][aug15_b1['208Pb'] > 15.0].count()/aug15_b1['208Pb'].count()\n",
    "frac_aug15_b2 = aug15_b2['208Pb'][aug15_b2['208Pb'] > 15.0].count()/aug15_b2['208Pb'].count()\n",
    "frac_aug15_b3 = aug15_b3['208Pb'][aug15_b3['208Pb'] > 15.0].count()/aug15_b3['208Pb'].count()\n",
    "\n",
    "frac_mar16_b1 = mar16_b1['208Pb'][mar16_b1['208Pb'] > 15.0].count()/mar16_b1['208Pb'].count()\n",
    "frac_mar16_b2 = mar16_b2['208Pb'][mar16_b2['208Pb'] > 15.0].count()/mar16_b2['208Pb'].count()\n",
    "frac_mar16_b3 = mar16_b3['208Pb'][mar16_b3['208Pb'] > 15.0].count()/mar16_b3['208Pb'].count()\n",
    "\n",
    "frac_jul16_b1 = jul16_b1['208Pb'][jul16_b1['208Pb'] > 15.0].count()/jul16_b1['208Pb'].count()\n",
    "frac_jul16_b2 = jul16_b2['208Pb'][jul16_b2['208Pb'] > 15.0].count()/jul16_b2['208Pb'].count()\n",
    "frac_jul16_b3 = jul16_b3['208Pb'][jul16_b3['208Pb'] > 15.0].count()/jul16_b3['208Pb'].count()\n",
    "\n",
    "\n",
    "# empty lists for bottle 1, 2, 3 evolution:\n",
    "\n",
    "b1_evol = [frac_aug15_b1,frac_mar16_b1,frac_jul16_b1]\n",
    "b2_evol = [frac_aug15_b2,frac_mar16_b2,frac_jul16_b2]\n",
    "b3_evol = [frac_aug15_b3,frac_mar16_b3,frac_jul16_b3]\n"
   ]
  },
  {
   "cell_type": "code",
   "execution_count": null,
   "metadata": {
    "collapsed": false
   },
   "outputs": [],
   "source": [
    "b1, = plt.plot(days,b1_evol,'bo--')\n",
    "b2, = plt.plot(days,b2_evol,'ro--')\n",
    "b3, = plt.plot(days,b3_evol,'go--')\n",
    "key, = plt.plot([0.9,3.1],[0.1,0.1],'k-')\n",
    "#plt.xlim(0.5,3.5)\n",
    "plt.ylim(0.0,0.2)\n",
    "plt.xlabel(\"Sample date\")\n",
    "plt.ylabel(\"Fraction of samples above limit\")\n",
    "plt.title(\"Fraction of samples above action limit\")\n",
    "plt.legend([b1,b2,b3,key],['Bottle 1', 'Bottle 2', 'Bottle 3', 'EPA cutoff'])\n",
    "plt.xticks([1,2,3],['2015-08-01','2016-03-01','2016-07-01'])\n",
    "plt.margins(0.3)\n",
    "#plt.legend()"
   ]
  },
  {
   "cell_type": "markdown",
   "metadata": {},
   "source": [
    "**Figure 1:** (above).   This figure shows the fraction of samples above the EPA's \"action limit\" of 15 mg/L for each of the three days of sampling, for all three bottles sampled from each house.  Bottle 1 typically has the highest lead value, bottle 2 the second-highest, and bottle 3 the third highest, which is what one would expect.  In the first two dates, Bottle 1 has more than 10% of samples above the action limit, and in the third date it is slightly below the action limit.  Overall, this indicates that the problem is getting slightly better over time, but is still worrisome."
   ]
  },
  {
   "cell_type": "code",
   "execution_count": null,
   "metadata": {
    "collapsed": false
   },
   "outputs": [],
   "source": [
    "aug15_b1_000 = aug15_b1['208Pb'].quantile(0.0)/1000\n",
    "aug15_b1_025 = aug15_b1['208Pb'].quantile(0.25)/1000\n",
    "aug15_b1_050 = aug15_b1['208Pb'].quantile(0.5)/1000\n",
    "aug15_b1_075 = aug15_b1['208Pb'].quantile(0.75)/1000\n",
    "aug15_b1_090 = aug15_b1['208Pb'].quantile(0.90)/1000\n",
    "aug15_b1_095 = aug15_b1['208Pb'].quantile(0.95)/1000\n",
    "aug15_b1_100 = aug15_b1['208Pb'].quantile(1.0)/1000\n",
    "\n",
    "mar16_b1_000 = mar16_b1['208Pb'].quantile(0.0)/1000\n",
    "mar16_b1_025 = mar16_b1['208Pb'].quantile(0.25)/1000\n",
    "mar16_b1_050 = mar16_b1['208Pb'].quantile(0.5)/1000\n",
    "mar16_b1_075 = mar16_b1['208Pb'].quantile(0.75)/1000\n",
    "mar16_b1_090 = mar16_b1['208Pb'].quantile(0.90)/1000\n",
    "mar16_b1_095 = mar16_b1['208Pb'].quantile(0.95)/1000\n",
    "mar16_b1_100 = mar16_b1['208Pb'].quantile(1.0)/1000\n",
    "\n",
    "jul16_b1_000 = jul16_b1['208Pb'].quantile(0.0)/1000\n",
    "jul16_b1_025 = jul16_b1['208Pb'].quantile(0.25)/1000\n",
    "jul16_b1_050 = jul16_b1['208Pb'].quantile(0.5)/1000\n",
    "jul16_b1_075 = jul16_b1['208Pb'].quantile(0.75)/1000\n",
    "jul16_b1_090 = jul16_b1['208Pb'].quantile(0.90)/1000\n",
    "jul16_b1_095 = jul16_b1['208Pb'].quantile(0.95)/1000\n",
    "jul16_b1_100 = jul16_b1['208Pb'].quantile(1.0)/1000\n",
    "\n",
    "b1_000 = [aug15_b1_000, mar16_b1_000, jul16_b1_000]\n",
    "b1_025 = [aug15_b1_025, mar16_b1_025, jul16_b1_025]\n",
    "b1_050 = [aug15_b1_050, mar16_b1_050, jul16_b1_050]\n",
    "b1_075 = [aug15_b1_075, mar16_b1_075, jul16_b1_075]\n",
    "b1_090 = [aug15_b1_090, mar16_b1_090, jul16_b1_090]\n",
    "b1_095 = [aug15_b1_095, mar16_b1_095, jul16_b1_095]\n",
    "b1_100 = [aug15_b1_100, mar16_b1_100, jul16_b1_100]"
   ]
  },
  {
   "cell_type": "code",
   "execution_count": null,
   "metadata": {
    "collapsed": false
   },
   "outputs": [],
   "source": [
    "b000, = plt.plot(days,b1_000,linewidth=2)\n",
    "b025, = plt.plot(days,b1_025,linewidth=2)\n",
    "b050, = plt.plot(days,b1_050,linewidth=2)\n",
    "b075, = plt.plot(days,b1_075,linewidth=2)\n",
    "b090, = plt.plot(days,b1_090,linewidth=2)\n",
    "b095, = plt.plot(days,b1_095,linewidth=2)\n",
    "b100, = plt.plot(days,b1_100,linewidth=2)\n",
    "key, = plt.plot([0.9,3.1],[0.015,0.015],'k--')\n",
    "\n",
    "plt.yscale('log')\n",
    "\n",
    "plt.xlim(0.5,4.0)\n",
    "plt.ylim(1.0e-4,3.0)\n",
    "plt.xlabel(\"Sample date\")\n",
    "plt.ylabel(\"Lead content [mg/L]\")\n",
    "plt.title(\"Bottle 1 lead content (various data percentiles)\")\n",
    "plt.legend([b000,b025,b050,b075,b090,b095,b100,key],['min','25%','50%','75%','90%','95%','max','action'],loc='upper right')\n",
    "plt.xticks([1,2,3],['2015-08-01','2016-03-01','2016-07-01'])\n",
    "plt.margins(0.3)\n"
   ]
  },
  {
   "cell_type": "markdown",
   "metadata": {},
   "source": [
    "**Figure 2:** (above).   This figure shows the lead content in water samples from Bottle 1 at various percentiles in each of the three dates, which effectively shows how the distributions change over time.  The various lines show where the minimim sample value is, 25th percentile, etc., all the way up to the maximum sample value.  This shows that the maximum lead measurements for Bottle 1 are always really high, but that the situation overall seems to be improving (as indicated by the values for houses between the 50th and 95th percentile generally decreasing over time).  Nearly 10% of the houses are still over the action limit as of July 2016, and probably around 8% are still over it."
   ]
  },
  {
   "cell_type": "markdown",
   "metadata": {},
   "source": [
    "**Summary of results:**  Figures 1 and 2 (above) show that things were bad in August 2015 - around 16% of houses had lead limits above the EPA max limit of 0.015 mg/L for the first sample taken from each house, and quite a few of them vastly exceeded the EPA action limit (10% were at least 2x that limit, and 5% were 4x that limit).  Over time the situation has gotten better - slightly less than 10% of the samples were over the limit as of July 2016 for the first sample taken from each house - but quite a few of the houses are still substantially over the EPA limit.\n",
    "\n",
    "One could take the two figures shown to say that the problem is getting better and that nothing further should be done, because 10% of the houses are no longer above the EPA's action limit for lead.  This is a reasonable argument, but doesn't consider the whole story - some houses still have extraordinarily high lead levels, and almost 10% of the houses DO have lead levels above the EPA action limit."
   ]
  },
  {
   "cell_type": "markdown",
   "metadata": {},
   "source": [
    "----\n",
    "\n",
    "## Section 4: Feedback (required!)"
   ]
  },
  {
   "cell_type": "code",
   "execution_count": null,
   "metadata": {
    "collapsed": false
   },
   "outputs": [],
   "source": [
    "from IPython.display import HTML\n",
    "HTML(\n",
    "\"\"\"\n",
    "<iframe\n",
    "    src=\"https://docs.google.com/forms/d/e/1FAIpQLSd0yvuDR2XP5QhWHJZTZHgsSi84QAZU7x-C9NEA40y6NnArAA/viewform?embedded=true\" \n",
    "    width=\"80%\" \n",
    "    height=\"1200px\" \n",
    "    frameborder=\"0\" \n",
    "    marginheight=\"0\" \n",
    "    marginwidth=\"0\">\n",
    "    Loading...\n",
    "</iframe>\n",
    "\"\"\"\n",
    ")"
   ]
  },
  {
   "cell_type": "markdown",
   "metadata": {},
   "source": [
    "----\n",
    "\n",
    "# Congratulations, you're done!\n",
    "\n",
    "## How to submit this assignment\n",
    "\n",
    "Log into the course Desire2Learn website (d2l.msu.edu) and go to the \"Homework assignments\" folder.  There will be a dropbox labeled \"Homework 1\".  Upload this notebook there. "
   ]
  }
 ],
 "metadata": {
  "anaconda-cloud": {},
  "kernelspec": {
   "display_name": "Python 3",
   "language": "python",
   "name": "python3"
  },
  "language_info": {
   "codemirror_mode": {
    "name": "ipython",
    "version": 3
   },
   "file_extension": ".py",
   "mimetype": "text/x-python",
   "name": "python",
   "nbconvert_exporter": "python",
   "pygments_lexer": "ipython3",
   "version": "3.5.1"
  }
 },
 "nbformat": 4,
 "nbformat_minor": 0
}
