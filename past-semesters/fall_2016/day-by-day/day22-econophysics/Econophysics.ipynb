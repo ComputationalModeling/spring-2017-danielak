{
 "cells": [
  {
   "cell_type": "markdown",
   "metadata": {},
   "source": [
    "# Econophysics"
   ]
  },
  {
   "cell_type": "markdown",
   "metadata": {},
   "source": [
    "## Names of group members"
   ]
  },
  {
   "cell_type": "markdown",
   "metadata": {},
   "source": [
    "// put your names here!"
   ]
  },
  {
   "cell_type": "markdown",
   "metadata": {},
   "source": [
    "## Goals of this assignment\n",
    "\n",
    "- **Witness** what we call \"emergent behavior\"; large patterns manifesting from the simple interactions of individual agents\n",
    "- **Develop** a graphical way to show the dispersion of money across a society (i.e., collection of agents).\n",
    "- **Create** a working implementation of an econophysics game that you'll design"
   ]
  },
  {
   "cell_type": "markdown",
   "metadata": {},
   "source": [
    "## Econophysics\n",
    "\n",
    "The term \"[econophysics](https://en.wikipedia.org/wiki/Econophysics)\" refers to an interdisciplinary research field that uses tools and theories developed by physicists to solve problems relating to economics and finance.  These types of models often use statistical methods, or tools developed to describe chaotic systems.\n",
    "\n",
    "In this exercise, we're going to revisit something you did on the first day of class - the \"In for a penny, in for a pound\" example of economic transactions.  We'll first play two variants of the game, and then we'll figure out how to implement it as a piece of software."
   ]
  },
  {
   "cell_type": "markdown",
   "metadata": {},
   "source": [
    "## Playing \"In For a Penny\"\n",
    "\n",
    "In this model, each \"agent\" starts with one penny.  Some number of rounds are played, and during each round:\n",
    "\n",
    "1. Agents with money find each other.\n",
    "2. Each agent wagers one penny, and by some random but fair process (flipping a coin, paper-rock-scissors, etc.) pick a winner.\n",
    "3. The winner gets the loser's penny.\n",
    "\n",
    "Before playing, think a bit about the following questions:\n",
    "\n",
    "* What will the distribution of money be before the game starts?\n",
    "* What about after one round?\n",
    "* What about after several rounds of the game?  (Say, 5 rounds.)\n",
    "* How much money do you personally expect to end up with?\n",
    "\n",
    "### Now, play the game!\n",
    "\n",
    "Make some notes about how the outcome agreed with your predictions:"
   ]
  },
  {
   "cell_type": "markdown",
   "metadata": {},
   "source": [
    "Put your answers here!"
   ]
  },
  {
   "cell_type": "markdown",
   "metadata": {},
   "source": [
    "## Playing \"In for a pound\"\n",
    "\n",
    "Now, let's change the game.  What happens when, instead of starting with 1 penny apiece, we start with $N > 1$ pennies apiece?\n",
    "\n",
    "Make predictions with your group (answering the questions above).\n",
    "\n",
    "### Now, play the game!\n",
    "\n",
    "Make some notes about how the outcome agreed with your predictions:"
   ]
  },
  {
   "cell_type": "markdown",
   "metadata": {},
   "source": [
    "put your answers here!"
   ]
  },
  {
   "cell_type": "markdown",
   "metadata": {},
   "source": [
    "## Now, let's implement this in software.\n",
    "\n",
    "Write a program to implement the model described above, with:\n",
    "\n",
    "* A user-specified number of agents, `number_of_agents`\n",
    "* A user-specified amount of starting money, `starting_money`\n",
    "* A user-specified number of rounds, `number_of_rounds`\n",
    "\n",
    "Also, plot out how much money each agent has once the model is run.  \n",
    "\n",
    "**First,** put together a pseudo-code version of your implementation to think through your logic.  What operations need to take place?  Check with an instructor before going on!\n",
    "\n",
    "**Then,** implement your code.\n",
    "\n",
    "**After that, test your code** by reproducing the two models you've implemented above.  Is the behavior like what you'd expect?\n",
    "\n",
    "**Finally, make a prediction** about something that's impractical to do as a physical experiment.  In this case, let's see what would happen with a large number of agents (say, 250 agents) that have lots of money (say, 10 coins) after 100 rounds.  Try plotting a histogram to see the distribution of money!"
   ]
  },
  {
   "cell_type": "code",
   "execution_count": null,
   "metadata": {
    "collapsed": true
   },
   "outputs": [],
   "source": [
    "# Put your code here!\n",
    "\n",
    "\n"
   ]
  },
  {
   "cell_type": "markdown",
   "metadata": {},
   "source": [
    "### Assignment wrapup\n",
    "\n",
    "Please fill out the form that appears when you run the code below.  **You must completely fill this out in order to receive credit for the assignment!**"
   ]
  },
  {
   "cell_type": "code",
   "execution_count": null,
   "metadata": {
    "collapsed": false
   },
   "outputs": [],
   "source": [
    "from IPython.display import HTML\n",
    "HTML(\n",
    "\"\"\"\n",
    "<iframe \n",
    "\tsrc=\"https://goo.gl/forms/ruc09jXCzGfbap6V2?embedded=true\" \n",
    "\twidth=\"80%\" \n",
    "\theight=\"1200px\" \n",
    "\tframeborder=\"0\" \n",
    "\tmarginheight=\"0\" \n",
    "\tmarginwidth=\"0\">\n",
    "\tLoading...\n",
    "</iframe>\n",
    "\"\"\"\n",
    ")"
   ]
  },
  {
   "cell_type": "markdown",
   "metadata": {},
   "source": [
    "## Turn it in!\n",
    "\n",
    "Turn this assignment in to the Day 22 dropbox in the \"in-class activities\" folder."
   ]
  }
 ],
 "metadata": {
  "kernelspec": {
   "display_name": "Python 3",
   "language": "python",
   "name": "python3"
  },
  "language_info": {
   "codemirror_mode": {
    "name": "ipython",
    "version": 3
   },
   "file_extension": ".py",
   "mimetype": "text/x-python",
   "name": "python",
   "nbconvert_exporter": "python",
   "pygments_lexer": "ipython3",
   "version": "3.5.1"
  },
  "toc": {
   "toc_cell": false,
   "toc_number_sections": true,
   "toc_threshold": 4,
   "toc_window_display": false
  }
 },
 "nbformat": 4,
 "nbformat_minor": 0
}
