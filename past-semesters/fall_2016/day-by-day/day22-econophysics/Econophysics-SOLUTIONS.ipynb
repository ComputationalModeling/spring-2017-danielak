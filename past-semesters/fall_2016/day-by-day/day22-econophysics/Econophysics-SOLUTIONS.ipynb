{
 "cells": [
  {
   "cell_type": "markdown",
   "metadata": {},
   "source": [
    "# Econophysics"
   ]
  },
  {
   "cell_type": "markdown",
   "metadata": {},
   "source": [
    "## Names of group members"
   ]
  },
  {
   "cell_type": "markdown",
   "metadata": {},
   "source": [
    "// put your names here!"
   ]
  },
  {
   "cell_type": "markdown",
   "metadata": {},
   "source": [
    "## Goals of this assignment\n",
    "\n",
    "- **Witness** what we call \"emergent behavior\"; large patterns manifesting from the simple interactions of individual agents\n",
    "- **Develop** a graphical way to show the dispersion of money across a society (i.e., collection of agents).\n",
    "- **Create** a working implementation of an econophysics game that you'll design"
   ]
  },
  {
   "cell_type": "markdown",
   "metadata": {},
   "source": [
    "## Econophysics\n",
    "\n",
    "The term \"[econophysics](https://en.wikipedia.org/wiki/Econophysics)\" refers to an interdisciplinary research field that uses tools and theories developed by physicists to solve problems relating to economics and finance.  These types of models often use statistical methods, or tools developed to describe chaotic systems.\n",
    "\n",
    "In this exercise, we're going to revisit something you did on the first day of class - the \"In for a penny, in for a pound\" example of economic transactions.  We'll first play two variants of the game, and then we'll figure out how to implement it as a piece of software."
   ]
  },
  {
   "cell_type": "markdown",
   "metadata": {},
   "source": [
    "## Playing \"In For a Penny\"\n",
    "\n",
    "In this model, each \"agent\" starts with one penny.  Some number of rounds are played, and during each round:\n",
    "\n",
    "1. Agents with money find each other.\n",
    "2. Each agent wagers one penny, and by some random but fair process (flipping a coin, paper-rock-scissors, etc.) pick a winner.\n",
    "3. The winner gets the loser's penny.\n",
    "\n",
    "Before playing, think a bit about the following questions:\n",
    "\n",
    "* What will the distribution of money be before the game starts?\n",
    "* What about after one round?\n",
    "* What about after several rounds of the game?  (Say, 5 rounds.)\n",
    "* How much money do you personally expect to end up with?\n",
    "\n",
    "### Now, play the game!\n",
    "\n",
    "Make some notes about how the outcome agreed with your predictions:"
   ]
  },
  {
   "cell_type": "markdown",
   "metadata": {},
   "source": [
    "Put your answers here!"
   ]
  },
  {
   "cell_type": "markdown",
   "metadata": {},
   "source": [
    "## Playing \"In for a pound\"\n",
    "\n",
    "Now, let's change the game.  What happens when, instead of starting with 1 penny apiece, we start with $N > 1$ pennies apiece?\n",
    "\n",
    "Make predictions with your group (answering the questions above).\n",
    "\n",
    "### Now, play the game!\n",
    "\n",
    "Make some notes about how the outcome agreed with your predictions:"
   ]
  },
  {
   "cell_type": "markdown",
   "metadata": {},
   "source": [
    "put your answers here!"
   ]
  },
  {
   "cell_type": "markdown",
   "metadata": {},
   "source": [
    "## Now, let's implement this in software.\n",
    "\n",
    "Write a program to implement the model described above, with:\n",
    "\n",
    "* A user-specified number of agents, `number_of_agents`\n",
    "* A user-specified amount of starting money, `starting_money`\n",
    "* A user-specified number of rounds, `number_of_rounds`\n",
    "\n",
    "Also, plot out how much money each agent has once the model is run.  \n",
    "\n",
    "**First,** put together a pseudo-code version of your implementation to think through your logic.  What operations need to take place?  Check with an instructor before going on!\n",
    "\n",
    "**Then,** implement your code.\n",
    "\n",
    "**After that, test your code** by reproducing the two models you've implemented above.  Is the behavior like what you'd expect?\n",
    "\n",
    "**Finally, make a prediction** about something that's impractical to do as a physical experiment.  In this case, let's see what would happen with a large number of agents (say, 250 agents) that have lots of money (say, 10 coins) after 100 rounds.  Try plotting a histogram to see the distribution of money!"
   ]
  },
  {
   "cell_type": "code",
   "execution_count": null,
   "metadata": {
    "collapsed": false
   },
   "outputs": [],
   "source": [
    "# Put your code here!\n",
    "%matplotlib inline\n",
    "import matplotlib.pyplot as plt\n",
    "import numpy as np\n",
    "import numpy.random as rand\n",
    "\n",
    "def econophysics_game(number_of_agents = 16, starting_money = 1, number_of_rounds = 5):\n",
    "    '''\n",
    "    Plays the game.\n",
    "    Inputs:  \n",
    "        number_of_agents: number of agents playing the game (default 16)\n",
    "        starting_money: starting amount of money in integer units (default 1)\n",
    "        number_of_rounds: number of rounds in the game (default 5)\n",
    "        \n",
    "    Returns: numpy array with final distribution of money among agents\n",
    "    '''\n",
    "    \n",
    "    # gives everybody money\n",
    "    agent_money = np.full(number_of_agents, starting_money, dtype='int64')\n",
    "\n",
    "    turn = 0\n",
    "    \n",
    "    print(\"starting:\", agent_money)\n",
    "\n",
    "    # loop for the number of rounds we want to play\n",
    "    while turn < number_of_rounds:\n",
    "\n",
    "        # assign partners\n",
    "        partners = find_partners(agent_money)\n",
    "        \n",
    "        # flip a coin to hand out money\n",
    "        agent_money = make_trades(agent_money, partners)\n",
    "    \n",
    "        turn += 1\n",
    "\n",
    "    print(\"final:   \", agent_money)\n",
    "\n",
    "    return agent_money\n",
    "\n",
    "\n",
    "def find_partners(agent_money):\n",
    "    '''\n",
    "    Finds partners for each agent that has money.\n",
    "    Input: array of money per agent\n",
    "    Returns: array of identical size with lists of partners (w/o partner has value of -1)\n",
    "    '''\n",
    "\n",
    "    # make our partner array and set all the values to -1\n",
    "    partners = np.full_like(agent_money,-1)\n",
    "    \n",
    "    # loop over all of the partners\n",
    "    for i in range(partners.size):\n",
    "\n",
    "        # if this agent has money and does not yet have a partner,\n",
    "        # then find it a partner.\n",
    "        if agent_money[i] > 0 and partners[i] < 0:\n",
    "            \n",
    "            # try a bunch of times to find a partner for this agent.\n",
    "            # we're giving a hard upper bound of number of tries, which\n",
    "            # is the number of agents squared.  (This is arbitrary.)\n",
    "            for j in range(partners.size**2):\n",
    "\n",
    "                # randomly pick a possible partner for my agent\n",
    "                part=rand.randint(0,partners.size)\n",
    "\n",
    "                # if the potential partner has money and doesn't yet have a\n",
    "                # partner, make it my partner and break the loop.\n",
    "                if agent_money[part] > 0 and partners[part] < 0 and part != i:\n",
    "                    partners[i] = part\n",
    "                    partners[part] = i\n",
    "                    break\n",
    "\n",
    "    return partners\n",
    "\n",
    "def make_trades(agent_money, partners, amount_per_bet = 1):\n",
    "    '''\n",
    "    Actually makes the trades.\n",
    "    Inputs: \n",
    "        array of amount of money that the agents have\n",
    "        array of partners\n",
    "        and amount per bet.\n",
    "    Output: new array of money that agents have\n",
    "    '''\n",
    "\n",
    "    # loop over the partners\n",
    "    for i in range(partners.size):\n",
    "        \n",
    "        # if the agent has money and the partner has an index greater than the partner\n",
    "        # (which ensures that we only hit each pair one time), then we flip a coin\n",
    "        if agent_money[i] > 0 and partners[i] > i:\n",
    "            \n",
    "            # flip a coin.  If it comes up 0, this agent wins and takes amount_per_bet\n",
    "            # from its partner.  If it comes up 1, it goes the other way.\n",
    "            if rand.randint(0,2) > 0:\n",
    "                agent_money[i] += amount_per_bet\n",
    "                agent_money[partners[i]] -= amount_per_bet\n",
    "            else:\n",
    "                agent_money[i] -= amount_per_bet\n",
    "                agent_money[partners[i]] += amount_per_bet\n",
    "            \n",
    "            # regardless of the outcome, these partners have now bet and we're done.\n",
    "            partners[i] = partners[partners[i]] = -1\n",
    "\n",
    "    return agent_money"
   ]
  },
  {
   "cell_type": "code",
   "execution_count": null,
   "metadata": {
    "collapsed": false
   },
   "outputs": [],
   "source": [
    "num_agents = 256\n",
    "start_money = 10\n",
    "num_rounds = 100\n",
    "\n",
    "agent_money = econophysics_game(number_of_agents = num_agents,\n",
    "                                starting_money=start_money,\n",
    "                                number_of_rounds=num_rounds)\n",
    "\n",
    "plt.subplot(1, 2, 1)\n",
    "plt.plot([0,num_agents],[start_money,start_money],'r-',linewidth=2,alpha=0.5)\n",
    "plt.plot([0,num_agents],[0,0],'k-',alpha=0.1,linewidth=3)\n",
    "plt.plot(agent_money,'bD')\n",
    "plt.ylim(-1,agent_money.max()+1)\n",
    "plt.xlim(-1,num_agents+1)\n",
    "\n",
    "plt.subplot(1,2,2)\n",
    "plt.hist(agent_money)\n"
   ]
  },
  {
   "cell_type": "markdown",
   "metadata": {},
   "source": [
    "### Assignment wrapup\n",
    "\n",
    "Please fill out the form that appears when you run the code below.  **You must completely fill this out in order to receive credit for the assignment!**"
   ]
  },
  {
   "cell_type": "code",
   "execution_count": null,
   "metadata": {
    "collapsed": false
   },
   "outputs": [],
   "source": [
    "from IPython.display import HTML\n",
    "HTML(\n",
    "\"\"\"\n",
    "<iframe \n",
    "\tsrc=\"https://goo.gl/forms/ruc09jXCzGfbap6V2?embedded=true\" \n",
    "\twidth=\"80%\" \n",
    "\theight=\"1200px\" \n",
    "\tframeborder=\"0\" \n",
    "\tmarginheight=\"0\" \n",
    "\tmarginwidth=\"0\">\n",
    "\tLoading...\n",
    "</iframe>\n",
    "\"\"\"\n",
    ")"
   ]
  },
  {
   "cell_type": "markdown",
   "metadata": {},
   "source": [
    "## Turn it in!\n",
    "\n",
    "Turn this assignment in to the Day 22 dropbox in the \"in-class activities\" folder."
   ]
  }
 ],
 "metadata": {
  "kernelspec": {
   "display_name": "Python 3",
   "language": "python",
   "name": "python3"
  },
  "language_info": {
   "codemirror_mode": {
    "name": "ipython",
    "version": 3
   },
   "file_extension": ".py",
   "mimetype": "text/x-python",
   "name": "python",
   "nbconvert_exporter": "python",
   "pygments_lexer": "ipython3",
   "version": "3.5.1"
  },
  "toc": {
   "toc_cell": false,
   "toc_number_sections": true,
   "toc_threshold": 4,
   "toc_window_display": false
  }
 },
 "nbformat": 4,
 "nbformat_minor": 0
}
