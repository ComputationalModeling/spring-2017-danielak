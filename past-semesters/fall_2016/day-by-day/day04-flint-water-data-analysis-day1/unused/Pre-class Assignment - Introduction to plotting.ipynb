{
 "cells": [
  {
   "cell_type": "markdown",
   "metadata": {
    "nbpresent": {
     "id": "a19e59bd-9556-469d-acd9-f9f16fc15609"
    }
   },
   "source": [
    "# Pre-class Assignment - Introduction to Plotting"
   ]
  },
  {
   "cell_type": "markdown",
   "metadata": {},
   "source": [
    "## Put your name here\n",
    "\n"
   ]
  },
  {
   "cell_type": "markdown",
   "metadata": {
    "nbpresent": {
     "id": "84185582-5b0f-4aa2-95ba-5b24084bab1f"
    }
   },
   "source": [
    "## Goals for today's pre-class assignment\n",
    "\n",
    "By the end of this assignment, you will be able to:\n",
    "\n",
    "* Make sure that you can get a Jupyter notebook up and running!\n",
    "* See what Python code looks like.\n",
    "* Create your first plots using Python!\n",
    "* Learn about Python, IPython, and IPython notebooks and understand why we're using it in class."
   ]
  },
  {
   "cell_type": "code",
   "execution_count": 2,
   "metadata": {
    "collapsed": true,
    "nbpresent": {
     "id": "ef4215f9-5671-41c6-8791-c70b7b4ddc6b"
    }
   },
   "outputs": [],
   "source": [
    "# The command below this comment imports the functionality that we need to display \n",
    "# YouTube videos in a Jupyter Notebook.  You need to run this cell before you\n",
    "# run ANY of the YouTube videos.\n",
    "\n",
    "from IPython.display import YouTubeVideo"
   ]
  },
  {
   "cell_type": "code",
   "execution_count": 3,
   "metadata": {
    "collapsed": false,
    "nbpresent": {
     "id": "5ed69f8d-e25e-4f88-b748-d8676961a7f7"
    }
   },
   "outputs": [],
   "source": [
    "# REPLACE THIS VIDEO WITH A PLOTTING VIDEO\n",
    "# YouTubeVideo(\"jT0KZ849fak\",width=640,height=360)"
   ]
  },
  {
   "cell_type": "markdown",
   "metadata": {
    "nbpresent": {
     "id": "90b8e20b-268b-4d8f-ae7d-6adbe0171962"
    }
   },
   "source": [
    "# Rule #1 - Don't Panic\n",
    "\n",
    "You may never have seen code before. You may never even have written code before. **That's OK**.\n",
    "\n",
    "![Don't Panic and always carry a towel](http://www.ajbubb.com/wp-content/uploads/2013/03/don__t_panic_and_carry_a_towel_by_ashique47-d3fu8qd.jpg)"
   ]
  },
  {
   "cell_type": "markdown",
   "metadata": {
    "nbpresent": {
     "id": "f5b17a7b-4af3-4923-897c-ffd9ce1dc825"
    }
   },
   "source": [
    "# Rule #2 - \"I don't understand this *YET*\"\n",
    "\n",
    "In addition to not panicking (see Rule 1, above), try to reframe your thinking. \n",
    "\n",
    "Any time you would say \"I don't understand this 😱😫😤😭\", you will instead say to yourself\n",
    "\n",
    "> **I don't understand this YET. But I will 🤔🤔💻👍🏾**"
   ]
  },
  {
   "cell_type": "markdown",
   "metadata": {
    "nbpresent": {
     "id": "93cd940a-a939-4b7b-8097-824e059b8df8"
    }
   },
   "source": [
    "# Read Rule #2 again.\n",
    "\n",
    "Seriously. When we change the way we talk about ourselves, we can change our whole attitude about learning. "
   ]
  },
  {
   "cell_type": "markdown",
   "metadata": {
    "nbpresent": {
     "id": "7a3f49e1-a296-4517-a328-51750269ef50"
    }
   },
   "source": [
    "# Alright, let's make some plots!"
   ]
  },
  {
   "cell_type": "markdown",
   "metadata": {},
   "source": [
    "## First plot - how do cholesterol values vary?"
   ]
  },
  {
   "cell_type": "code",
   "execution_count": 4,
   "metadata": {
    "collapsed": false,
    "nbpresent": {
     "id": "acb217ea-fcb1-4cd9-9cf4-4f7d5fb2d311"
    }
   },
   "outputs": [
    {
     "data": {
      "text/plain": [
       "<matplotlib.axes._subplots.AxesSubplot at 0x1094e5860>"
      ]
     },
     "execution_count": 4,
     "metadata": {},
     "output_type": "execute_result"
    },
    {
     "data": {
      "image/png": "[encoded data removed]",
      "text/plain": [
       "<matplotlib.figure.Figure at 0x1094ee630>"
      ]
     },
     "metadata": {},
     "output_type": "display_data"
    }
   ],
   "source": [
    "# Make plots inline\n",
    "%matplotlib inline\n",
    "\n",
    "# Make inline plots vector graphics instead of raster graphics\n",
    "#from IPython.display import set_matplotlib_formats\n",
    "#set_matplotlib_formats('pdf', 'svg')\n",
    "\n",
    "# import modules for plotting and data analysis\n",
    "#import matplotlib.pyplot # as plt\n",
    "#import numpy\n",
    "import pandas\n",
    "#import seaborn\n",
    "\n",
    "# from http://www.datasets.co/dataset/Heart-Disease\n",
    "heart_disease_data = pandas.read_json(\"\"\"[{\"observation_number\":0,\"age\":67,\"sex\":1,\"cp\":4,\"trestbps\":160,\"chol\":286,\"fbs\":0,\"restecg\":2,\"thalach\":108,\"exang\":1,\"oldpeak\":1.5,\"slope\":2,\"ca\":\"3.0\",\"thal\":\"3.0\",\"num\":2},{\"observation_number\":1,\"age\":67,\"sex\":1,\"cp\":4,\"trestbps\":120,\"chol\":229,\"fbs\":0,\"restecg\":2,\"thalach\":129,\"exang\":1,\"oldpeak\":2.6,\"slope\":2,\"ca\":\"2.0\",\"thal\":\"7.0\",\"num\":1},{\"observation_number\":2,\"age\":37,\"sex\":1,\"cp\":3,\"trestbps\":130,\"chol\":250,\"fbs\":0,\"restecg\":0,\"thalach\":187,\"exang\":0,\"oldpeak\":3.5,\"slope\":3,\"ca\":\"0.0\",\"thal\":\"3.0\",\"num\":0},{\"observation_number\":3,\"age\":41,\"sex\":0,\"cp\":2,\"trestbps\":130,\"chol\":204,\"fbs\":0,\"restecg\":2,\"thalach\":172,\"exang\":0,\"oldpeak\":1.4,\"slope\":1,\"ca\":\"0.0\",\"thal\":\"3.0\",\"num\":0},{\"observation_number\":4,\"age\":56,\"sex\":1,\"cp\":2,\"trestbps\":120,\"chol\":236,\"fbs\":0,\"restecg\":0,\"thalach\":178,\"exang\":0,\"oldpeak\":0.8,\"slope\":1,\"ca\":\"0.0\",\"thal\":\"3.0\",\"num\":0},{\"observation_number\":5,\"age\":62,\"sex\":0,\"cp\":4,\"trestbps\":140,\"chol\":268,\"fbs\":0,\"restecg\":2,\"thalach\":160,\"exang\":0,\"oldpeak\":3.6,\"slope\":3,\"ca\":\"2.0\",\"thal\":\"3.0\",\"num\":3},{\"observation_number\":6,\"age\":57,\"sex\":0,\"cp\":4,\"trestbps\":120,\"chol\":354,\"fbs\":0,\"restecg\":0,\"thalach\":163,\"exang\":1,\"oldpeak\":0.6,\"slope\":1,\"ca\":\"0.0\",\"thal\":\"3.0\",\"num\":0},{\"observation_number\":7,\"age\":63,\"sex\":1,\"cp\":4,\"trestbps\":130,\"chol\":254,\"fbs\":0,\"restecg\":2,\"thalach\":147,\"exang\":0,\"oldpeak\":1.4,\"slope\":2,\"ca\":\"1.0\",\"thal\":\"7.0\",\"num\":2},{\"observation_number\":8,\"age\":53,\"sex\":1,\"cp\":4,\"trestbps\":140,\"chol\":203,\"fbs\":1,\"restecg\":2,\"thalach\":155,\"exang\":1,\"oldpeak\":3.1,\"slope\":3,\"ca\":\"0.0\",\"thal\":\"7.0\",\"num\":1},{\"observation_number\":9,\"age\":57,\"sex\":1,\"cp\":4,\"trestbps\":140,\"chol\":192,\"fbs\":0,\"restecg\":0,\"thalach\":148,\"exang\":0,\"oldpeak\":0.4,\"slope\":2,\"ca\":\"0.0\",\"thal\":\"6.0\",\"num\":0},{\"observation_number\":10,\"age\":56,\"sex\":0,\"cp\":2,\"trestbps\":140,\"chol\":294,\"fbs\":0,\"restecg\":2,\"thalach\":153,\"exang\":0,\"oldpeak\":1.3,\"slope\":2,\"ca\":\"0.0\",\"thal\":\"3.0\",\"num\":0},{\"observation_number\":11,\"age\":56,\"sex\":1,\"cp\":3,\"trestbps\":130,\"chol\":256,\"fbs\":1,\"restecg\":2,\"thalach\":142,\"exang\":1,\"oldpeak\":0.6,\"slope\":2,\"ca\":\"1.0\",\"thal\":\"6.0\",\"num\":2},{\"observation_number\":12,\"age\":44,\"sex\":1,\"cp\":2,\"trestbps\":120,\"chol\":263,\"fbs\":0,\"restecg\":0,\"thalach\":173,\"exang\":0,\"oldpeak\":0,\"slope\":1,\"ca\":\"0.0\",\"thal\":\"7.0\",\"num\":0},{\"observation_number\":13,\"age\":52,\"sex\":1,\"cp\":3,\"trestbps\":172,\"chol\":199,\"fbs\":1,\"restecg\":0,\"thalach\":162,\"exang\":0,\"oldpeak\":0.5,\"slope\":1,\"ca\":\"0.0\",\"thal\":\"7.0\",\"num\":0},{\"observation_number\":14,\"age\":57,\"sex\":1,\"cp\":3,\"trestbps\":150,\"chol\":168,\"fbs\":0,\"restecg\":0,\"thalach\":174,\"exang\":0,\"oldpeak\":1.6,\"slope\":1,\"ca\":\"0.0\",\"thal\":\"3.0\",\"num\":0},{\"observation_number\":15,\"age\":48,\"sex\":1,\"cp\":2,\"trestbps\":110,\"chol\":229,\"fbs\":0,\"restecg\":0,\"thalach\":168,\"exang\":0,\"oldpeak\":1,\"slope\":3,\"ca\":\"0.0\",\"thal\":\"7.0\",\"num\":1},{\"observation_number\":16,\"age\":54,\"sex\":1,\"cp\":4,\"trestbps\":140,\"chol\":239,\"fbs\":0,\"restecg\":0,\"thalach\":160,\"exang\":0,\"oldpeak\":1.2,\"slope\":1,\"ca\":\"0.0\",\"thal\":\"3.0\",\"num\":0},{\"observation_number\":17,\"age\":48,\"sex\":0,\"cp\":3,\"trestbps\":130,\"chol\":275,\"fbs\":0,\"restecg\":0,\"thalach\":139,\"exang\":0,\"oldpeak\":0.2,\"slope\":1,\"ca\":\"0.0\",\"thal\":\"3.0\",\"num\":0},{\"observation_number\":18,\"age\":49,\"sex\":1,\"cp\":2,\"trestbps\":130,\"chol\":266,\"fbs\":0,\"restecg\":0,\"thalach\":171,\"exang\":0,\"oldpeak\":0.6,\"slope\":1,\"ca\":\"0.0\",\"thal\":\"3.0\",\"num\":0},{\"observation_number\":19,\"age\":64,\"sex\":1,\"cp\":1,\"trestbps\":110,\"chol\":211,\"fbs\":0,\"restecg\":2,\"thalach\":144,\"exang\":1,\"oldpeak\":1.8,\"slope\":2,\"ca\":\"0.0\",\"thal\":\"3.0\",\"num\":0},{\"observation_number\":20,\"age\":58,\"sex\":0,\"cp\":1,\"trestbps\":150,\"chol\":283,\"fbs\":1,\"restecg\":2,\"thalach\":162,\"exang\":0,\"oldpeak\":1,\"slope\":1,\"ca\":\"0.0\",\"thal\":\"3.0\",\"num\":0},{\"observation_number\":21,\"age\":58,\"sex\":1,\"cp\":2,\"trestbps\":120,\"chol\":284,\"fbs\":0,\"restecg\":2,\"thalach\":160,\"exang\":0,\"oldpeak\":1.8,\"slope\":2,\"ca\":\"0.0\",\"thal\":\"3.0\",\"num\":1},{\"observation_number\":22,\"age\":58,\"sex\":1,\"cp\":3,\"trestbps\":132,\"chol\":224,\"fbs\":0,\"restecg\":2,\"thalach\":173,\"exang\":0,\"oldpeak\":3.2,\"slope\":1,\"ca\":\"2.0\",\"thal\":\"7.0\",\"num\":3},{\"observation_number\":23,\"age\":60,\"sex\":1,\"cp\":4,\"trestbps\":130,\"chol\":206,\"fbs\":0,\"restecg\":2,\"thalach\":132,\"exang\":1,\"oldpeak\":2.4,\"slope\":2,\"ca\":\"2.0\",\"thal\":\"7.0\",\"num\":4},{\"observation_number\":24,\"age\":50,\"sex\":0,\"cp\":3,\"trestbps\":120,\"chol\":219,\"fbs\":0,\"restecg\":0,\"thalach\":158,\"exang\":0,\"oldpeak\":1.6,\"slope\":2,\"ca\":\"0.0\",\"thal\":\"3.0\",\"num\":0},{\"observation_number\":25,\"age\":58,\"sex\":0,\"cp\":3,\"trestbps\":120,\"chol\":340,\"fbs\":0,\"restecg\":0,\"thalach\":172,\"exang\":0,\"oldpeak\":0,\"slope\":1,\"ca\":\"0.0\",\"thal\":\"3.0\",\"num\":0},{\"observation_number\":26,\"age\":66,\"sex\":0,\"cp\":1,\"trestbps\":150,\"chol\":226,\"fbs\":0,\"restecg\":0,\"thalach\":114,\"exang\":0,\"oldpeak\":2.6,\"slope\":3,\"ca\":\"0.0\",\"thal\":\"3.0\",\"num\":0},{\"observation_number\":27,\"age\":43,\"sex\":1,\"cp\":4,\"trestbps\":150,\"chol\":247,\"fbs\":0,\"restecg\":0,\"thalach\":171,\"exang\":0,\"oldpeak\":1.5,\"slope\":1,\"ca\":\"0.0\",\"thal\":\"3.0\",\"num\":0},{\"observation_number\":28,\"age\":40,\"sex\":1,\"cp\":4,\"trestbps\":110,\"chol\":167,\"fbs\":0,\"restecg\":2,\"thalach\":114,\"exang\":1,\"oldpeak\":2,\"slope\":2,\"ca\":\"0.0\",\"thal\":\"7.0\",\"num\":3},{\"observation_number\":29,\"age\":69,\"sex\":0,\"cp\":1,\"trestbps\":140,\"chol\":239,\"fbs\":0,\"restecg\":0,\"thalach\":151,\"exang\":0,\"oldpeak\":1.8,\"slope\":1,\"ca\":\"2.0\",\"thal\":\"3.0\",\"num\":0},{\"observation_number\":30,\"age\":60,\"sex\":1,\"cp\":4,\"trestbps\":117,\"chol\":230,\"fbs\":1,\"restecg\":0,\"thalach\":160,\"exang\":1,\"oldpeak\":1.4,\"slope\":1,\"ca\":\"2.0\",\"thal\":\"7.0\",\"num\":2},{\"observation_number\":31,\"age\":64,\"sex\":1,\"cp\":3,\"trestbps\":140,\"chol\":335,\"fbs\":0,\"restecg\":0,\"thalach\":158,\"exang\":0,\"oldpeak\":0,\"slope\":1,\"ca\":\"0.0\",\"thal\":\"3.0\",\"num\":1},{\"observation_number\":32,\"age\":59,\"sex\":1,\"cp\":4,\"trestbps\":135,\"chol\":234,\"fbs\":0,\"restecg\":0,\"thalach\":161,\"exang\":0,\"oldpeak\":0.5,\"slope\":2,\"ca\":\"0.0\",\"thal\":\"7.0\",\"num\":0},{\"observation_number\":33,\"age\":44,\"sex\":1,\"cp\":3,\"trestbps\":130,\"chol\":233,\"fbs\":0,\"restecg\":0,\"thalach\":179,\"exang\":1,\"oldpeak\":0.4,\"slope\":1,\"ca\":\"0.0\",\"thal\":\"3.0\",\"num\":0},{\"observation_number\":34,\"age\":42,\"sex\":1,\"cp\":4,\"trestbps\":140,\"chol\":226,\"fbs\":0,\"restecg\":0,\"thalach\":178,\"exang\":0,\"oldpeak\":0,\"slope\":1,\"ca\":\"0.0\",\"thal\":\"3.0\",\"num\":0},{\"observation_number\":35,\"age\":43,\"sex\":1,\"cp\":4,\"trestbps\":120,\"chol\":177,\"fbs\":0,\"restecg\":2,\"thalach\":120,\"exang\":1,\"oldpeak\":2.5,\"slope\":2,\"ca\":\"0.0\",\"thal\":\"7.0\",\"num\":3},{\"observation_number\":36,\"age\":57,\"sex\":1,\"cp\":4,\"trestbps\":150,\"chol\":276,\"fbs\":0,\"restecg\":2,\"thalach\":112,\"exang\":1,\"oldpeak\":0.6,\"slope\":2,\"ca\":\"1.0\",\"thal\":\"6.0\",\"num\":1},{\"observation_number\":37,\"age\":55,\"sex\":1,\"cp\":4,\"trestbps\":132,\"chol\":353,\"fbs\":0,\"restecg\":0,\"thalach\":132,\"exang\":1,\"oldpeak\":1.2,\"slope\":2,\"ca\":\"1.0\",\"thal\":\"7.0\",\"num\":3},{\"observation_number\":38,\"age\":61,\"sex\":1,\"cp\":3,\"trestbps\":150,\"chol\":243,\"fbs\":1,\"restecg\":0,\"thalach\":137,\"exang\":1,\"oldpeak\":1,\"slope\":2,\"ca\":\"0.0\",\"thal\":\"3.0\",\"num\":0},{\"observation_number\":39,\"age\":65,\"sex\":0,\"cp\":4,\"trestbps\":150,\"chol\":225,\"fbs\":0,\"restecg\":2,\"thalach\":114,\"exang\":0,\"oldpeak\":1,\"slope\":2,\"ca\":\"3.0\",\"thal\":\"7.0\",\"num\":4},{\"observation_number\":40,\"age\":40,\"sex\":1,\"cp\":1,\"trestbps\":140,\"chol\":199,\"fbs\":0,\"restecg\":0,\"thalach\":178,\"exang\":1,\"oldpeak\":1.4,\"slope\":1,\"ca\":\"0.0\",\"thal\":\"7.0\",\"num\":0},{\"observation_number\":41,\"age\":71,\"sex\":0,\"cp\":2,\"trestbps\":160,\"chol\":302,\"fbs\":0,\"restecg\":0,\"thalach\":162,\"exang\":0,\"oldpeak\":0.4,\"slope\":1,\"ca\":\"2.0\",\"thal\":\"3.0\",\"num\":0},{\"observation_number\":42,\"age\":59,\"sex\":1,\"cp\":3,\"trestbps\":150,\"chol\":212,\"fbs\":1,\"restecg\":0,\"thalach\":157,\"exang\":0,\"oldpeak\":1.6,\"slope\":1,\"ca\":\"0.0\",\"thal\":\"3.0\",\"num\":0},{\"observation_number\":43,\"age\":61,\"sex\":0,\"cp\":4,\"trestbps\":130,\"chol\":330,\"fbs\":0,\"restecg\":2,\"thalach\":169,\"exang\":0,\"oldpeak\":0,\"slope\":1,\"ca\":\"0.0\",\"thal\":\"3.0\",\"num\":1},{\"observation_number\":44,\"age\":58,\"sex\":1,\"cp\":3,\"trestbps\":112,\"chol\":230,\"fbs\":0,\"restecg\":2,\"thalach\":165,\"exang\":0,\"oldpeak\":2.5,\"slope\":2,\"ca\":\"1.0\",\"thal\":\"7.0\",\"num\":4},{\"observation_number\":45,\"age\":51,\"sex\":1,\"cp\":3,\"trestbps\":110,\"chol\":175,\"fbs\":0,\"restecg\":0,\"thalach\":123,\"exang\":0,\"oldpeak\":0.6,\"slope\":1,\"ca\":\"0.0\",\"thal\":\"3.0\",\"num\":0},{\"observation_number\":46,\"age\":50,\"sex\":1,\"cp\":4,\"trestbps\":150,\"chol\":243,\"fbs\":0,\"restecg\":2,\"thalach\":128,\"exang\":0,\"oldpeak\":2.6,\"slope\":2,\"ca\":\"0.0\",\"thal\":\"7.0\",\"num\":4},{\"observation_number\":47,\"age\":65,\"sex\":0,\"cp\":3,\"trestbps\":140,\"chol\":417,\"fbs\":1,\"restecg\":2,\"thalach\":157,\"exang\":0,\"oldpeak\":0.8,\"slope\":1,\"ca\":\"1.0\",\"thal\":\"3.0\",\"num\":0},{\"observation_number\":48,\"age\":53,\"sex\":1,\"cp\":3,\"trestbps\":130,\"chol\":197,\"fbs\":1,\"restecg\":2,\"thalach\":152,\"exang\":0,\"oldpeak\":1.2,\"slope\":3,\"ca\":\"0.0\",\"thal\":\"3.0\",\"num\":0},{\"observation_number\":49,\"age\":41,\"sex\":0,\"cp\":2,\"trestbps\":105,\"chol\":198,\"fbs\":0,\"restecg\":0,\"thalach\":168,\"exang\":0,\"oldpeak\":0,\"slope\":1,\"ca\":\"1.0\",\"thal\":\"3.0\",\"num\":0},{\"observation_number\":50,\"age\":65,\"sex\":1,\"cp\":4,\"trestbps\":120,\"chol\":177,\"fbs\":0,\"restecg\":0,\"thalach\":140,\"exang\":0,\"oldpeak\":0.4,\"slope\":1,\"ca\":\"0.0\",\"thal\":\"7.0\",\"num\":0},{\"observation_number\":51,\"age\":44,\"sex\":1,\"cp\":4,\"trestbps\":112,\"chol\":290,\"fbs\":0,\"restecg\":2,\"thalach\":153,\"exang\":0,\"oldpeak\":0,\"slope\":1,\"ca\":\"1.0\",\"thal\":\"3.0\",\"num\":2},{\"observation_number\":52,\"age\":44,\"sex\":1,\"cp\":2,\"trestbps\":130,\"chol\":219,\"fbs\":0,\"restecg\":2,\"thalach\":188,\"exang\":0,\"oldpeak\":0,\"slope\":1,\"ca\":\"0.0\",\"thal\":\"3.0\",\"num\":0},{\"observation_number\":53,\"age\":60,\"sex\":1,\"cp\":4,\"trestbps\":130,\"chol\":253,\"fbs\":0,\"restecg\":0,\"thalach\":144,\"exang\":1,\"oldpeak\":1.4,\"slope\":1,\"ca\":\"1.0\",\"thal\":\"7.0\",\"num\":1},{\"observation_number\":54,\"age\":54,\"sex\":1,\"cp\":4,\"trestbps\":124,\"chol\":266,\"fbs\":0,\"restecg\":2,\"thalach\":109,\"exang\":1,\"oldpeak\":2.2,\"slope\":2,\"ca\":\"1.0\",\"thal\":\"7.0\",\"num\":1},{\"observation_number\":55,\"age\":50,\"sex\":1,\"cp\":3,\"trestbps\":140,\"chol\":233,\"fbs\":0,\"restecg\":0,\"thalach\":163,\"exang\":0,\"oldpeak\":0.6,\"slope\":2,\"ca\":\"1.0\",\"thal\":\"7.0\",\"num\":1},{\"observation_number\":56,\"age\":41,\"sex\":1,\"cp\":4,\"trestbps\":110,\"chol\":172,\"fbs\":0,\"restecg\":2,\"thalach\":158,\"exang\":0,\"oldpeak\":0,\"slope\":1,\"ca\":\"0.0\",\"thal\":\"7.0\",\"num\":1},{\"observation_number\":57,\"age\":54,\"sex\":1,\"cp\":3,\"trestbps\":125,\"chol\":273,\"fbs\":0,\"restecg\":2,\"thalach\":152,\"exang\":0,\"oldpeak\":0.5,\"slope\":3,\"ca\":\"1.0\",\"thal\":\"3.0\",\"num\":0},{\"observation_number\":58,\"age\":51,\"sex\":1,\"cp\":1,\"trestbps\":125,\"chol\":213,\"fbs\":0,\"restecg\":2,\"thalach\":125,\"exang\":1,\"oldpeak\":1.4,\"slope\":1,\"ca\":\"1.0\",\"thal\":\"3.0\",\"num\":0},{\"observation_number\":59,\"age\":51,\"sex\":0,\"cp\":4,\"trestbps\":130,\"chol\":305,\"fbs\":0,\"restecg\":0,\"thalach\":142,\"exang\":1,\"oldpeak\":1.2,\"slope\":2,\"ca\":\"0.0\",\"thal\":\"7.0\",\"num\":2},{\"observation_number\":60,\"age\":46,\"sex\":0,\"cp\":3,\"trestbps\":142,\"chol\":177,\"fbs\":0,\"restecg\":2,\"thalach\":160,\"exang\":1,\"oldpeak\":1.4,\"slope\":3,\"ca\":\"0.0\",\"thal\":\"3.0\",\"num\":0},{\"observation_number\":61,\"age\":58,\"sex\":1,\"cp\":4,\"trestbps\":128,\"chol\":216,\"fbs\":0,\"restecg\":2,\"thalach\":131,\"exang\":1,\"oldpeak\":2.2,\"slope\":2,\"ca\":\"3.0\",\"thal\":\"7.0\",\"num\":1},{\"observation_number\":62,\"age\":54,\"sex\":0,\"cp\":3,\"trestbps\":135,\"chol\":304,\"fbs\":1,\"restecg\":0,\"thalach\":170,\"exang\":0,\"oldpeak\":0,\"slope\":1,\"ca\":\"0.0\",\"thal\":\"3.0\",\"num\":0},{\"observation_number\":63,\"age\":54,\"sex\":1,\"cp\":4,\"trestbps\":120,\"chol\":188,\"fbs\":0,\"restecg\":0,\"thalach\":113,\"exang\":0,\"oldpeak\":1.4,\"slope\":2,\"ca\":\"1.0\",\"thal\":\"7.0\",\"num\":2},{\"observation_number\":64,\"age\":60,\"sex\":1,\"cp\":4,\"trestbps\":145,\"chol\":282,\"fbs\":0,\"restecg\":2,\"thalach\":142,\"exang\":1,\"oldpeak\":2.8,\"slope\":2,\"ca\":\"2.0\",\"thal\":\"7.0\",\"num\":2},{\"observation_number\":65,\"age\":60,\"sex\":1,\"cp\":3,\"trestbps\":140,\"chol\":185,\"fbs\":0,\"restecg\":2,\"thalach\":155,\"exang\":0,\"oldpeak\":3,\"slope\":2,\"ca\":\"0.0\",\"thal\":\"3.0\",\"num\":1},{\"observation_number\":66,\"age\":54,\"sex\":1,\"cp\":3,\"trestbps\":150,\"chol\":232,\"fbs\":0,\"restecg\":2,\"thalach\":165,\"exang\":0,\"oldpeak\":1.6,\"slope\":1,\"ca\":\"0.0\",\"thal\":\"7.0\",\"num\":0},{\"observation_number\":67,\"age\":59,\"sex\":1,\"cp\":4,\"trestbps\":170,\"chol\":326,\"fbs\":0,\"restecg\":2,\"thalach\":140,\"exang\":1,\"oldpeak\":3.4,\"slope\":3,\"ca\":\"0.0\",\"thal\":\"7.0\",\"num\":2},{\"observation_number\":68,\"age\":46,\"sex\":1,\"cp\":3,\"trestbps\":150,\"chol\":231,\"fbs\":0,\"restecg\":0,\"thalach\":147,\"exang\":0,\"oldpeak\":3.6,\"slope\":2,\"ca\":\"0.0\",\"thal\":\"3.0\",\"num\":1},{\"observation_number\":69,\"age\":65,\"sex\":0,\"cp\":3,\"trestbps\":155,\"chol\":269,\"fbs\":0,\"restecg\":0,\"thalach\":148,\"exang\":0,\"oldpeak\":0.8,\"slope\":1,\"ca\":\"0.0\",\"thal\":\"3.0\",\"num\":0},{\"observation_number\":70,\"age\":67,\"sex\":1,\"cp\":4,\"trestbps\":125,\"chol\":254,\"fbs\":1,\"restecg\":0,\"thalach\":163,\"exang\":0,\"oldpeak\":0.2,\"slope\":2,\"ca\":\"2.0\",\"thal\":\"7.0\",\"num\":3},{\"observation_number\":71,\"age\":62,\"sex\":1,\"cp\":4,\"trestbps\":120,\"chol\":267,\"fbs\":0,\"restecg\":0,\"thalach\":99,\"exang\":1,\"oldpeak\":1.8,\"slope\":2,\"ca\":\"2.0\",\"thal\":\"7.0\",\"num\":1},{\"observation_number\":72,\"age\":65,\"sex\":1,\"cp\":4,\"trestbps\":110,\"chol\":248,\"fbs\":0,\"restecg\":2,\"thalach\":158,\"exang\":0,\"oldpeak\":0.6,\"slope\":1,\"ca\":\"2.0\",\"thal\":\"6.0\",\"num\":1},{\"observation_number\":73,\"age\":44,\"sex\":1,\"cp\":4,\"trestbps\":110,\"chol\":197,\"fbs\":0,\"restecg\":2,\"thalach\":177,\"exang\":0,\"oldpeak\":0,\"slope\":1,\"ca\":\"1.0\",\"thal\":\"3.0\",\"num\":1},{\"observation_number\":74,\"age\":65,\"sex\":0,\"cp\":3,\"trestbps\":160,\"chol\":360,\"fbs\":0,\"restecg\":2,\"thalach\":151,\"exang\":0,\"oldpeak\":0.8,\"slope\":1,\"ca\":\"0.0\",\"thal\":\"3.0\",\"num\":0},{\"observation_number\":75,\"age\":60,\"sex\":1,\"cp\":4,\"trestbps\":125,\"chol\":258,\"fbs\":0,\"restecg\":2,\"thalach\":141,\"exang\":1,\"oldpeak\":2.8,\"slope\":2,\"ca\":\"1.0\",\"thal\":\"7.0\",\"num\":1},{\"observation_number\":76,\"age\":51,\"sex\":0,\"cp\":3,\"trestbps\":140,\"chol\":308,\"fbs\":0,\"restecg\":2,\"thalach\":142,\"exang\":0,\"oldpeak\":1.5,\"slope\":1,\"ca\":\"1.0\",\"thal\":\"3.0\",\"num\":0},{\"observation_number\":77,\"age\":48,\"sex\":1,\"cp\":2,\"trestbps\":130,\"chol\":245,\"fbs\":0,\"restecg\":2,\"thalach\":180,\"exang\":0,\"oldpeak\":0.2,\"slope\":2,\"ca\":\"0.0\",\"thal\":\"3.0\",\"num\":0},{\"observation_number\":78,\"age\":58,\"sex\":1,\"cp\":4,\"trestbps\":150,\"chol\":270,\"fbs\":0,\"restecg\":2,\"thalach\":111,\"exang\":1,\"oldpeak\":0.8,\"slope\":1,\"ca\":\"0.0\",\"thal\":\"7.0\",\"num\":3},{\"observation_number\":79,\"age\":45,\"sex\":1,\"cp\":4,\"trestbps\":104,\"chol\":208,\"fbs\":0,\"restecg\":2,\"thalach\":148,\"exang\":1,\"oldpeak\":3,\"slope\":2,\"ca\":\"0.0\",\"thal\":\"3.0\",\"num\":0},{\"observation_number\":80,\"age\":53,\"sex\":0,\"cp\":4,\"trestbps\":130,\"chol\":264,\"fbs\":0,\"restecg\":2,\"thalach\":143,\"exang\":0,\"oldpeak\":0.4,\"slope\":2,\"ca\":\"0.0\",\"thal\":\"3.0\",\"num\":0},{\"observation_number\":81,\"age\":39,\"sex\":1,\"cp\":3,\"trestbps\":140,\"chol\":321,\"fbs\":0,\"restecg\":2,\"thalach\":182,\"exang\":0,\"oldpeak\":0,\"slope\":1,\"ca\":\"0.0\",\"thal\":\"3.0\",\"num\":0},{\"observation_number\":82,\"age\":68,\"sex\":1,\"cp\":3,\"trestbps\":180,\"chol\":274,\"fbs\":1,\"restecg\":2,\"thalach\":150,\"exang\":1,\"oldpeak\":1.6,\"slope\":2,\"ca\":\"0.0\",\"thal\":\"7.0\",\"num\":3},{\"observation_number\":83,\"age\":52,\"sex\":1,\"cp\":2,\"trestbps\":120,\"chol\":325,\"fbs\":0,\"restecg\":0,\"thalach\":172,\"exang\":0,\"oldpeak\":0.2,\"slope\":1,\"ca\":\"0.0\",\"thal\":\"3.0\",\"num\":0},{\"observation_number\":84,\"age\":44,\"sex\":1,\"cp\":3,\"trestbps\":140,\"chol\":235,\"fbs\":0,\"restecg\":2,\"thalach\":180,\"exang\":0,\"oldpeak\":0,\"slope\":1,\"ca\":\"0.0\",\"thal\":\"3.0\",\"num\":0},{\"observation_number\":85,\"age\":47,\"sex\":1,\"cp\":3,\"trestbps\":138,\"chol\":257,\"fbs\":0,\"restecg\":2,\"thalach\":156,\"exang\":0,\"oldpeak\":0,\"slope\":1,\"ca\":\"0.0\",\"thal\":\"3.0\",\"num\":0},{\"observation_number\":86,\"age\":53,\"sex\":0,\"cp\":3,\"trestbps\":128,\"chol\":216,\"fbs\":0,\"restecg\":2,\"thalach\":115,\"exang\":0,\"oldpeak\":0,\"slope\":1,\"ca\":\"0.0\",\"thal\":\"?\",\"num\":0},{\"observation_number\":87,\"age\":53,\"sex\":0,\"cp\":4,\"trestbps\":138,\"chol\":234,\"fbs\":0,\"restecg\":2,\"thalach\":160,\"exang\":0,\"oldpeak\":0,\"slope\":1,\"ca\":\"0.0\",\"thal\":\"3.0\",\"num\":0},{\"observation_number\":88,\"age\":51,\"sex\":0,\"cp\":3,\"trestbps\":130,\"chol\":256,\"fbs\":0,\"restecg\":2,\"thalach\":149,\"exang\":0,\"oldpeak\":0.5,\"slope\":1,\"ca\":\"0.0\",\"thal\":\"3.0\",\"num\":0},{\"observation_number\":89,\"age\":66,\"sex\":1,\"cp\":4,\"trestbps\":120,\"chol\":302,\"fbs\":0,\"restecg\":2,\"thalach\":151,\"exang\":0,\"oldpeak\":0.4,\"slope\":2,\"ca\":\"0.0\",\"thal\":\"3.0\",\"num\":0},{\"observation_number\":90,\"age\":62,\"sex\":0,\"cp\":4,\"trestbps\":160,\"chol\":164,\"fbs\":0,\"restecg\":2,\"thalach\":145,\"exang\":0,\"oldpeak\":6.2,\"slope\":3,\"ca\":\"3.0\",\"thal\":\"7.0\",\"num\":3},{\"observation_number\":91,\"age\":62,\"sex\":1,\"cp\":3,\"trestbps\":130,\"chol\":231,\"fbs\":0,\"restecg\":0,\"thalach\":146,\"exang\":0,\"oldpeak\":1.8,\"slope\":2,\"ca\":\"3.0\",\"thal\":\"7.0\",\"num\":0},{\"observation_number\":92,\"age\":44,\"sex\":0,\"cp\":3,\"trestbps\":108,\"chol\":141,\"fbs\":0,\"restecg\":0,\"thalach\":175,\"exang\":0,\"oldpeak\":0.6,\"slope\":2,\"ca\":\"0.0\",\"thal\":\"3.0\",\"num\":0},{\"observation_number\":93,\"age\":63,\"sex\":0,\"cp\":3,\"trestbps\":135,\"chol\":252,\"fbs\":0,\"restecg\":2,\"thalach\":172,\"exang\":0,\"oldpeak\":0,\"slope\":1,\"ca\":\"0.0\",\"thal\":\"3.0\",\"num\":0},{\"observation_number\":94,\"age\":52,\"sex\":1,\"cp\":4,\"trestbps\":128,\"chol\":255,\"fbs\":0,\"restecg\":0,\"thalach\":161,\"exang\":1,\"oldpeak\":0,\"slope\":1,\"ca\":\"1.0\",\"thal\":\"7.0\",\"num\":1},{\"observation_number\":95,\"age\":59,\"sex\":1,\"cp\":4,\"trestbps\":110,\"chol\":239,\"fbs\":0,\"restecg\":2,\"thalach\":142,\"exang\":1,\"oldpeak\":1.2,\"slope\":2,\"ca\":\"1.0\",\"thal\":\"7.0\",\"num\":2},{\"observation_number\":96,\"age\":60,\"sex\":0,\"cp\":4,\"trestbps\":150,\"chol\":258,\"fbs\":0,\"restecg\":2,\"thalach\":157,\"exang\":0,\"oldpeak\":2.6,\"slope\":2,\"ca\":\"2.0\",\"thal\":\"7.0\",\"num\":3},{\"observation_number\":97,\"age\":52,\"sex\":1,\"cp\":2,\"trestbps\":134,\"chol\":201,\"fbs\":0,\"restecg\":0,\"thalach\":158,\"exang\":0,\"oldpeak\":0.8,\"slope\":1,\"ca\":\"1.0\",\"thal\":\"3.0\",\"num\":0},{\"observation_number\":98,\"age\":48,\"sex\":1,\"cp\":4,\"trestbps\":122,\"chol\":222,\"fbs\":0,\"restecg\":2,\"thalach\":186,\"exang\":0,\"oldpeak\":0,\"slope\":1,\"ca\":\"0.0\",\"thal\":\"3.0\",\"num\":0},{\"observation_number\":99,\"age\":45,\"sex\":1,\"cp\":4,\"trestbps\":115,\"chol\":260,\"fbs\":0,\"restecg\":2,\"thalach\":185,\"exang\":0,\"oldpeak\":0,\"slope\":1,\"ca\":\"0.0\",\"thal\":\"3.0\",\"num\":0},{\"observation_number\":100,\"age\":34,\"sex\":1,\"cp\":1,\"trestbps\":118,\"chol\":182,\"fbs\":0,\"restecg\":2,\"thalach\":174,\"exang\":0,\"oldpeak\":0,\"slope\":1,\"ca\":\"0.0\",\"thal\":\"3.0\",\"num\":0},{\"observation_number\":101,\"age\":57,\"sex\":0,\"cp\":4,\"trestbps\":128,\"chol\":303,\"fbs\":0,\"restecg\":2,\"thalach\":159,\"exang\":0,\"oldpeak\":0,\"slope\":1,\"ca\":\"1.0\",\"thal\":\"3.0\",\"num\":0},{\"observation_number\":102,\"age\":71,\"sex\":0,\"cp\":3,\"trestbps\":110,\"chol\":265,\"fbs\":1,\"restecg\":2,\"thalach\":130,\"exang\":0,\"oldpeak\":0,\"slope\":1,\"ca\":\"1.0\",\"thal\":\"3.0\",\"num\":0},{\"observation_number\":103,\"age\":49,\"sex\":1,\"cp\":3,\"trestbps\":120,\"chol\":188,\"fbs\":0,\"restecg\":0,\"thalach\":139,\"exang\":0,\"oldpeak\":2,\"slope\":2,\"ca\":\"3.0\",\"thal\":\"7.0\",\"num\":3},{\"observation_number\":104,\"age\":54,\"sex\":1,\"cp\":2,\"trestbps\":108,\"chol\":309,\"fbs\":0,\"restecg\":0,\"thalach\":156,\"exang\":0,\"oldpeak\":0,\"slope\":1,\"ca\":\"0.0\",\"thal\":\"7.0\",\"num\":0},{\"observation_number\":105,\"age\":59,\"sex\":1,\"cp\":4,\"trestbps\":140,\"chol\":177,\"fbs\":0,\"restecg\":0,\"thalach\":162,\"exang\":1,\"oldpeak\":0,\"slope\":1,\"ca\":\"1.0\",\"thal\":\"7.0\",\"num\":2},{\"observation_number\":106,\"age\":57,\"sex\":1,\"cp\":3,\"trestbps\":128,\"chol\":229,\"fbs\":0,\"restecg\":2,\"thalach\":150,\"exang\":0,\"oldpeak\":0.4,\"slope\":2,\"ca\":\"1.0\",\"thal\":\"7.0\",\"num\":1},{\"observation_number\":107,\"age\":61,\"sex\":1,\"cp\":4,\"trestbps\":120,\"chol\":260,\"fbs\":0,\"restecg\":0,\"thalach\":140,\"exang\":1,\"oldpeak\":3.6,\"slope\":2,\"ca\":\"1.0\",\"thal\":\"7.0\",\"num\":2},{\"observation_number\":108,\"age\":39,\"sex\":1,\"cp\":4,\"trestbps\":118,\"chol\":219,\"fbs\":0,\"restecg\":0,\"thalach\":140,\"exang\":0,\"oldpeak\":1.2,\"slope\":2,\"ca\":\"0.0\",\"thal\":\"7.0\",\"num\":3},{\"observation_number\":109,\"age\":61,\"sex\":0,\"cp\":4,\"trestbps\":145,\"chol\":307,\"fbs\":0,\"restecg\":2,\"thalach\":146,\"exang\":1,\"oldpeak\":1,\"slope\":2,\"ca\":\"0.0\",\"thal\":\"7.0\",\"num\":1},{\"observation_number\":110,\"age\":56,\"sex\":1,\"cp\":4,\"trestbps\":125,\"chol\":249,\"fbs\":1,\"restecg\":2,\"thalach\":144,\"exang\":1,\"oldpeak\":1.2,\"slope\":2,\"ca\":\"1.0\",\"thal\":\"3.0\",\"num\":1},{\"observation_number\":111,\"age\":52,\"sex\":1,\"cp\":1,\"trestbps\":118,\"chol\":186,\"fbs\":0,\"restecg\":2,\"thalach\":190,\"exang\":0,\"oldpeak\":0,\"slope\":2,\"ca\":\"0.0\",\"thal\":\"6.0\",\"num\":0},{\"observation_number\":112,\"age\":43,\"sex\":0,\"cp\":4,\"trestbps\":132,\"chol\":341,\"fbs\":1,\"restecg\":2,\"thalach\":136,\"exang\":1,\"oldpeak\":3,\"slope\":2,\"ca\":\"0.0\",\"thal\":\"7.0\",\"num\":2},{\"observation_number\":113,\"age\":62,\"sex\":0,\"cp\":3,\"trestbps\":130,\"chol\":263,\"fbs\":0,\"restecg\":0,\"thalach\":97,\"exang\":0,\"oldpeak\":1.2,\"slope\":2,\"ca\":\"1.0\",\"thal\":\"7.0\",\"num\":2},{\"observation_number\":114,\"age\":41,\"sex\":1,\"cp\":2,\"trestbps\":135,\"chol\":203,\"fbs\":0,\"restecg\":0,\"thalach\":132,\"exang\":0,\"oldpeak\":0,\"slope\":2,\"ca\":\"0.0\",\"thal\":\"6.0\",\"num\":0},{\"observation_number\":115,\"age\":58,\"sex\":1,\"cp\":3,\"trestbps\":140,\"chol\":211,\"fbs\":1,\"restecg\":2,\"thalach\":165,\"exang\":0,\"oldpeak\":0,\"slope\":1,\"ca\":\"0.0\",\"thal\":\"3.0\",\"num\":0},{\"observation_number\":116,\"age\":35,\"sex\":0,\"cp\":4,\"trestbps\":138,\"chol\":183,\"fbs\":0,\"restecg\":0,\"thalach\":182,\"exang\":0,\"oldpeak\":1.4,\"slope\":1,\"ca\":\"0.0\",\"thal\":\"3.0\",\"num\":0},{\"observation_number\":117,\"age\":63,\"sex\":1,\"cp\":4,\"trestbps\":130,\"chol\":330,\"fbs\":1,\"restecg\":2,\"thalach\":132,\"exang\":1,\"oldpeak\":1.8,\"slope\":1,\"ca\":\"3.0\",\"thal\":\"7.0\",\"num\":3},{\"observation_number\":118,\"age\":65,\"sex\":1,\"cp\":4,\"trestbps\":135,\"chol\":254,\"fbs\":0,\"restecg\":2,\"thalach\":127,\"exang\":0,\"oldpeak\":2.8,\"slope\":2,\"ca\":\"1.0\",\"thal\":\"7.0\",\"num\":2},{\"observation_number\":119,\"age\":48,\"sex\":1,\"cp\":4,\"trestbps\":130,\"chol\":256,\"fbs\":1,\"restecg\":2,\"thalach\":150,\"exang\":1,\"oldpeak\":0,\"slope\":1,\"ca\":\"2.0\",\"thal\":\"7.0\",\"num\":3},{\"observation_number\":120,\"age\":63,\"sex\":0,\"cp\":4,\"trestbps\":150,\"chol\":407,\"fbs\":0,\"restecg\":2,\"thalach\":154,\"exang\":0,\"oldpeak\":4,\"slope\":2,\"ca\":\"3.0\",\"thal\":\"7.0\",\"num\":4},{\"observation_number\":121,\"age\":51,\"sex\":1,\"cp\":3,\"trestbps\":100,\"chol\":222,\"fbs\":0,\"restecg\":0,\"thalach\":143,\"exang\":1,\"oldpeak\":1.2,\"slope\":2,\"ca\":\"0.0\",\"thal\":\"3.0\",\"num\":0},{\"observation_number\":122,\"age\":55,\"sex\":1,\"cp\":4,\"trestbps\":140,\"chol\":217,\"fbs\":0,\"restecg\":0,\"thalach\":111,\"exang\":1,\"oldpeak\":5.6,\"slope\":3,\"ca\":\"0.0\",\"thal\":\"7.0\",\"num\":3},{\"observation_number\":123,\"age\":65,\"sex\":1,\"cp\":1,\"trestbps\":138,\"chol\":282,\"fbs\":1,\"restecg\":2,\"thalach\":174,\"exang\":0,\"oldpeak\":1.4,\"slope\":2,\"ca\":\"1.0\",\"thal\":\"3.0\",\"num\":1},{\"observation_number\":124,\"age\":45,\"sex\":0,\"cp\":2,\"trestbps\":130,\"chol\":234,\"fbs\":0,\"restecg\":2,\"thalach\":175,\"exang\":0,\"oldpeak\":0.6,\"slope\":2,\"ca\":\"0.0\",\"thal\":\"3.0\",\"num\":0},{\"observation_number\":125,\"age\":56,\"sex\":0,\"cp\":4,\"trestbps\":200,\"chol\":288,\"fbs\":1,\"restecg\":2,\"thalach\":133,\"exang\":1,\"oldpeak\":4,\"slope\":3,\"ca\":\"2.0\",\"thal\":\"7.0\",\"num\":3},{\"observation_number\":126,\"age\":54,\"sex\":1,\"cp\":4,\"trestbps\":110,\"chol\":239,\"fbs\":0,\"restecg\":0,\"thalach\":126,\"exang\":1,\"oldpeak\":2.8,\"slope\":2,\"ca\":\"1.0\",\"thal\":\"7.0\",\"num\":3},{\"observation_number\":127,\"age\":44,\"sex\":1,\"cp\":2,\"trestbps\":120,\"chol\":220,\"fbs\":0,\"restecg\":0,\"thalach\":170,\"exang\":0,\"oldpeak\":0,\"slope\":1,\"ca\":\"0.0\",\"thal\":\"3.0\",\"num\":0},{\"observation_number\":128,\"age\":62,\"sex\":0,\"cp\":4,\"trestbps\":124,\"chol\":209,\"fbs\":0,\"restecg\":0,\"thalach\":163,\"exang\":0,\"oldpeak\":0,\"slope\":1,\"ca\":\"0.0\",\"thal\":\"3.0\",\"num\":0},{\"observation_number\":129,\"age\":54,\"sex\":1,\"cp\":3,\"trestbps\":120,\"chol\":258,\"fbs\":0,\"restecg\":2,\"thalach\":147,\"exang\":0,\"oldpeak\":0.4,\"slope\":2,\"ca\":\"0.0\",\"thal\":\"7.0\",\"num\":0},{\"observation_number\":130,\"age\":51,\"sex\":1,\"cp\":3,\"trestbps\":94,\"chol\":227,\"fbs\":0,\"restecg\":0,\"thalach\":154,\"exang\":1,\"oldpeak\":0,\"slope\":1,\"ca\":\"1.0\",\"thal\":\"7.0\",\"num\":0},{\"observation_number\":131,\"age\":29,\"sex\":1,\"cp\":2,\"trestbps\":130,\"chol\":204,\"fbs\":0,\"restecg\":2,\"thalach\":202,\"exang\":0,\"oldpeak\":0,\"slope\":1,\"ca\":\"0.0\",\"thal\":\"3.0\",\"num\":0},{\"observation_number\":132,\"age\":51,\"sex\":1,\"cp\":4,\"trestbps\":140,\"chol\":261,\"fbs\":0,\"restecg\":2,\"thalach\":186,\"exang\":1,\"oldpeak\":0,\"slope\":1,\"ca\":\"0.0\",\"thal\":\"3.0\",\"num\":0},{\"observation_number\":133,\"age\":43,\"sex\":0,\"cp\":3,\"trestbps\":122,\"chol\":213,\"fbs\":0,\"restecg\":0,\"thalach\":165,\"exang\":0,\"oldpeak\":0.2,\"slope\":2,\"ca\":\"0.0\",\"thal\":\"3.0\",\"num\":0},{\"observation_number\":134,\"age\":55,\"sex\":0,\"cp\":2,\"trestbps\":135,\"chol\":250,\"fbs\":0,\"restecg\":2,\"thalach\":161,\"exang\":0,\"oldpeak\":1.4,\"slope\":2,\"ca\":\"0.0\",\"thal\":\"3.0\",\"num\":0},{\"observation_number\":135,\"age\":70,\"sex\":1,\"cp\":4,\"trestbps\":145,\"chol\":174,\"fbs\":0,\"restecg\":0,\"thalach\":125,\"exang\":1,\"oldpeak\":2.6,\"slope\":3,\"ca\":\"0.0\",\"thal\":\"7.0\",\"num\":4},{\"observation_number\":136,\"age\":62,\"sex\":1,\"cp\":2,\"trestbps\":120,\"chol\":281,\"fbs\":0,\"restecg\":2,\"thalach\":103,\"exang\":0,\"oldpeak\":1.4,\"slope\":2,\"ca\":\"1.0\",\"thal\":\"7.0\",\"num\":3},{\"observation_number\":137,\"age\":35,\"sex\":1,\"cp\":4,\"trestbps\":120,\"chol\":198,\"fbs\":0,\"restecg\":0,\"thalach\":130,\"exang\":1,\"oldpeak\":1.6,\"slope\":2,\"ca\":\"0.0\",\"thal\":\"7.0\",\"num\":1},{\"observation_number\":138,\"age\":51,\"sex\":1,\"cp\":3,\"trestbps\":125,\"chol\":245,\"fbs\":1,\"restecg\":2,\"thalach\":166,\"exang\":0,\"oldpeak\":2.4,\"slope\":2,\"ca\":\"0.0\",\"thal\":\"3.0\",\"num\":0},{\"observation_number\":139,\"age\":59,\"sex\":1,\"cp\":2,\"trestbps\":140,\"chol\":221,\"fbs\":0,\"restecg\":0,\"thalach\":164,\"exang\":1,\"oldpeak\":0,\"slope\":1,\"ca\":\"0.0\",\"thal\":\"3.0\",\"num\":0},{\"observation_number\":140,\"age\":59,\"sex\":1,\"cp\":1,\"trestbps\":170,\"chol\":288,\"fbs\":0,\"restecg\":2,\"thalach\":159,\"exang\":0,\"oldpeak\":0.2,\"slope\":2,\"ca\":\"0.0\",\"thal\":\"7.0\",\"num\":1},{\"observation_number\":141,\"age\":52,\"sex\":1,\"cp\":2,\"trestbps\":128,\"chol\":205,\"fbs\":1,\"restecg\":0,\"thalach\":184,\"exang\":0,\"oldpeak\":0,\"slope\":1,\"ca\":\"0.0\",\"thal\":\"3.0\",\"num\":0},{\"observation_number\":142,\"age\":64,\"sex\":1,\"cp\":3,\"trestbps\":125,\"chol\":309,\"fbs\":0,\"restecg\":0,\"thalach\":131,\"exang\":1,\"oldpeak\":1.8,\"slope\":2,\"ca\":\"0.0\",\"thal\":\"7.0\",\"num\":1},{\"observation_number\":143,\"age\":58,\"sex\":1,\"cp\":3,\"trestbps\":105,\"chol\":240,\"fbs\":0,\"restecg\":2,\"thalach\":154,\"exang\":1,\"oldpeak\":0.6,\"slope\":2,\"ca\":\"0.0\",\"thal\":\"7.0\",\"num\":0},{\"observation_number\":144,\"age\":47,\"sex\":1,\"cp\":3,\"trestbps\":108,\"chol\":243,\"fbs\":0,\"restecg\":0,\"thalach\":152,\"exang\":0,\"oldpeak\":0,\"slope\":1,\"ca\":\"0.0\",\"thal\":\"3.0\",\"num\":1},{\"observation_number\":145,\"age\":57,\"sex\":1,\"cp\":4,\"trestbps\":165,\"chol\":289,\"fbs\":1,\"restecg\":2,\"thalach\":124,\"exang\":0,\"oldpeak\":1,\"slope\":2,\"ca\":\"3.0\",\"thal\":\"7.0\",\"num\":4},{\"observation_number\":146,\"age\":41,\"sex\":1,\"cp\":3,\"trestbps\":112,\"chol\":250,\"fbs\":0,\"restecg\":0,\"thalach\":179,\"exang\":0,\"oldpeak\":0,\"slope\":1,\"ca\":\"0.0\",\"thal\":\"3.0\",\"num\":0},{\"observation_number\":147,\"age\":45,\"sex\":1,\"cp\":2,\"trestbps\":128,\"chol\":308,\"fbs\":0,\"restecg\":2,\"thalach\":170,\"exang\":0,\"oldpeak\":0,\"slope\":1,\"ca\":\"0.0\",\"thal\":\"3.0\",\"num\":0},{\"observation_number\":148,\"age\":60,\"sex\":0,\"cp\":3,\"trestbps\":102,\"chol\":318,\"fbs\":0,\"restecg\":0,\"thalach\":160,\"exang\":0,\"oldpeak\":0,\"slope\":1,\"ca\":\"1.0\",\"thal\":\"3.0\",\"num\":0},{\"observation_number\":149,\"age\":52,\"sex\":1,\"cp\":1,\"trestbps\":152,\"chol\":298,\"fbs\":1,\"restecg\":0,\"thalach\":178,\"exang\":0,\"oldpeak\":1.2,\"slope\":2,\"ca\":\"0.0\",\"thal\":\"7.0\",\"num\":0},{\"observation_number\":150,\"age\":42,\"sex\":0,\"cp\":4,\"trestbps\":102,\"chol\":265,\"fbs\":0,\"restecg\":2,\"thalach\":122,\"exang\":0,\"oldpeak\":0.6,\"slope\":2,\"ca\":\"0.0\",\"thal\":\"3.0\",\"num\":0},{\"observation_number\":151,\"age\":67,\"sex\":0,\"cp\":3,\"trestbps\":115,\"chol\":564,\"fbs\":0,\"restecg\":2,\"thalach\":160,\"exang\":0,\"oldpeak\":1.6,\"slope\":2,\"ca\":\"0.0\",\"thal\":\"7.0\",\"num\":0},{\"observation_number\":152,\"age\":55,\"sex\":1,\"cp\":4,\"trestbps\":160,\"chol\":289,\"fbs\":0,\"restecg\":2,\"thalach\":145,\"exang\":1,\"oldpeak\":0.8,\"slope\":2,\"ca\":\"1.0\",\"thal\":\"7.0\",\"num\":4},{\"observation_number\":153,\"age\":64,\"sex\":1,\"cp\":4,\"trestbps\":120,\"chol\":246,\"fbs\":0,\"restecg\":2,\"thalach\":96,\"exang\":1,\"oldpeak\":2.2,\"slope\":3,\"ca\":\"1.0\",\"thal\":\"3.0\",\"num\":3},{\"observation_number\":154,\"age\":70,\"sex\":1,\"cp\":4,\"trestbps\":130,\"chol\":322,\"fbs\":0,\"restecg\":2,\"thalach\":109,\"exang\":0,\"oldpeak\":2.4,\"slope\":2,\"ca\":\"3.0\",\"thal\":\"3.0\",\"num\":1},{\"observation_number\":155,\"age\":51,\"sex\":1,\"cp\":4,\"trestbps\":140,\"chol\":299,\"fbs\":0,\"restecg\":0,\"thalach\":173,\"exang\":1,\"oldpeak\":1.6,\"slope\":1,\"ca\":\"0.0\",\"thal\":\"7.0\",\"num\":1},{\"observation_number\":156,\"age\":58,\"sex\":1,\"cp\":4,\"trestbps\":125,\"chol\":300,\"fbs\":0,\"restecg\":2,\"thalach\":171,\"exang\":0,\"oldpeak\":0,\"slope\":1,\"ca\":\"2.0\",\"thal\":\"7.0\",\"num\":1},{\"observation_number\":157,\"age\":60,\"sex\":1,\"cp\":4,\"trestbps\":140,\"chol\":293,\"fbs\":0,\"restecg\":2,\"thalach\":170,\"exang\":0,\"oldpeak\":1.2,\"slope\":2,\"ca\":\"2.0\",\"thal\":\"7.0\",\"num\":2},{\"observation_number\":158,\"age\":68,\"sex\":1,\"cp\":3,\"trestbps\":118,\"chol\":277,\"fbs\":0,\"restecg\":0,\"thalach\":151,\"exang\":0,\"oldpeak\":1,\"slope\":1,\"ca\":\"1.0\",\"thal\":\"7.0\",\"num\":0},{\"observation_number\":159,\"age\":46,\"sex\":1,\"cp\":2,\"trestbps\":101,\"chol\":197,\"fbs\":1,\"restecg\":0,\"thalach\":156,\"exang\":0,\"oldpeak\":0,\"slope\":1,\"ca\":\"0.0\",\"thal\":\"7.0\",\"num\":0},{\"observation_number\":160,\"age\":77,\"sex\":1,\"cp\":4,\"trestbps\":125,\"chol\":304,\"fbs\":0,\"restecg\":2,\"thalach\":162,\"exang\":1,\"oldpeak\":0,\"slope\":1,\"ca\":\"3.0\",\"thal\":\"3.0\",\"num\":4},{\"observation_number\":161,\"age\":54,\"sex\":0,\"cp\":3,\"trestbps\":110,\"chol\":214,\"fbs\":0,\"restecg\":0,\"thalach\":158,\"exang\":0,\"oldpeak\":1.6,\"slope\":2,\"ca\":\"0.0\",\"thal\":\"3.0\",\"num\":0},{\"observation_number\":162,\"age\":58,\"sex\":0,\"cp\":4,\"trestbps\":100,\"chol\":248,\"fbs\":0,\"restecg\":2,\"thalach\":122,\"exang\":0,\"oldpeak\":1,\"slope\":2,\"ca\":\"0.0\",\"thal\":\"3.0\",\"num\":0},{\"observation_number\":163,\"age\":48,\"sex\":1,\"cp\":3,\"trestbps\":124,\"chol\":255,\"fbs\":1,\"restecg\":0,\"thalach\":175,\"exang\":0,\"oldpeak\":0,\"slope\":1,\"ca\":\"2.0\",\"thal\":\"3.0\",\"num\":0},{\"observation_number\":164,\"age\":57,\"sex\":1,\"cp\":4,\"trestbps\":132,\"chol\":207,\"fbs\":0,\"restecg\":0,\"thalach\":168,\"exang\":1,\"oldpeak\":0,\"slope\":1,\"ca\":\"0.0\",\"thal\":\"7.0\",\"num\":0},{\"observation_number\":165,\"age\":52,\"sex\":1,\"cp\":3,\"trestbps\":138,\"chol\":223,\"fbs\":0,\"restecg\":0,\"thalach\":169,\"exang\":0,\"oldpeak\":0,\"slope\":1,\"ca\":\"?\",\"thal\":\"3.0\",\"num\":0},{\"observation_number\":166,\"age\":54,\"sex\":0,\"cp\":2,\"trestbps\":132,\"chol\":288,\"fbs\":1,\"restecg\":2,\"thalach\":159,\"exang\":1,\"oldpeak\":0,\"slope\":1,\"ca\":\"1.0\",\"thal\":\"3.0\",\"num\":0},{\"observation_number\":167,\"age\":35,\"sex\":1,\"cp\":4,\"trestbps\":126,\"chol\":282,\"fbs\":0,\"restecg\":2,\"thalach\":156,\"exang\":1,\"oldpeak\":0,\"slope\":1,\"ca\":\"0.0\",\"thal\":\"7.0\",\"num\":1},{\"observation_number\":168,\"age\":45,\"sex\":0,\"cp\":2,\"trestbps\":112,\"chol\":160,\"fbs\":0,\"restecg\":0,\"thalach\":138,\"exang\":0,\"oldpeak\":0,\"slope\":2,\"ca\":\"0.0\",\"thal\":\"3.0\",\"num\":0},{\"observation_number\":169,\"age\":70,\"sex\":1,\"cp\":3,\"trestbps\":160,\"chol\":269,\"fbs\":0,\"restecg\":0,\"thalach\":112,\"exang\":1,\"oldpeak\":2.9,\"slope\":2,\"ca\":\"1.0\",\"thal\":\"7.0\",\"num\":3},{\"observation_number\":170,\"age\":53,\"sex\":1,\"cp\":4,\"trestbps\":142,\"chol\":226,\"fbs\":0,\"restecg\":2,\"thalach\":111,\"exang\":1,\"oldpeak\":0,\"slope\":1,\"ca\":\"0.0\",\"thal\":\"7.0\",\"num\":0},{\"observation_number\":171,\"age\":59,\"sex\":0,\"cp\":4,\"trestbps\":174,\"chol\":249,\"fbs\":0,\"restecg\":0,\"thalach\":143,\"exang\":1,\"oldpeak\":0,\"slope\":2,\"ca\":\"0.0\",\"thal\":\"3.0\",\"num\":1},{\"observation_number\":172,\"age\":62,\"sex\":0,\"cp\":4,\"trestbps\":140,\"chol\":394,\"fbs\":0,\"restecg\":2,\"thalach\":157,\"exang\":0,\"oldpeak\":1.2,\"slope\":2,\"ca\":\"0.0\",\"thal\":\"3.0\",\"num\":0},{\"observation_number\":173,\"age\":64,\"sex\":1,\"cp\":4,\"trestbps\":145,\"chol\":212,\"fbs\":0,\"restecg\":2,\"thalach\":132,\"exang\":0,\"oldpeak\":2,\"slope\":2,\"ca\":\"2.0\",\"thal\":\"6.0\",\"num\":4},{\"observation_number\":174,\"age\":57,\"sex\":1,\"cp\":4,\"trestbps\":152,\"chol\":274,\"fbs\":0,\"restecg\":0,\"thalach\":88,\"exang\":1,\"oldpeak\":1.2,\"slope\":2,\"ca\":\"1.0\",\"thal\":\"7.0\",\"num\":1},{\"observation_number\":175,\"age\":52,\"sex\":1,\"cp\":4,\"trestbps\":108,\"chol\":233,\"fbs\":1,\"restecg\":0,\"thalach\":147,\"exang\":0,\"oldpeak\":0.1,\"slope\":1,\"ca\":\"3.0\",\"thal\":\"7.0\",\"num\":0},{\"observation_number\":176,\"age\":56,\"sex\":1,\"cp\":4,\"trestbps\":132,\"chol\":184,\"fbs\":0,\"restecg\":2,\"thalach\":105,\"exang\":1,\"oldpeak\":2.1,\"slope\":2,\"ca\":\"1.0\",\"thal\":\"6.0\",\"num\":1},{\"observation_number\":177,\"age\":43,\"sex\":1,\"cp\":3,\"trestbps\":130,\"chol\":315,\"fbs\":0,\"restecg\":0,\"thalach\":162,\"exang\":0,\"oldpeak\":1.9,\"slope\":1,\"ca\":\"1.0\",\"thal\":\"3.0\",\"num\":0},{\"observation_number\":178,\"age\":53,\"sex\":1,\"cp\":3,\"trestbps\":130,\"chol\":246,\"fbs\":1,\"restecg\":2,\"thalach\":173,\"exang\":0,\"oldpeak\":0,\"slope\":1,\"ca\":\"3.0\",\"thal\":\"3.0\",\"num\":0},{\"observation_number\":179,\"age\":48,\"sex\":1,\"cp\":4,\"trestbps\":124,\"chol\":274,\"fbs\":0,\"restecg\":2,\"thalach\":166,\"exang\":0,\"oldpeak\":0.5,\"slope\":2,\"ca\":\"0.0\",\"thal\":\"7.0\",\"num\":3},{\"observation_number\":180,\"age\":56,\"sex\":0,\"cp\":4,\"trestbps\":134,\"chol\":409,\"fbs\":0,\"restecg\":2,\"thalach\":150,\"exang\":1,\"oldpeak\":1.9,\"slope\":2,\"ca\":\"2.0\",\"thal\":\"7.0\",\"num\":2},{\"observation_number\":181,\"age\":42,\"sex\":1,\"cp\":1,\"trestbps\":148,\"chol\":244,\"fbs\":0,\"restecg\":2,\"thalach\":178,\"exang\":0,\"oldpeak\":0.8,\"slope\":1,\"ca\":\"2.0\",\"thal\":\"3.0\",\"num\":0},{\"observation_number\":182,\"age\":59,\"sex\":1,\"cp\":1,\"trestbps\":178,\"chol\":270,\"fbs\":0,\"restecg\":2,\"thalach\":145,\"exang\":0,\"oldpeak\":4.2,\"slope\":3,\"ca\":\"0.0\",\"thal\":\"7.0\",\"num\":0},{\"observation_number\":183,\"age\":60,\"sex\":0,\"cp\":4,\"trestbps\":158,\"chol\":305,\"fbs\":0,\"restecg\":2,\"thalach\":161,\"exang\":0,\"oldpeak\":0,\"slope\":1,\"ca\":\"0.0\",\"thal\":\"3.0\",\"num\":1},{\"observation_number\":184,\"age\":63,\"sex\":0,\"cp\":2,\"trestbps\":140,\"chol\":195,\"fbs\":0,\"restecg\":0,\"thalach\":179,\"exang\":0,\"oldpeak\":0,\"slope\":1,\"ca\":\"2.0\",\"thal\":\"3.0\",\"num\":0},{\"observation_number\":185,\"age\":42,\"sex\":1,\"cp\":3,\"trestbps\":120,\"chol\":240,\"fbs\":1,\"restecg\":0,\"thalach\":194,\"exang\":0,\"oldpeak\":0.8,\"slope\":3,\"ca\":\"0.0\",\"thal\":\"7.0\",\"num\":0},{\"observation_number\":186,\"age\":66,\"sex\":1,\"cp\":2,\"trestbps\":160,\"chol\":246,\"fbs\":0,\"restecg\":0,\"thalach\":120,\"exang\":1,\"oldpeak\":0,\"slope\":2,\"ca\":\"3.0\",\"thal\":\"6.0\",\"num\":2},{\"observation_number\":187,\"age\":54,\"sex\":1,\"cp\":2,\"trestbps\":192,\"chol\":283,\"fbs\":0,\"restecg\":2,\"thalach\":195,\"exang\":0,\"oldpeak\":0,\"slope\":1,\"ca\":\"1.0\",\"thal\":\"7.0\",\"num\":1},{\"observation_number\":188,\"age\":69,\"sex\":1,\"cp\":3,\"trestbps\":140,\"chol\":254,\"fbs\":0,\"restecg\":2,\"thalach\":146,\"exang\":0,\"oldpeak\":2,\"slope\":2,\"ca\":\"3.0\",\"thal\":\"7.0\",\"num\":2},{\"observation_number\":189,\"age\":50,\"sex\":1,\"cp\":3,\"trestbps\":129,\"chol\":196,\"fbs\":0,\"restecg\":0,\"thalach\":163,\"exang\":0,\"oldpeak\":0,\"slope\":1,\"ca\":\"0.0\",\"thal\":\"3.0\",\"num\":0},{\"observation_number\":190,\"age\":51,\"sex\":1,\"cp\":4,\"trestbps\":140,\"chol\":298,\"fbs\":0,\"restecg\":0,\"thalach\":122,\"exang\":1,\"oldpeak\":4.2,\"slope\":2,\"ca\":\"3.0\",\"thal\":\"7.0\",\"num\":3},{\"observation_number\":191,\"age\":43,\"sex\":1,\"cp\":4,\"trestbps\":132,\"chol\":247,\"fbs\":1,\"restecg\":2,\"thalach\":143,\"exang\":1,\"oldpeak\":0.1,\"slope\":2,\"ca\":\"?\",\"thal\":\"7.0\",\"num\":1},{\"observation_number\":192,\"age\":62,\"sex\":0,\"cp\":4,\"trestbps\":138,\"chol\":294,\"fbs\":1,\"restecg\":0,\"thalach\":106,\"exang\":0,\"oldpeak\":1.9,\"slope\":2,\"ca\":\"3.0\",\"thal\":\"3.0\",\"num\":2},{\"observation_number\":193,\"age\":68,\"sex\":0,\"cp\":3,\"trestbps\":120,\"chol\":211,\"fbs\":0,\"restecg\":2,\"thalach\":115,\"exang\":0,\"oldpeak\":1.5,\"slope\":2,\"ca\":\"0.0\",\"thal\":\"3.0\",\"num\":0},{\"observation_number\":194,\"age\":67,\"sex\":1,\"cp\":4,\"trestbps\":100,\"chol\":299,\"fbs\":0,\"restecg\":2,\"thalach\":125,\"exang\":1,\"oldpeak\":0.9,\"slope\":2,\"ca\":\"2.0\",\"thal\":\"3.0\",\"num\":3},{\"observation_number\":195,\"age\":69,\"sex\":1,\"cp\":1,\"trestbps\":160,\"chol\":234,\"fbs\":1,\"restecg\":2,\"thalach\":131,\"exang\":0,\"oldpeak\":0.1,\"slope\":2,\"ca\":\"1.0\",\"thal\":\"3.0\",\"num\":0},{\"observation_number\":196,\"age\":45,\"sex\":0,\"cp\":4,\"trestbps\":138,\"chol\":236,\"fbs\":0,\"restecg\":2,\"thalach\":152,\"exang\":1,\"oldpeak\":0.2,\"slope\":2,\"ca\":\"0.0\",\"thal\":\"3.0\",\"num\":0},{\"observation_number\":197,\"age\":50,\"sex\":0,\"cp\":2,\"trestbps\":120,\"chol\":244,\"fbs\":0,\"restecg\":0,\"thalach\":162,\"exang\":0,\"oldpeak\":1.1,\"slope\":1,\"ca\":\"0.0\",\"thal\":\"3.0\",\"num\":0},{\"observation_number\":198,\"age\":59,\"sex\":1,\"cp\":1,\"trestbps\":160,\"chol\":273,\"fbs\":0,\"restecg\":2,\"thalach\":125,\"exang\":0,\"oldpeak\":0,\"slope\":1,\"ca\":\"0.0\",\"thal\":\"3.0\",\"num\":1},{\"observation_number\":199,\"age\":50,\"sex\":0,\"cp\":4,\"trestbps\":110,\"chol\":254,\"fbs\":0,\"restecg\":2,\"thalach\":159,\"exang\":0,\"oldpeak\":0,\"slope\":1,\"ca\":\"0.0\",\"thal\":\"3.0\",\"num\":0},{\"observation_number\":200,\"age\":64,\"sex\":0,\"cp\":4,\"trestbps\":180,\"chol\":325,\"fbs\":0,\"restecg\":0,\"thalach\":154,\"exang\":1,\"oldpeak\":0,\"slope\":1,\"ca\":\"0.0\",\"thal\":\"3.0\",\"num\":0},{\"observation_number\":201,\"age\":57,\"sex\":1,\"cp\":3,\"trestbps\":150,\"chol\":126,\"fbs\":1,\"restecg\":0,\"thalach\":173,\"exang\":0,\"oldpeak\":0.2,\"slope\":1,\"ca\":\"1.0\",\"thal\":\"7.0\",\"num\":0},{\"observation_number\":202,\"age\":64,\"sex\":0,\"cp\":3,\"trestbps\":140,\"chol\":313,\"fbs\":0,\"restecg\":0,\"thalach\":133,\"exang\":0,\"oldpeak\":0.2,\"slope\":1,\"ca\":\"0.0\",\"thal\":\"7.0\",\"num\":0},{\"observation_number\":203,\"age\":43,\"sex\":1,\"cp\":4,\"trestbps\":110,\"chol\":211,\"fbs\":0,\"restecg\":0,\"thalach\":161,\"exang\":0,\"oldpeak\":0,\"slope\":1,\"ca\":\"0.0\",\"thal\":\"7.0\",\"num\":0},{\"observation_number\":204,\"age\":45,\"sex\":1,\"cp\":4,\"trestbps\":142,\"chol\":309,\"fbs\":0,\"restecg\":2,\"thalach\":147,\"exang\":1,\"oldpeak\":0,\"slope\":2,\"ca\":\"3.0\",\"thal\":\"7.0\",\"num\":3},{\"observation_number\":205,\"age\":58,\"sex\":1,\"cp\":4,\"trestbps\":128,\"chol\":259,\"fbs\":0,\"restecg\":2,\"thalach\":130,\"exang\":1,\"oldpeak\":3,\"slope\":2,\"ca\":\"2.0\",\"thal\":\"7.0\",\"num\":3},{\"observation_number\":206,\"age\":50,\"sex\":1,\"cp\":4,\"trestbps\":144,\"chol\":200,\"fbs\":0,\"restecg\":2,\"thalach\":126,\"exang\":1,\"oldpeak\":0.9,\"slope\":2,\"ca\":\"0.0\",\"thal\":\"7.0\",\"num\":3},{\"observation_number\":207,\"age\":55,\"sex\":1,\"cp\":2,\"trestbps\":130,\"chol\":262,\"fbs\":0,\"restecg\":0,\"thalach\":155,\"exang\":0,\"oldpeak\":0,\"slope\":1,\"ca\":\"0.0\",\"thal\":\"3.0\",\"num\":0},{\"observation_number\":208,\"age\":62,\"sex\":0,\"cp\":4,\"trestbps\":150,\"chol\":244,\"fbs\":0,\"restecg\":0,\"thalach\":154,\"exang\":1,\"oldpeak\":1.4,\"slope\":2,\"ca\":\"0.0\",\"thal\":\"3.0\",\"num\":1},{\"observation_number\":209,\"age\":37,\"sex\":0,\"cp\":3,\"trestbps\":120,\"chol\":215,\"fbs\":0,\"restecg\":0,\"thalach\":170,\"exang\":0,\"oldpeak\":0,\"slope\":1,\"ca\":\"0.0\",\"thal\":\"3.0\",\"num\":0},{\"observation_number\":210,\"age\":38,\"sex\":1,\"cp\":1,\"trestbps\":120,\"chol\":231,\"fbs\":0,\"restecg\":0,\"thalach\":182,\"exang\":1,\"oldpeak\":3.8,\"slope\":2,\"ca\":\"0.0\",\"thal\":\"7.0\",\"num\":4},{\"observation_number\":211,\"age\":41,\"sex\":1,\"cp\":3,\"trestbps\":130,\"chol\":214,\"fbs\":0,\"restecg\":2,\"thalach\":168,\"exang\":0,\"oldpeak\":2,\"slope\":2,\"ca\":\"0.0\",\"thal\":\"3.0\",\"num\":0},{\"observation_number\":212,\"age\":66,\"sex\":0,\"cp\":4,\"trestbps\":178,\"chol\":228,\"fbs\":1,\"restecg\":0,\"thalach\":165,\"exang\":1,\"oldpeak\":1,\"slope\":2,\"ca\":\"2.0\",\"thal\":\"7.0\",\"num\":3},{\"observation_number\":213,\"age\":52,\"sex\":1,\"cp\":4,\"trestbps\":112,\"chol\":230,\"fbs\":0,\"restecg\":0,\"thalach\":160,\"exang\":0,\"oldpeak\":0,\"slope\":1,\"ca\":\"1.0\",\"thal\":\"3.0\",\"num\":1},{\"observation_number\":214,\"age\":56,\"sex\":1,\"cp\":1,\"trestbps\":120,\"chol\":193,\"fbs\":0,\"restecg\":2,\"thalach\":162,\"exang\":0,\"oldpeak\":1.9,\"slope\":2,\"ca\":\"0.0\",\"thal\":\"7.0\",\"num\":0},{\"observation_number\":215,\"age\":46,\"sex\":0,\"cp\":2,\"trestbps\":105,\"chol\":204,\"fbs\":0,\"restecg\":0,\"thalach\":172,\"exang\":0,\"oldpeak\":0,\"slope\":1,\"ca\":\"0.0\",\"thal\":\"3.0\",\"num\":0},{\"observation_number\":216,\"age\":46,\"sex\":0,\"cp\":4,\"trestbps\":138,\"chol\":243,\"fbs\":0,\"restecg\":2,\"thalach\":152,\"exang\":1,\"oldpeak\":0,\"slope\":2,\"ca\":\"0.0\",\"thal\":\"3.0\",\"num\":0},{\"observation_number\":217,\"age\":64,\"sex\":0,\"cp\":4,\"trestbps\":130,\"chol\":303,\"fbs\":0,\"restecg\":0,\"thalach\":122,\"exang\":0,\"oldpeak\":2,\"slope\":2,\"ca\":\"2.0\",\"thal\":\"3.0\",\"num\":0},{\"observation_number\":218,\"age\":59,\"sex\":1,\"cp\":4,\"trestbps\":138,\"chol\":271,\"fbs\":0,\"restecg\":2,\"thalach\":182,\"exang\":0,\"oldpeak\":0,\"slope\":1,\"ca\":\"0.0\",\"thal\":\"3.0\",\"num\":0},{\"observation_number\":219,\"age\":41,\"sex\":0,\"cp\":3,\"trestbps\":112,\"chol\":268,\"fbs\":0,\"restecg\":2,\"thalach\":172,\"exang\":1,\"oldpeak\":0,\"slope\":1,\"ca\":\"0.0\",\"thal\":\"3.0\",\"num\":0},{\"observation_number\":220,\"age\":54,\"sex\":0,\"cp\":3,\"trestbps\":108,\"chol\":267,\"fbs\":0,\"restecg\":2,\"thalach\":167,\"exang\":0,\"oldpeak\":0,\"slope\":1,\"ca\":\"0.0\",\"thal\":\"3.0\",\"num\":0},{\"observation_number\":221,\"age\":39,\"sex\":0,\"cp\":3,\"trestbps\":94,\"chol\":199,\"fbs\":0,\"restecg\":0,\"thalach\":179,\"exang\":0,\"oldpeak\":0,\"slope\":1,\"ca\":\"0.0\",\"thal\":\"3.0\",\"num\":0},{\"observation_number\":222,\"age\":53,\"sex\":1,\"cp\":4,\"trestbps\":123,\"chol\":282,\"fbs\":0,\"restecg\":0,\"thalach\":95,\"exang\":1,\"oldpeak\":2,\"slope\":2,\"ca\":\"2.0\",\"thal\":\"7.0\",\"num\":3},{\"observation_number\":223,\"age\":63,\"sex\":0,\"cp\":4,\"trestbps\":108,\"chol\":269,\"fbs\":0,\"restecg\":0,\"thalach\":169,\"exang\":1,\"oldpeak\":1.8,\"slope\":2,\"ca\":\"2.0\",\"thal\":\"3.0\",\"num\":1},{\"observation_number\":224,\"age\":34,\"sex\":0,\"cp\":2,\"trestbps\":118,\"chol\":210,\"fbs\":0,\"restecg\":0,\"thalach\":192,\"exang\":0,\"oldpeak\":0.7,\"slope\":1,\"ca\":\"0.0\",\"thal\":\"3.0\",\"num\":0},{\"observation_number\":225,\"age\":47,\"sex\":1,\"cp\":4,\"trestbps\":112,\"chol\":204,\"fbs\":0,\"restecg\":0,\"thalach\":143,\"exang\":0,\"oldpeak\":0.1,\"slope\":1,\"ca\":\"0.0\",\"thal\":\"3.0\",\"num\":0},{\"observation_number\":226,\"age\":67,\"sex\":0,\"cp\":3,\"trestbps\":152,\"chol\":277,\"fbs\":0,\"restecg\":0,\"thalach\":172,\"exang\":0,\"oldpeak\":0,\"slope\":1,\"ca\":\"1.0\",\"thal\":\"3.0\",\"num\":0},{\"observation_number\":227,\"age\":54,\"sex\":1,\"cp\":4,\"trestbps\":110,\"chol\":206,\"fbs\":0,\"restecg\":2,\"thalach\":108,\"exang\":1,\"oldpeak\":0,\"slope\":2,\"ca\":\"1.0\",\"thal\":\"3.0\",\"num\":3},{\"observation_number\":228,\"age\":66,\"sex\":1,\"cp\":4,\"trestbps\":112,\"chol\":212,\"fbs\":0,\"restecg\":2,\"thalach\":132,\"exang\":1,\"oldpeak\":0.1,\"slope\":1,\"ca\":\"1.0\",\"thal\":\"3.0\",\"num\":2},{\"observation_number\":229,\"age\":52,\"sex\":0,\"cp\":3,\"trestbps\":136,\"chol\":196,\"fbs\":0,\"restecg\":2,\"thalach\":169,\"exang\":0,\"oldpeak\":0.1,\"slope\":2,\"ca\":\"0.0\",\"thal\":\"3.0\",\"num\":0},{\"observation_number\":230,\"age\":55,\"sex\":0,\"cp\":4,\"trestbps\":180,\"chol\":327,\"fbs\":0,\"restecg\":1,\"thalach\":117,\"exang\":1,\"oldpeak\":3.4,\"slope\":2,\"ca\":\"0.0\",\"thal\":\"3.0\",\"num\":2},{\"observation_number\":231,\"age\":49,\"sex\":1,\"cp\":3,\"trestbps\":118,\"chol\":149,\"fbs\":0,\"restecg\":2,\"thalach\":126,\"exang\":0,\"oldpeak\":0.8,\"slope\":1,\"ca\":\"3.0\",\"thal\":\"3.0\",\"num\":1},{\"observation_number\":232,\"age\":74,\"sex\":0,\"cp\":2,\"trestbps\":120,\"chol\":269,\"fbs\":0,\"restecg\":2,\"thalach\":121,\"exang\":1,\"oldpeak\":0.2,\"slope\":1,\"ca\":\"1.0\",\"thal\":\"3.0\",\"num\":0},{\"observation_number\":233,\"age\":54,\"sex\":0,\"cp\":3,\"trestbps\":160,\"chol\":201,\"fbs\":0,\"restecg\":0,\"thalach\":163,\"exang\":0,\"oldpeak\":0,\"slope\":1,\"ca\":\"1.0\",\"thal\":\"3.0\",\"num\":0},{\"observation_number\":234,\"age\":54,\"sex\":1,\"cp\":4,\"trestbps\":122,\"chol\":286,\"fbs\":0,\"restecg\":2,\"thalach\":116,\"exang\":1,\"oldpeak\":3.2,\"slope\":2,\"ca\":\"2.0\",\"thal\":\"3.0\",\"num\":3},{\"observation_number\":235,\"age\":56,\"sex\":1,\"cp\":4,\"trestbps\":130,\"chol\":283,\"fbs\":1,\"restecg\":2,\"thalach\":103,\"exang\":1,\"oldpeak\":1.6,\"slope\":3,\"ca\":\"0.0\",\"thal\":\"7.0\",\"num\":2},{\"observation_number\":236,\"age\":46,\"sex\":1,\"cp\":4,\"trestbps\":120,\"chol\":249,\"fbs\":0,\"restecg\":2,\"thalach\":144,\"exang\":0,\"oldpeak\":0.8,\"slope\":1,\"ca\":\"0.0\",\"thal\":\"7.0\",\"num\":1},{\"observation_number\":237,\"age\":49,\"sex\":0,\"cp\":2,\"trestbps\":134,\"chol\":271,\"fbs\":0,\"restecg\":0,\"thalach\":162,\"exang\":0,\"oldpeak\":0,\"slope\":2,\"ca\":\"0.0\",\"thal\":\"3.0\",\"num\":0},{\"observation_number\":238,\"age\":42,\"sex\":1,\"cp\":2,\"trestbps\":120,\"chol\":295,\"fbs\":0,\"restecg\":0,\"thalach\":162,\"exang\":0,\"oldpeak\":0,\"slope\":1,\"ca\":\"0.0\",\"thal\":\"3.0\",\"num\":0},{\"observation_number\":239,\"age\":41,\"sex\":1,\"cp\":2,\"trestbps\":110,\"chol\":235,\"fbs\":0,\"restecg\":0,\"thalach\":153,\"exang\":0,\"oldpeak\":0,\"slope\":1,\"ca\":\"0.0\",\"thal\":\"3.0\",\"num\":0},{\"observation_number\":240,\"age\":41,\"sex\":0,\"cp\":2,\"trestbps\":126,\"chol\":306,\"fbs\":0,\"restecg\":0,\"thalach\":163,\"exang\":0,\"oldpeak\":0,\"slope\":1,\"ca\":\"0.0\",\"thal\":\"3.0\",\"num\":0},{\"observation_number\":241,\"age\":49,\"sex\":0,\"cp\":4,\"trestbps\":130,\"chol\":269,\"fbs\":0,\"restecg\":0,\"thalach\":163,\"exang\":0,\"oldpeak\":0,\"slope\":1,\"ca\":\"0.0\",\"thal\":\"3.0\",\"num\":0},{\"observation_number\":242,\"age\":61,\"sex\":1,\"cp\":1,\"trestbps\":134,\"chol\":234,\"fbs\":0,\"restecg\":0,\"thalach\":145,\"exang\":0,\"oldpeak\":2.6,\"slope\":2,\"ca\":\"2.0\",\"thal\":\"3.0\",\"num\":2},{\"observation_number\":243,\"age\":60,\"sex\":0,\"cp\":3,\"trestbps\":120,\"chol\":178,\"fbs\":1,\"restecg\":0,\"thalach\":96,\"exang\":0,\"oldpeak\":0,\"slope\":1,\"ca\":\"0.0\",\"thal\":\"3.0\",\"num\":0},{\"observation_number\":244,\"age\":67,\"sex\":1,\"cp\":4,\"trestbps\":120,\"chol\":237,\"fbs\":0,\"restecg\":0,\"thalach\":71,\"exang\":0,\"oldpeak\":1,\"slope\":2,\"ca\":\"0.0\",\"thal\":\"3.0\",\"num\":2},{\"observation_number\":245,\"age\":58,\"sex\":1,\"cp\":4,\"trestbps\":100,\"chol\":234,\"fbs\":0,\"restecg\":0,\"thalach\":156,\"exang\":0,\"oldpeak\":0.1,\"slope\":1,\"ca\":\"1.0\",\"thal\":\"7.0\",\"num\":2},{\"observation_number\":246,\"age\":47,\"sex\":1,\"cp\":4,\"trestbps\":110,\"chol\":275,\"fbs\":0,\"restecg\":2,\"thalach\":118,\"exang\":1,\"oldpeak\":1,\"slope\":2,\"ca\":\"1.0\",\"thal\":\"3.0\",\"num\":1},{\"observation_number\":247,\"age\":52,\"sex\":1,\"cp\":4,\"trestbps\":125,\"chol\":212,\"fbs\":0,\"restecg\":0,\"thalach\":168,\"exang\":0,\"oldpeak\":1,\"slope\":1,\"ca\":\"2.0\",\"thal\":\"7.0\",\"num\":3},{\"observation_number\":248,\"age\":62,\"sex\":1,\"cp\":2,\"trestbps\":128,\"chol\":208,\"fbs\":1,\"restecg\":2,\"thalach\":140,\"exang\":0,\"oldpeak\":0,\"slope\":1,\"ca\":\"0.0\",\"thal\":\"3.0\",\"num\":0},{\"observation_number\":249,\"age\":57,\"sex\":1,\"cp\":4,\"trestbps\":110,\"chol\":201,\"fbs\":0,\"restecg\":0,\"thalach\":126,\"exang\":1,\"oldpeak\":1.5,\"slope\":2,\"ca\":\"0.0\",\"thal\":\"6.0\",\"num\":0},{\"observation_number\":250,\"age\":58,\"sex\":1,\"cp\":4,\"trestbps\":146,\"chol\":218,\"fbs\":0,\"restecg\":0,\"thalach\":105,\"exang\":0,\"oldpeak\":2,\"slope\":2,\"ca\":\"1.0\",\"thal\":\"7.0\",\"num\":1},{\"observation_number\":251,\"age\":64,\"sex\":1,\"cp\":4,\"trestbps\":128,\"chol\":263,\"fbs\":0,\"restecg\":0,\"thalach\":105,\"exang\":1,\"oldpeak\":0.2,\"slope\":2,\"ca\":\"1.0\",\"thal\":\"7.0\",\"num\":0},{\"observation_number\":252,\"age\":51,\"sex\":0,\"cp\":3,\"trestbps\":120,\"chol\":295,\"fbs\":0,\"restecg\":2,\"thalach\":157,\"exang\":0,\"oldpeak\":0.6,\"slope\":1,\"ca\":\"0.0\",\"thal\":\"3.0\",\"num\":0},{\"observation_number\":253,\"age\":43,\"sex\":1,\"cp\":4,\"trestbps\":115,\"chol\":303,\"fbs\":0,\"restecg\":0,\"thalach\":181,\"exang\":0,\"oldpeak\":1.2,\"slope\":2,\"ca\":\"0.0\",\"thal\":\"3.0\",\"num\":0},{\"observation_number\":254,\"age\":42,\"sex\":0,\"cp\":3,\"trestbps\":120,\"chol\":209,\"fbs\":0,\"restecg\":0,\"thalach\":173,\"exang\":0,\"oldpeak\":0,\"slope\":2,\"ca\":\"0.0\",\"thal\":\"3.0\",\"num\":0},{\"observation_number\":255,\"age\":67,\"sex\":0,\"cp\":4,\"trestbps\":106,\"chol\":223,\"fbs\":0,\"restecg\":0,\"thalach\":142,\"exang\":0,\"oldpeak\":0.3,\"slope\":1,\"ca\":\"2.0\",\"thal\":\"3.0\",\"num\":0},{\"observation_number\":256,\"age\":76,\"sex\":0,\"cp\":3,\"trestbps\":140,\"chol\":197,\"fbs\":0,\"restecg\":1,\"thalach\":116,\"exang\":0,\"oldpeak\":1.1,\"slope\":2,\"ca\":\"0.0\",\"thal\":\"3.0\",\"num\":0},{\"observation_number\":257,\"age\":70,\"sex\":1,\"cp\":2,\"trestbps\":156,\"chol\":245,\"fbs\":0,\"restecg\":2,\"thalach\":143,\"exang\":0,\"oldpeak\":0,\"slope\":1,\"ca\":\"0.0\",\"thal\":\"3.0\",\"num\":0},{\"observation_number\":258,\"age\":57,\"sex\":1,\"cp\":2,\"trestbps\":124,\"chol\":261,\"fbs\":0,\"restecg\":0,\"thalach\":141,\"exang\":0,\"oldpeak\":0.3,\"slope\":1,\"ca\":\"0.0\",\"thal\":\"7.0\",\"num\":1},{\"observation_number\":259,\"age\":44,\"sex\":0,\"cp\":3,\"trestbps\":118,\"chol\":242,\"fbs\":0,\"restecg\":0,\"thalach\":149,\"exang\":0,\"oldpeak\":0.3,\"slope\":2,\"ca\":\"1.0\",\"thal\":\"3.0\",\"num\":0},{\"observation_number\":260,\"age\":58,\"sex\":0,\"cp\":2,\"trestbps\":136,\"chol\":319,\"fbs\":1,\"restecg\":2,\"thalach\":152,\"exang\":0,\"oldpeak\":0,\"slope\":1,\"ca\":\"2.0\",\"thal\":\"3.0\",\"num\":3},{\"observation_number\":261,\"age\":60,\"sex\":0,\"cp\":1,\"trestbps\":150,\"chol\":240,\"fbs\":0,\"restecg\":0,\"thalach\":171,\"exang\":0,\"oldpeak\":0.9,\"slope\":1,\"ca\":\"0.0\",\"thal\":\"3.0\",\"num\":0},{\"observation_number\":262,\"age\":44,\"sex\":1,\"cp\":3,\"trestbps\":120,\"chol\":226,\"fbs\":0,\"restecg\":0,\"thalach\":169,\"exang\":0,\"oldpeak\":0,\"slope\":1,\"ca\":\"0.0\",\"thal\":\"3.0\",\"num\":0},{\"observation_number\":263,\"age\":61,\"sex\":1,\"cp\":4,\"trestbps\":138,\"chol\":166,\"fbs\":0,\"restecg\":2,\"thalach\":125,\"exang\":1,\"oldpeak\":3.6,\"slope\":2,\"ca\":\"1.0\",\"thal\":\"3.0\",\"num\":4},{\"observation_number\":264,\"age\":42,\"sex\":1,\"cp\":4,\"trestbps\":136,\"chol\":315,\"fbs\":0,\"restecg\":0,\"thalach\":125,\"exang\":1,\"oldpeak\":1.8,\"slope\":2,\"ca\":\"0.0\",\"thal\":\"6.0\",\"num\":2},{\"observation_number\":265,\"age\":52,\"sex\":1,\"cp\":4,\"trestbps\":128,\"chol\":204,\"fbs\":1,\"restecg\":0,\"thalach\":156,\"exang\":1,\"oldpeak\":1,\"slope\":2,\"ca\":\"0.0\",\"thal\":\"?\",\"num\":2},{\"observation_number\":266,\"age\":59,\"sex\":1,\"cp\":3,\"trestbps\":126,\"chol\":218,\"fbs\":1,\"restecg\":0,\"thalach\":134,\"exang\":0,\"oldpeak\":2.2,\"slope\":2,\"ca\":\"1.0\",\"thal\":\"6.0\",\"num\":2},{\"observation_number\":267,\"age\":40,\"sex\":1,\"cp\":4,\"trestbps\":152,\"chol\":223,\"fbs\":0,\"restecg\":0,\"thalach\":181,\"exang\":0,\"oldpeak\":0,\"slope\":1,\"ca\":\"0.0\",\"thal\":\"7.0\",\"num\":1},{\"observation_number\":268,\"age\":42,\"sex\":1,\"cp\":3,\"trestbps\":130,\"chol\":180,\"fbs\":0,\"restecg\":0,\"thalach\":150,\"exang\":0,\"oldpeak\":0,\"slope\":1,\"ca\":\"0.0\",\"thal\":\"3.0\",\"num\":0},{\"observation_number\":269,\"age\":61,\"sex\":1,\"cp\":4,\"trestbps\":140,\"chol\":207,\"fbs\":0,\"restecg\":2,\"thalach\":138,\"exang\":1,\"oldpeak\":1.9,\"slope\":1,\"ca\":\"1.0\",\"thal\":\"7.0\",\"num\":1},{\"observation_number\":270,\"age\":66,\"sex\":1,\"cp\":4,\"trestbps\":160,\"chol\":228,\"fbs\":0,\"restecg\":2,\"thalach\":138,\"exang\":0,\"oldpeak\":2.3,\"slope\":1,\"ca\":\"0.0\",\"thal\":\"6.0\",\"num\":0},{\"observation_number\":271,\"age\":46,\"sex\":1,\"cp\":4,\"trestbps\":140,\"chol\":311,\"fbs\":0,\"restecg\":0,\"thalach\":120,\"exang\":1,\"oldpeak\":1.8,\"slope\":2,\"ca\":\"2.0\",\"thal\":\"7.0\",\"num\":2},{\"observation_number\":272,\"age\":71,\"sex\":0,\"cp\":4,\"trestbps\":112,\"chol\":149,\"fbs\":0,\"restecg\":0,\"thalach\":125,\"exang\":0,\"oldpeak\":1.6,\"slope\":2,\"ca\":\"0.0\",\"thal\":\"3.0\",\"num\":0},{\"observation_number\":273,\"age\":59,\"sex\":1,\"cp\":1,\"trestbps\":134,\"chol\":204,\"fbs\":0,\"restecg\":0,\"thalach\":162,\"exang\":0,\"oldpeak\":0.8,\"slope\":1,\"ca\":\"2.0\",\"thal\":\"3.0\",\"num\":1},{\"observation_number\":274,\"age\":64,\"sex\":1,\"cp\":1,\"trestbps\":170,\"chol\":227,\"fbs\":0,\"restecg\":2,\"thalach\":155,\"exang\":0,\"oldpeak\":0.6,\"slope\":2,\"ca\":\"0.0\",\"thal\":\"7.0\",\"num\":0},{\"observation_number\":275,\"age\":66,\"sex\":0,\"cp\":3,\"trestbps\":146,\"chol\":278,\"fbs\":0,\"restecg\":2,\"thalach\":152,\"exang\":0,\"oldpeak\":0,\"slope\":2,\"ca\":\"1.0\",\"thal\":\"3.0\",\"num\":0},{\"observation_number\":276,\"age\":39,\"sex\":0,\"cp\":3,\"trestbps\":138,\"chol\":220,\"fbs\":0,\"restecg\":0,\"thalach\":152,\"exang\":0,\"oldpeak\":0,\"slope\":2,\"ca\":\"0.0\",\"thal\":\"3.0\",\"num\":0},{\"observation_number\":277,\"age\":57,\"sex\":1,\"cp\":2,\"trestbps\":154,\"chol\":232,\"fbs\":0,\"restecg\":2,\"thalach\":164,\"exang\":0,\"oldpeak\":0,\"slope\":1,\"ca\":\"1.0\",\"thal\":\"3.0\",\"num\":1},{\"observation_number\":278,\"age\":58,\"sex\":0,\"cp\":4,\"trestbps\":130,\"chol\":197,\"fbs\":0,\"restecg\":0,\"thalach\":131,\"exang\":0,\"oldpeak\":0.6,\"slope\":2,\"ca\":\"0.0\",\"thal\":\"3.0\",\"num\":0},{\"observation_number\":279,\"age\":57,\"sex\":1,\"cp\":4,\"trestbps\":110,\"chol\":335,\"fbs\":0,\"restecg\":0,\"thalach\":143,\"exang\":1,\"oldpeak\":3,\"slope\":2,\"ca\":\"1.0\",\"thal\":\"7.0\",\"num\":2},{\"observation_number\":280,\"age\":47,\"sex\":1,\"cp\":3,\"trestbps\":130,\"chol\":253,\"fbs\":0,\"restecg\":0,\"thalach\":179,\"exang\":0,\"oldpeak\":0,\"slope\":1,\"ca\":\"0.0\",\"thal\":\"3.0\",\"num\":0},{\"observation_number\":281,\"age\":55,\"sex\":0,\"cp\":4,\"trestbps\":128,\"chol\":205,\"fbs\":0,\"restecg\":1,\"thalach\":130,\"exang\":1,\"oldpeak\":2,\"slope\":2,\"ca\":\"1.0\",\"thal\":\"7.0\",\"num\":3},{\"observation_number\":282,\"age\":35,\"sex\":1,\"cp\":2,\"trestbps\":122,\"chol\":192,\"fbs\":0,\"restecg\":0,\"thalach\":174,\"exang\":0,\"oldpeak\":0,\"slope\":1,\"ca\":\"0.0\",\"thal\":\"3.0\",\"num\":0},{\"observation_number\":283,\"age\":61,\"sex\":1,\"cp\":4,\"trestbps\":148,\"chol\":203,\"fbs\":0,\"restecg\":0,\"thalach\":161,\"exang\":0,\"oldpeak\":0,\"slope\":1,\"ca\":\"1.0\",\"thal\":\"7.0\",\"num\":2},{\"observation_number\":284,\"age\":58,\"sex\":1,\"cp\":4,\"trestbps\":114,\"chol\":318,\"fbs\":0,\"restecg\":1,\"thalach\":140,\"exang\":0,\"oldpeak\":4.4,\"slope\":3,\"ca\":\"3.0\",\"thal\":\"6.0\",\"num\":4},{\"observation_number\":285,\"age\":58,\"sex\":0,\"cp\":4,\"trestbps\":170,\"chol\":225,\"fbs\":1,\"restecg\":2,\"thalach\":146,\"exang\":1,\"oldpeak\":2.8,\"slope\":2,\"ca\":\"2.0\",\"thal\":\"6.0\",\"num\":2},{\"observation_number\":286,\"age\":58,\"sex\":1,\"cp\":2,\"trestbps\":125,\"chol\":220,\"fbs\":0,\"restecg\":0,\"thalach\":144,\"exang\":0,\"oldpeak\":0.4,\"slope\":2,\"ca\":\"?\",\"thal\":\"7.0\",\"num\":0},{\"observation_number\":287,\"age\":56,\"sex\":1,\"cp\":2,\"trestbps\":130,\"chol\":221,\"fbs\":0,\"restecg\":2,\"thalach\":163,\"exang\":0,\"oldpeak\":0,\"slope\":1,\"ca\":\"0.0\",\"thal\":\"7.0\",\"num\":0},{\"observation_number\":288,\"age\":56,\"sex\":1,\"cp\":2,\"trestbps\":120,\"chol\":240,\"fbs\":0,\"restecg\":0,\"thalach\":169,\"exang\":0,\"oldpeak\":0,\"slope\":3,\"ca\":\"0.0\",\"thal\":\"3.0\",\"num\":0},{\"observation_number\":289,\"age\":67,\"sex\":1,\"cp\":3,\"trestbps\":152,\"chol\":212,\"fbs\":0,\"restecg\":2,\"thalach\":150,\"exang\":0,\"oldpeak\":0.8,\"slope\":2,\"ca\":\"0.0\",\"thal\":\"7.0\",\"num\":1},{\"observation_number\":290,\"age\":55,\"sex\":0,\"cp\":2,\"trestbps\":132,\"chol\":342,\"fbs\":0,\"restecg\":0,\"thalach\":166,\"exang\":0,\"oldpeak\":1.2,\"slope\":1,\"ca\":\"0.0\",\"thal\":\"3.0\",\"num\":0},{\"observation_number\":291,\"age\":44,\"sex\":1,\"cp\":4,\"trestbps\":120,\"chol\":169,\"fbs\":0,\"restecg\":0,\"thalach\":144,\"exang\":1,\"oldpeak\":2.8,\"slope\":3,\"ca\":\"0.0\",\"thal\":\"6.0\",\"num\":2},{\"observation_number\":292,\"age\":63,\"sex\":1,\"cp\":4,\"trestbps\":140,\"chol\":187,\"fbs\":0,\"restecg\":2,\"thalach\":144,\"exang\":1,\"oldpeak\":4,\"slope\":1,\"ca\":\"2.0\",\"thal\":\"7.0\",\"num\":2},{\"observation_number\":293,\"age\":63,\"sex\":0,\"cp\":4,\"trestbps\":124,\"chol\":197,\"fbs\":0,\"restecg\":0,\"thalach\":136,\"exang\":1,\"oldpeak\":0,\"slope\":2,\"ca\":\"0.0\",\"thal\":\"3.0\",\"num\":1},{\"observation_number\":294,\"age\":41,\"sex\":1,\"cp\":2,\"trestbps\":120,\"chol\":157,\"fbs\":0,\"restecg\":0,\"thalach\":182,\"exang\":0,\"oldpeak\":0,\"slope\":1,\"ca\":\"0.0\",\"thal\":\"3.0\",\"num\":0},{\"observation_number\":295,\"age\":59,\"sex\":1,\"cp\":4,\"trestbps\":164,\"chol\":176,\"fbs\":1,\"restecg\":2,\"thalach\":90,\"exang\":0,\"oldpeak\":1,\"slope\":2,\"ca\":\"2.0\",\"thal\":\"6.0\",\"num\":3},{\"observation_number\":296,\"age\":57,\"sex\":0,\"cp\":4,\"trestbps\":140,\"chol\":241,\"fbs\":0,\"restecg\":0,\"thalach\":123,\"exang\":1,\"oldpeak\":0.2,\"slope\":2,\"ca\":\"0.0\",\"thal\":\"7.0\",\"num\":1},{\"observation_number\":297,\"age\":45,\"sex\":1,\"cp\":1,\"trestbps\":110,\"chol\":264,\"fbs\":0,\"restecg\":0,\"thalach\":132,\"exang\":0,\"oldpeak\":1.2,\"slope\":2,\"ca\":\"0.0\",\"thal\":\"7.0\",\"num\":1},{\"observation_number\":298,\"age\":68,\"sex\":1,\"cp\":4,\"trestbps\":144,\"chol\":193,\"fbs\":1,\"restecg\":0,\"thalach\":141,\"exang\":0,\"oldpeak\":3.4,\"slope\":2,\"ca\":\"2.0\",\"thal\":\"7.0\",\"num\":2},{\"observation_number\":299,\"age\":57,\"sex\":1,\"cp\":4,\"trestbps\":130,\"chol\":131,\"fbs\":0,\"restecg\":0,\"thalach\":115,\"exang\":1,\"oldpeak\":1.2,\"slope\":2,\"ca\":\"1.0\",\"thal\":\"7.0\",\"num\":3},{\"observation_number\":300,\"age\":57,\"sex\":0,\"cp\":2,\"trestbps\":130,\"chol\":236,\"fbs\":0,\"restecg\":2,\"thalach\":174,\"exang\":0,\"oldpeak\":0,\"slope\":2,\"ca\":\"1.0\",\"thal\":\"3.0\",\"num\":1},{\"observation_number\":301,\"age\":38,\"sex\":1,\"cp\":3,\"trestbps\":138,\"chol\":175,\"fbs\":0,\"restecg\":0,\"thalach\":173,\"exang\":0,\"oldpeak\":0,\"slope\":1,\"ca\":\"?\",\"thal\":\"3.0\",\"num\":0}]\"\"\")\n",
    "\n",
    "# heart_disease_data.plot(\n",
    "#     x = 'age',\n",
    "#     y = 'chol'\n",
    "# )\n",
    "\n",
    "heart_disease_data['trestbps'].plot.hist(\n",
    "    title = 'Frequency Histogram of Cholesterol Values'\n",
    ")\n",
    "\n",
    " # Make a histogram of the cholesterol values\n"
   ]
  },
  {
   "cell_type": "code",
   "execution_count": 5,
   "metadata": {
    "collapsed": false
   },
   "outputs": [
    {
     "data": {
      "text/plain": [
       "<matplotlib.axes._subplots.AxesSubplot at 0x1094b1ef0>"
      ]
     },
     "execution_count": 5,
     "metadata": {},
     "output_type": "execute_result"
    },
    {
     "data": {
      "image/png": "[encoded data removed]",
      "text/plain": [
       "<matplotlib.figure.Figure at 0x106b8c588>"
      ]
     },
     "metadata": {},
     "output_type": "display_data"
    }
   ],
   "source": [
    "heart_disease_data.plot.scatter(x = 'thalach', y = 'chol', title='blah blah')"
   ]
  },
  {
   "cell_type": "code",
   "execution_count": 15,
   "metadata": {
    "collapsed": false
   },
   "outputs": [
    {
     "data": {
      "text/plain": [
       "Index(['age', 'ca', 'chol', 'cp', 'exang', 'fbs', 'num', 'observation_number',\n",
       "       'oldpeak', 'restecg', 'sex', 'slope', 'thal', 'thalach', 'trestbps'],\n",
       "      dtype='object')"
      ]
     },
     "execution_count": 15,
     "metadata": {},
     "output_type": "execute_result"
    }
   ],
   "source": [
    "heart_disease_data.columns"
   ]
  },
  {
   "cell_type": "code",
   "execution_count": 6,
   "metadata": {
    "collapsed": false
   },
   "outputs": [
    {
     "data": {
      "text/html": [
       "<div>\n",
       "<table border=\"1\" class=\"dataframe\">\n",
       "  <thead>\n",
       "    <tr style=\"text-align: right;\">\n",
       "      <th></th>\n",
       "      <th>age</th>\n",
       "      <th>chol</th>\n",
       "      <th>cp</th>\n",
       "      <th>exang</th>\n",
       "      <th>fbs</th>\n",
       "      <th>num</th>\n",
       "      <th>observation_number</th>\n",
       "      <th>oldpeak</th>\n",
       "      <th>restecg</th>\n",
       "      <th>sex</th>\n",
       "      <th>slope</th>\n",
       "      <th>thalach</th>\n",
       "      <th>trestbps</th>\n",
       "    </tr>\n",
       "  </thead>\n",
       "  <tbody>\n",
       "    <tr>\n",
       "      <th>count</th>\n",
       "      <td>302.000000</td>\n",
       "      <td>302.000000</td>\n",
       "      <td>302.000000</td>\n",
       "      <td>302.000000</td>\n",
       "      <td>302.000000</td>\n",
       "      <td>302.000000</td>\n",
       "      <td>302.000000</td>\n",
       "      <td>302.000000</td>\n",
       "      <td>302.000000</td>\n",
       "      <td>302.000000</td>\n",
       "      <td>302.000000</td>\n",
       "      <td>302.000000</td>\n",
       "      <td>302.000000</td>\n",
       "    </tr>\n",
       "    <tr>\n",
       "      <th>mean</th>\n",
       "      <td>54.410596</td>\n",
       "      <td>246.738411</td>\n",
       "      <td>3.165563</td>\n",
       "      <td>0.327815</td>\n",
       "      <td>0.145695</td>\n",
       "      <td>0.940397</td>\n",
       "      <td>150.500000</td>\n",
       "      <td>1.035430</td>\n",
       "      <td>0.986755</td>\n",
       "      <td>0.678808</td>\n",
       "      <td>1.596026</td>\n",
       "      <td>149.605960</td>\n",
       "      <td>131.645695</td>\n",
       "    </tr>\n",
       "    <tr>\n",
       "      <th>std</th>\n",
       "      <td>9.040163</td>\n",
       "      <td>51.856829</td>\n",
       "      <td>0.953612</td>\n",
       "      <td>0.470196</td>\n",
       "      <td>0.353386</td>\n",
       "      <td>1.229384</td>\n",
       "      <td>87.324109</td>\n",
       "      <td>1.160723</td>\n",
       "      <td>0.994916</td>\n",
       "      <td>0.467709</td>\n",
       "      <td>0.611939</td>\n",
       "      <td>22.912959</td>\n",
       "      <td>17.612202</td>\n",
       "    </tr>\n",
       "    <tr>\n",
       "      <th>min</th>\n",
       "      <td>29.000000</td>\n",
       "      <td>126.000000</td>\n",
       "      <td>1.000000</td>\n",
       "      <td>0.000000</td>\n",
       "      <td>0.000000</td>\n",
       "      <td>0.000000</td>\n",
       "      <td>0.000000</td>\n",
       "      <td>0.000000</td>\n",
       "      <td>0.000000</td>\n",
       "      <td>0.000000</td>\n",
       "      <td>1.000000</td>\n",
       "      <td>71.000000</td>\n",
       "      <td>94.000000</td>\n",
       "    </tr>\n",
       "    <tr>\n",
       "      <th>25%</th>\n",
       "      <td>48.000000</td>\n",
       "      <td>211.000000</td>\n",
       "      <td>3.000000</td>\n",
       "      <td>0.000000</td>\n",
       "      <td>0.000000</td>\n",
       "      <td>0.000000</td>\n",
       "      <td>75.250000</td>\n",
       "      <td>0.000000</td>\n",
       "      <td>0.000000</td>\n",
       "      <td>0.000000</td>\n",
       "      <td>1.000000</td>\n",
       "      <td>133.250000</td>\n",
       "      <td>120.000000</td>\n",
       "    </tr>\n",
       "    <tr>\n",
       "      <th>50%</th>\n",
       "      <td>55.500000</td>\n",
       "      <td>241.500000</td>\n",
       "      <td>3.000000</td>\n",
       "      <td>0.000000</td>\n",
       "      <td>0.000000</td>\n",
       "      <td>0.000000</td>\n",
       "      <td>150.500000</td>\n",
       "      <td>0.800000</td>\n",
       "      <td>0.500000</td>\n",
       "      <td>1.000000</td>\n",
       "      <td>2.000000</td>\n",
       "      <td>153.000000</td>\n",
       "      <td>130.000000</td>\n",
       "    </tr>\n",
       "    <tr>\n",
       "      <th>75%</th>\n",
       "      <td>61.000000</td>\n",
       "      <td>275.000000</td>\n",
       "      <td>4.000000</td>\n",
       "      <td>1.000000</td>\n",
       "      <td>0.000000</td>\n",
       "      <td>2.000000</td>\n",
       "      <td>225.750000</td>\n",
       "      <td>1.600000</td>\n",
       "      <td>2.000000</td>\n",
       "      <td>1.000000</td>\n",
       "      <td>2.000000</td>\n",
       "      <td>166.000000</td>\n",
       "      <td>140.000000</td>\n",
       "    </tr>\n",
       "    <tr>\n",
       "      <th>max</th>\n",
       "      <td>77.000000</td>\n",
       "      <td>564.000000</td>\n",
       "      <td>4.000000</td>\n",
       "      <td>1.000000</td>\n",
       "      <td>1.000000</td>\n",
       "      <td>4.000000</td>\n",
       "      <td>301.000000</td>\n",
       "      <td>6.200000</td>\n",
       "      <td>2.000000</td>\n",
       "      <td>1.000000</td>\n",
       "      <td>3.000000</td>\n",
       "      <td>202.000000</td>\n",
       "      <td>200.000000</td>\n",
       "    </tr>\n",
       "  </tbody>\n",
       "</table>\n",
       "</div>"
      ],
      "text/plain": [
       "              age        chol          cp       exang         fbs         num  \\\n",
       "count  302.000000  302.000000  302.000000  302.000000  302.000000  302.000000   \n",
       "mean    54.410596  246.738411    3.165563    0.327815    0.145695    0.940397   \n",
       "std      9.040163   51.856829    0.953612    0.470196    0.353386    1.229384   \n",
       "min     29.000000  126.000000    1.000000    0.000000    0.000000    0.000000   \n",
       "25%     48.000000  211.000000    3.000000    0.000000    0.000000    0.000000   \n",
       "50%     55.500000  241.500000    3.000000    0.000000    0.000000    0.000000   \n",
       "75%     61.000000  275.000000    4.000000    1.000000    0.000000    2.000000   \n",
       "max     77.000000  564.000000    4.000000    1.000000    1.000000    4.000000   \n",
       "\n",
       "       observation_number     oldpeak     restecg         sex       slope  \\\n",
       "count          302.000000  302.000000  302.000000  302.000000  302.000000   \n",
       "mean           150.500000    1.035430    0.986755    0.678808    1.596026   \n",
       "std             87.324109    1.160723    0.994916    0.467709    0.611939   \n",
       "min              0.000000    0.000000    0.000000    0.000000    1.000000   \n",
       "25%             75.250000    0.000000    0.000000    0.000000    1.000000   \n",
       "50%            150.500000    0.800000    0.500000    1.000000    2.000000   \n",
       "75%            225.750000    1.600000    2.000000    1.000000    2.000000   \n",
       "max            301.000000    6.200000    2.000000    1.000000    3.000000   \n",
       "\n",
       "          thalach    trestbps  \n",
       "count  302.000000  302.000000  \n",
       "mean   149.605960  131.645695  \n",
       "std     22.912959   17.612202  \n",
       "min     71.000000   94.000000  \n",
       "25%    133.250000  120.000000  \n",
       "50%    153.000000  130.000000  \n",
       "75%    166.000000  140.000000  \n",
       "max    202.000000  200.000000  "
      ]
     },
     "execution_count": 6,
     "metadata": {},
     "output_type": "execute_result"
    }
   ],
   "source": [
    "heart_disease_data.describe()"
   ]
  },
  {
   "cell_type": "markdown",
   "metadata": {},
   "source": [
    "## YOUR TURN - Try changing the plot title"
   ]
  },
  {
   "cell_type": "code",
   "execution_count": 7,
   "metadata": {
    "collapsed": true
   },
   "outputs": [],
   "source": [
    "# You can copy the code from above,\n",
    "#   but change the title to something else.\n",
    "#   Something...cooler.\n",
    "\n"
   ]
  },
  {
   "cell_type": "markdown",
   "metadata": {},
   "source": [
    "## Scatterplots - How do two variables vary together?"
   ]
  },
  {
   "cell_type": "code",
   "execution_count": 8,
   "metadata": {
    "collapsed": false
   },
   "outputs": [
    {
     "data": {
      "text/plain": [
       "<matplotlib.axes._subplots.AxesSubplot at 0x1094c47b8>"
      ]
     },
     "execution_count": 8,
     "metadata": {},
     "output_type": "execute_result"
    },
    {
     "data": {
      "image/png": "[encoded data removed]",
      "text/plain": [
       "<matplotlib.figure.Figure at 0x106538080>"
      ]
     },
     "metadata": {},
     "output_type": "display_data"
    }
   ],
   "source": [
    "heart_disease_data.plot.scatter(\n",
    "    x = 'thalach', # maximum heart rate (in beats per minute)\n",
    "    y = 'chol' # cholesterol (in milligrams per deciliter)\n",
    ")"
   ]
  },
  {
   "cell_type": "markdown",
   "metadata": {},
   "source": [
    "## Your Turn\n",
    "\n",
    "### Make a plot so cholesterol is on the x-axis, with max heart rate on the y-axis"
   ]
  },
  {
   "cell_type": "code",
   "execution_count": null,
   "metadata": {
    "collapsed": true
   },
   "outputs": [],
   "source": []
  },
  {
   "cell_type": "markdown",
   "metadata": {},
   "source": [
    "### What kind of relationship do you see between resting blood pressure and cholesterol?\n",
    "\n",
    "Plot it, then describe what you're seeing in words."
   ]
  },
  {
   "cell_type": "code",
   "execution_count": null,
   "metadata": {
    "collapsed": true
   },
   "outputs": [],
   "source": []
  },
  {
   "cell_type": "markdown",
   "metadata": {
    "nbpresent": {
     "id": "04b094b8-6928-4b1c-8c44-d6343bb36b6e"
    }
   },
   "source": [
    "# Assignment Feedback"
   ]
  },
  {
   "cell_type": "code",
   "execution_count": 9,
   "metadata": {
    "collapsed": false,
    "nbpresent": {
     "id": "2b1c5e22-97ff-4c5c-9270-4ad03df29a9e"
    }
   },
   "outputs": [
    {
     "data": {
      "text/html": [
       "\n",
       "<iframe \n",
       "\tsrc=\"https://docs.google.com/forms/d/e/1FAIpQLSefj3hOEQkU2V_ue9mZ5LuFr_AIfTbQFk8IQGIt8cWVSccLcA/viewform?embedded=true\" \n",
       "\twidth=\"60%\" \n",
       "\theight=\"1200px\" \n",
       "\tframeborder=\"0\" \n",
       "\tmarginheight=\"0\" \n",
       "\tmarginwidth=\"0\">\n",
       "\tLoading...\n",
       "</iframe>\n"
      ],
      "text/plain": [
       "<IPython.core.display.HTML object>"
      ]
     },
     "execution_count": 9,
     "metadata": {},
     "output_type": "execute_result"
    }
   ],
   "source": [
    "from IPython.display import HTML\n",
    "HTML(\n",
    "\"\"\"\n",
    "<iframe \n",
    "\tsrc=\"https://docs.google.com/forms/d/e/1FAIpQLSefj3hOEQkU2V_ue9mZ5LuFr_AIfTbQFk8IQGIt8cWVSccLcA/viewform?embedded=true\" \n",
    "\twidth=\"60%\" \n",
    "\theight=\"1200px\" \n",
    "\tframeborder=\"0\" \n",
    "\tmarginheight=\"0\" \n",
    "\tmarginwidth=\"0\">\n",
    "\tLoading...\n",
    "</iframe>\n",
    "\"\"\"\n",
    ")"
   ]
  },
  {
   "cell_type": "markdown",
   "metadata": {
    "nbpresent": {
     "id": "8657e511-2116-469b-a39c-c1fa2cb506ec"
    }
   },
   "source": [
    "### Congratulations, you're done with your first pre-class assignment!\n",
    "\n",
    "Now, you just need to submit this assignment by uploading it to the course Desire2Learn web page.  Go to the \"Pre-class assignments\" folder, find the dropbox link for Day 2, and upload it there.\n",
    "\n",
    "See you in class!"
   ]
  }
 ],
 "metadata": {
  "anaconda-cloud": {},
  "kernelspec": {
   "display_name": "Python 3",
   "language": "python",
   "name": "python3"
  },
  "language_info": {
   "codemirror_mode": {
    "name": "ipython",
    "version": 3
   },
   "file_extension": ".py",
   "mimetype": "text/x-python",
   "name": "python",
   "nbconvert_exporter": "python",
   "pygments_lexer": "ipython3",
   "version": "3.5.1"
  },
  "nbpresent": {
   "slides": {
    "19f4c585-2656-4091-9fc9-6a53e193ad50": {
     "id": "19f4c585-2656-4091-9fc9-6a53e193ad50",
     "layout": "treemap",
     "prev": null,
     "regions": {
      "896217d3-4172-42a0-b8b6-490df7c3b051": {
       "attrs": {
        "height": 1,
        "treemap:weight": 1,
        "width": 1,
        "x": 0,
        "y": 0
       },
       "id": "896217d3-4172-42a0-b8b6-490df7c3b051"
      }
     }
    },
    "34ec8aec-3910-4d9f-ac70-5bc8c9e825e6": {
     "id": "34ec8aec-3910-4d9f-ac70-5bc8c9e825e6",
     "layout": "grid",
     "prev": "19f4c585-2656-4091-9fc9-6a53e193ad50",
     "regions": {
      "84a5ff8b-cbbb-43ea-b9a9-d120e3e71798": {
       "attrs": {
        "height": 0.6666666666666666,
        "pad": 0.01,
        "treemap:weight": 1,
        "width": 0.5,
        "x": 0,
        "y": 0
       },
       "id": "84a5ff8b-cbbb-43ea-b9a9-d120e3e71798"
      },
      "c2784ff7-2326-40d4-b3d8-8687cabb292e": {
       "attrs": {
        "height": 0.6666666666666666,
        "pad": 0.01,
        "treemap:weight": 1,
        "width": 0.5,
        "x": 0.5,
        "y": 0
       },
       "id": "c2784ff7-2326-40d4-b3d8-8687cabb292e"
      },
      "ce2ffb35-0969-4949-9dc1-ea37a3ba9c81": {
       "attrs": {
        "height": 0.3333333333333333,
        "pad": 0.01,
        "treemap:weight": 1,
        "width": 1,
        "x": 0,
        "y": 0.6666666666666666
       },
       "id": "ce2ffb35-0969-4949-9dc1-ea37a3ba9c81"
      }
     }
    },
    "fbcde77b-f479-4d9e-b368-6948f7ffe591": {
     "id": "fbcde77b-f479-4d9e-b368-6948f7ffe591",
     "prev": "ffa4dd65-6a94-4bf3-9ae8-0ccd54367d15",
     "regions": {
      "cd6da66a-bb50-4eba-be1a-73d8539d46dd": {
       "attrs": {
        "height": 1,
        "width": 1,
        "x": 0,
        "y": 0
       },
       "content": {
        "cell": "a19e59bd-9556-469d-acd9-f9f16fc15609",
        "part": "source"
       },
       "id": "cd6da66a-bb50-4eba-be1a-73d8539d46dd"
      }
     }
    },
    "ffa4dd65-6a94-4bf3-9ae8-0ccd54367d15": {
     "id": "ffa4dd65-6a94-4bf3-9ae8-0ccd54367d15",
     "prev": "34ec8aec-3910-4d9f-ac70-5bc8c9e825e6",
     "regions": {
      "b1a13e6d-fad7-4bc7-93f8-b049a55e9d57": {
       "attrs": {
        "height": 1,
        "width": 1,
        "x": 0,
        "y": 0
       },
       "id": "b1a13e6d-fad7-4bc7-93f8-b049a55e9d57"
      }
     }
    }
   },
   "themes": {
    "default": "9b60fa16-2d70-4de9-9d23-0c4cd4134769",
    "theme": {
     "9b60fa16-2d70-4de9-9d23-0c4cd4134769": {
      "id": "9b60fa16-2d70-4de9-9d23-0c4cd4134769",
      "palette": {
       "19cc588f-0593-49c9-9f4b-e4d7cc113b1c": {
        "id": "19cc588f-0593-49c9-9f4b-e4d7cc113b1c",
        "rgb": [
         252,
         252,
         252
        ]
       },
       "31af15d2-7e15-44c5-ab5e-e04b16a89eff": {
        "id": "31af15d2-7e15-44c5-ab5e-e04b16a89eff",
        "rgb": [
         68,
         68,
         68
        ]
       },
       "50f92c45-a630-455b-aec3-788680ec7410": {
        "id": "50f92c45-a630-455b-aec3-788680ec7410",
        "rgb": [
         155,
         177,
         192
        ]
       },
       "c5cc3653-2ee1-402a-aba2-7caae1da4f6c": {
        "id": "c5cc3653-2ee1-402a-aba2-7caae1da4f6c",
        "rgb": [
         43,
         126,
         184
        ]
       },
       "efa7f048-9acb-414c-8b04-a26811511a21": {
        "id": "efa7f048-9acb-414c-8b04-a26811511a21",
        "rgb": [
         25.118061674008803,
         73.60176211453744,
         107.4819383259912
        ]
       }
      },
      "rules": {
       "blockquote": {
        "color": "50f92c45-a630-455b-aec3-788680ec7410"
       },
       "code": {
        "font-family": "Anonymous Pro"
       },
       "h1": {
        "color": "c5cc3653-2ee1-402a-aba2-7caae1da4f6c",
        "font-family": "Lato",
        "font-size": 8
       },
       "h2": {
        "color": "c5cc3653-2ee1-402a-aba2-7caae1da4f6c",
        "font-family": "Lato",
        "font-size": 6
       },
       "h3": {
        "color": "50f92c45-a630-455b-aec3-788680ec7410",
        "font-family": "Lato",
        "font-size": 5.5
       },
       "h4": {
        "color": "c5cc3653-2ee1-402a-aba2-7caae1da4f6c",
        "font-family": "Lato",
        "font-size": 5
       },
       "h5": {
        "font-family": "Lato"
       },
       "h6": {
        "font-family": "Lato"
       },
       "h7": {
        "font-family": "Lato"
       },
       "pre": {
        "font-family": "Anonymous Pro",
        "font-size": 4
       }
      },
      "text-base": {
       "font-family": "Merriweather",
       "font-size": 4
      }
     }
    }
   }
  },
  "toc": {
   "toc_cell": false,
   "toc_number_sections": true,
   "toc_threshold": 4,
   "toc_window_display": false
  }
 },
 "nbformat": 4,
 "nbformat_minor": 0
}
