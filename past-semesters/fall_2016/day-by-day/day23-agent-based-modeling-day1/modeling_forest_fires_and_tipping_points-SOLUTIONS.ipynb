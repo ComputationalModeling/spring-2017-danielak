{
 "cells": [
  {
   "cell_type": "markdown",
   "metadata": {},
   "source": [
    "# Modeling forest fires and tipping points"
   ]
  },
  {
   "cell_type": "markdown",
   "metadata": {},
   "source": [
    "## Names of group members"
   ]
  },
  {
   "cell_type": "markdown",
   "metadata": {},
   "source": [
    "// put your names here!"
   ]
  },
  {
   "cell_type": "markdown",
   "metadata": {},
   "source": [
    "## Goals of this assignment\n",
    "\n",
    "The primary goal of this assignment are to model the spread of a forest fire using an agent-based model.  In doing so, we will:\n",
    "\n",
    "* Observe how complex emergent phenomena result from simple rules in a model.\n",
    "* Examine and quantify the concept of a \"tipping point\" in a model.\n",
    "\n",
    "**Note:** This is a two-day assignment!"
   ]
  },
  {
   "cell_type": "markdown",
   "metadata": {},
   "source": [
    "### Why model forest fires?\n",
    "\n",
    "While this isn't a huge problem in Michigan, the states in the western United States are currently having a tremendous problem with huge and difficult-to-control forest fires.  This comes from a combination of extended drought conditions, dense woodlands, and forest management policies that suppress small fires and thus ensure that large quantities of dead, dry trees and brush are available to burn when a large fire inevitably starts (typically from lighting strikes, but occasionally from negligent campers).  In recent years, this has been exacerbated by climate change, which has both caused drought conditions to be more severe and allowed tree-killing diseases and insects to flourish, which produces more dead, easily-burned wood.\n",
    "\n",
    "These forest fires destroy ecosystems and peoples' homes and other property, and can result in the loss of substantial human and animal life.  A key challenge in forest management is to attempt to contain these huge forest fires once they start, in order to protect human lives, settlements, and infrastructure.  To that end, it is critical to have models of how fire spreads in various condition - see, for example, the [Open Wildland Fire Modeling group](http://www.openwfm.org/wiki/Open_Wildland_Fire_Modeling_E_community_Wiki).\n",
    "\n",
    "More generally, the type of model that we're going to create is an example of a \"percolation\" model, where one substance (in this case, fire) moves through another substance (in this case, forest).  This type of problem is interesting in a variety of fields, including geology (oil or water percolating through rock, sand, or soil), human behavior (crowd movement in amusement parks), and in physics (understanding how two materials mix together).  \n",
    "\n",
    "### What is a \"tipping point\"?\n",
    "\n",
    "This model also demonstrates the concept of a \"critical threshold\" or a \"tipping point\".  This is a phenomenon that occurs when a small change in an input parameter results in a large change in outcome.  This is a phenomenon that shows up in both simple and complex models, and happens in such varied circumstances as forest fires, the spread of disease in populations, and the transfer of information within a population."
   ]
  },
  {
   "cell_type": "markdown",
   "metadata": {},
   "source": [
    "# Let's try the model!\n",
    "\n",
    "Before we try to implement it, let's get a feel for how this model works.  We're going to do this using the [NetLogo Fire model](http://ccl.northwestern.edu/netlogo/models/Fire).  \n",
    "\n",
    "**Finding the model:** Open NetLogo, click on \"File\" and then \"Models Library\".  In the \"Sample Models\" directory, click on \"Earth Science\" and then \"Fire\"\n",
    "\n",
    "**Running the model:**  The only parameter that you can vary is \"density\" - the fraction of cells that contain trees (and thus the density of trees in the forest).  You can drag the slider back and forth to change the density.  After you do that, click the \"setup\" button and then \"go\".\n",
    "\n",
    "**What do you observe?**  Try setting the \"density\" value to various numbers between 0 and 99, and see how the wildfire spreads.  What happens when the value is low vs. when it is high?  And, is there any particular value where the behavior changes very rapidly as you change the density of trees?  If so, try to home in on that number and report it below."
   ]
  },
  {
   "cell_type": "markdown",
   "metadata": {},
   "source": [
    "Put your observations here!"
   ]
  },
  {
   "cell_type": "markdown",
   "metadata": {},
   "source": [
    "---\n",
    "## The rules for our model\n",
    "\n",
    "In this model, we'll create a two-dimensional, square array with sides that are N cells long that represents the forested region we're interested in.  The cells in the array can have three values, 0 (empty), 1 (trees), and 2 (on fire).  At the beginning of the model, a user-specified fraction of the cells $\\mathrm{f_{trees\\_start}}$ (equivalent to the NetLogo `density` parameter) are randomly filled with trees, and the remaining cells are empty.  One edge of the board (say, the entire i=0 column) is set on fire.\n",
    "\n",
    "Each cell has a \"neighborhood\" that is composed of its four neighbors to the left, right, above, and below it.  (Note: not the diagonal elements!)  If a cell is along one of the edges of the array, only consider the neighbors that it has, and don't try to go out of the bounds of the array!\n",
    "\n",
    "The model takes steps forward in time, where every cell is modified based on the previous step.  The model evolves as follows:\n",
    "\n",
    "* If the cell was empty last turn, it stays empty this turn.\n",
    "* If the cell is a tree and any of its neighbors were on fire last turn, it catches on fire.\n",
    "* If the cell was on fire last turn, the fire has consumed all of the trees and it is now empty.\n",
    "\n",
    "The model evolves forward in time until all of the fires have burned out.  After this happens, you can calculate the fraction of the cells that still have trees at the end of the model ($\\mathrm{f_{trees\\_end}}$) and the fraction of cells that are empty ($\\mathrm{f_{empty}}$).  The fraction of burned cells, $\\mathrm{f_{burned}}$, is just the difference between the fraction of cells that were initially trees and the fraction of cells that are trees at the end of the model - in other words,\n",
    "\n",
    "$\\mathrm{f_{burned}} = \\mathrm{f_{trees\\_end}} - \\mathrm{f_{trees\\_start}}$\n",
    "\n",
    "## Your mission!\n",
    "\n",
    "Your mission is to answer the question: \"How does the spread of fire relate to the density of the forest?\"  More precisely, we're asking \"How does $\\mathrm{f_{burned}}$ depend on $\\mathrm{f_{trees\\_start}}$?\"\n",
    "\n",
    "To to this, we want to do the following:\n",
    "\n",
    "**First,** as a group create pseudo-code that shows how you plan to implement this model for an arbitrary value of $\\mathrm{f_{trees\\_start}}$.  Make sure that you think about how to set up the initial conditions, how to evolve the model, and how to calculate the fraction of trees and empty cells that remain in the end.  Use the whiteboard and make sure to take a picture of it!\n",
    "\n",
    "**Second,** implement this model as code.  Demonstrate that it works on a model board 40 cells on a side for a few values of $\\mathrm{f_{trees\\_start}}$ - say, 0.25, 0.5, 0.75, and 1.0.  Do you notice any differences in behavior as you change $\\mathrm{f_{trees\\_start}}$?\n",
    "\n",
    "**Finally,** loop over many values of $\\mathrm{f_{trees\\_start}}$ - say, values from 0.01 to 1.0, in steps of 0.01 - and run the model many times.  Keep track of the fraction of cells that are burned, and show how $\\mathrm{f_{burned}}$ and $\\mathrm{f_{trees\\_start}}$ relate to each other. \n",
    "\n",
    "**Note:** This is a two-day assignment.  Also, feel free to use any code from the Numpy 2D array tutorial, the pre-class assignment, or anything else you've done this semester!"
   ]
  },
  {
   "cell_type": "code",
   "execution_count": null,
   "metadata": {
    "collapsed": false
   },
   "outputs": [],
   "source": [
    "# put your code here, adding any additional cells as necessary!\n",
    "\n",
    "# standard includes\n",
    "import numpy as np\n",
    "import numpy.random as rand\n",
    "%matplotlib inline\n",
    "import matplotlib.pyplot as plt\n",
    "\n",
    "# Next we are going to import some specific libraries we will \n",
    "# use to get the animation to work cleanly\n",
    "from IPython.display import display, clear_output\n",
    "import time  \n"
   ]
  },
  {
   "cell_type": "code",
   "execution_count": null,
   "metadata": {
    "collapsed": true
   },
   "outputs": [],
   "source": [
    "# ADAPTED FROM THE 2D NUMPY TUTORIAL\n",
    "\n",
    "# function plotgrid() takes in a 2D array and uses pyplot to make a plot.\n",
    "# this function returns no values!\n",
    "\n",
    "def plotgrid(myarray):\n",
    "    \n",
    "    # first create two vectors based on the x and y sizes of the grid\n",
    "    x_range = np.linspace(0, myarray.shape[0], myarray.shape[0]) \n",
    "    y_range = np.linspace(0, myarray.shape[0], myarray.shape[0])\n",
    "    \n",
    "    # use the numpy meshgrid function to create two matrices \n",
    "    # of the same size as myarray with x and y indexes\n",
    "    x_indexes, y_indexes = np.meshgrid(x_range, y_range)\n",
    "    \n",
    "    # make a list of all the x and y indexes that are either trees or fire.\n",
    "    tree_x = x_indexes[myarray == 1];   # trees!\n",
    "    tree_y = y_indexes[myarray == 1]; \n",
    "    fire_x = x_indexes[myarray == 2];   # fire!\n",
    "    fire_y = y_indexes[myarray == 2]; \n",
    "    \n",
    "    # plot the trees and fire using appropriate colors.\n",
    "    # make the size of the polygons \n",
    "    # larger than the default so they're easy to see!\n",
    "    plt.plot(tree_x,tree_y, 'gs',markersize=10)   \n",
    "    plt.plot(fire_x,fire_y, 'rs',markersize=10)  \n",
    "    \n",
    "    #Set the x and y limits to include a space of overlap so we don't cut off the shapes\n",
    "    plt.ylim([-1,myarray.shape[0]+1]) \n",
    "    plt.xlim([-1,myarray.shape[0]+1])\n",
    "\n"
   ]
  },
  {
   "cell_type": "code",
   "execution_count": null,
   "metadata": {
    "collapsed": true
   },
   "outputs": [],
   "source": [
    "def set_board(board_size=40,prob_tree=0.5):\n",
    "    '''\n",
    "    Creates the initial game board.\n",
    "\n",
    "    Inputs:\n",
    "        board_size: length of one edge of the board\n",
    "        prob_tree: probability that a given cell is a tree.\n",
    "\n",
    "    Outputs a 2D numpy array with values set to either 0, 1, or 2\n",
    "        (empty, tree, or fire)\n",
    "    '''\n",
    "    \n",
    "    # all cells initialized to 'empty' (0) by default\n",
    "    game_board = np.zeros((board_size,board_size),dtype='int64')\n",
    "    \n",
    "    # loop over board and roll the dice; if the random number is less\n",
    "    # than prob_tree, make it a tree.\n",
    "    for i in range(board_size):\n",
    "        for j in range(board_size):\n",
    "            if rand.random() <= prob_tree:\n",
    "                game_board[i,j] = 1\n",
    "\n",
    "    # set the whole i=0 edge of the board on fire. We're arsonists!\n",
    "    game_board[0,:] = 2\n",
    "    \n",
    "    return game_board\n",
    "\n",
    "\n",
    "def advance_board(game_board):\n",
    "    '''\n",
    "    Advances the game board using the given rules.\n",
    "    Input: the game board.\n",
    "    Output: a new game board\n",
    "    '''\n",
    "    \n",
    "    # create a new array that's just like the original one, but initially \n",
    "    # set to all zeros (i.e., totally empty)\n",
    "    new_board = np.zeros_like(game_board)\n",
    "    \n",
    "    # loop over each cell in the board and decide what to do.\n",
    "    for i in range(game_board.shape[0]):\n",
    "        for j in range(game_board.shape[1]):\n",
    "    \n",
    "            # if the cell was empty last turn, it's still empty.\n",
    "            # if it was on fire last turn, it's now empty.\n",
    "            if game_board[i,j] == 0 or game_board[i,j] == 2:\n",
    "                new_board[i,j] = 0\n",
    "    \n",
    "            # now, if it's a tree we have to decide what to do.\n",
    "            if game_board[i,j] == 1:\n",
    "                \n",
    "                # initially make it a tree\n",
    "                new_board[i,j] = 1\n",
    "\n",
    "                # If one of the neighboring cells was on fire last turn, \n",
    "                # this cell is now on fire!\n",
    "                if i > 0:\n",
    "                    if game_board[i-1,j] == 2:\n",
    "                        new_board[i,j] = 2\n",
    "                    \n",
    "                if j > 0:\n",
    "                    if game_board[i,j-1] == 2:\n",
    "                        new_board[i,j] = 2\n",
    "\n",
    "                if i < game_board.shape[0]-1:\n",
    "                    if game_board[i+1,j] == 2:\n",
    "                        new_board[i,j] = 2\n",
    "                        \n",
    "                if j < game_board.shape[1]-1:                    \n",
    "                    if game_board[i,j+1] == 2:\n",
    "                        new_board[i,j] = 2\n",
    "\n",
    "    # return the new board\n",
    "    return new_board\n",
    "\n",
    "\n",
    "def calc_stats(game_board):\n",
    "    '''\n",
    "    Calculates the fraction of cells on the game board that are \n",
    "    a tree or are empty.\n",
    "    \n",
    "    Input: the game board\n",
    "    \n",
    "    Output: fraction that's empty, fraction that's covered in trees.\n",
    "    '''\n",
    "    \n",
    "    # use numpy to count up the fractions that are empty\n",
    "    frac_empty = (game_board == 0).sum() / game_board.size\n",
    "\n",
    "    # do the same for trees\n",
    "    frac_tree = (game_board == 1).sum() / game_board.size\n",
    "    \n",
    "    # return it!\n",
    "    return frac_empty, frac_tree\n"
   ]
  },
  {
   "cell_type": "code",
   "execution_count": null,
   "metadata": {
    "collapsed": false
   },
   "outputs": [],
   "source": [
    "'''\n",
    "This cell does a quick test run with a user-specified fraction of trees, \n",
    "and makes an animation.  We don't necessarily expect the students to do \n",
    "something this fancy, but it would certainly be nice.  All of the plotting\n",
    "stuff has been adapted from the Numpy 2D tutorial animation section.\n",
    "'''\n",
    "\n",
    "# some initial parameters\n",
    "prob_tree=0.7\n",
    "board_size = 40\n",
    "\n",
    "# set up a figure\n",
    "fig = plt.figure(figsize=(6,6))\n",
    "\n",
    "# set up a game board\n",
    "game_board = set_board(board_size=board_size, prob_tree=prob_tree)\n",
    "\n",
    "# plot the initial board\n",
    "plotgrid(game_board)\n",
    "\n",
    "# need to decide when to stop - we're just going to ask if something\n",
    "# is still on fire!\n",
    "on_fire = True\n",
    "\n",
    "# while there are fires, keep going\n",
    "while on_fire == True:\n",
    "\n",
    "    # advance the game board\n",
    "    game_board = advance_board(game_board)\n",
    "    \n",
    "    # do a bunch of plotting stuff, using code from the Numpy 2D array tutorial.\n",
    "    plotgrid(game_board)\n",
    "    time.sleep(0.05)  # set this to be small because I don't want to wait!\n",
    "    clear_output(wait=True)\n",
    "    display(fig)\n",
    "    fig.clear()\n",
    "\n",
    "    # calculate the fractions that are empty and are trees\n",
    "    frac_empty, frac_trees = calc_stats(game_board)\n",
    "\n",
    "    # if 100% of cells are empty or are trees, there is no fire and we can stop.\n",
    "    if frac_empty + frac_trees == 1.0:\n",
    "        on_fire = False\n",
    "\n",
    "# clean it up.\n",
    "plt.close()                 # Close dynamic display\n"
   ]
  },
  {
   "cell_type": "code",
   "execution_count": null,
   "metadata": {
    "collapsed": false
   },
   "outputs": [],
   "source": [
    "board_size = 40\n",
    "\n",
    "f_tree = []\n",
    "f_burned = []\n",
    "\n",
    "for tree_fraction in np.arange(0.01,1.01,0.01):\n",
    "\n",
    "    print(\"tree fraction is:\", tree_fraction)\n",
    "    \n",
    "    game_board = set_board(board_size=board_size, prob_tree=tree_fraction)\n",
    "\n",
    "    on_fire = True\n",
    "    while on_fire == True:\n",
    "        game_board = advance_board(game_board)\n",
    "        frac_empty, frac_trees = calc_stats(game_board)\n",
    "        if frac_empty + frac_trees == 1.0:\n",
    "            on_fire = False\n",
    "\n",
    "    #frac_empty, frac_trees = calc_stats(game_board)\n",
    "    f_tree.append(tree_fraction)\n",
    "    f_burned.append(frac_empty - (1.0-tree_fraction))\n",
    "    \n",
    "\n",
    "plt.plot(f_tree, f_burned)\n",
    "plt.xlabel(\"tree fraction\")\n",
    "plt.ylabel(\"burned fraction (normalized)\")\n"
   ]
  },
  {
   "cell_type": "markdown",
   "metadata": {
    "collapsed": true
   },
   "source": [
    "# A question\n",
    "\n",
    "Describe how you see the model's behavior.  Do you observe a \"tipping point\" in $\\mathrm{f_{burned}}$ - that is to say, an abrupt change in behavior in $\\mathrm{f_{burned}}$ - as you increase $\\mathrm{f_{trees\\_start}}$?  Does it agree with what you saw when you were experimenting with the NetLogo model?"
   ]
  },
  {
   "cell_type": "markdown",
   "metadata": {},
   "source": [
    "*put your answer here!*\n",
    "\n",
    "**ANSWER:** As the fraction of trees goes up, the fire burns much more steadily across the forest.  At very low fractions, it basically burns itself out, while at large fractions it burns all the way across the board.  There is a clear \"tipping point\" around f_trees_start of 0.6.  (The precise value is 0.59)\n"
   ]
  },
  {
   "cell_type": "markdown",
   "metadata": {},
   "source": [
    "### Assignment wrapup\n",
    "\n",
    "Please fill out the form that appears when you run the code below.  **You must completely fill this out in order to receive credit for the assignment!**"
   ]
  },
  {
   "cell_type": "code",
   "execution_count": null,
   "metadata": {
    "collapsed": false
   },
   "outputs": [],
   "source": [
    "from IPython.display import HTML\n",
    "HTML(\n",
    "\"\"\"\n",
    "<iframe \n",
    "\tsrc=\"https://goo.gl/forms/gXClWJLmneatfgew2?embedded=true\" \n",
    "\twidth=\"80%\" \n",
    "\theight=\"1200px\" \n",
    "\tframeborder=\"0\" \n",
    "\tmarginheight=\"0\" \n",
    "\tmarginwidth=\"0\">\n",
    "\tLoading...\n",
    "</iframe>\n",
    "\"\"\"\n",
    ")"
   ]
  },
  {
   "cell_type": "markdown",
   "metadata": {},
   "source": [
    "## Turn it in!\n",
    "\n",
    "Turn this assignment in to the Day 23 dropbox in the \"in-class activities\" folder."
   ]
  }
 ],
 "metadata": {
  "kernelspec": {
   "display_name": "Python 3",
   "language": "python",
   "name": "python3"
  },
  "language_info": {
   "codemirror_mode": {
    "name": "ipython",
    "version": 3
   },
   "file_extension": ".py",
   "mimetype": "text/x-python",
   "name": "python",
   "nbconvert_exporter": "python",
   "pygments_lexer": "ipython3",
   "version": "3.5.1"
  }
 },
 "nbformat": 4,
 "nbformat_minor": 0
}
