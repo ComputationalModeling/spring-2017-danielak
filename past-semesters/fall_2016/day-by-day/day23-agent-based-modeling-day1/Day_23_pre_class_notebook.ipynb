{
 "cells": [
  {
   "cell_type": "markdown",
   "metadata": {},
   "source": [
    "# Day 23 Pre-class assignment\n",
    "\n",
    "## Goals for today's pre-class assignment\n",
    "\n",
    "In this pre-class assignment, you will:\n",
    "\n",
    "* Create and slice multi-dimensional numpy arrays\n",
    "* Plot 2D numpy arrays\n",
    "* Make an animation of 2D numpy arrays"
   ]
  },
  {
   "cell_type": "markdown",
   "metadata": {},
   "source": [
    "## Assignment instructions\n",
    "\n",
    "**First,** work through the Numpy 2D array tutorial (Numpy\\_2D\\_array\\_tutorial.ipynb).  \n",
    "\n",
    "**After that**, write code to do the following things:"
   ]
  },
  {
   "cell_type": "markdown",
   "metadata": {},
   "source": [
    "---\n",
    "\n",
    "**Task 1:** Create a 2D Numpy array, named A, that is a 10x10 array integers, each of which is set to 0.  Write a pair of for loops that iterate over A and sets A[i,j] = i + j.  Print that array out to verify that it's behaving as expected - it should look like this:\n",
    "\n",
    "\n",
    "```\n",
    "[[ 0  1  2  3  4  5  6  7  8  9]\n",
    " [ 1  2  3  4  5  6  7  8  9 10]\n",
    " [ 2  3  4  5  6  7  8  9 10 11]\n",
    " [ 3  4  5  6  7  8  9 10 11 12]\n",
    " [ 4  5  6  7  8  9 10 11 12 13]\n",
    " [ 5  6  7  8  9 10 11 12 13 14]\n",
    " [ 6  7  8  9 10 11 12 13 14 15]\n",
    " [ 7  8  9 10 11 12 13 14 15 16]\n",
    " [ 8  9 10 11 12 13 14 15 16 17]\n",
    " [ 9 10 11 12 13 14 15 16 17 18]]```\n"
   ]
  },
  {
   "cell_type": "code",
   "execution_count": null,
   "metadata": {
    "collapsed": false
   },
   "outputs": [],
   "source": [
    "# Put your code here!\n",
    "\n"
   ]
  },
  {
   "cell_type": "markdown",
   "metadata": {
    "collapsed": false
   },
   "source": [
    "**Task 2:** Use Numpy's array slicing capabilities to create a new array, B, which is a subset of the values in array A.  Specifically, extract every second element in both dimensions in array A, starting with the *second* element (i.e., index=1) in each dimension.  Store this in  B, and print out array B.  It should look like this:\n",
    "\n",
    "```\n",
    "[[ 2  4  6  8 10]\n",
    " [ 4  6  8 10 12]\n",
    " [ 6  8 10 12 14]\n",
    " [ 8 10 12 14 16]\n",
    " [10 12 14 16 18]]\n",
    "```\n",
    " "
   ]
  },
  {
   "cell_type": "code",
   "execution_count": null,
   "metadata": {
    "collapsed": false
   },
   "outputs": [],
   "source": [
    "# Put your code here!\n",
    "\n"
   ]
  },
  {
   "cell_type": "markdown",
   "metadata": {
    "collapsed": false
   },
   "source": [
    "**Task 3:** Using Numpy's slicing capabilities, extract the second and third rows of array B and store them in a third array, C.  Print out C.  It should look like this:\n",
    "\n",
    "```\n",
    "[[ 4  6  8 10 12]\n",
    " [ 6  8 10 12 14]]\n",
    " ```"
   ]
  },
  {
   "cell_type": "code",
   "execution_count": null,
   "metadata": {
    "collapsed": false
   },
   "outputs": [],
   "source": [
    "# Put your code here!\n",
    "\n"
   ]
  },
  {
   "cell_type": "markdown",
   "metadata": {
    "collapsed": false
   },
   "source": [
    "**Task 4:** Write a function, called `add_neighborhood()`, that:\n",
    "\n",
    "1. Takes in an array as an argument\n",
    "2. Creates an array, D, that is the same shape and data type as the incoming array but full of zeros.\n",
    "3. Loops over all of the elements of the incoming array (using the `shape()` method to adjust for the fact that you don't know what its size is) and sets D[i,j] equal to the values of A[i,j] plus its four neighbors, A[i+1,j], A[i-1,j], A[i,j+1], A[i,j-1].  If you are at the edge or corner of the array (say, at A[0,0]) do not include any values that go over the edge of the array (into negative numbers or beyond the last index in any dimension).\n",
    "4. Return the array D and print it out once it has been returned from the function.\n",
    "\n",
    "Test this out using array A and B.  When applied to array A, you should get this output:\n",
    "\n",
    "```\n",
    "[[ 2  5  9 13 17 21 25 29 33 27]\n",
    " [ 5 10 15 20 25 30 35 40 45 39]\n",
    " [ 9 15 20 25 30 35 40 45 50 43]\n",
    " [13 20 25 30 35 40 45 50 55 47]\n",
    " [17 25 30 35 40 45 50 55 60 51]\n",
    " [21 30 35 40 45 50 55 60 65 55]\n",
    " [25 35 40 45 50 55 60 65 70 59]\n",
    " [29 40 45 50 55 60 65 70 75 63]\n",
    " [33 45 50 55 60 65 70 75 80 67]\n",
    " [27 39 43 47 51 55 59 63 67 52]]\n",
    "```\n",
    "\n",
    "and when you apply this function to array B, you should get this output:\n",
    "\n",
    "```\n",
    "[[10 18 26 34 30]\n",
    " [18 30 40 50 46]\n",
    " [26 40 50 60 54]\n",
    " [34 50 60 70 62]\n",
    " [30 46 54 62 50]]\n",
    "```\n",
    "\n",
    "**Note:** Make sure that the edges and corners have the right values!"
   ]
  },
  {
   "cell_type": "code",
   "execution_count": null,
   "metadata": {
    "collapsed": false
   },
   "outputs": [],
   "source": [
    "# Put your code here!\n",
    "\n"
   ]
  },
  {
   "cell_type": "markdown",
   "metadata": {},
   "source": [
    "**Task 5:** Using the pyplot `matshow()` method, plot array A in a plot that uses a [color map](http://matplotlib.org/examples/color/colormaps_reference.html) of your choice (that is not the default color map!), and where the axes are invisible. "
   ]
  },
  {
   "cell_type": "code",
   "execution_count": null,
   "metadata": {
    "collapsed": false
   },
   "outputs": [],
   "source": [
    "# Put your code here!\n",
    "\n"
   ]
  },
  {
   "cell_type": "markdown",
   "metadata": {},
   "source": [
    "### Assignment wrapup\n",
    "\n",
    "Please fill out the form that appears when you run the code below.  **You must completely fill this out in order to receive credit for the assignment!**"
   ]
  },
  {
   "cell_type": "code",
   "execution_count": null,
   "metadata": {
    "collapsed": false
   },
   "outputs": [],
   "source": [
    "from IPython.display import HTML\n",
    "HTML(\n",
    "\"\"\"\n",
    "<iframe \n",
    "\tsrc=\"https://goo.gl/forms/VwY5ods4ugnwidnG2?embedded=true\" \n",
    "\twidth=\"80%\" \n",
    "\theight=\"1200px\" \n",
    "\tframeborder=\"0\" \n",
    "\tmarginheight=\"0\" \n",
    "\tmarginwidth=\"0\">\n",
    "\tLoading...\n",
    "</iframe>\n",
    "\"\"\"\n",
    ")"
   ]
  },
  {
   "cell_type": "markdown",
   "metadata": {},
   "source": [
    "### Congratulations, you're done!\n",
    "\n",
    "Submit this assignment by uploading it to the course Desire2Learn web page.  Go to the \"Pre-class assignments\" folder, find the dropbox link for Day 23, and upload it there.\n",
    "\n",
    "See you in class!"
   ]
  }
 ],
 "metadata": {
  "kernelspec": {
   "display_name": "Python 3",
   "language": "python",
   "name": "python3"
  },
  "language_info": {
   "codemirror_mode": {
    "name": "ipython",
    "version": 3
   },
   "file_extension": ".py",
   "mimetype": "text/x-python",
   "name": "python",
   "nbconvert_exporter": "python",
   "pygments_lexer": "ipython3",
   "version": "3.5.1"
  }
 },
 "nbformat": 4,
 "nbformat_minor": 0
}
