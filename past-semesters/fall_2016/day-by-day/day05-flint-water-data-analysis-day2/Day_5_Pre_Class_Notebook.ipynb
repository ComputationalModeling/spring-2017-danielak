{
 "cells": [
  {
   "cell_type": "markdown",
   "metadata": {},
   "source": [
    "# Day 5 pre-class assignment"
   ]
  },
  {
   "cell_type": "markdown",
   "metadata": {},
   "source": [
    "## Goals for today's pre-class assignment\n",
    "\n",
    "* Use Pandas to select subsets of data \n",
    "* Use Pandas and matplotlib to make plots"
   ]
  },
  {
   "cell_type": "markdown",
   "metadata": {},
   "source": [
    "## Assignment instructions\n",
    "\n",
    "Read the text below and complete the assigned programming problems. There are no videos today!\n",
    "\n",
    "**This assignment is due by 11:59 p.m. the day before class,** and should be uploaded into the \"Pre-class assignments\" dropbox folder for Day 5.  Submission instructions can be found at the end of the notebook."
   ]
  },
  {
   "cell_type": "markdown",
   "metadata": {},
   "source": [
    "### Some possibly useful links\n",
    "\n",
    "* The [Pandas website](http://pandas.pydata.org/)\n",
    "* [10-minute Panda Tutorial](http://pandas.pydata.org/pandas-docs/stable/10min.html) - a good place to get started with Pandas\n",
    "* [The Pyplot tutorial](http://matplotlib.org/users/pyplot_tutorial.html) - the pyplot tutorial.  A good place to get started.\n",
    "* [A summary of pyplot commands](http://matplotlib.org/api/pyplot_summary.html) - more extensive documentation on pyplot."
   ]
  },
  {
   "cell_type": "markdown",
   "metadata": {},
   "source": [
    "# Creating subsets of data\n",
    "\n",
    "It's often useful to get some subset of data in a Pandas data frame.  Typical situations include:\n",
    "\n",
    "* you want all rows in the data frame where a particular quantity is above or below a certain value\n",
    "* you want a range of rows (rows 1-10, for example)\n",
    "* you only want one or two of the columns\n",
    "\n",
    "In general you then use this subset of the data for further analysis or visualization.  \n",
    "\n",
    "In the following cells, we're going to walk you through a variety of ways of getting the data you want out of a Pandas data frame."
   ]
  },
  {
   "cell_type": "code",
   "execution_count": null,
   "metadata": {
    "collapsed": false
   },
   "outputs": [],
   "source": [
    "# This cell loads up the data and sets up a few modules.\n",
    "\n",
    "# makes matplotlib (and pandas) plots show up in the notebook rather than a separate window\n",
    "%matplotlib inline\n",
    "\n",
    "# the following two lines make all plots show up in formats that are high-resolution\n",
    "from IPython.display import set_matplotlib_formats\n",
    "set_matplotlib_formats('pdf', 'svg')\n",
    "\n",
    "# actually import the Pandas module\n",
    "import pandas\n",
    "\n",
    "# create a data frame called flint_data that has everything we used in class.\n",
    "flint_data = pandas.read_json(\"\"\"[{\"SampleID\":1,\"Zip Code\":48504,\"Ward\":6,\"Pb Bottle 1 (ppb) - First Draw\":0.344,\"Pb Bottle 2 (ppb) - 45 secs flushing\":0.226,\"Pb Bottle 3 (ppb) - 2 mins flushing\":0.145},{\"SampleID\":2,\"Zip Code\":48507,\"Ward\":9,\"Pb Bottle 1 (ppb) - First Draw\":8.133,\"Pb Bottle 2 (ppb) - 45 secs flushing\":10.77,\"Pb Bottle 3 (ppb) - 2 mins flushing\":2.761},{\"SampleID\":4,\"Zip Code\":48504,\"Ward\":1,\"Pb Bottle 1 (ppb) - First Draw\":1.111,\"Pb Bottle 2 (ppb) - 45 secs flushing\":0.11,\"Pb Bottle 3 (ppb) - 2 mins flushing\":0.123},{\"SampleID\":5,\"Zip Code\":48507,\"Ward\":8,\"Pb Bottle 1 (ppb) - First Draw\":8.007,\"Pb Bottle 2 (ppb) - 45 secs flushing\":7.446,\"Pb Bottle 3 (ppb) - 2 mins flushing\":3.384},{\"SampleID\":6,\"Zip Code\":48505,\"Ward\":3,\"Pb Bottle 1 (ppb) - First Draw\":1.951,\"Pb Bottle 2 (ppb) - 45 secs flushing\":0.048,\"Pb Bottle 3 (ppb) - 2 mins flushing\":0.035},{\"SampleID\":7,\"Zip Code\":48507,\"Ward\":9,\"Pb Bottle 1 (ppb) - First Draw\":7.2,\"Pb Bottle 2 (ppb) - 45 secs flushing\":1.4,\"Pb Bottle 3 (ppb) - 2 mins flushing\":0.2},{\"SampleID\":8,\"Zip Code\":48507,\"Ward\":9,\"Pb Bottle 1 (ppb) - First Draw\":40.63,\"Pb Bottle 2 (ppb) - 45 secs flushing\":9.726,\"Pb Bottle 3 (ppb) - 2 mins flushing\":6.132},{\"SampleID\":9,\"Zip Code\":48503,\"Ward\":5,\"Pb Bottle 1 (ppb) - First Draw\":1.1,\"Pb Bottle 2 (ppb) - 45 secs flushing\":2.5,\"Pb Bottle 3 (ppb) - 2 mins flushing\":0.1},{\"SampleID\":12,\"Zip Code\":48507,\"Ward\":9,\"Pb Bottle 1 (ppb) - First Draw\":10.6,\"Pb Bottle 2 (ppb) - 45 secs flushing\":1.038,\"Pb Bottle 3 (ppb) - 2 mins flushing\":1.294},{\"SampleID\":13,\"Zip Code\":48505,\"Ward\":3,\"Pb Bottle 1 (ppb) - First Draw\":6.2,\"Pb Bottle 2 (ppb) - 45 secs flushing\":4.2,\"Pb Bottle 3 (ppb) - 2 mins flushing\":2.3},{\"SampleID\":15,\"Zip Code\":48507,\"Ward\":9,\"Pb Bottle 1 (ppb) - First Draw\":4.358,\"Pb Bottle 2 (ppb) - 45 secs flushing\":0.822,\"Pb Bottle 3 (ppb) - 2 mins flushing\":0.147},{\"SampleID\":16,\"Zip Code\":48505,\"Ward\":5,\"Pb Bottle 1 (ppb) - First Draw\":24.37,\"Pb Bottle 2 (ppb) - 45 secs flushing\":8.796,\"Pb Bottle 3 (ppb) - 2 mins flushing\":4.347},{\"SampleID\":17,\"Zip Code\":48505,\"Ward\":2,\"Pb Bottle 1 (ppb) - First Draw\":6.609,\"Pb Bottle 2 (ppb) - 45 secs flushing\":5.752,\"Pb Bottle 3 (ppb) - 2 mins flushing\":1.433},{\"SampleID\":18,\"Zip Code\":48503,\"Ward\":7,\"Pb Bottle 1 (ppb) - First Draw\":4.062,\"Pb Bottle 2 (ppb) - 45 secs flushing\":1.099,\"Pb Bottle 3 (ppb) - 2 mins flushing\":1.085},{\"SampleID\":19,\"Zip Code\":48507,\"Ward\":9,\"Pb Bottle 1 (ppb) - First Draw\":2.484,\"Pb Bottle 2 (ppb) - 45 secs flushing\":0.72,\"Pb Bottle 3 (ppb) - 2 mins flushing\":0.565},{\"SampleID\":20,\"Zip Code\":48507,\"Ward\":9,\"Pb Bottle 1 (ppb) - First Draw\":0.438,\"Pb Bottle 2 (ppb) - 45 secs flushing\":1.046,\"Pb Bottle 3 (ppb) - 2 mins flushing\":0.511},{\"SampleID\":21,\"Zip Code\":48503,\"Ward\":5,\"Pb Bottle 1 (ppb) - First Draw\":1.29,\"Pb Bottle 2 (ppb) - 45 secs flushing\":0.243,\"Pb Bottle 3 (ppb) - 2 mins flushing\":0.225},{\"SampleID\":22,\"Zip Code\":48504,\"Ward\":6,\"Pb Bottle 1 (ppb) - First Draw\":0.548,\"Pb Bottle 2 (ppb) - 45 secs flushing\":0.622,\"Pb Bottle 3 (ppb) - 2 mins flushing\":0.361},{\"SampleID\":23,\"Zip Code\":48504,\"Ward\":2,\"Pb Bottle 1 (ppb) - First Draw\":3.131,\"Pb Bottle 2 (ppb) - 45 secs flushing\":0.674,\"Pb Bottle 3 (ppb) - 2 mins flushing\":0.683},{\"SampleID\":24,\"Zip Code\":48504,\"Ward\":6,\"Pb Bottle 1 (ppb) - First Draw\":120,\"Pb Bottle 2 (ppb) - 45 secs flushing\":239.7,\"Pb Bottle 3 (ppb) - 2 mins flushing\":29.71},{\"SampleID\":25,\"Zip Code\":48505,\"Ward\":1,\"Pb Bottle 1 (ppb) - First Draw\":2.911,\"Pb Bottle 2 (ppb) - 45 secs flushing\":0.406,\"Pb Bottle 3 (ppb) - 2 mins flushing\":0.237},{\"SampleID\":26,\"Zip Code\":48505,\"Ward\":5,\"Pb Bottle 1 (ppb) - First Draw\":16.52,\"Pb Bottle 2 (ppb) - 45 secs flushing\":10.26,\"Pb Bottle 3 (ppb) - 2 mins flushing\":2.762},{\"SampleID\":27,\"Zip Code\":48505,\"Ward\":1,\"Pb Bottle 1 (ppb) - First Draw\":1.984,\"Pb Bottle 2 (ppb) - 45 secs flushing\":1.13,\"Pb Bottle 3 (ppb) - 2 mins flushing\":0.712},{\"SampleID\":28,\"Zip Code\":48503,\"Ward\":7,\"Pb Bottle 1 (ppb) - First Draw\":5.367,\"Pb Bottle 2 (ppb) - 45 secs flushing\":2.474,\"Pb Bottle 3 (ppb) - 2 mins flushing\":1.616},{\"SampleID\":29,\"Zip Code\":48504,\"Ward\":2,\"Pb Bottle 1 (ppb) - First Draw\":5.5,\"Pb Bottle 2 (ppb) - 45 secs flushing\":8.4,\"Pb Bottle 3 (ppb) - 2 mins flushing\":2.4},{\"SampleID\":30,\"Zip Code\":48506,\"Ward\":4,\"Pb Bottle 1 (ppb) - First Draw\":0.639,\"Pb Bottle 2 (ppb) - 45 secs flushing\":0.223,\"Pb Bottle 3 (ppb) - 2 mins flushing\":0.194},{\"SampleID\":31,\"Zip Code\":48503,\"Ward\":7,\"Pb Bottle 1 (ppb) - First Draw\":6.087,\"Pb Bottle 2 (ppb) - 45 secs flushing\":28.87,\"Pb Bottle 3 (ppb) - 2 mins flushing\":2.13,\"Notes\":\"*house sampled twice\"},{\"SampleID\":31,\"Zip Code\":48503,\"Ward\":7,\"Pb Bottle 1 (ppb) - First Draw\":10.32,\"Pb Bottle 2 (ppb) - 45 secs flushing\":13.47,\"Pb Bottle 3 (ppb) - 2 mins flushing\":18.19,\"Notes\":\"*house sampled twice\"},{\"SampleID\":33,\"Zip Code\":48503,\"Ward\":6,\"Pb Bottle 1 (ppb) - First Draw\":66.88,\"Pb Bottle 2 (ppb) - 45 secs flushing\":2.662,\"Pb Bottle 3 (ppb) - 2 mins flushing\":2.082},{\"SampleID\":34,\"Zip Code\":48505,\"Ward\":1,\"Pb Bottle 1 (ppb) - First Draw\":20.41,\"Pb Bottle 2 (ppb) - 45 secs flushing\":3.543,\"Pb Bottle 3 (ppb) - 2 mins flushing\":2.344},{\"SampleID\":35,\"Zip Code\":48504,\"Ward\":6,\"Pb Bottle 1 (ppb) - First Draw\":109.6,\"Pb Bottle 2 (ppb) - 45 secs flushing\":80.47,\"Pb Bottle 3 (ppb) - 2 mins flushing\":94.52},{\"SampleID\":36,\"Zip Code\":48503,\"Ward\":8,\"Pb Bottle 1 (ppb) - First Draw\":5.06,\"Pb Bottle 2 (ppb) - 45 secs flushing\":3.406,\"Pb Bottle 3 (ppb) - 2 mins flushing\":4.088},{\"SampleID\":37,\"Zip Code\":48504,\"Ward\":2,\"Pb Bottle 1 (ppb) - First Draw\":2.774,\"Pb Bottle 2 (ppb) - 45 secs flushing\":0.21,\"Pb Bottle 3 (ppb) - 2 mins flushing\":0.264},{\"SampleID\":38,\"Zip Code\":48505,\"Ward\":3,\"Pb Bottle 1 (ppb) - First Draw\":4.453,\"Pb Bottle 2 (ppb) - 45 secs flushing\":3.679,\"Pb Bottle 3 (ppb) - 2 mins flushing\":3.523},{\"SampleID\":39,\"Zip Code\":48505,\"Ward\":1,\"Pb Bottle 1 (ppb) - First Draw\":0.4,\"Pb Bottle 2 (ppb) - 45 secs flushing\":0.3,\"Pb Bottle 3 (ppb) - 2 mins flushing\":0.7},{\"SampleID\":40,\"Zip Code\":48529,\"Ward\":9,\"Pb Bottle 1 (ppb) - First Draw\":0.974,\"Pb Bottle 2 (ppb) - 45 secs flushing\":0.142,\"Pb Bottle 3 (ppb) - 2 mins flushing\":0.118},{\"SampleID\":41,\"Zip Code\":48505,\"Ward\":5,\"Pb Bottle 1 (ppb) - First Draw\":3.228,\"Pb Bottle 2 (ppb) - 45 secs flushing\":2.534,\"Pb Bottle 3 (ppb) - 2 mins flushing\":2.222},{\"SampleID\":42,\"Zip Code\":48505,\"Ward\":2,\"Pb Bottle 1 (ppb) - First Draw\":12.55,\"Pb Bottle 2 (ppb) - 45 secs flushing\":4.132,\"Pb Bottle 3 (ppb) - 2 mins flushing\":0.12},{\"SampleID\":43,\"Zip Code\":48505,\"Ward\":3,\"Pb Bottle 1 (ppb) - First Draw\":0.501,\"Pb Bottle 2 (ppb) - 45 secs flushing\":0.156,\"Pb Bottle 3 (ppb) - 2 mins flushing\":15.14},{\"SampleID\":44,\"Zip Code\":48504,\"Ward\":2,\"Pb Bottle 1 (ppb) - First Draw\":2.448,\"Pb Bottle 2 (ppb) - 45 secs flushing\":0.373,\"Pb Bottle 3 (ppb) - 2 mins flushing\":0.288},{\"SampleID\":45,\"Zip Code\":48505,\"Ward\":3,\"Pb Bottle 1 (ppb) - First Draw\":5.508,\"Pb Bottle 2 (ppb) - 45 secs flushing\":5.157,\"Pb Bottle 3 (ppb) - 2 mins flushing\":2.621},{\"SampleID\":46,\"Zip Code\":48504,\"Ward\":6,\"Pb Bottle 1 (ppb) - First Draw\":1.293,\"Pb Bottle 2 (ppb) - 45 secs flushing\":0.441,\"Pb Bottle 3 (ppb) - 2 mins flushing\":0.281},{\"SampleID\":47,\"Zip Code\":48505,\"Ward\":1,\"Pb Bottle 1 (ppb) - First Draw\":4.699,\"Pb Bottle 2 (ppb) - 45 secs flushing\":1.395,\"Pb Bottle 3 (ppb) - 2 mins flushing\":0.329},{\"SampleID\":48,\"Zip Code\":48504,\"Ward\":6,\"Pb Bottle 1 (ppb) - First Draw\":6.093,\"Pb Bottle 2 (ppb) - 45 secs flushing\":2.682,\"Pb Bottle 3 (ppb) - 2 mins flushing\":1.458},{\"SampleID\":49,\"Zip Code\":48504,\"Ward\":2,\"Pb Bottle 1 (ppb) - First Draw\":0.8,\"Pb Bottle 2 (ppb) - 45 secs flushing\":0.8,\"Pb Bottle 3 (ppb) - 2 mins flushing\":0.5},{\"SampleID\":50,\"Zip Code\":48503,\"Ward\":5,\"Pb Bottle 1 (ppb) - First Draw\":1.626,\"Pb Bottle 2 (ppb) - 45 secs flushing\":1.332,\"Pb Bottle 3 (ppb) - 2 mins flushing\":0.327},{\"SampleID\":51,\"Zip Code\":48507,\"Ward\":8,\"Pb Bottle 1 (ppb) - First Draw\":2.576,\"Pb Bottle 2 (ppb) - 45 secs flushing\":2.852,\"Pb Bottle 3 (ppb) - 2 mins flushing\":1.48},{\"SampleID\":52,\"Zip Code\":48504,\"Ward\":1,\"Pb Bottle 1 (ppb) - First Draw\":2.362,\"Pb Bottle 2 (ppb) - 45 secs flushing\":0.467,\"Pb Bottle 3 (ppb) - 2 mins flushing\":0.339},{\"SampleID\":53,\"Zip Code\":48503,\"Ward\":5,\"Pb Bottle 1 (ppb) - First Draw\":1.585,\"Pb Bottle 2 (ppb) - 45 secs flushing\":0.494,\"Pb Bottle 3 (ppb) - 2 mins flushing\":1.232},{\"SampleID\":54,\"Zip Code\":48506,\"Ward\":4,\"Pb Bottle 1 (ppb) - First Draw\":3.058,\"Pb Bottle 2 (ppb) - 45 secs flushing\":1.808,\"Pb Bottle 3 (ppb) - 2 mins flushing\":1.169},{\"SampleID\":55,\"Zip Code\":48506,\"Ward\":4,\"Pb Bottle 1 (ppb) - First Draw\":2.423,\"Pb Bottle 2 (ppb) - 45 secs flushing\":0.393,\"Pb Bottle 3 (ppb) - 2 mins flushing\":0.373},{\"SampleID\":56,\"Zip Code\":48503,\"Ward\":8,\"Pb Bottle 1 (ppb) - First Draw\":30.91,\"Pb Bottle 2 (ppb) - 45 secs flushing\":42.58,\"Pb Bottle 3 (ppb) - 2 mins flushing\":44.6},{\"SampleID\":57,\"Zip Code\":48503,\"Ward\":8,\"Pb Bottle 1 (ppb) - First Draw\":4.47,\"Pb Bottle 2 (ppb) - 45 secs flushing\":3.649,\"Pb Bottle 3 (ppb) - 2 mins flushing\":1},{\"SampleID\":58,\"Zip Code\":48505,\"Ward\":1,\"Pb Bottle 1 (ppb) - First Draw\":2.172,\"Pb Bottle 2 (ppb) - 45 secs flushing\":1.76,\"Pb Bottle 3 (ppb) - 2 mins flushing\":1.44},{\"SampleID\":59,\"Zip Code\":48505,\"Ward\":3,\"Pb Bottle 1 (ppb) - First Draw\":1.8,\"Pb Bottle 2 (ppb) - 45 secs flushing\":0.5,\"Pb Bottle 3 (ppb) - 2 mins flushing\":0.2},{\"SampleID\":63,\"Zip Code\":48503,\"Ward\":5,\"Pb Bottle 1 (ppb) - First Draw\":0.965,\"Pb Bottle 2 (ppb) - 45 secs flushing\":0.166,\"Pb Bottle 3 (ppb) - 2 mins flushing\":0.319},{\"SampleID\":65,\"Zip Code\":48505,\"Ward\":1,\"Pb Bottle 1 (ppb) - First Draw\":7.636,\"Pb Bottle 2 (ppb) - 45 secs flushing\":5.206,\"Pb Bottle 3 (ppb) - 2 mins flushing\":9.239},{\"SampleID\":66,\"Zip Code\":48506,\"Ward\":3,\"Pb Bottle 1 (ppb) - First Draw\":3.158,\"Pb Bottle 2 (ppb) - 45 secs flushing\":1.948,\"Pb Bottle 3 (ppb) - 2 mins flushing\":2.802},{\"SampleID\":67,\"Zip Code\":48503,\"Ward\":7,\"Pb Bottle 1 (ppb) - First Draw\":105.3,\"Pb Bottle 2 (ppb) - 45 secs flushing\":12.84,\"Pb Bottle 3 (ppb) - 2 mins flushing\":4.534},{\"SampleID\":68,\"Zip Code\":48506,\"Ward\":3,\"Pb Bottle 1 (ppb) - First Draw\":4.476,\"Pb Bottle 2 (ppb) - 45 secs flushing\":0.355,\"Pb Bottle 3 (ppb) - 2 mins flushing\":0.334},{\"SampleID\":69,\"Zip Code\":48504,\"Ward\":1,\"Pb Bottle 1 (ppb) - First Draw\":2.828,\"Pb Bottle 2 (ppb) - 45 secs flushing\":6.694,\"Pb Bottle 3 (ppb) - 2 mins flushing\":20.99},{\"SampleID\":71,\"Zip Code\":48503,\"Ward\":5,\"Pb Bottle 1 (ppb) - First Draw\":2.481,\"Pb Bottle 2 (ppb) - 45 secs flushing\":3.86,\"Pb Bottle 3 (ppb) - 2 mins flushing\":24.64},{\"SampleID\":72,\"Zip Code\":48507,\"Ward\":5,\"Pb Bottle 1 (ppb) - First Draw\":11.52,\"Pb Bottle 2 (ppb) - 45 secs flushing\":0.288,\"Pb Bottle 3 (ppb) - 2 mins flushing\":0.215},{\"SampleID\":73,\"Zip Code\":48507,\"Ward\":8,\"Pb Bottle 1 (ppb) - First Draw\":3.784,\"Pb Bottle 2 (ppb) - 45 secs flushing\":0.292,\"Pb Bottle 3 (ppb) - 2 mins flushing\":0.258},{\"SampleID\":74,\"Zip Code\":48503,\"Ward\":5,\"Pb Bottle 1 (ppb) - First Draw\":1.344,\"Pb Bottle 2 (ppb) - 45 secs flushing\":0.729,\"Pb Bottle 3 (ppb) - 2 mins flushing\":1.226},{\"SampleID\":75,\"Zip Code\":48504,\"Ward\":6,\"Pb Bottle 1 (ppb) - First Draw\":11.93,\"Pb Bottle 2 (ppb) - 45 secs flushing\":9.645,\"Pb Bottle 3 (ppb) - 2 mins flushing\":3.514},{\"SampleID\":76,\"Zip Code\":48507,\"Ward\":9,\"Pb Bottle 1 (ppb) - First Draw\":10.96,\"Pb Bottle 2 (ppb) - 45 secs flushing\":7.744,\"Pb Bottle 3 (ppb) - 2 mins flushing\":4.16},{\"SampleID\":77,\"Zip Code\":48504,\"Ward\":6,\"Pb Bottle 1 (ppb) - First Draw\":3.341,\"Pb Bottle 2 (ppb) - 45 secs flushing\":0.555,\"Pb Bottle 3 (ppb) - 2 mins flushing\":0.917},{\"SampleID\":78,\"Zip Code\":48503,\"Ward\":5,\"Pb Bottle 1 (ppb) - First Draw\":1.229,\"Pb Bottle 2 (ppb) - 45 secs flushing\":1.192,\"Pb Bottle 3 (ppb) - 2 mins flushing\":0.218},{\"SampleID\":79,\"Zip Code\":48503,\"Ward\":6,\"Pb Bottle 1 (ppb) - First Draw\":6.3,\"Pb Bottle 2 (ppb) - 45 secs flushing\":1.1,\"Pb Bottle 3 (ppb) - 2 mins flushing\":0.3,\"Notes\":\"*house sampled twice\"},{\"SampleID\":79,\"Zip Code\":48503,\"Ward\":6,\"Pb Bottle 1 (ppb) - First Draw\":5.153,\"Pb Bottle 2 (ppb) - 45 secs flushing\":0.385,\"Pb Bottle 3 (ppb) - 2 mins flushing\":0.322,\"Notes\":\"*house sampled twice\"},{\"SampleID\":80,\"Zip Code\":48504,\"Ward\":6,\"Pb Bottle 1 (ppb) - First Draw\":6.054,\"Pb Bottle 2 (ppb) - 45 secs flushing\":0.927,\"Pb Bottle 3 (ppb) - 2 mins flushing\":0.676},{\"SampleID\":82,\"Zip Code\":48504,\"Ward\":2,\"Pb Bottle 1 (ppb) - First Draw\":31.14,\"Pb Bottle 2 (ppb) - 45 secs flushing\":4.73,\"Pb Bottle 3 (ppb) - 2 mins flushing\":3.188},{\"SampleID\":83,\"Zip Code\":48504,\"Ward\":6,\"Pb Bottle 1 (ppb) - First Draw\":102.7,\"Pb Bottle 2 (ppb) - 45 secs flushing\":9.894,\"Pb Bottle 3 (ppb) - 2 mins flushing\":3.133},{\"SampleID\":84,\"Zip Code\":48504,\"Ward\":2,\"Pb Bottle 1 (ppb) - First Draw\":1.38,\"Pb Bottle 2 (ppb) - 45 secs flushing\":3.734,\"Pb Bottle 3 (ppb) - 2 mins flushing\":0.524},{\"SampleID\":85,\"Zip Code\":48505,\"Ward\":3,\"Pb Bottle 1 (ppb) - First Draw\":1.132,\"Pb Bottle 2 (ppb) - 45 secs flushing\":2.17,\"Pb Bottle 3 (ppb) - 2 mins flushing\":0.465},{\"SampleID\":87,\"Zip Code\":48507,\"Ward\":9,\"Pb Bottle 1 (ppb) - First Draw\":3.232,\"Pb Bottle 2 (ppb) - 45 secs flushing\":2.989,\"Pb Bottle 3 (ppb) - 2 mins flushing\":1.927},{\"SampleID\":88,\"Zip Code\":48532,\"Ward\":8,\"Pb Bottle 1 (ppb) - First Draw\":0.507,\"Pb Bottle 2 (ppb) - 45 secs flushing\":2.315,\"Pb Bottle 3 (ppb) - 2 mins flushing\":0.231},{\"SampleID\":90,\"Zip Code\":48506,\"Ward\":4,\"Pb Bottle 1 (ppb) - First Draw\":8.561,\"Pb Bottle 2 (ppb) - 45 secs flushing\":5.141,\"Pb Bottle 3 (ppb) - 2 mins flushing\":4.724},{\"SampleID\":91,\"Zip Code\":48505,\"Ward\":3,\"Pb Bottle 1 (ppb) - First Draw\":9.997,\"Pb Bottle 2 (ppb) - 45 secs flushing\":0.983,\"Pb Bottle 3 (ppb) - 2 mins flushing\":0.611},{\"SampleID\":92,\"Zip Code\":48504,\"Ward\":1,\"Pb Bottle 1 (ppb) - First Draw\":4.152,\"Pb Bottle 2 (ppb) - 45 secs flushing\":0.758,\"Pb Bottle 3 (ppb) - 2 mins flushing\":0.433},{\"SampleID\":93,\"Zip Code\":48504,\"Ward\":2,\"Pb Bottle 1 (ppb) - First Draw\":75.82,\"Pb Bottle 2 (ppb) - 45 secs flushing\":11.65,\"Pb Bottle 3 (ppb) - 2 mins flushing\":3.942},{\"SampleID\":95,\"Zip Code\":48506,\"Ward\":4,\"Pb Bottle 1 (ppb) - First Draw\":138.8,\"Pb Bottle 2 (ppb) - 45 secs flushing\":2.745,\"Pb Bottle 3 (ppb) - 2 mins flushing\":0.797},{\"SampleID\":96,\"Zip Code\":48507,\"Ward\":9,\"Pb Bottle 1 (ppb) - First Draw\":0.8,\"Pb Bottle 2 (ppb) - 45 secs flushing\":0.2,\"Pb Bottle 3 (ppb) - 2 mins flushing\":0.2},{\"SampleID\":97,\"Zip Code\":48504,\"Ward\":2,\"Pb Bottle 1 (ppb) - First Draw\":7.244,\"Pb Bottle 2 (ppb) - 45 secs flushing\":1051,\"Pb Bottle 3 (ppb) - 2 mins flushing\":1.328},{\"SampleID\":98,\"Zip Code\":48506,\"Ward\":3,\"Pb Bottle 1 (ppb) - First Draw\":1.621,\"Pb Bottle 2 (ppb) - 45 secs flushing\":0.3,\"Pb Bottle 3 (ppb) - 2 mins flushing\":0.238},{\"SampleID\":99,\"Zip Code\":48505,\"Ward\":1,\"Pb Bottle 1 (ppb) - First Draw\":1.032,\"Pb Bottle 2 (ppb) - 45 secs flushing\":0.363,\"Pb Bottle 3 (ppb) - 2 mins flushing\":0.216},{\"SampleID\":100,\"Zip Code\":48504,\"Ward\":2,\"Pb Bottle 1 (ppb) - First Draw\":0.866,\"Pb Bottle 2 (ppb) - 45 secs flushing\":0.292,\"Pb Bottle 3 (ppb) - 2 mins flushing\":0.269},{\"SampleID\":101,\"Zip Code\":48504,\"Ward\":2,\"Pb Bottle 1 (ppb) - First Draw\":2.525,\"Pb Bottle 2 (ppb) - 45 secs flushing\":0.59,\"Pb Bottle 3 (ppb) - 2 mins flushing\":0.438},{\"SampleID\":102,\"Zip Code\":48505,\"Ward\":5,\"Pb Bottle 1 (ppb) - First Draw\":9.408,\"Pb Bottle 2 (ppb) - 45 secs flushing\":4.444,\"Pb Bottle 3 (ppb) - 2 mins flushing\":3.935},{\"SampleID\":103,\"Zip Code\":48505,\"Ward\":0,\"Pb Bottle 1 (ppb) - First Draw\":0.739,\"Pb Bottle 2 (ppb) - 45 secs flushing\":4.883,\"Pb Bottle 3 (ppb) - 2 mins flushing\":0.953},{\"SampleID\":104,\"Zip Code\":48505,\"Ward\":1,\"Pb Bottle 1 (ppb) - First Draw\":0.9,\"Pb Bottle 2 (ppb) - 45 secs flushing\":0.2,\"Pb Bottle 3 (ppb) - 2 mins flushing\":0.1},{\"SampleID\":105,\"Zip Code\":48504,\"Ward\":2,\"Pb Bottle 1 (ppb) - First Draw\":1.403,\"Pb Bottle 2 (ppb) - 45 secs flushing\":0.142,\"Pb Bottle 3 (ppb) - 2 mins flushing\":0.121},{\"SampleID\":106,\"Zip Code\":48503,\"Ward\":8,\"Pb Bottle 1 (ppb) - First Draw\":5.655,\"Pb Bottle 2 (ppb) - 45 secs flushing\":5.882,\"Pb Bottle 3 (ppb) - 2 mins flushing\":10.66},{\"SampleID\":107,\"Zip Code\":48505,\"Ward\":2,\"Pb Bottle 1 (ppb) - First Draw\":31.06,\"Pb Bottle 2 (ppb) - 45 secs flushing\":8.578,\"Pb Bottle 3 (ppb) - 2 mins flushing\":3.176},{\"SampleID\":108,\"Zip Code\":48506,\"Ward\":4,\"Pb Bottle 1 (ppb) - First Draw\":1.469,\"Pb Bottle 2 (ppb) - 45 secs flushing\":0.291,\"Pb Bottle 3 (ppb) - 2 mins flushing\":0.25},{\"SampleID\":109,\"Zip Code\":48505,\"Ward\":1,\"Pb Bottle 1 (ppb) - First Draw\":23.85,\"Pb Bottle 2 (ppb) - 45 secs flushing\":2.301,\"Pb Bottle 3 (ppb) - 2 mins flushing\":1.62},{\"SampleID\":110,\"Zip Code\":48505,\"Ward\":2,\"Pb Bottle 1 (ppb) - First Draw\":9.766,\"Pb Bottle 2 (ppb) - 45 secs flushing\":11.13,\"Pb Bottle 3 (ppb) - 2 mins flushing\":7.144},{\"SampleID\":111,\"Zip Code\":48505,\"Ward\":1,\"Pb Bottle 1 (ppb) - First Draw\":4.69,\"Pb Bottle 2 (ppb) - 45 secs flushing\":0.953,\"Pb Bottle 3 (ppb) - 2 mins flushing\":0.929},{\"SampleID\":112,\"Zip Code\":48505,\"Ward\":3,\"Pb Bottle 1 (ppb) - First Draw\":4.066,\"Pb Bottle 2 (ppb) - 45 secs flushing\":5.894,\"Pb Bottle 3 (ppb) - 2 mins flushing\":4.76},{\"SampleID\":113,\"Zip Code\":48505,\"Ward\":1,\"Pb Bottle 1 (ppb) - First Draw\":0.846,\"Pb Bottle 2 (ppb) - 45 secs flushing\":0.455,\"Pb Bottle 3 (ppb) - 2 mins flushing\":0.366},{\"SampleID\":114,\"Zip Code\":48505,\"Ward\":1,\"Pb Bottle 1 (ppb) - First Draw\":2.054,\"Pb Bottle 2 (ppb) - 45 secs flushing\":3.978,\"Pb Bottle 3 (ppb) - 2 mins flushing\":0.355},{\"SampleID\":115,\"Zip Code\":48506,\"Ward\":7,\"Pb Bottle 1 (ppb) - First Draw\":3.744,\"Pb Bottle 2 (ppb) - 45 secs flushing\":5.592,\"Pb Bottle 3 (ppb) - 2 mins flushing\":2.476},{\"SampleID\":116,\"Zip Code\":48507,\"Ward\":9,\"Pb Bottle 1 (ppb) - First Draw\":12.9,\"Pb Bottle 2 (ppb) - 45 secs flushing\":2.202,\"Pb Bottle 3 (ppb) - 2 mins flushing\":1.667},{\"SampleID\":117,\"Zip Code\":48505,\"Ward\":1,\"Pb Bottle 1 (ppb) - First Draw\":0.543,\"Pb Bottle 2 (ppb) - 45 secs flushing\":0.183,\"Pb Bottle 3 (ppb) - 2 mins flushing\":0.162},{\"SampleID\":118,\"Zip Code\":48503,\"Ward\":7,\"Pb Bottle 1 (ppb) - First Draw\":6.877,\"Pb Bottle 2 (ppb) - 45 secs flushing\":2.984,\"Pb Bottle 3 (ppb) - 2 mins flushing\":2.201},{\"SampleID\":119,\"Zip Code\":48505,\"Ward\":1,\"Pb Bottle 1 (ppb) - First Draw\":0.552,\"Pb Bottle 2 (ppb) - 45 secs flushing\":0.19,\"Pb Bottle 3 (ppb) - 2 mins flushing\":0.205},{\"SampleID\":121,\"Zip Code\":48506,\"Ward\":3,\"Pb Bottle 1 (ppb) - First Draw\":59,\"Pb Bottle 2 (ppb) - 45 secs flushing\":2.9,\"Pb Bottle 3 (ppb) - 2 mins flushing\":0.5},{\"SampleID\":122,\"Zip Code\":48506,\"Ward\":4,\"Pb Bottle 1 (ppb) - First Draw\":0.349,\"Pb Bottle 2 (ppb) - 45 secs flushing\":0.13,\"Pb Bottle 3 (ppb) - 2 mins flushing\":0.131},{\"SampleID\":123,\"Zip Code\":48506,\"Ward\":4,\"Pb Bottle 1 (ppb) - First Draw\":4.764,\"Pb Bottle 2 (ppb) - 45 secs flushing\":1.388,\"Pb Bottle 3 (ppb) - 2 mins flushing\":1.06},{\"SampleID\":124,\"Zip Code\":48506,\"Ward\":4,\"Pb Bottle 1 (ppb) - First Draw\":0.832,\"Pb Bottle 2 (ppb) - 45 secs flushing\":0.284,\"Pb Bottle 3 (ppb) - 2 mins flushing\":0.214},{\"SampleID\":125,\"Zip Code\":48506,\"Ward\":4,\"Pb Bottle 1 (ppb) - First Draw\":1.224,\"Pb Bottle 2 (ppb) - 45 secs flushing\":0.568,\"Pb Bottle 3 (ppb) - 2 mins flushing\":0.465},{\"SampleID\":126,\"Zip Code\":48507,\"Ward\":9,\"Pb Bottle 1 (ppb) - First Draw\":15.9,\"Pb Bottle 2 (ppb) - 45 secs flushing\":3.7,\"Pb Bottle 3 (ppb) - 2 mins flushing\":2.2},{\"SampleID\":127,\"Zip Code\":48506,\"Ward\":4,\"Pb Bottle 1 (ppb) - First Draw\":5.667,\"Pb Bottle 2 (ppb) - 45 secs flushing\":1.405,\"Pb Bottle 3 (ppb) - 2 mins flushing\":0.896},{\"SampleID\":128,\"Zip Code\":48506,\"Ward\":4,\"Pb Bottle 1 (ppb) - First Draw\":3.564,\"Pb Bottle 2 (ppb) - 45 secs flushing\":2.767,\"Pb Bottle 3 (ppb) - 2 mins flushing\":2.127},{\"SampleID\":129,\"Zip Code\":48506,\"Ward\":4,\"Pb Bottle 1 (ppb) - First Draw\":0.475,\"Pb Bottle 2 (ppb) - 45 secs flushing\":0.2,\"Pb Bottle 3 (ppb) - 2 mins flushing\":0.268},{\"SampleID\":130,\"Zip Code\":48507,\"Ward\":9,\"Pb Bottle 1 (ppb) - First Draw\":5.3,\"Pb Bottle 2 (ppb) - 45 secs flushing\":0.5,\"Pb Bottle 3 (ppb) - 2 mins flushing\":0.2},{\"SampleID\":131,\"Zip Code\":48506,\"Ward\":4,\"Pb Bottle 1 (ppb) - First Draw\":1.166,\"Pb Bottle 2 (ppb) - 45 secs flushing\":0.736,\"Pb Bottle 3 (ppb) - 2 mins flushing\":0.269},{\"SampleID\":132,\"Zip Code\":48506,\"Ward\":4,\"Pb Bottle 1 (ppb) - First Draw\":0.684,\"Pb Bottle 2 (ppb) - 45 secs flushing\":0.306,\"Pb Bottle 3 (ppb) - 2 mins flushing\":0.094},{\"SampleID\":133,\"Zip Code\":48503,\"Ward\":8,\"Pb Bottle 1 (ppb) - First Draw\":6.347,\"Pb Bottle 2 (ppb) - 45 secs flushing\":1.724,\"Pb Bottle 3 (ppb) - 2 mins flushing\":0.678},{\"SampleID\":134,\"Zip Code\":48507,\"Ward\":9,\"Pb Bottle 1 (ppb) - First Draw\":10.56,\"Pb Bottle 2 (ppb) - 45 secs flushing\":5.672,\"Pb Bottle 3 (ppb) - 2 mins flushing\":4.813},{\"SampleID\":135,\"Zip Code\":48502,\"Ward\":5,\"Pb Bottle 1 (ppb) - First Draw\":2.273,\"Pb Bottle 2 (ppb) - 45 secs flushing\":2.808,\"Pb Bottle 3 (ppb) - 2 mins flushing\":3.048},{\"SampleID\":136,\"Zip Code\":48505,\"Ward\":1,\"Pb Bottle 1 (ppb) - First Draw\":1.571,\"Pb Bottle 2 (ppb) - 45 secs flushing\":1.265,\"Pb Bottle 3 (ppb) - 2 mins flushing\":0.316},{\"SampleID\":137,\"Zip Code\":48503,\"Ward\":8,\"Pb Bottle 1 (ppb) - First Draw\":5.402,\"Pb Bottle 2 (ppb) - 45 secs flushing\":4.196,\"Pb Bottle 3 (ppb) - 2 mins flushing\":1.945},{\"SampleID\":138,\"Zip Code\":48504,\"Ward\":6,\"Pb Bottle 1 (ppb) - First Draw\":43.19,\"Pb Bottle 2 (ppb) - 45 secs flushing\":7.688,\"Pb Bottle 3 (ppb) - 2 mins flushing\":4.39},{\"SampleID\":139,\"Zip Code\":48503,\"Ward\":8,\"Pb Bottle 1 (ppb) - First Draw\":1.492,\"Pb Bottle 2 (ppb) - 45 secs flushing\":1.409,\"Pb Bottle 3 (ppb) - 2 mins flushing\":0.378},{\"SampleID\":140,\"Zip Code\":48503,\"Ward\":5,\"Pb Bottle 1 (ppb) - First Draw\":66.24,\"Pb Bottle 2 (ppb) - 45 secs flushing\":17.75,\"Pb Bottle 3 (ppb) - 2 mins flushing\":8.815},{\"SampleID\":141,\"Zip Code\":48505,\"Ward\":1,\"Pb Bottle 1 (ppb) - First Draw\":1.799,\"Pb Bottle 2 (ppb) - 45 secs flushing\":0.032,\"Pb Bottle 3 (ppb) - 2 mins flushing\":0.031},{\"SampleID\":142,\"Zip Code\":48503,\"Ward\":8,\"Pb Bottle 1 (ppb) - First Draw\":1.861,\"Pb Bottle 2 (ppb) - 45 secs flushing\":1.355,\"Pb Bottle 3 (ppb) - 2 mins flushing\":0.64},{\"SampleID\":143,\"Zip Code\":48503,\"Ward\":8,\"Pb Bottle 1 (ppb) - First Draw\":2.672,\"Pb Bottle 2 (ppb) - 45 secs flushing\":2.001,\"Pb Bottle 3 (ppb) - 2 mins flushing\":1.094},{\"SampleID\":144,\"Zip Code\":48505,\"Ward\":1,\"Pb Bottle 1 (ppb) - First Draw\":3.741,\"Pb Bottle 2 (ppb) - 45 secs flushing\":1.211,\"Pb Bottle 3 (ppb) - 2 mins flushing\":0.258},{\"SampleID\":145,\"Zip Code\":48506,\"Ward\":4,\"Pb Bottle 1 (ppb) - First Draw\":1.934,\"Pb Bottle 2 (ppb) - 45 secs flushing\":0.374,\"Pb Bottle 3 (ppb) - 2 mins flushing\":0.424},{\"SampleID\":146,\"Zip Code\":48506,\"Ward\":4,\"Pb Bottle 1 (ppb) - First Draw\":27.05,\"Pb Bottle 2 (ppb) - 45 secs flushing\":0.902,\"Pb Bottle 3 (ppb) - 2 mins flushing\":0.61},{\"SampleID\":147,\"Zip Code\":48506,\"Ward\":4,\"Pb Bottle 1 (ppb) - First Draw\":1.174,\"Pb Bottle 2 (ppb) - 45 secs flushing\":0.291,\"Pb Bottle 3 (ppb) - 2 mins flushing\":4.055},{\"SampleID\":148,\"Zip Code\":48507,\"Ward\":9,\"Pb Bottle 1 (ppb) - First Draw\":2.325,\"Pb Bottle 2 (ppb) - 45 secs flushing\":1.099,\"Pb Bottle 3 (ppb) - 2 mins flushing\":0.466},{\"SampleID\":149,\"Zip Code\":48506,\"Ward\":4,\"Pb Bottle 1 (ppb) - First Draw\":1.966,\"Pb Bottle 2 (ppb) - 45 secs flushing\":0.253,\"Pb Bottle 3 (ppb) - 2 mins flushing\":0.201},{\"SampleID\":150,\"Zip Code\":48506,\"Ward\":4,\"Pb Bottle 1 (ppb) - First Draw\":1.959,\"Pb Bottle 2 (ppb) - 45 secs flushing\":0.438,\"Pb Bottle 3 (ppb) - 2 mins flushing\":0.448},{\"SampleID\":151,\"Zip Code\":48506,\"Ward\":4,\"Pb Bottle 1 (ppb) - First Draw\":0.823,\"Pb Bottle 2 (ppb) - 45 secs flushing\":1.881,\"Pb Bottle 3 (ppb) - 2 mins flushing\":0.412},{\"SampleID\":152,\"Zip Code\":48506,\"Ward\":4,\"Pb Bottle 1 (ppb) - First Draw\":11.2,\"Pb Bottle 2 (ppb) - 45 secs flushing\":7.553,\"Pb Bottle 3 (ppb) - 2 mins flushing\":12.21},{\"SampleID\":153,\"Zip Code\":48504,\"Ward\":2,\"Pb Bottle 1 (ppb) - First Draw\":5.668,\"Pb Bottle 2 (ppb) - 45 secs flushing\":3.341,\"Pb Bottle 3 (ppb) - 2 mins flushing\":3.268},{\"SampleID\":154,\"Zip Code\":48506,\"Ward\":4,\"Pb Bottle 1 (ppb) - First Draw\":6.261,\"Pb Bottle 2 (ppb) - 45 secs flushing\":1.316,\"Pb Bottle 3 (ppb) - 2 mins flushing\":0.5},{\"SampleID\":155,\"Zip Code\":48506,\"Ward\":4,\"Pb Bottle 1 (ppb) - First Draw\":4.797,\"Pb Bottle 2 (ppb) - 45 secs flushing\":1.594,\"Pb Bottle 3 (ppb) - 2 mins flushing\":1.264},{\"SampleID\":156,\"Zip Code\":48506,\"Ward\":4,\"Pb Bottle 1 (ppb) - First Draw\":0.64,\"Pb Bottle 2 (ppb) - 45 secs flushing\":0.905,\"Pb Bottle 3 (ppb) - 2 mins flushing\":0.151},{\"SampleID\":158,\"Zip Code\":48507,\"Ward\":9,\"Pb Bottle 1 (ppb) - First Draw\":8.713,\"Pb Bottle 2 (ppb) - 45 secs flushing\":2.799,\"Pb Bottle 3 (ppb) - 2 mins flushing\":50.97},{\"SampleID\":159,\"Zip Code\":48507,\"Ward\":9,\"Pb Bottle 1 (ppb) - First Draw\":2.544,\"Pb Bottle 2 (ppb) - 45 secs flushing\":1.099,\"Pb Bottle 3 (ppb) - 2 mins flushing\":0.498},{\"SampleID\":161,\"Zip Code\":48507,\"Ward\":9,\"Pb Bottle 1 (ppb) - First Draw\":0.41,\"Pb Bottle 2 (ppb) - 45 secs flushing\":0.096,\"Pb Bottle 3 (ppb) - 2 mins flushing\":0.116},{\"SampleID\":162,\"Zip Code\":48503,\"Ward\":7,\"Pb Bottle 1 (ppb) - First Draw\":32.85,\"Pb Bottle 2 (ppb) - 45 secs flushing\":35.76,\"Pb Bottle 3 (ppb) - 2 mins flushing\":9.103},{\"SampleID\":163,\"Zip Code\":48503,\"Ward\":7,\"Pb Bottle 1 (ppb) - First Draw\":12.87,\"Pb Bottle 2 (ppb) - 45 secs flushing\":14.87,\"Pb Bottle 3 (ppb) - 2 mins flushing\":6.326},{\"SampleID\":164,\"Zip Code\":48503,\"Ward\":8,\"Pb Bottle 1 (ppb) - First Draw\":38.02,\"Pb Bottle 2 (ppb) - 45 secs flushing\":38.7,\"Pb Bottle 3 (ppb) - 2 mins flushing\":38.94},{\"SampleID\":165,\"Zip Code\":48507,\"Ward\":9,\"Pb Bottle 1 (ppb) - First Draw\":2.435,\"Pb Bottle 2 (ppb) - 45 secs flushing\":8.183,\"Pb Bottle 3 (ppb) - 2 mins flushing\":1.296},{\"SampleID\":166,\"Zip Code\":48507,\"Ward\":9,\"Pb Bottle 1 (ppb) - First Draw\":2.997,\"Pb Bottle 2 (ppb) - 45 secs flushing\":1.867,\"Pb Bottle 3 (ppb) - 2 mins flushing\":1.512},{\"SampleID\":167,\"Zip Code\":48507,\"Ward\":9,\"Pb Bottle 1 (ppb) - First Draw\":11,\"Pb Bottle 2 (ppb) - 45 secs flushing\":10.53,\"Pb Bottle 3 (ppb) - 2 mins flushing\":8.688},{\"SampleID\":168,\"Zip Code\":48507,\"Ward\":9,\"Pb Bottle 1 (ppb) - First Draw\":6.219,\"Pb Bottle 2 (ppb) - 45 secs flushing\":12.33,\"Pb Bottle 3 (ppb) - 2 mins flushing\":4.202},{\"SampleID\":169,\"Zip Code\":48503,\"Ward\":8,\"Pb Bottle 1 (ppb) - First Draw\":8.8,\"Pb Bottle 2 (ppb) - 45 secs flushing\":3.1,\"Pb Bottle 3 (ppb) - 2 mins flushing\":4.5},{\"SampleID\":170,\"Zip Code\":48504,\"Ward\":6,\"Pb Bottle 1 (ppb) - First Draw\":8.071,\"Pb Bottle 2 (ppb) - 45 secs flushing\":0.947,\"Pb Bottle 3 (ppb) - 2 mins flushing\":0.839},{\"SampleID\":171,\"Zip Code\":48507,\"Ward\":9,\"Pb Bottle 1 (ppb) - First Draw\":3.262,\"Pb Bottle 2 (ppb) - 45 secs flushing\":0.453,\"Pb Bottle 3 (ppb) - 2 mins flushing\":0.252},{\"SampleID\":172,\"Zip Code\":48503,\"Ward\":8,\"Pb Bottle 1 (ppb) - First Draw\":2.267,\"Pb Bottle 2 (ppb) - 45 secs flushing\":0.541,\"Pb Bottle 3 (ppb) - 2 mins flushing\":0.391},{\"SampleID\":173,\"Zip Code\":48505,\"Ward\":3,\"Pb Bottle 1 (ppb) - First Draw\":0.922,\"Pb Bottle 2 (ppb) - 45 secs flushing\":0.878,\"Pb Bottle 3 (ppb) - 2 mins flushing\":0.491},{\"SampleID\":174,\"Zip Code\":48504,\"Ward\":6,\"Pb Bottle 1 (ppb) - First Draw\":27.02,\"Pb Bottle 2 (ppb) - 45 secs flushing\":31.25,\"Pb Bottle 3 (ppb) - 2 mins flushing\":11.37},{\"SampleID\":176,\"Zip Code\":48503,\"Ward\":8,\"Pb Bottle 1 (ppb) - First Draw\":0.906,\"Pb Bottle 2 (ppb) - 45 secs flushing\":0.961,\"Pb Bottle 3 (ppb) - 2 mins flushing\":1.052},{\"SampleID\":177,\"Zip Code\":48507,\"Ward\":9,\"Pb Bottle 1 (ppb) - First Draw\":2.85,\"Pb Bottle 2 (ppb) - 45 secs flushing\":6.862,\"Pb Bottle 3 (ppb) - 2 mins flushing\":0.951},{\"SampleID\":178,\"Zip Code\":48504,\"Ward\":2,\"Pb Bottle 1 (ppb) - First Draw\":1.852,\"Pb Bottle 2 (ppb) - 45 secs flushing\":0.472,\"Pb Bottle 3 (ppb) - 2 mins flushing\":0.422},{\"SampleID\":179,\"Zip Code\":48506,\"Ward\":4,\"Pb Bottle 1 (ppb) - First Draw\":5.35,\"Pb Bottle 2 (ppb) - 45 secs flushing\":1.328,\"Pb Bottle 3 (ppb) - 2 mins flushing\":0.595},{\"SampleID\":180,\"Zip Code\":48503,\"Ward\":7,\"Pb Bottle 1 (ppb) - First Draw\":25.21,\"Pb Bottle 2 (ppb) - 45 secs flushing\":4.337,\"Pb Bottle 3 (ppb) - 2 mins flushing\":1.019},{\"SampleID\":182,\"Zip Code\":48504,\"Ward\":6,\"Pb Bottle 1 (ppb) - First Draw\":15.55,\"Pb Bottle 2 (ppb) - 45 secs flushing\":3.962,\"Pb Bottle 3 (ppb) - 2 mins flushing\":1.861},{\"SampleID\":183,\"Zip Code\":48506,\"Ward\":4,\"Pb Bottle 1 (ppb) - First Draw\":0.793,\"Pb Bottle 2 (ppb) - 45 secs flushing\":0.533,\"Pb Bottle 3 (ppb) - 2 mins flushing\":0.391},{\"SampleID\":184,\"Zip Code\":48506,\"Ward\":4,\"Pb Bottle 1 (ppb) - First Draw\":5.068,\"Pb Bottle 2 (ppb) - 45 secs flushing\":0.683,\"Pb Bottle 3 (ppb) - 2 mins flushing\":0.489},{\"SampleID\":185,\"Zip Code\":48507,\"Ward\":8,\"Pb Bottle 1 (ppb) - First Draw\":26.64,\"Pb Bottle 2 (ppb) - 45 secs flushing\":8.878,\"Pb Bottle 3 (ppb) - 2 mins flushing\":6.619},{\"SampleID\":186,\"Zip Code\":48506,\"Ward\":4,\"Pb Bottle 1 (ppb) - First Draw\":1.867,\"Pb Bottle 2 (ppb) - 45 secs flushing\":0.165,\"Pb Bottle 3 (ppb) - 2 mins flushing\":0.175},{\"SampleID\":189,\"Zip Code\":48506,\"Ward\":4,\"Pb Bottle 1 (ppb) - First Draw\":19.16,\"Pb Bottle 2 (ppb) - 45 secs flushing\":12.54,\"Pb Bottle 3 (ppb) - 2 mins flushing\":7.719},{\"SampleID\":191,\"Zip Code\":48503,\"Ward\":5,\"Pb Bottle 1 (ppb) - First Draw\":28.7,\"Pb Bottle 2 (ppb) - 45 secs flushing\":12.7,\"Pb Bottle 3 (ppb) - 2 mins flushing\":8.6},{\"SampleID\":192,\"Zip Code\":48507,\"Ward\":9,\"Pb Bottle 1 (ppb) - First Draw\":20.22,\"Pb Bottle 2 (ppb) - 45 secs flushing\":8.908,\"Pb Bottle 3 (ppb) - 2 mins flushing\":6.677},{\"SampleID\":193,\"Zip Code\":48507,\"Ward\":8,\"Pb Bottle 1 (ppb) - First Draw\":2.9,\"Pb Bottle 2 (ppb) - 45 secs flushing\":0.6,\"Pb Bottle 3 (ppb) - 2 mins flushing\":0.7},{\"SampleID\":194,\"Zip Code\":48503,\"Ward\":7,\"Pb Bottle 1 (ppb) - First Draw\":18.86,\"Pb Bottle 2 (ppb) - 45 secs flushing\":5.051,\"Pb Bottle 3 (ppb) - 2 mins flushing\":2.548},{\"SampleID\":195,\"Zip Code\":48507,\"Ward\":9,\"Pb Bottle 1 (ppb) - First Draw\":2.816,\"Pb Bottle 2 (ppb) - 45 secs flushing\":0.324,\"Pb Bottle 3 (ppb) - 2 mins flushing\":0.362},{\"SampleID\":196,\"Zip Code\":48506,\"Ward\":3,\"Pb Bottle 1 (ppb) - First Draw\":118.4,\"Pb Bottle 2 (ppb) - 45 secs flushing\":40.78,\"Pb Bottle 3 (ppb) - 2 mins flushing\":39.99},{\"SampleID\":197,\"Zip Code\":48506,\"Ward\":3,\"Pb Bottle 1 (ppb) - First Draw\":27.45,\"Pb Bottle 2 (ppb) - 45 secs flushing\":0.939,\"Pb Bottle 3 (ppb) - 2 mins flushing\":0.533},{\"SampleID\":198,\"Zip Code\":48503,\"Ward\":7,\"Pb Bottle 1 (ppb) - First Draw\":1.2,\"Pb Bottle 2 (ppb) - 45 secs flushing\":0.1,\"Pb Bottle 3 (ppb) - 2 mins flushing\":0.1},{\"SampleID\":200,\"Zip Code\":48506,\"Ward\":4,\"Pb Bottle 1 (ppb) - First Draw\":4.681,\"Pb Bottle 2 (ppb) - 45 secs flushing\":0.755,\"Pb Bottle 3 (ppb) - 2 mins flushing\":0.456},{\"SampleID\":201,\"Zip Code\":48506,\"Ward\":3,\"Pb Bottle 1 (ppb) - First Draw\":11.57,\"Pb Bottle 2 (ppb) - 45 secs flushing\":6.08,\"Pb Bottle 3 (ppb) - 2 mins flushing\":1.782},{\"SampleID\":202,\"Zip Code\":48532,\"Ward\":8,\"Pb Bottle 1 (ppb) - First Draw\":6.557,\"Pb Bottle 2 (ppb) - 45 secs flushing\":0.289,\"Pb Bottle 3 (ppb) - 2 mins flushing\":0.371},{\"SampleID\":203,\"Zip Code\":48505,\"Ward\":3,\"Pb Bottle 1 (ppb) - First Draw\":3.4,\"Pb Bottle 2 (ppb) - 45 secs flushing\":9.6,\"Pb Bottle 3 (ppb) - 2 mins flushing\":1.7},{\"SampleID\":204,\"Zip Code\":48504,\"Ward\":6,\"Pb Bottle 1 (ppb) - First Draw\":0.7,\"Pb Bottle 2 (ppb) - 45 secs flushing\":0.2,\"Pb Bottle 3 (ppb) - 2 mins flushing\":0.2},{\"SampleID\":205,\"Zip Code\":48507,\"Ward\":8,\"Pb Bottle 1 (ppb) - First Draw\":158,\"Pb Bottle 2 (ppb) - 45 secs flushing\":90.83,\"Pb Bottle 3 (ppb) - 2 mins flushing\":91.69},{\"SampleID\":206,\"Zip Code\":48506,\"Ward\":4,\"Pb Bottle 1 (ppb) - First Draw\":0.977,\"Pb Bottle 2 (ppb) - 45 secs flushing\":0.47,\"Pb Bottle 3 (ppb) - 2 mins flushing\":0.381},{\"SampleID\":207,\"Zip Code\":48503,\"Ward\":8,\"Pb Bottle 1 (ppb) - First Draw\":8.471,\"Pb Bottle 2 (ppb) - 45 secs flushing\":4.692,\"Pb Bottle 3 (ppb) - 2 mins flushing\":1.48},{\"SampleID\":208,\"Zip Code\":48507,\"Ward\":9,\"Pb Bottle 1 (ppb) - First Draw\":11.47,\"Pb Bottle 2 (ppb) - 45 secs flushing\":23.15,\"Pb Bottle 3 (ppb) - 2 mins flushing\":7.129},{\"SampleID\":209,\"Zip Code\":48503,\"Ward\":7,\"Pb Bottle 1 (ppb) - First Draw\":5.228,\"Pb Bottle 2 (ppb) - 45 secs flushing\":2.477,\"Pb Bottle 3 (ppb) - 2 mins flushing\":1.014},{\"SampleID\":210,\"Zip Code\":48507,\"Ward\":9,\"Pb Bottle 1 (ppb) - First Draw\":0.956,\"Pb Bottle 2 (ppb) - 45 secs flushing\":0.196,\"Pb Bottle 3 (ppb) - 2 mins flushing\":0.157},{\"SampleID\":211,\"Zip Code\":48504,\"Ward\":6,\"Pb Bottle 1 (ppb) - First Draw\":1.671,\"Pb Bottle 2 (ppb) - 45 secs flushing\":0.405,\"Pb Bottle 3 (ppb) - 2 mins flushing\":4.721},{\"SampleID\":212,\"Zip Code\":48507,\"Ward\":9,\"Pb Bottle 1 (ppb) - First Draw\":1.152,\"Pb Bottle 2 (ppb) - 45 secs flushing\":0.708,\"Pb Bottle 3 (ppb) - 2 mins flushing\":0.282},{\"SampleID\":213,\"Zip Code\":48507,\"Ward\":9,\"Pb Bottle 1 (ppb) - First Draw\":0.5,\"Pb Bottle 2 (ppb) - 45 secs flushing\":0.1,\"Pb Bottle 3 (ppb) - 2 mins flushing\":0.1},{\"SampleID\":214,\"Zip Code\":48503,\"Ward\":5,\"Pb Bottle 1 (ppb) - First Draw\":10.74,\"Pb Bottle 2 (ppb) - 45 secs flushing\":2.331,\"Pb Bottle 3 (ppb) - 2 mins flushing\":1.628},{\"SampleID\":215,\"Zip Code\":48507,\"Ward\":9,\"Pb Bottle 1 (ppb) - First Draw\":3.9,\"Pb Bottle 2 (ppb) - 45 secs flushing\":0.4,\"Pb Bottle 3 (ppb) - 2 mins flushing\":0.2},{\"SampleID\":216,\"Zip Code\":48507,\"Ward\":9,\"Pb Bottle 1 (ppb) - First Draw\":2.149,\"Pb Bottle 2 (ppb) - 45 secs flushing\":0.368,\"Pb Bottle 3 (ppb) - 2 mins flushing\":0.333},{\"SampleID\":217,\"Zip Code\":48506,\"Ward\":4,\"Pb Bottle 1 (ppb) - First Draw\":1.1,\"Pb Bottle 2 (ppb) - 45 secs flushing\":0.4,\"Pb Bottle 3 (ppb) - 2 mins flushing\":0.2},{\"SampleID\":218,\"Zip Code\":48507,\"Ward\":9,\"Pb Bottle 1 (ppb) - First Draw\":7.087,\"Pb Bottle 2 (ppb) - 45 secs flushing\":9.467,\"Pb Bottle 3 (ppb) - 2 mins flushing\":1.28},{\"SampleID\":219,\"Zip Code\":48505,\"Ward\":1,\"Pb Bottle 1 (ppb) - First Draw\":1.329,\"Pb Bottle 2 (ppb) - 45 secs flushing\":0.609,\"Pb Bottle 3 (ppb) - 2 mins flushing\":0.527},{\"SampleID\":220,\"Zip Code\":48507,\"Ward\":9,\"Pb Bottle 1 (ppb) - First Draw\":6.2,\"Pb Bottle 2 (ppb) - 45 secs flushing\":0.7,\"Pb Bottle 3 (ppb) - 2 mins flushing\":0.6},{\"SampleID\":221,\"Zip Code\":48505,\"Ward\":3,\"Pb Bottle 1 (ppb) - First Draw\":0.8,\"Pb Bottle 2 (ppb) - 45 secs flushing\":0.26,\"Pb Bottle 3 (ppb) - 2 mins flushing\":0.255},{\"SampleID\":222,\"Zip Code\":48503,\"Ward\":8,\"Pb Bottle 1 (ppb) - First Draw\":9.3,\"Pb Bottle 2 (ppb) - 45 secs flushing\":9.7,\"Pb Bottle 3 (ppb) - 2 mins flushing\":5},{\"SampleID\":223,\"Zip Code\":48504,\"Ward\":2,\"Pb Bottle 1 (ppb) - First Draw\":2.1,\"Pb Bottle 2 (ppb) - 45 secs flushing\":1.2,\"Pb Bottle 3 (ppb) - 2 mins flushing\":0.5},{\"SampleID\":224,\"Zip Code\":48505,\"Ward\":1,\"Pb Bottle 1 (ppb) - First Draw\":4.563,\"Pb Bottle 2 (ppb) - 45 secs flushing\":3.106,\"Pb Bottle 3 (ppb) - 2 mins flushing\":2.997},{\"SampleID\":225,\"Zip Code\":48504,\"Ward\":2,\"Pb Bottle 1 (ppb) - First Draw\":4.808,\"Pb Bottle 2 (ppb) - 45 secs flushing\":6.196,\"Pb Bottle 3 (ppb) - 2 mins flushing\":1.523},{\"SampleID\":226,\"Zip Code\":48504,\"Ward\":2,\"Pb Bottle 1 (ppb) - First Draw\":0.753,\"Pb Bottle 2 (ppb) - 45 secs flushing\":2.526,\"Pb Bottle 3 (ppb) - 2 mins flushing\":0.549},{\"SampleID\":227,\"Zip Code\":48505,\"Ward\":1,\"Pb Bottle 1 (ppb) - First Draw\":1.862,\"Pb Bottle 2 (ppb) - 45 secs flushing\":1.213,\"Pb Bottle 3 (ppb) - 2 mins flushing\":0.898},{\"SampleID\":228,\"Zip Code\":48503,\"Ward\":7,\"Pb Bottle 1 (ppb) - First Draw\":1.183,\"Pb Bottle 2 (ppb) - 45 secs flushing\":0.366,\"Pb Bottle 3 (ppb) - 2 mins flushing\":0.201},{\"SampleID\":229,\"Zip Code\":48503,\"Ward\":7,\"Pb Bottle 1 (ppb) - First Draw\":8.2,\"Pb Bottle 2 (ppb) - 45 secs flushing\":3.2,\"Pb Bottle 3 (ppb) - 2 mins flushing\":2.6},{\"SampleID\":230,\"Zip Code\":48504,\"Ward\":6,\"Pb Bottle 1 (ppb) - First Draw\":3.679,\"Pb Bottle 2 (ppb) - 45 secs flushing\":0.498,\"Pb Bottle 3 (ppb) - 2 mins flushing\":0.288},{\"SampleID\":231,\"Zip Code\":48505,\"Ward\":1,\"Pb Bottle 1 (ppb) - First Draw\":2.37,\"Pb Bottle 2 (ppb) - 45 secs flushing\":7.333,\"Pb Bottle 3 (ppb) - 2 mins flushing\":3.797},{\"SampleID\":234,\"Zip Code\":48504,\"Ward\":2,\"Pb Bottle 1 (ppb) - First Draw\":0.828,\"Pb Bottle 2 (ppb) - 45 secs flushing\":1.318,\"Pb Bottle 3 (ppb) - 2 mins flushing\":0.233},{\"SampleID\":235,\"Zip Code\":48503,\"Ward\":7,\"Pb Bottle 1 (ppb) - First Draw\":0.719,\"Pb Bottle 2 (ppb) - 45 secs flushing\":0.254,\"Pb Bottle 3 (ppb) - 2 mins flushing\":0.058},{\"SampleID\":236,\"Zip Code\":48504,\"Ward\":1,\"Pb Bottle 1 (ppb) - First Draw\":2.822,\"Pb Bottle 2 (ppb) - 45 secs flushing\":1.221,\"Pb Bottle 3 (ppb) - 2 mins flushing\":0.258},{\"SampleID\":237,\"Zip Code\":48504,\"Ward\":8,\"Pb Bottle 1 (ppb) - First Draw\":2.867,\"Pb Bottle 2 (ppb) - 45 secs flushing\":0.723,\"Pb Bottle 3 (ppb) - 2 mins flushing\":0.744},{\"SampleID\":238,\"Zip Code\":48503,\"Ward\":7,\"Pb Bottle 1 (ppb) - First Draw\":2.332,\"Pb Bottle 2 (ppb) - 45 secs flushing\":3.588,\"Pb Bottle 3 (ppb) - 2 mins flushing\":1.221},{\"SampleID\":240,\"Zip Code\":48503,\"Ward\":8,\"Pb Bottle 1 (ppb) - First Draw\":4.401,\"Pb Bottle 2 (ppb) - 45 secs flushing\":2.111,\"Pb Bottle 3 (ppb) - 2 mins flushing\":1.572},{\"SampleID\":241,\"Zip Code\":48504,\"Ward\":6,\"Pb Bottle 1 (ppb) - First Draw\":2.708,\"Pb Bottle 2 (ppb) - 45 secs flushing\":2.238,\"Pb Bottle 3 (ppb) - 2 mins flushing\":0.809},{\"SampleID\":242,\"Zip Code\":48504,\"Ward\":6,\"Pb Bottle 1 (ppb) - First Draw\":34.13,\"Pb Bottle 2 (ppb) - 45 secs flushing\":6.002,\"Pb Bottle 3 (ppb) - 2 mins flushing\":1.71},{\"SampleID\":243,\"Zip Code\":48503,\"Ward\":7,\"Pb Bottle 1 (ppb) - First Draw\":5.218,\"Pb Bottle 2 (ppb) - 45 secs flushing\":2.614,\"Pb Bottle 3 (ppb) - 2 mins flushing\":0.831},{\"SampleID\":244,\"Zip Code\":48503,\"Ward\":7,\"Pb Bottle 1 (ppb) - First Draw\":15.73,\"Pb Bottle 2 (ppb) - 45 secs flushing\":13.95,\"Pb Bottle 3 (ppb) - 2 mins flushing\":3.584},{\"SampleID\":245,\"Zip Code\":48504,\"Ward\":6,\"Pb Bottle 1 (ppb) - First Draw\":3.045,\"Pb Bottle 2 (ppb) - 45 secs flushing\":2.744,\"Pb Bottle 3 (ppb) - 2 mins flushing\":0.299},{\"SampleID\":246,\"Zip Code\":48503,\"Ward\":7,\"Pb Bottle 1 (ppb) - First Draw\":1.1,\"Pb Bottle 2 (ppb) - 45 secs flushing\":0.5,\"Pb Bottle 3 (ppb) - 2 mins flushing\":0.3},{\"SampleID\":247,\"Zip Code\":48503,\"Ward\":7,\"Pb Bottle 1 (ppb) - First Draw\":1.386,\"Pb Bottle 2 (ppb) - 45 secs flushing\":0.288,\"Pb Bottle 3 (ppb) - 2 mins flushing\":0.432},{\"SampleID\":248,\"Zip Code\":48504,\"Ward\":6,\"Pb Bottle 1 (ppb) - First Draw\":0.915,\"Pb Bottle 2 (ppb) - 45 secs flushing\":0.354,\"Pb Bottle 3 (ppb) - 2 mins flushing\":0.306},{\"SampleID\":249,\"Zip Code\":48504,\"Ward\":6,\"Pb Bottle 1 (ppb) - First Draw\":2.145,\"Pb Bottle 2 (ppb) - 45 secs flushing\":0.345,\"Pb Bottle 3 (ppb) - 2 mins flushing\":3.738},{\"SampleID\":250,\"Zip Code\":48507,\"Ward\":8,\"Pb Bottle 1 (ppb) - First Draw\":4.056,\"Pb Bottle 2 (ppb) - 45 secs flushing\":0.547,\"Pb Bottle 3 (ppb) - 2 mins flushing\":0.378},{\"SampleID\":251,\"Zip Code\":48503,\"Ward\":7,\"Pb Bottle 1 (ppb) - First Draw\":1.668,\"Pb Bottle 2 (ppb) - 45 secs flushing\":1.508,\"Pb Bottle 3 (ppb) - 2 mins flushing\":2.72},{\"SampleID\":252,\"Zip Code\":48503,\"Ward\":7,\"Pb Bottle 1 (ppb) - First Draw\":7.575,\"Pb Bottle 2 (ppb) - 45 secs flushing\":1.362,\"Pb Bottle 3 (ppb) - 2 mins flushing\":1.094},{\"SampleID\":253,\"Zip Code\":48507,\"Ward\":8,\"Pb Bottle 1 (ppb) - First Draw\":5.59,\"Pb Bottle 2 (ppb) - 45 secs flushing\":4.306,\"Pb Bottle 3 (ppb) - 2 mins flushing\":2.019},{\"SampleID\":254,\"Zip Code\":48503,\"Ward\":5,\"Pb Bottle 1 (ppb) - First Draw\":0.708,\"Pb Bottle 2 (ppb) - 45 secs flushing\":0.326,\"Pb Bottle 3 (ppb) - 2 mins flushing\":0.303},{\"SampleID\":255,\"Zip Code\":48504,\"Ward\":6,\"Pb Bottle 1 (ppb) - First Draw\":1.701,\"Pb Bottle 2 (ppb) - 45 secs flushing\":4.397,\"Pb Bottle 3 (ppb) - 2 mins flushing\":1.287},{\"SampleID\":256,\"Zip Code\":48504,\"Ward\":6,\"Pb Bottle 1 (ppb) - First Draw\":1.467,\"Pb Bottle 2 (ppb) - 45 secs flushing\":0.149,\"Pb Bottle 3 (ppb) - 2 mins flushing\":0.137},{\"SampleID\":258,\"Zip Code\":48504,\"Ward\":2,\"Pb Bottle 1 (ppb) - First Draw\":2.582,\"Pb Bottle 2 (ppb) - 45 secs flushing\":259.8,\"Pb Bottle 3 (ppb) - 2 mins flushing\":61.96},{\"SampleID\":259,\"Zip Code\":48505,\"Ward\":2,\"Pb Bottle 1 (ppb) - First Draw\":22.08,\"Pb Bottle 2 (ppb) - 45 secs flushing\":15.86,\"Pb Bottle 3 (ppb) - 2 mins flushing\":9.262},{\"SampleID\":260,\"Zip Code\":48507,\"Ward\":8,\"Pb Bottle 1 (ppb) - First Draw\":16.51,\"Pb Bottle 2 (ppb) - 45 secs flushing\":2.024,\"Pb Bottle 3 (ppb) - 2 mins flushing\":7.068},{\"SampleID\":262,\"Zip Code\":48507,\"Ward\":8,\"Pb Bottle 1 (ppb) - First Draw\":56.26,\"Pb Bottle 2 (ppb) - 45 secs flushing\":4.692,\"Pb Bottle 3 (ppb) - 2 mins flushing\":1.243},{\"SampleID\":263,\"Zip Code\":48504,\"Ward\":6,\"Pb Bottle 1 (ppb) - First Draw\":2.433,\"Pb Bottle 2 (ppb) - 45 secs flushing\":1.334,\"Pb Bottle 3 (ppb) - 2 mins flushing\":1.376},{\"SampleID\":264,\"Zip Code\":48503,\"Ward\":7,\"Pb Bottle 1 (ppb) - First Draw\":0.5,\"Pb Bottle 2 (ppb) - 45 secs flushing\":0.2,\"Pb Bottle 3 (ppb) - 2 mins flushing\":0.5},{\"SampleID\":265,\"Zip Code\":48504,\"Ward\":6,\"Pb Bottle 1 (ppb) - First Draw\":29.13,\"Pb Bottle 2 (ppb) - 45 secs flushing\":11.57,\"Pb Bottle 3 (ppb) - 2 mins flushing\":6.388},{\"SampleID\":266,\"Zip Code\":48505,\"Ward\":1,\"Pb Bottle 1 (ppb) - First Draw\":12.3,\"Pb Bottle 2 (ppb) - 45 secs flushing\":0.5,\"Pb Bottle 3 (ppb) - 2 mins flushing\":0.4},{\"SampleID\":267,\"Zip Code\":48504,\"Ward\":6,\"Pb Bottle 1 (ppb) - First Draw\":3.445,\"Pb Bottle 2 (ppb) - 45 secs flushing\":0.29,\"Pb Bottle 3 (ppb) - 2 mins flushing\":0.167},{\"SampleID\":268,\"Zip Code\":48507,\"Ward\":9,\"Pb Bottle 1 (ppb) - First Draw\":16.49,\"Pb Bottle 2 (ppb) - 45 secs flushing\":12.83,\"Pb Bottle 3 (ppb) - 2 mins flushing\":9.018},{\"SampleID\":269,\"Zip Code\":48503,\"Ward\":7,\"Pb Bottle 1 (ppb) - First Draw\":3.365,\"Pb Bottle 2 (ppb) - 45 secs flushing\":2.45,\"Pb Bottle 3 (ppb) - 2 mins flushing\":1.675},{\"SampleID\":270,\"Zip Code\":48503,\"Ward\":7,\"Pb Bottle 1 (ppb) - First Draw\":1.154,\"Pb Bottle 2 (ppb) - 45 secs flushing\":0.176,\"Pb Bottle 3 (ppb) - 2 mins flushing\":0.12},{\"SampleID\":271,\"Zip Code\":48507,\"Ward\":9,\"Pb Bottle 1 (ppb) - First Draw\":13.53,\"Pb Bottle 2 (ppb) - 45 secs flushing\":21.91,\"Pb Bottle 3 (ppb) - 2 mins flushing\":4.675},{\"SampleID\":272,\"Zip Code\":48504,\"Ward\":6,\"Pb Bottle 1 (ppb) - First Draw\":2.229,\"Pb Bottle 2 (ppb) - 45 secs flushing\":1.573,\"Pb Bottle 3 (ppb) - 2 mins flushing\":0.84},{\"SampleID\":273,\"Zip Code\":48503,\"Ward\":7,\"Pb Bottle 1 (ppb) - First Draw\":28.91,\"Pb Bottle 2 (ppb) - 45 secs flushing\":5.471,\"Pb Bottle 3 (ppb) - 2 mins flushing\":3.056},{\"SampleID\":274,\"Zip Code\":48503,\"Ward\":7,\"Pb Bottle 1 (ppb) - First Draw\":6.601,\"Pb Bottle 2 (ppb) - 45 secs flushing\":1.929,\"Pb Bottle 3 (ppb) - 2 mins flushing\":0.417},{\"SampleID\":275,\"Zip Code\":48507,\"Ward\":9,\"Pb Bottle 1 (ppb) - First Draw\":0.948,\"Pb Bottle 2 (ppb) - 45 secs flushing\":0.27,\"Pb Bottle 3 (ppb) - 2 mins flushing\":0.207},{\"SampleID\":276,\"Zip Code\":48505,\"Ward\":3,\"Pb Bottle 1 (ppb) - First Draw\":3.484,\"Pb Bottle 2 (ppb) - 45 secs flushing\":0.434,\"Pb Bottle 3 (ppb) - 2 mins flushing\":0.306},{\"SampleID\":278,\"Zip Code\":48503,\"Ward\":7,\"Pb Bottle 1 (ppb) - First Draw\":1.888,\"Pb Bottle 2 (ppb) - 45 secs flushing\":0.359,\"Pb Bottle 3 (ppb) - 2 mins flushing\":0.322},{\"SampleID\":279,\"Zip Code\":48503,\"Ward\":7,\"Pb Bottle 1 (ppb) - First Draw\":13.95,\"Pb Bottle 2 (ppb) - 45 secs flushing\":12.2,\"Pb Bottle 3 (ppb) - 2 mins flushing\":8.251},{\"SampleID\":280,\"Zip Code\":48504,\"Ward\":6,\"Pb Bottle 1 (ppb) - First Draw\":6.27,\"Pb Bottle 2 (ppb) - 45 secs flushing\":4.036,\"Pb Bottle 3 (ppb) - 2 mins flushing\":1.182},{\"SampleID\":281,\"Zip Code\":48506,\"Ward\":7,\"Pb Bottle 1 (ppb) - First Draw\":19.12,\"Pb Bottle 2 (ppb) - 45 secs flushing\":22.02,\"Pb Bottle 3 (ppb) - 2 mins flushing\":7.968},{\"SampleID\":282,\"Zip Code\":48507,\"Ward\":9,\"Pb Bottle 1 (ppb) - First Draw\":1.633,\"Pb Bottle 2 (ppb) - 45 secs flushing\":0.465,\"Pb Bottle 3 (ppb) - 2 mins flushing\":0.238},{\"SampleID\":283,\"Zip Code\":48503,\"Ward\":7,\"Pb Bottle 1 (ppb) - First Draw\":1.114,\"Pb Bottle 2 (ppb) - 45 secs flushing\":0.605,\"Pb Bottle 3 (ppb) - 2 mins flushing\":0.255},{\"SampleID\":284,\"Zip Code\":48503,\"Ward\":7,\"Pb Bottle 1 (ppb) - First Draw\":3.9,\"Pb Bottle 2 (ppb) - 45 secs flushing\":0.558,\"Pb Bottle 3 (ppb) - 2 mins flushing\":0.504},{\"SampleID\":285,\"Zip Code\":48504,\"Ward\":1,\"Pb Bottle 1 (ppb) - First Draw\":3.521,\"Pb Bottle 2 (ppb) - 45 secs flushing\":0.45,\"Pb Bottle 3 (ppb) - 2 mins flushing\":0.321},{\"SampleID\":286,\"Zip Code\":48507,\"Ward\":9,\"Pb Bottle 1 (ppb) - First Draw\":3.832,\"Pb Bottle 2 (ppb) - 45 secs flushing\":0.794,\"Pb Bottle 3 (ppb) - 2 mins flushing\":0.339},{\"SampleID\":287,\"Zip Code\":48505,\"Ward\":3,\"Pb Bottle 1 (ppb) - First Draw\":3.243,\"Pb Bottle 2 (ppb) - 45 secs flushing\":0.738,\"Pb Bottle 3 (ppb) - 2 mins flushing\":0.27},{\"SampleID\":289,\"Zip Code\":48503,\"Ward\":7,\"Pb Bottle 1 (ppb) - First Draw\":0.99,\"Pb Bottle 2 (ppb) - 45 secs flushing\":0.25,\"Pb Bottle 3 (ppb) - 2 mins flushing\":0.263},{\"SampleID\":290,\"Zip Code\":48507,\"Ward\":9,\"Pb Bottle 1 (ppb) - First Draw\":1.203,\"Pb Bottle 2 (ppb) - 45 secs flushing\":19.26,\"Pb Bottle 3 (ppb) - 2 mins flushing\":1.626},{\"SampleID\":291,\"Zip Code\":48506,\"Ward\":3,\"Pb Bottle 1 (ppb) - First Draw\":2.261,\"Pb Bottle 2 (ppb) - 45 secs flushing\":0.102,\"Pb Bottle 3 (ppb) - 2 mins flushing\":0.407},{\"SampleID\":292,\"Zip Code\":48503,\"Ward\":4,\"Pb Bottle 1 (ppb) - First Draw\":16.99,\"Pb Bottle 2 (ppb) - 45 secs flushing\":6.32,\"Pb Bottle 3 (ppb) - 2 mins flushing\":3.585},{\"SampleID\":293,\"Zip Code\":48503,\"Ward\":7,\"Pb Bottle 1 (ppb) - First Draw\":3.322,\"Pb Bottle 2 (ppb) - 45 secs flushing\":2.559,\"Pb Bottle 3 (ppb) - 2 mins flushing\":1.512},{\"SampleID\":294,\"Zip Code\":48506,\"Ward\":4,\"Pb Bottle 1 (ppb) - First Draw\":14.33,\"Pb Bottle 2 (ppb) - 45 secs flushing\":1.284,\"Pb Bottle 3 (ppb) - 2 mins flushing\":0.323},{\"SampleID\":295,\"Zip Code\":48503,\"Ward\":7,\"Pb Bottle 1 (ppb) - First Draw\":18.11,\"Pb Bottle 2 (ppb) - 45 secs flushing\":20.21,\"Pb Bottle 3 (ppb) - 2 mins flushing\":4.263},{\"SampleID\":296,\"Zip Code\":48503,\"Ward\":7,\"Pb Bottle 1 (ppb) - First Draw\":12.81,\"Pb Bottle 2 (ppb) - 45 secs flushing\":7.874,\"Pb Bottle 3 (ppb) - 2 mins flushing\":1.78},{\"SampleID\":298,\"Zip Code\":48503,\"Ward\":7,\"Pb Bottle 1 (ppb) - First Draw\":1.083,\"Pb Bottle 2 (ppb) - 45 secs flushing\":0.322,\"Pb Bottle 3 (ppb) - 2 mins flushing\":0.26},{\"SampleID\":299,\"Zip Code\":48503,\"Ward\":7,\"Pb Bottle 1 (ppb) - First Draw\":29.59,\"Pb Bottle 2 (ppb) - 45 secs flushing\":3.258,\"Pb Bottle 3 (ppb) - 2 mins flushing\":1.843},{\"SampleID\":300,\"Zip Code\":48505,\"Ward\":1,\"Pb Bottle 1 (ppb) - First Draw\":4.287,\"Pb Bottle 2 (ppb) - 45 secs flushing\":4.345,\"Pb Bottle 3 (ppb) - 2 mins flushing\":4.905}]\"\"\")\n"
   ]
  },
  {
   "cell_type": "markdown",
   "metadata": {},
   "source": [
    "The variable `flint_data` is now a Pandas \"data frame\", which you can think of as a spreadsheet of data values that can be accessed in a variety of ways.  Just typing `flint_data` will give you a listing of many cells (i.e., individual values) in the data frame.  You can also see the beginning, end, and a description of the data using these methods:\n",
    "\n",
    "    flint_data.head()\n",
    "    flint_data.tail()\n",
    "    flint_data.describe()\n",
    "    \n",
    "Try them all below and see what they do."
   ]
  },
  {
   "cell_type": "code",
   "execution_count": null,
   "metadata": {
    "collapsed": false
   },
   "outputs": [],
   "source": [
    "# code goes here!\n",
    "\n"
   ]
  },
  {
   "cell_type": "markdown",
   "metadata": {},
   "source": [
    "You can also use the syntax:\n",
    "\n",
    "`flint_data.columns`\n",
    "\n",
    "to print out a list of all of the columns in the Pandas data frame.  This is useful if there are lots and lots of columns.  Try it here:"
   ]
  },
  {
   "cell_type": "code",
   "execution_count": null,
   "metadata": {
    "collapsed": false
   },
   "outputs": [],
   "source": [
    "# put your code here!\n",
    "\n"
   ]
  },
  {
   "cell_type": "markdown",
   "metadata": {},
   "source": [
    "You can access individual rows by 'slicing' the data.  You can get an individual column in the data frame by using the full name of the column, like this:\n",
    "\n",
    "    flint_data['SampleID']\n",
    "\n",
    "And then you can get individual rows in a variety of ways.  If you know the row number (they start at zero!) then you can get to it by using an index selector called `loc`, which can be used in several ways (an 'index' is a number representing a row or column in the data table).  The two that you may want to use in class are getting all of the information in a single row, for example in the second row:\n",
    "\n",
    "    flint_data.loc[2]\n",
    "    \n",
    "Remember that Pandas starts counting with a zero, so `loc[2]` is really the index for the third value.  You can also specify a range of rows using the syntax `loc[first:last]`.  To get rows 2-5, you would say:\n",
    "\n",
    "    flint_data.loc[2:5]\n",
    "\n",
    "You can also get a single column for an individual row by adding a second index that has the column name.  For exmaple:\n",
    "\n",
    "    flint_data.loc[2,'SampleID']\n",
    "    \n",
    "returns the SampleID for column 2.  You can also combine the things we've shown above to get a range of rows for a single column:\n",
    "\n",
    "    flint_data.loc[2:5,'SampleID']\n",
    "\n",
    "Try it below!"
   ]
  },
  {
   "cell_type": "code",
   "execution_count": null,
   "metadata": {
    "collapsed": false
   },
   "outputs": [],
   "source": [
    "# put your code here!\n",
    "\n"
   ]
  },
  {
   "cell_type": "markdown",
   "metadata": {},
   "source": [
    "A different way of selecting information in a data frame is based on the data values.  You can create a \"mask\" of true and false values (which we'll learn more about soon!) by doing simple greater than/less than/equal to tests. For example, if you want to find out which rows of the column \"Pb Bottle 1 (ppb) - First Draw\" have values greater than 20, you'd say:\n",
    "\n",
    "    flint_data['Pb Bottle 1 (ppb) - First Draw'] > 20\n",
    "\n",
    "Which will return a list of true and/or false values.  You can either store this in its own variable:\n",
    "\n",
    "    mask = flint_data['Pb Bottle 1 (ppb) - First Draw'] > 20\n",
    "    \n",
    "and then you can use it to actually *get* a data frame containing all of the values that are greater than 20.  For example,\n",
    "\n",
    "    flint_data[mask]\n",
    "   \n",
    "will return a data frame that contains only the rows where  \"Pb Bottle 1 (ppb) - First Draw\" is greater than 20.  Note that the line above is equivalent to saying\n",
    "\n",
    "    flint_data[flint_data['Pb Bottle 1 (ppb) - First Draw'] > 20]\n",
    "\n",
    "but this second way of saying it is harder to read.  Note that you can also use \"less than\" (<) or \"equal to\" (==) to do this sort of test!\n",
    "\n",
    "Because the returned quantity is a data frame, you can then treat it the same way you did the original frame.  So, you can also choose to get just one column of the masked data, say the \"SampleID\", by saying:\n",
    "\n",
    "    flint_data[mask]['SampleID']\n",
    "    \n",
    " Which is the same thing as saying:\n",
    " \n",
    "     new_data_frame = flint_data[mask]\n",
    "     new_data_frame['SampleID']\n",
    "\n",
    "Try some of these things below!"
   ]
  },
  {
   "cell_type": "code",
   "execution_count": null,
   "metadata": {
    "collapsed": false
   },
   "outputs": [],
   "source": [
    "# put your code here!\n",
    "\n"
   ]
  },
  {
   "cell_type": "markdown",
   "metadata": {},
   "source": [
    "It's also important to note that since the returned quantity is a data frame, you can always do multiple masks of the sort above to make a more complicatd query.  For example, if I want every row in the column where \"Pb Bottle 1 (ppb) - First Draw\" is greater than 20, and also where \"Pb Bottle 3 (ppb) - 2 mins flushing\" is greater than 20, I'd say:\n",
    "\n",
    "    first_mask = flint_data['Pb Bottle 1 (ppb) - First Draw'] > 20\n",
    "    first_masked_frame = flint_data[first_mask]\n",
    "    second_mask = first_masked_frame['Pb Bottle 3 (ppb) - 2 mins flushing'] > 20\n",
    "    second_masked_frame = first_masked_frame[second_mask]\n",
    "\n",
    "Note that I created a data frame where the first sample had values greater than 20, and then I used *that* frame to create the mask (`second_mask`) that I used to create a new data frame where the third sample was also greater than 20.  You can then see how many samples still have high values after that by typing `second_masked_frame` to see the output, or just counting one of the columns by saying `second_masked_frame['SampleID'].count()`\n",
    "\n",
    "Try it below!"
   ]
  },
  {
   "cell_type": "code",
   "execution_count": null,
   "metadata": {
    "collapsed": false
   },
   "outputs": [],
   "source": [
    "# put your code here!\n",
    "\n"
   ]
  },
  {
   "cell_type": "markdown",
   "metadata": {},
   "source": [
    "Finally, you can select records in a data table based on a set of values in one of the columns using the `isin()` method.  (Note: read that as \"is in\".  So, you can create a mask for a single SampleID by giving it a list with a single number in it, like so:\n",
    "\n",
    "    flint_data['SampleID'].isin([4])\n",
    "    \n",
    "or a list containing many numbers:\n",
    "\n",
    "    flint_data['SampleID'].isin([2,4,6,8])\n",
    "    \n",
    "and then create a data frame with just those values:\n",
    "\n",
    "    mask = flint_data['SampleID'].isin([2,4,6,8])\n",
    "    some_samples = flint_data[mask]\n",
    "    \n",
    "Note that you can also create the list separately and then create the mask using that list.  For example:\n",
    "\n",
    "    list_of_samples = [2,4,6,8]\n",
    "    mask = flint_data['SampleID'].isin(list_of_samples)\n",
    "    some_samples = flint_data[mask]\n",
    "    \n",
    "is equivalent to the block of code above it.  Give it a try - make sure to type `some_samples` at the end of the cell to see what it outputs.  Also, remember that `some_samples` is a data frame, and you can treat it the same way you treated any other data frame!"
   ]
  },
  {
   "cell_type": "code",
   "execution_count": null,
   "metadata": {
    "collapsed": false
   },
   "outputs": [],
   "source": [
    "# try it here!\n",
    "\n"
   ]
  },
  {
   "cell_type": "markdown",
   "metadata": {},
   "source": [
    "# Plotting a Pandas data frame\n",
    "\n",
    "Pandas has several built-in methods for creating plots, as [described here](http://pandas.pydata.org/pandas-docs/stable/visualization.html).  You can also use the matplotplib [pyplot](http://matplotlib.org/api/pyplot_api.html) methods to create plots using slices of pandas data frames.  It's often helpful to look at the [pyplot tutorial](http://matplotlib.org/users/pyplot_tutorial.html) and the [matplotlib visualization gallery](http://matplotlib.org/gallery.html) for ideas of the types of plots you can make.  The gallery is particularly useful, since if you see a plot you like you can click on it to see the code used to create it!\n",
    "\n",
    "The most basic type of plot you can make with Pandas is a scatter plot, where you explicitly tell Pandas which quantities are the x and y axes.\n",
    "\n",
    "    flint_data.plot.scatter(x='Ward',y='Pb Bottle 1 (ppb) - First Draw')\n",
    "    \n",
    "This creates points of fixed size.  You can also color each point by using a third quantity in the data frame:\n",
    "\n",
    "    flint_data.plot.scatter(x='Ward',y='Pb Bottle 1 (ppb) - First Draw', \n",
    "                            s = flint_data['Pb Bottle 3 (ppb) - 2 mins flushing'])\n",
    "                            \n",
    "Note that the syntax is different here!  You have to use a data frame for the size of the points, because it needs a list of quantities.  \n",
    "  \n",
    "You can also generate histograms of individual quantities using slices:\n",
    "\n",
    "    flint_data['Pb Bottle 1 (ppb) - First Draw'].plot.hist()\n",
    "    \n",
    "Note that Pandas actually uses matplotlib and pyplot, so it's possible to use all of the matplotlib histogram functionality that is shown in the [pyplot histogram documentation](http://matplotlib.org/api/pyplot_api.html#matplotlib.pyplot.hist).  So, for example, you can change the number of bins, the upper and lower range of the bins, and many other things.  So, I'm going to make a cumulative histogram with 20 bins:\n",
    "\n",
    "    flint_data['Pb Bottle 1 (ppb) - First Draw'].plot.hist(bins=20, cumulative=True)\n",
    "    \n",
    "Give it a try!"
   ]
  },
  {
   "cell_type": "code",
   "execution_count": null,
   "metadata": {
    "collapsed": false
   },
   "outputs": [],
   "source": [
    "# put your code here\n"
   ]
  },
  {
   "cell_type": "markdown",
   "metadata": {},
   "source": [
    "Finally, we can use matplotlib directly to make plots if we want.  I can make the same histogram as above by typing:\n",
    "\n",
    "    plt.hist(flint_data['Pb Bottle 1 (ppb) - First Draw'])\n",
    "    \n",
    "Or a scatter plot by typing:\n",
    "\n",
    "    plt.scatter(x=flint_data['Ward'],y=flint_data['Pb Bottle 1 (ppb) - First Draw'])\n",
    "    \n",
    "Note that you have to make sure to explicitly use the sliced `flint_data` data frame when you use pyplot directly!\n",
    "\n",
    "You can also make many of the other plots you see in the [matplotlib gallery](http://matplotlib.org/gallery.html).  One advantage of using pyplot directly is that you have more control over the details of the plot (axis ticks and labels, etc.); a disadvantage is that you have to be much more explicit about calling the Pandas data frame.\n",
    "\n",
    "First, try using the standard scatter plot and histogram, but by using pyplot instead of the Pandas routines:"
   ]
  },
  {
   "cell_type": "code",
   "execution_count": null,
   "metadata": {
    "collapsed": false
   },
   "outputs": [],
   "source": [
    "# first, we import pyplot and call it 'plt'\n",
    "%matplotlib inline\n",
    "import matplotlib.pyplot as plt\n",
    "\n",
    "# put your code here!\n",
    "\n"
   ]
  },
  {
   "cell_type": "markdown",
   "metadata": {},
   "source": [
    "Now, look in the [matplotlib gallery](http://matplotlib.org/gallery.html) and try to figure out a new type of plot to make with the Flint data.  Add that plot below!"
   ]
  },
  {
   "cell_type": "code",
   "execution_count": null,
   "metadata": {
    "collapsed": false
   },
   "outputs": [],
   "source": [
    "# put your code here\n",
    "\n"
   ]
  },
  {
   "cell_type": "markdown",
   "metadata": {},
   "source": [
    "**Now, a thought exercise:** Using the data that you've seen so far in class, plus the Pandas and matplotlib visualization tools you've seen so far in class and in the [matplotlib gallery](http://matplotlib.org/gallery.html), what sort of visualizations might be useful to learn more about the Flint water quality problem?"
   ]
  },
  {
   "cell_type": "markdown",
   "metadata": {},
   "source": [
    "put your answer here!"
   ]
  },
  {
   "cell_type": "markdown",
   "metadata": {
    "collapsed": false
   },
   "source": [
    "### Assignment wrapup\n",
    "\n",
    "Please fill out the form that appears when you run the code below.  **You must completely fill this out in order to receive credit for the assignment!**"
   ]
  },
  {
   "cell_type": "code",
   "execution_count": null,
   "metadata": {
    "collapsed": false
   },
   "outputs": [],
   "source": [
    "from IPython.display import HTML\n",
    "HTML(\n",
    "\"\"\"\n",
    "<iframe \n",
    "\tsrc=\"https://goo.gl/forms/nO5JezJd8cB0AYYn1?embedded=true\" \n",
    "\twidth=\"80%\" \n",
    "\theight=\"1200px\" \n",
    "\tframeborder=\"0\" \n",
    "\tmarginheight=\"0\" \n",
    "\tmarginwidth=\"0\">\n",
    "\tLoading...\n",
    "</iframe>\n",
    "\"\"\"\n",
    ")"
   ]
  },
  {
   "cell_type": "markdown",
   "metadata": {},
   "source": [
    "###### Congratulations, you're done!\n",
    "\n",
    "Submit this assignment by uploading it to the course Desire2Learn web page.  Go to the \"Pre-class assignments\" folder, find the dropbox link for Day 5, and upload it there.\n",
    "\n",
    "See you in class!"
   ]
  }
 ],
 "metadata": {
  "kernelspec": {
   "display_name": "Python 3",
   "language": "python",
   "name": "python3"
  },
  "language_info": {
   "codemirror_mode": {
    "name": "ipython",
    "version": 3
   },
   "file_extension": ".py",
   "mimetype": "text/x-python",
   "name": "python",
   "nbconvert_exporter": "python",
   "pygments_lexer": "ipython3",
   "version": "3.5.1"
  }
 },
 "nbformat": 4,
 "nbformat_minor": 0
}
