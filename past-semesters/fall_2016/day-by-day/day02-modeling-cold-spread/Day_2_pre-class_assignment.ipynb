{
 "cells": [
  {
   "cell_type": "markdown",
   "metadata": {},
   "source": [
    "# Day 2 pre-class assignment"
   ]
  },
  {
   "cell_type": "markdown",
   "metadata": {},
   "source": [
    "## Goals for today's pre-class assignment\n",
    "\n",
    "* Make sure that you can get a Jupyter notebook up and running!\n",
    "* Learn about algorithms, computer programs, and their relationship\n",
    "* To devise and think about the components of an algorithm for a simple task\n",
    "* Learn about Python, IPython, and IPython notebooks and understand why we're using it in class.\n",
    "* Install NetLogo and verify that it works (we need it for class)"
   ]
  },
  {
   "cell_type": "markdown",
   "metadata": {},
   "source": [
    "## Assignment instructions\n",
    "\n",
    "Pre-class assignments will be composed of a combination of videos, text to read, and small assignments.  The goal of these assignments is to prepare you for class the following day.  You should watch the videos and read the text, and then do the assigned work.  You also need to provide feedback in the Google Form at the bottom of the notebook.  You will be graded on making a good-faith effort, not on correctness!\n",
    "\n",
    "To make notebook cells that have Python code in them do something, hold down the 'shift' key and then press the 'enter' or 'return' key (you'll have to do this to get movies to run).  To edit a cell (to add answers, for example) you double-click, add your text, and then enter it by holding down 'shift' and pressing 'enter'.  \n",
    "\n",
    "**This assignment is due by 11:59 p.m. the day before class,** and should be uploaded into the \"Pre-class assignments\" dropbox folder for Day 2.  Submission instructions can be found at the end of the notebook."
   ]
  },
  {
   "cell_type": "code",
   "execution_count": null,
   "metadata": {
    "collapsed": true
   },
   "outputs": [],
   "source": [
    "# The command below this comment imports the functionality that we need to display \n",
    "# YouTube videos in a Jupyter Notebook.  You need to run this cell before you\n",
    "# run ANY of the YouTube videos.\n",
    "\n",
    "from IPython.display import YouTubeVideo"
   ]
  },
  {
   "cell_type": "markdown",
   "metadata": {},
   "source": [
    "## Algorithms"
   ]
  },
  {
   "cell_type": "code",
   "execution_count": null,
   "metadata": {
    "collapsed": false
   },
   "outputs": [],
   "source": [
    "# the command below this comment actually displays a specific YouTube video,  \n",
    "# with a given width and height.  You can watch the video in full-screen (much higher\n",
    "# resolution) mode by clicking the little box in the bottom-right corner of the video.\n",
    "\n",
    "YouTubeVideo(\"jT0KZ849fak\",width=640,height=360)"
   ]
  },
  {
   "cell_type": "markdown",
   "metadata": {},
   "source": [
    "### Further reading on algorithms and computer programs\n",
    "\n",
    "*note:* This isn't mandatory, but might be helpful!\n",
    "\n",
    "[Wikipedia page on algorithms](https://en.wikipedia.org/wiki/Algorithm \"Algorithms\")\n",
    "\n",
    "[Wikipedia page on computer programs](https://en.wikipedia.org/wiki/Computer_program \"Computer programs\")"
   ]
  },
  {
   "cell_type": "markdown",
   "metadata": {},
   "source": [
    "### Assignment: Algorithms and computer programs"
   ]
  },
  {
   "cell_type": "markdown",
   "metadata": {},
   "source": [
    "**Question 1:**  Come up with an algorithm for a simple task that you do every day (i.e., putting on your shoes).  What are the  steps of this algorithm?"
   ]
  },
  {
   "cell_type": "markdown",
   "metadata": {},
   "source": [
    "Put your answer to Question 1 here! (double-click on this text to edit this cell, and hit shift+enter to save the text)"
   ]
  },
  {
   "cell_type": "markdown",
   "metadata": {},
   "source": [
    "**Question 2:** Think about the algorithm you devised in the previous question and the video you just watched.  Identify the various parts of your algorithm, as defined by the video. "
   ]
  },
  {
   "cell_type": "markdown",
   "metadata": {},
   "source": [
    "Put your answer to question 2 here! (double-click on this text to edit this cell, and hit shift+enter to save the text) "
   ]
  },
  {
   "cell_type": "markdown",
   "metadata": {},
   "source": [
    "## Python, IPython, and IPython notebooks"
   ]
  },
  {
   "cell_type": "code",
   "execution_count": null,
   "metadata": {
    "collapsed": false
   },
   "outputs": [],
   "source": [
    "YouTubeVideo(\"L03BzGmLUUE\",width=640,height=360)"
   ]
  },
  {
   "cell_type": "markdown",
   "metadata": {},
   "source": [
    "### Assignment: Python, IPython, and IPython notebooks, and NetLogo"
   ]
  },
  {
   "cell_type": "markdown",
   "metadata": {},
   "source": [
    "**Question 3:** Given the video you watched, why do you think we're using IPython notebooks in class instead of a command-line version of Python?"
   ]
  },
  {
   "cell_type": "markdown",
   "metadata": {},
   "source": [
    "Put your answer here!  (double-click on this text to edit this cell, and hit shift+enter to save the text)"
   ]
  },
  {
   "cell_type": "markdown",
   "metadata": {},
   "source": [
    "**Question 4:** This isn't a question so much as a to-do.  You need to install the program [NetLogo](https://ccl.northwestern.edu/netlogo/) on your computer for tomorrow's class.  (You may first need to install [Java](https://java.com/en/download/help/index_installing.xml) on your computer to make this work!) To do this, go to the link above, download the appropriate version for your computer, and then follow the installation instructions.  **To test that it works**, do the following:\n",
    "\n",
    "1.  Start up NetLogo. It may be in the start menu/Dock on your computer, or in the Applications folder.\n",
    "2.  Go to the \"File\" menu, then click on \"Models Library\".  \n",
    "3.  Click on any of the directories and pick a directory and a model.\n",
    "4.  Click the \"setup\" button, and then \"go\".  The model should start.\n",
    "5.  Click \"go\" again to stop the model.\n",
    "\n",
    "Congratulations!  You've installed NetLogo."
   ]
  },
  {
   "cell_type": "markdown",
   "metadata": {},
   "source": [
    "Change the text here to say that you have installed and tested NetLogo.  (double-click on this text to edit this cell, and hit shift+enter to save the text)"
   ]
  },
  {
   "cell_type": "markdown",
   "metadata": {},
   "source": [
    "### Assignment wrapup"
   ]
  },
  {
   "cell_type": "markdown",
   "metadata": {},
   "source": [
    "Please fill out the form that appears when you run the code below.  **You must completely fill this out in order to receive credit for the assignment!**"
   ]
  },
  {
   "cell_type": "code",
   "execution_count": null,
   "metadata": {
    "collapsed": false
   },
   "outputs": [],
   "source": [
    "from IPython.display import HTML\n",
    "\n",
    "HTML(\"\"\"\n",
    "<iframe \n",
    "\tsrc=\"https://docs.google.com/forms/d/e/1FAIpQLSedVfvn-6kn3oTiyl2IeJglS7twoa8CdkcyLopqv-XWOtnUYQ/viewform\" \n",
    "\twidth=\"80%\" \n",
    "\theight=\"1200px\" \n",
    "\tframeborder=\"0\" \n",
    "\tmarginheight=\"0\" \n",
    "\tmarginwidth=\"0\">\n",
    "\tLoading...\n",
    "</iframe>\n",
    "\"\"\")"
   ]
  },
  {
   "cell_type": "markdown",
   "metadata": {},
   "source": [
    "### Congratulations, you're done with your first pre-class assignment!\n",
    "\n",
    "Now, you just need to submit this assignment by uploading it to the course Desire2Learn web page.  Go to the \"Pre-class assignments\" folder, find the dropbox link for Day 2, and upload it there.\n",
    "\n",
    "See you in class!"
   ]
  }
 ],
 "metadata": {
  "kernelspec": {
   "display_name": "Python 3",
   "language": "python",
   "name": "python3"
  },
  "language_info": {
   "codemirror_mode": {
    "name": "ipython",
    "version": 3
   },
   "file_extension": ".py",
   "mimetype": "text/x-python",
   "name": "python",
   "nbconvert_exporter": "python",
   "pygments_lexer": "ipython3",
   "version": "3.5.1"
  }
 },
 "nbformat": 4,
 "nbformat_minor": 0
}
