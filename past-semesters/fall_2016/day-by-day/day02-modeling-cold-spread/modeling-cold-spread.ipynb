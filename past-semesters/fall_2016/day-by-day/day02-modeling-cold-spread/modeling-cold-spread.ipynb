{
 "cells": [
  {
   "cell_type": "markdown",
   "metadata": {},
   "source": [
    "# There Ain't No Party Like a Rhinovirus Party - Group Activity"
   ]
  },
  {
   "cell_type": "markdown",
   "metadata": {},
   "source": [
    "**Note:** designate one person in your group to fill out this notebook (including the feedback at the end) and to upload it to the course Desire2Learn page in the Dropbox for today's class in the \"in-class assignments\" folder.  You will all receive credit!  (Just don't forget to put everybody's name in the notebook.)"
   ]
  },
  {
   "cell_type": "markdown",
   "metadata": {},
   "source": [
    "## Student Names"
   ]
  },
  {
   "cell_type": "markdown",
   "metadata": {},
   "source": [
    "Put the names of everybody in your group here!  (Double-click on this cell and add everybody's name)"
   ]
  },
  {
   "cell_type": "markdown",
   "metadata": {},
   "source": [
    "## Learning Goals (Why are we asking you to do this?)\n",
    "\n",
    "\n",
    "A huge part of modeling involves coming to a new situation and trying to decide what the entities and rules of behavior are. This activity will be our first chance to do that as teams, and later, as a class. And, this activity encourages all of us (instructors included) to: \n",
    "\n",
    "- try to express in words and pictures how we see a system\n",
    "- create rules for how that system behaves\n",
    "- justify our rules and representations to each other\n"
   ]
  },
  {
   "cell_type": "markdown",
   "metadata": {},
   "source": [
    "## Core Question\n",
    "\n",
    "**If there were a party, and one or more people came with a cold, who's going to wake up the next morning with the sniffles?**\n",
    "\n",
    " We want you to think about the information you think you would need to solve it, which includes making up the rules you think you would need to make up. We encourage you to describe your group's ideas using drawings, sketches, cartoons, and diagrams."
   ]
  },
  {
   "cell_type": "markdown",
   "metadata": {},
   "source": [
    "**In case you were wondering,** the question is ambiguous on purpose. You have the freedom to think carefully and be imaginative. If you feel like you don't have enough information to get started, turn that weakness into a strength. *You* get to make up and establish rules about the party that help you tackle the question. When you share your model with the class, you'll be sharing what rules you've decided to lay down. And remember, everyone (including the instructors) is doing what you're doing: trying to identify, articulate, and explain their model."
   ]
  },
  {
   "cell_type": "markdown",
   "metadata": {},
   "source": [
    "**Briefly describe your model in the cell below, including the inputs, outputs, and rules that the model must follow.** If you drew pictures or graphs on your whiteboard, please take a picture with your phone or laptop camera and upload those to D2L as well!\n",
    "\n"
   ]
  },
  {
   "cell_type": "markdown",
   "metadata": {},
   "source": [
    "Put your description here!  (Double-click on this cell to edit it.)  "
   ]
  },
  {
   "cell_type": "markdown",
   "metadata": {},
   "source": [
    "**What do you think the outputs of this model might look like?**  (Pictures, graphs, numbers, etc.?)"
   ]
  },
  {
   "cell_type": "markdown",
   "metadata": {},
   "source": [
    "Put your answer here!  If you drew pictures or graphs on your whiteboard, please take a picture with your phone or laptop camera and upload those to D2L too!"
   ]
  },
  {
   "cell_type": "markdown",
   "metadata": {},
   "source": [
    "**How might you decide if this model is doing a good job or not?**"
   ]
  },
  {
   "cell_type": "markdown",
   "metadata": {},
   "source": [
    "Put your answer here!"
   ]
  },
  {
   "cell_type": "markdown",
   "metadata": {},
   "source": [
    "**Time to stop and have a group discussion!**  Also, make sure that you have checked in with one of the instructors!\n",
    "\n",
    "---"
   ]
  },
  {
   "cell_type": "markdown",
   "metadata": {},
   "source": [
    "## Unleash the virus!\n",
    "\n",
    "We're now going to use [NetLogo](https://ccl.northwestern.edu/netlogo/) to experiment with an implementation of a model similar to what you have been thinking about.  Everybody should start up NetLogo on their own computer, or on one of the loaner laptops.  To start this model, do the following:\n",
    "\n",
    "1.  Start up NetLogo on your computer.  If you're using a loaner laptop, click the Finder (magnifying glass in the top-right corner) and type \"NetLogo\" in it.\n",
    "2.  Click on the File menu, then on \"Models library\"\n",
    "3.  In the \"Sample Models\" folder, click on the little arrow next to \"Biology\" and then double-click on \"Virus\"\n",
    "4.  Click \"Setup\" and then \"Go\" to run the model. You can click \"Go\" again to stop the model.\n",
    "\n",
    "You should experiment with the various parameters (which are described in the \"Info\" tab at the top of the NetLogo window) and see how changing them changes the outcome, both in the visualization of the people moving and in the graph at the bottom-left corner of the screen."
   ]
  },
  {
   "cell_type": "markdown",
   "metadata": {},
   "source": [
    "**What effect or effects does changing the model parameters have on the outcome?**"
   ]
  },
  {
   "cell_type": "markdown",
   "metadata": {},
   "source": [
    "Put your answer here!"
   ]
  },
  {
   "cell_type": "markdown",
   "metadata": {},
   "source": [
    "**How is this model similar to, or different from, the model that your group came up with to describe the spread of the cold at a party?**"
   ]
  },
  {
   "cell_type": "markdown",
   "metadata": {},
   "source": [
    "Put your answer here!"
   ]
  },
  {
   "cell_type": "markdown",
   "metadata": {},
   "source": [
    "**Time to stop and have a group discussion!**  Also, make sure that you have checked in with one of the instructors!\n",
    "\n",
    "---"
   ]
  },
  {
   "cell_type": "markdown",
   "metadata": {},
   "source": [
    "## Feedback on this assignment"
   ]
  },
  {
   "cell_type": "markdown",
   "metadata": {},
   "source": [
    "Run the code below by clicking on the cell with your mouse and then pressing \"shift + enter\".  You  must complete the form that pops up to get credit for today's class!"
   ]
  },
  {
   "cell_type": "code",
   "execution_count": null,
   "metadata": {
    "collapsed": false
   },
   "outputs": [],
   "source": [
    "from IPython.display import HTML\n",
    "\n",
    "HTML(\"\"\"\n",
    "<iframe \n",
    "\tsrc=\"https://docs.google.com/forms/d/e/1FAIpQLSdNh1PC4csObO0LKlSmo-esTmvRUfM93j8771TFnVrW6TnWow/viewform\" \n",
    "\twidth=\"80%\" \n",
    "\theight=\"1200px\" \n",
    "\tframeborder=\"0\" \n",
    "\tmarginheight=\"0\" \n",
    "\tmarginwidth=\"0\">\n",
    "\tLoading...\n",
    "</iframe>\n",
    "\"\"\")"
   ]
  },
  {
   "cell_type": "markdown",
   "metadata": {},
   "source": [
    "# How to submit this assignment"
   ]
  },
  {
   "cell_type": "markdown",
   "metadata": {
    "collapsed": true
   },
   "source": [
    "Log into the course Desire2Learn website (d2l.msu.edu) and go to the \"In-class assignments\" folder.  There will be a dropbox labeled \"Day 2\".  Upload this notebook there (but not pictures of drawings, etc.).  You only have to upload one notebook per group - just make sure that everybody's name is at the top of the notebook! "
   ]
  }
 ],
 "metadata": {
  "kernelspec": {
   "display_name": "Python 3",
   "language": "python",
   "name": "python3"
  },
  "language_info": {
   "codemirror_mode": {
    "name": "ipython",
    "version": 3
   },
   "file_extension": ".py",
   "mimetype": "text/x-python",
   "name": "python",
   "nbconvert_exporter": "python",
   "pygments_lexer": "ipython3",
   "version": "3.5.1"
  }
 },
 "nbformat": 4,
 "nbformat_minor": 0
}
