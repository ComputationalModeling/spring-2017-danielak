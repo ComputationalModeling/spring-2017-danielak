{
 "cells": [
  {
   "cell_type": "markdown",
   "metadata": {},
   "source": [
    "# Day 6 - pre-class assignment\n",
    "\n",
    "## Goals for today's pre-class assignment\n",
    "\n",
    "* Use the NumPy module to manipulate arrays of data\n",
    "* Write a program using if statements and Boolean logic\n",
    "* Create loops that use the for and while statements"
   ]
  },
  {
   "cell_type": "markdown",
   "metadata": {},
   "source": [
    "## Assignment instructions\n",
    "\n",
    "Watch the videos below, read through the materials linked to below the videos as well as Section 4.1 through 4.3 of the [Python Tutorial](https://docs.python.org/3/tutorial/controlflow.html), and complete the assigned programming problems.  Please get started early, and come to office hours if you have any questions!\n",
    "\n",
    "Recall that to make notebook cells that have Python code in them do something, hold down the 'shift' key and then press the 'enter' key (you'll have to do this to get the YouTube videos to run).  To edit a cell (to add answers, for example) you double-click on the cell, add your text, and then enter it by holding down 'shift' and pressing 'enter'\n",
    "\n",
    "**This assignment is due by 11:59 p.m. the day before class,** and should be uploaded into the \"Pre-class assignments\" dropbox folder for Day 6.  Submission instructions can be found at the end of the notebook."
   ]
  },
  {
   "cell_type": "code",
   "execution_count": null,
   "metadata": {
    "collapsed": true
   },
   "outputs": [],
   "source": [
    "# Imports the functionality that we need to display YouTube videos in \n",
    "# a Jupyter Notebook.  \n",
    "# You need to run this cell before you run ANY of the YouTube videos.\n",
    "\n",
    "from IPython.display import YouTubeVideo  "
   ]
  },
  {
   "cell_type": "code",
   "execution_count": null,
   "metadata": {
    "collapsed": false
   },
   "outputs": [],
   "source": [
    "# Don't forget to watch the video in full-screen mode!\n",
    "\n",
    "YouTubeVideo(\"BTXyE3KLIOs\",width=640,height=360)  # numpy"
   ]
  },
  {
   "cell_type": "markdown",
   "metadata": {
    "collapsed": true
   },
   "source": [
    "### Some useful numpy references\n",
    "\n",
    "* The [NumPy Quick Start Guide](https://docs.scipy.org/doc/numpy-dev/user/quickstart.html)\n",
    "* [An introduction to numpy](http://www.scipy-lectures.org/intro/numpy/numpy.html)\n"
   ]
  },
  {
   "cell_type": "markdown",
   "metadata": {},
   "source": [
    "**Question 1:** In the cell below, import the numpy module and then create two arrays with the same number of elements in each one (pick the number of elements and the value of each yourself, making sure they're numbers and not strings!).  Then, add those arrays together and store it in a third array, and print it out.  Sort the values of the third array, and print that out again. "
   ]
  },
  {
   "cell_type": "code",
   "execution_count": null,
   "metadata": {
    "collapsed": true
   },
   "outputs": [],
   "source": [
    "import numpy as np\n",
    "\n",
    "# put your code here!\n",
    "\n"
   ]
  },
  {
   "cell_type": "markdown",
   "metadata": {},
   "source": [
    "**Question 2:** Now let's use numpy and pyplot together (you learned about pyplot in a prior class).  We're going to use numpy's ``linspace`` method (which you can learn about by typing this:\n",
    "\n",
    "```\n",
    "np.linspace?\n",
    "```\n",
    "\n",
    "in the cell below.  Use ``linspace`` to create an array called ``x`` with 10 values ranging from x=0 to $4\\pi$, and then a second array called y that is the sine of x.  Then, plot x vs. y with a red line!\n",
    "\n",
    "**Hint 1:** use ``np.sin()``, which you can find more about by typing ``np.sin?`` in the cell below\n",
    "\n",
    "**Hint 2:** look at the pre-class notebook from previous classes - what did you do to make plots there?  Alternately, check out the [Pyplot tutorial](http://matplotlib.org/users/pyplot_tutorial.html).\n",
    "\n"
   ]
  },
  {
   "cell_type": "code",
   "execution_count": null,
   "metadata": {
    "collapsed": true
   },
   "outputs": [],
   "source": [
    "%matplotlib inline\n",
    "import matplotlib.pyplot as plt\n",
    "\n",
    "# put your code here!\n",
    "\n"
   ]
  },
  {
   "cell_type": "code",
   "execution_count": null,
   "metadata": {
    "collapsed": false
   },
   "outputs": [],
   "source": [
    "# Don't forget to watch the video in full-screen mode!\n",
    "\n",
    "YouTubeVideo(\"cozbOliNwSs\",width=640,height=360)  # Boolean logic and if statements"
   ]
  },
  {
   "cell_type": "markdown",
   "metadata": {},
   "source": [
    "### Potentially useful links\n",
    "\n",
    "* [WikiBooks Python Programming - conditional statements]()\n",
    "* [Learn Python the Hard Way - Boolean Logic](http://learnpythonthehardway.org/book/ex28.html)\n",
    "\n",
    "* [How To Think Like a Computer Scientist: Conditionals](http://openbookproject.net/thinkcs/python/english3e/conditionals.html)\n",
    "* [Python logical operators](http://www.tutorialspoint.com/python/logical_operators_example.htm)\n",
    "* [Python comparison operators](http://www.tutorialspoint.com/python/comparison_operators_example.htm)"
   ]
  },
  {
   "cell_type": "markdown",
   "metadata": {},
   "source": [
    "**Question 3:** Write a program that compares three variables v1, v2, and v3 (not necessarily the variable names) and does the following using if statements:\n",
    "\n",
    "1. If v1 is equal to v2, print \"woohoo!\"\n",
    "2. If v1 has the smallest value of the three (i.e., v1 is less than both v2 and v3), print out \"v1 is tiny!\"\n",
    "3. As with (2), but add a nested if statement to print out a statement saying whether v2 or v3 is the largest value.\n",
    "\n",
    "Try several values of v1, v2 and v3 and ensure that you see the correct behavior. "
   ]
  },
  {
   "cell_type": "code",
   "execution_count": null,
   "metadata": {
    "collapsed": true
   },
   "outputs": [],
   "source": [
    "# write your program here, using multiple cells if necessary (adding extra cells using\n",
    "# the 'Cell' menu at the top of this notebook).  Don't forget that you can execute \n",
    "# your program by holding down 'shift' and pressing 'enter' in each cell!\n",
    "\n",
    "\n",
    "\n"
   ]
  },
  {
   "cell_type": "code",
   "execution_count": null,
   "metadata": {
    "collapsed": false
   },
   "outputs": [],
   "source": [
    "# Don't forget to watch the video in full-screen mode!\n",
    "\n",
    "YouTubeVideo(\"VnTN5sFIPD0\",width=640,height=360)  # loops in python"
   ]
  },
  {
   "cell_type": "markdown",
   "metadata": {},
   "source": [
    "### Potentially useful links\n",
    "\n",
    "* [WikiBooks Python Programming - loops](https://en.wikibooks.org/wiki/Python_Programming/Loops)\n",
    "* [Hands-on Python - loops and sequences](http://anh.cs.luc.edu/python/hands-on/3.1/handsonHtml/loops.html)\n",
    "* [Numpy - nditer reference](http://docs.scipy.org/doc/numpy/reference/arrays.nditer.html)\n"
   ]
  },
  {
   "cell_type": "markdown",
   "metadata": {},
   "source": [
    "**Question 4:** Write two small programs that do the following:\n",
    "\n",
    "1.  Using range() and a for loop, print out the numbers from 4 to 16 by steps of two (i.e., 2, 4, ... 16), adding up all of the numbers you have printed out.\n",
    "2.  Write a while loop that does exactly the same thing.\n",
    "3.  Create two numpy arrays with 10 elements, one using np.arange() and one using np.ones(), and use np.nditer() to iterate over the two arrays and print out their values."
   ]
  },
  {
   "cell_type": "code",
   "execution_count": null,
   "metadata": {
    "collapsed": true
   },
   "outputs": [],
   "source": [
    "# Program 1 here\n",
    "\n",
    "\n"
   ]
  },
  {
   "cell_type": "code",
   "execution_count": null,
   "metadata": {
    "collapsed": true
   },
   "outputs": [],
   "source": [
    "# Program 2 here\n",
    "\n",
    "\n"
   ]
  },
  {
   "cell_type": "code",
   "execution_count": null,
   "metadata": {
    "collapsed": true
   },
   "outputs": [],
   "source": [
    "# Program 3 here\n",
    "\n",
    "\n"
   ]
  },
  {
   "cell_type": "markdown",
   "metadata": {},
   "source": [
    "### Assignment wrapup\n",
    "\n",
    "Please fill out the form that appears when you run the code below.  **You must completely fill this out in order to receive credit for the assignment!**"
   ]
  },
  {
   "cell_type": "code",
   "execution_count": null,
   "metadata": {
    "collapsed": false
   },
   "outputs": [],
   "source": [
    "from IPython.display import HTML\n",
    "HTML(\n",
    "\"\"\"\n",
    "<iframe \n",
    "\tsrc=\"https://goo.gl/forms/F1MvFMDpIWPScchr2?embedded=true\" \n",
    "\twidth=\"80%\" \n",
    "\theight=\"1200px\" \n",
    "\tframeborder=\"0\" \n",
    "\tmarginheight=\"0\" \n",
    "\tmarginwidth=\"0\">\n",
    "\tLoading...\n",
    "</iframe>\n",
    "\"\"\"\n",
    ")"
   ]
  },
  {
   "cell_type": "markdown",
   "metadata": {},
   "source": [
    "### Congratulations, you're done!\n",
    "\n",
    "Submit this assignment by uploading it to the course Desire2Learn web page.  Go to the \"Pre-class assignments\" folder, find the dropbox link for Day 6, and upload it there.\n",
    "\n",
    "See you in class!"
   ]
  }
 ],
 "metadata": {
  "kernelspec": {
   "display_name": "Python 3",
   "language": "python",
   "name": "python3"
  },
  "language_info": {
   "codemirror_mode": {
    "name": "ipython",
    "version": 3
   },
   "file_extension": ".py",
   "mimetype": "text/x-python",
   "name": "python",
   "nbconvert_exporter": "python",
   "pygments_lexer": "ipython3",
   "version": "3.5.1"
  }
 },
 "nbformat": 4,
 "nbformat_minor": 0
}
