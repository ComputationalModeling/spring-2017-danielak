{
 "cells": [
  {
   "cell_type": "markdown",
   "metadata": {},
   "source": [
    "# Building Blocks You Can Use In Your Code"
   ]
  },
  {
   "cell_type": "markdown",
   "metadata": {},
   "source": [
    "## Setup Stuff"
   ]
  },
  {
   "cell_type": "code",
   "execution_count": null,
   "metadata": {
    "collapsed": true
   },
   "outputs": [],
   "source": [
    "## Boring setup stuff\n",
    "import math\n",
    "import numpy as np\n",
    "import pandas as pd\n",
    "import re # regular expressions for pattern matching\n",
    "import requests\n",
    "from nltk import word_tokenize\n",
    "\n",
    "# Make plots inline\n",
    "%matplotlib inline\n",
    "\n",
    "# Make inline plots vector graphics instead of raster graphics\n",
    "from IPython.display import set_matplotlib_formats\n",
    "set_matplotlib_formats('pdf', 'svg')"
   ]
  },
  {
   "cell_type": "markdown",
   "metadata": {},
   "source": [
    "## Loading the Data"
   ]
  },
  {
   "cell_type": "code",
   "execution_count": null,
   "metadata": {
    "collapsed": false
   },
   "outputs": [],
   "source": [
    "def load_pirates_movie_script():\n",
    "    \"\"\"\n",
    "    Returns a DataFrame where each row is a line from the script\n",
    "    \"\"\"\n",
    "    return pd.DataFrame(\n",
    "        data=requests.get(\"https://gist.githubusercontent.com/briandk/61d60180accecff51807ffddf0c5f18e/raw/00cfc60c64e75dbd730635850dc393d6c0196243/pirates.txt\").text.splitlines(), # or in nltk: webtext.raw('pirates.txt').splitlines(),\n",
    "        columns=[\"line_of_script\"])\n",
    "\n",
    "pirates_of_the_caribbean = load_pirates_movie_script()\n",
    "pirates_of_the_caribbean.head()"
   ]
  },
  {
   "cell_type": "markdown",
   "metadata": {},
   "source": [
    "## Printing out the values of a column"
   ]
  },
  {
   "cell_type": "code",
   "execution_count": null,
   "metadata": {
    "collapsed": false
   },
   "outputs": [],
   "source": [
    "pirates_of_the_caribbean[\"line_of_script\"].apply(print)"
   ]
  },
  {
   "cell_type": "markdown",
   "metadata": {},
   "source": [
    "## Regular Expression Patterns for Dialogue and Scenes"
   ]
  },
  {
   "cell_type": "code",
   "execution_count": null,
   "metadata": {
    "collapsed": true
   },
   "outputs": [],
   "source": [
    "# Visualize this regular expression at https://www.debuggex.com/r/iLYFPobXckKrlx4l\n",
    "dialogue_pattern = re.compile(r'''(?x)\n",
    "          (?P<character_name>  # Create a capturing group called `character_name`\n",
    "              [A-Z,\\s]+)       #   Where movie character names contain either ALL CAPS letters or spaces\n",
    "          :                    # followed by a colon,\n",
    "          \\s*                  # followed by some whitespace,\n",
    "          (?P<what_they_say>   # Then create a capturing group for what the movie character actually says\n",
    "              .*               #   Where what they actually say can be any characters 0 or more,\n",
    "              $)               #   followed by the end of the line\n",
    "    '''\n",
    ")\n",
    "\n",
    "# Visualize this regular expression at https://www.debuggex.com/r/7uNzZYOnuahhyBQt\n",
    "scene_pattern = re.compile(r'''(?x)\n",
    "    ^Scene # The line begins with scene,\n",
    "         : # Followed by a colon,\n",
    "        .* # Followed by any characters,\n",
    "         $ # Until the end of the line.\n",
    "    '''\n",
    ")\n"
   ]
  },
  {
   "cell_type": "markdown",
   "metadata": {},
   "source": [
    "## Functions that extract specific parts of text using patterns"
   ]
  },
  {
   "cell_type": "code",
   "execution_count": null,
   "metadata": {
    "collapsed": false
   },
   "outputs": [],
   "source": [
    "def extract_character_name(dialogue_element):\n",
    "    \"\"\"\n",
    "    Get a character's name from a dialogue_element dictionary\n",
    "    \"\"\"\n",
    "    if dialogue_element is not None:\n",
    "        return dialogue_element[\"character_name\"]\n",
    "    else:\n",
    "        return None\n",
    "\n",
    "def extract_what_character_says(dialogue_element):\n",
    "    if dialogue_element is not None:\n",
    "        return dialogue_element[\"what_they_say\"]\n",
    "    else:\n",
    "        return None\n",
    "\n",
    "def create_dialogue_element(line, pattern):\n",
    "    \"\"\"\n",
    "    Keyword Arguments:\n",
    "    line -- a line from the script\n",
    "    pattern -- a regular expression pattern that recognizes dialogue\n",
    "    \n",
    "    Output:\n",
    "    If the line matches the pattern, a Python dictionary.\n",
    "    Otherwise, None\n",
    "    \"\"\"\n",
    "    dialogue_element = re.match(dialogue_pattern, line)\n",
    "    if dialogue_element is not None:\n",
    "        return dialogue_element.groupdict()\n",
    "    else:\n",
    "        return None"
   ]
  },
  {
   "cell_type": "markdown",
   "metadata": {},
   "source": [
    "## Add specific columns to data and return a copy of the data"
   ]
  },
  {
   "cell_type": "code",
   "execution_count": null,
   "metadata": {
    "collapsed": false
   },
   "outputs": [],
   "source": [
    "def add_character_and_speech_columns(pirates_dataframe):\n",
    "    \"\"\"\n",
    "    Takes a DataFrame that *must* include a column called \"dialogue_element\".\n",
    "    Tries to apply extraction functions on that column.\n",
    "    Returns a copy of the data that includes new columns.\n",
    "    \"\"\"\n",
    "    return (\n",
    "        pirates_of_the_caribbean.assign(\n",
    "            character = pirates_of_the_caribbean[\"dialogue_element\"].apply(extract_character_name),\n",
    "            what_they_say = pirates_of_the_caribbean[\"dialogue_element\"].apply(extract_what_character_says)\n",
    "        )\n",
    "    )\n",
    "\n",
    "def add_scene_numbers_to_data(pattern, pirates_data):\n",
    "    scenes = []\n",
    "    scene_number = 0\n",
    "    for line in pirates_data[\"line_of_script\"]:\n",
    "        if (re.match(pattern, line)):\n",
    "            scene_number = scene_number + 1\n",
    "        scenes.append(scene_number)\n",
    "    return pirates_data.assign(scene=scenes)\n",
    "\n",
    "def add_gender_columns_to_data(pirates_data):\n",
    "    \"\"\"\n",
    "    Takes a DataFrame that should have columns for \"character\" and \"what they say\".\n",
    "    Tries to apply gender-based functions.\n",
    "    Returns a copy of the data with new columns of gender information.\n",
    "    \"\"\"\n",
    "    return pirates_of_the_caribbean.assign(\n",
    "        gender_of_character = pirates_of_the_caribbean[\"character\"].apply(infer_gender_of_character),\n",
    "        contains_male_pronouns = pirates_of_the_caribbean[\"what_they_say\"].apply(detect_male_pronouns)\n",
    "    )\n",
    "\n",
    "\n",
    "# Example usage\n",
    "pirates_of_the_caribbean = add_character_and_speech_columns(pirates_of_the_caribbean)"
   ]
  },
  {
   "cell_type": "markdown",
   "metadata": {},
   "source": [
    "## Create filters to use on data"
   ]
  },
  {
   "cell_type": "code",
   "execution_count": null,
   "metadata": {
    "collapsed": false
   },
   "outputs": [],
   "source": [
    "dialogue_filter = pd.notnull(pirates_of_the_caribbean[\"dialogue_element\"]) # True/False array\n",
    "\n",
    "def create_scene_filter(pattern, pirates_data):\n",
    "    \"\"\"\n",
    "    Takes a DataFrame that has a \"line_of_script\" column.\n",
    "    Returns a True/False column as long as the DataFrame\n",
    "    \"\"\"\n",
    "    return pd.notnull(\n",
    "        pirates_data[\"line_of_script\"].apply(lambda x: re.match(pattern, x))\n",
    "    )\n",
    "\n",
    "scene_filter = create_scene_filter(scene_pattern, pirates_of_the_caribbean)\n",
    "pirates_of_the_caribbean[scene_filter]\n",
    "pirates_of_the_caribbean[scene_filter].count()"
   ]
  },
  {
   "cell_type": "markdown",
   "metadata": {},
   "source": [
    "## Print Potentially Useful Information"
   ]
  },
  {
   "cell_type": "code",
   "execution_count": null,
   "metadata": {
    "collapsed": false
   },
   "outputs": [],
   "source": [
    "def print_all_characters_with_speaking_parts(pirates_data):\n",
    "    \"\"\"\n",
    "    This function prints out information, but it doesn't return anything.\n",
    "    \"\"\"\n",
    "    characters_with_speaking_parts = pirates_data[\"character\"].unique()\n",
    "    for character in characters_with_speaking_parts:\n",
    "        print(character)\n",
    "\n",
    "# Example Usage\n",
    "print_all_characters_with_speaking_parts(pirates_of_the_caribbean)"
   ]
  },
  {
   "cell_type": "markdown",
   "metadata": {},
   "source": [
    "## Sort data"
   ]
  },
  {
   "cell_type": "code",
   "execution_count": null,
   "metadata": {
    "collapsed": false
   },
   "outputs": [],
   "source": [
    "def sort_characters_by_lines_of_dialogue_per_character(pirates_data):\n",
    "    return (\n",
    "        pirates_of_the_caribbean\n",
    "            .groupby(\"character\")\n",
    "            .count()\n",
    "            .sort_values(by=['what_they_say'], ascending=False)\n",
    "    )\n",
    "\n",
    "sort_characters_by_lines_of_dialogue_per_character(pirates_of_the_caribbean)"
   ]
  },
  {
   "cell_type": "markdown",
   "metadata": {},
   "source": [
    "## Plot Data"
   ]
  },
  {
   "cell_type": "code",
   "execution_count": null,
   "metadata": {
    "collapsed": false
   },
   "outputs": [],
   "source": [
    "lines_per_character = sort_characters_by_lines_of_dialogue_per_character(pirates_of_the_caribbean)\n",
    "lines_per_character[\"what_they_say\"].plot(kind='bar')"
   ]
  },
  {
   "cell_type": "markdown",
   "metadata": {
    "collapsed": false,
    "scrolled": true
   },
   "source": [
    "## Functions that try to infer from gendered language"
   ]
  },
  {
   "cell_type": "code",
   "execution_count": null,
   "metadata": {
    "collapsed": false
   },
   "outputs": [],
   "source": [
    "def detect_male_pronouns(line_of_dialogue):\n",
    "    \"\"\"\n",
    "    Returns True if the line contains male pronouns; False if it doesn't\n",
    "    \"\"\"\n",
    "    male_pronouns = [\"he\", \"him\"]\n",
    "    contains_male_pronoun = False\n",
    "    if pd.notnull(line_of_dialogue):\n",
    "        tokenized_dialogue = word_tokenize(line_of_dialogue.lower())\n",
    "        for pronoun in male_pronouns:\n",
    "            if (pronoun in tokenized_dialogue):\n",
    "                contains_male_pronoun = True\n",
    "    return contains_male_pronoun\n",
    "\n",
    "def infer_gender_of_character(character_name):\n",
    "    \"\"\"\n",
    "    Uses the gender_map to look up the gender of a character based on their name.\n",
    "    If the character's gender is defined in the map, this returns that gender.\n",
    "    If a character name/gender is NOT defined in the map, it returns \"unknown\"\n",
    "    \n",
    "    You can add characters to the character map using \"(name_of_character)\": \"(gender)\"\n",
    "    \"\"\"\n",
    "    gender_map = {\n",
    "        \"ELIZABETH SWANN\": \"female\",\n",
    "        \"LORD CUTLER BECKETT\": \"male\"\n",
    "    }\n",
    "    character_gender = \"unknown\"\n",
    "    if character_name in gender_map.keys():\n",
    "        character_gender = gender_map[character_name]\n",
    "    return character_gender"
   ]
  },
  {
   "cell_type": "markdown",
   "metadata": {
    "collapsed": false
   },
   "source": [
    "## Create a complex query"
   ]
  },
  {
   "cell_type": "code",
   "execution_count": null,
   "metadata": {
    "collapsed": false
   },
   "outputs": [],
   "source": [
    "(\n",
    "    add_gender_columns_to_data(pirates_of_the_caribbean)\n",
    "        .query(\"gender_of_character == 'female' and contains_male_pronouns == False\")\n",
    "        [[\"character\", \"gender_of_character\", \"what_they_say\"]]\n",
    ")"
   ]
  }
 ],
 "metadata": {
  "anaconda-cloud": {},
  "kernelspec": {
   "display_name": "Python [default]",
   "language": "python",
   "name": "python3"
  },
  "language_info": {
   "codemirror_mode": {
    "name": "ipython",
    "version": 3
   },
   "file_extension": ".py",
   "mimetype": "text/x-python",
   "name": "python",
   "nbconvert_exporter": "python",
   "pygments_lexer": "ipython3",
   "version": "3.5.2"
  }
 },
 "nbformat": 4,
 "nbformat_minor": 0
}
