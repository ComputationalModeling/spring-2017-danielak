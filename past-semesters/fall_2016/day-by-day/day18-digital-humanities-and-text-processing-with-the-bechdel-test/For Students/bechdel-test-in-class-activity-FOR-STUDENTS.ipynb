{
 "cells": [
  {
   "cell_type": "markdown",
   "metadata": {},
   "source": [
    "# Does Pirates of the Caribbean: Dead Man's Chest pass the Bechdel Test?"
   ]
  },
  {
   "cell_type": "markdown",
   "metadata": {},
   "source": [
    "## Group member names:"
   ]
  },
  {
   "cell_type": "markdown",
   "metadata": {},
   "source": [
    "Put them here!"
   ]
  },
  {
   "cell_type": "markdown",
   "metadata": {},
   "source": [
    "## The [Bechdel Test][1] Criteria\n",
    "\n",
    "1. Is there a scene with at least two women in it?\n",
    "2. Are those women talking to each other?\n",
    "3. Are they talking about something *other than* a man?\n",
    "\n",
    "[1]: https://en.wikipedia.org/wiki/Bechdel_test"
   ]
  },
  {
   "cell_type": "markdown",
   "metadata": {},
   "source": [
    "## Your Job - Create a plan and compose code"
   ]
  },
  {
   "cell_type": "markdown",
   "metadata": {},
   "source": [
    "For this assignment, you'll need to **create a program (notebook) that**:\n",
    "\n",
    "- loads the movie script as data\n",
    "- has ways to extract relevant info from the script (character names, lines of dialogue)\n",
    "- creates new columns as necessary\n",
    "- results in a computational judgment about whether this movie passes the test or not\n",
    "\n",
    "### You can (and are encouraged to) use/compose existing pieces of code from the `Building Blocks` notebook\n",
    "\n",
    "Use Markdown cells for explaining your thought process.\n",
    "\n",
    "```python\n",
    "# use python cells for code\n",
    "```"
   ]
  },
  {
   "cell_type": "markdown",
   "metadata": {
    "collapsed": true
   },
   "source": [
    "# Feedback"
   ]
  },
  {
   "cell_type": "code",
   "execution_count": null,
   "metadata": {
    "collapsed": false
   },
   "outputs": [],
   "source": [
    "from IPython.display import HTML\n",
    "HTML(\n",
    "\"\"\"\n",
    "<iframe \n",
    "\tsrc=\"https://goo.gl/forms/wf8CFxTcWwU4T8zj2?embedded=true\" \n",
    "\twidth=\"100%\" \n",
    "\theight=\"1200px\" \n",
    "\tframeborder=\"0\" \n",
    "\tmarginheight=\"0\" \n",
    "\tmarginwidth=\"0\">\n",
    "\tLoading...\n",
    "</iframe>\n",
    "\"\"\"\n",
    ")"
   ]
  },
  {
   "cell_type": "markdown",
   "metadata": {
    "collapsed": true
   },
   "source": [
    "# Submitting this assignment\n",
    "\n",
    "Submit this assignment by uploading it to the course Desire2Learn web page.  Go to the \"In-Class-Activities\" folder, find the dropbox link for Day 18, and upload it there.\n",
    "\n",
    "Have a Great Day!"
   ]
  }
 ],
 "metadata": {
  "anaconda-cloud": {},
  "kernelspec": {
   "display_name": "Python 3",
   "language": "python",
   "name": "python3"
  },
  "language_info": {
   "codemirror_mode": {
    "name": "ipython",
    "version": 3
   },
   "file_extension": ".py",
   "mimetype": "text/x-python",
   "name": "python",
   "nbconvert_exporter": "python",
   "pygments_lexer": "ipython3",
   "version": "3.5.1"
  }
 },
 "nbformat": 4,
 "nbformat_minor": 0
}
