{
 "cells": [
  {
   "cell_type": "markdown",
   "metadata": {},
   "source": [
    "# What's the terminal velocity of a skydiver?"
   ]
  },
  {
   "cell_type": "markdown",
   "metadata": {},
   "source": [
    "## Names of group members"
   ]
  },
  {
   "cell_type": "markdown",
   "metadata": {},
   "source": [
    "// put your names here!"
   ]
  },
  {
   "cell_type": "markdown",
   "metadata": {},
   "source": [
    "## Goals of this assignment\n",
    "\n",
    "The main goal of this assignment is to use numerical integration and differentiation to study the behavior of a skydiver.  You're going to use the numerical integration and differentiation techniques that you learned in the pre-class assignment."
   ]
  },
  {
   "cell_type": "markdown",
   "metadata": {},
   "source": [
    "## Some background knowledge that we need for this model\n",
    "\n",
    "### Position, velocity, and acceleration \n",
    "\n",
    "In physics, three important properties of a moving object are its position ($\\vec{x}$), velocity ($\\vec{v}$), and acceleration ($\\vec{a}$).  These are *vector quantities*, meaning that they have both a magnitude and a direction, and are related in the following way:\n",
    "\n",
    "$\\vec{v} = \\frac{d\\vec{x}}{dt}$ \n",
    "\n",
    "$\\vec{a} = \\frac{d\\vec{v}}{dt}$ - i.e., acceleration is the rate of change of velocity (units of meters per second$^2$)\n",
    "\n",
    "In words, velocity is the rate of change of position with time (and having units of length per time) and acceleration is the rate of change of velocity with time (and having units of length per time$^2$).  Given this, the fundamental theorem of calculus tells us that we can relate these quantities by integration as well.  Expressed mathematically:\n",
    "\n",
    "$\\vec{x} = \\vec{x}_0 + \\int_0^t \\vec{v}(t) dt$\n",
    "\n",
    "$\\vec{v} = \\vec{v}_0 + \\int_0^t \\vec{a}(t) dt$\n",
    "\n",
    "So, we can get the position at any time by starting at the initial position and integrating the velocity over time, and can get the velocity at any time by starting with the initial velocity and integrating the acceleration over time.\n",
    "\n",
    "### Terminal velocity\n",
    "\n",
    "An object moving through a fluid like air or water experiences a force of friction - just think about what happens if you stick your hand out of the window of a moving car!  This is why airplanes need to run their engines constantly while in flight; when traveling at a constant speed, the force exerted by the engines just balances the force exerted by the air friction.  This force of friction always points in the *opposite direction* of the object's motion (in other words, in the opposite direction of its velocity).\n",
    "\n",
    "A similar thing happens to a falling object.  As an object falls downward faster and faster, the force of gravity pulling downward is eventually perfectly balanced by the upward force from air resistance (upward because the direction of motion is down).  When these forces perfectly balance, the object experiences zero acceleration, and thus its velocity becomes constant.  We call this the **terminal velocity**.\n",
    "\n"
   ]
  },
  {
   "cell_type": "markdown",
   "metadata": {},
   "source": [
    "## The challenge\n",
    "\n",
    "Your professor happens to mention that he went skydiving last weekend.  He jumped from a stationary helicopter that was hovering 2,000 meters above the ground, and opened the parachute at the last possible moment.  In the interests of science, he had a friend stand on the ground with a radar gun and measure his velocity as a function of time.  This file, ```skydiver_time_velocities.csv```, has been provided to you to examine.  You are asked to do the following:\n",
    "\n",
    "1.  Calculate and plot the position, velocity, and acceleration as a function of time.\n",
    "2.  If you start the clock when your professor steps out of the helicopter (i.e., $t=0$), at what time does he land on the ground?\n",
    "3.  At what time, and at what height above ground, does he reach terminal velocity?\n",
    "\n",
    "In the cells below, we have provided two pieces of code: one that reads the data you want from the file into two Numpy arrays, and a second piece of code that can provide you with the velocity at any time."
   ]
  },
  {
   "cell_type": "code",
   "execution_count": null,
   "metadata": {
    "collapsed": false
   },
   "outputs": [],
   "source": [
    "'''\n",
    "The code in this cell opens up the file skydiver_time_velocities.csv \n",
    "and extracts two 1D numpy arrays of equal length.  One array is\n",
    "of the velocity data taken by the radar gun, and the second is\n",
    "the times that the data is taken.\n",
    "'''\n",
    "\n",
    "import numpy as np\n",
    "\n",
    "skydiver_time, skydiver_velocity = np.loadtxt(\"skydiver_time_velocities.csv\",\n",
    "                                              delimiter=',',skiprows=1,unpack=True)\n"
   ]
  },
  {
   "cell_type": "code",
   "execution_count": null,
   "metadata": {
    "collapsed": false
   },
   "outputs": [],
   "source": [
    "'''\n",
    "This is a piece of example code that shows you how to get the \n",
    "velocity at any time you want using the Numpy interp() method.  \n",
    "This requires you to pick a time where you want the velocity\n",
    "as an input parameter to the method, as well as the time and \n",
    "velocity arrays that you will interpolate from.\n",
    "'''\n",
    "\n",
    "time = 7.2  # time in seconds\n",
    "vel = np.interp(time,skydiver_time,skydiver_velocity)\n",
    "print(\"velocity at time {:.3f} s is {:.3f} m/s\".format(time,vel))"
   ]
  },
  {
   "cell_type": "code",
   "execution_count": null,
   "metadata": {
    "collapsed": true
   },
   "outputs": [],
   "source": [
    "# This function computes the positions\n",
    "\n",
    "def position(x0, times, velocities):\n",
    "    x = np.zeros_like(times)\n",
    "    I = x0\n",
    "    x[0] = I\n",
    "    for i in range(len(times)-1):\n",
    "        delta_t = times[i+1] - times[i]\n",
    "        I += velocities[i] * delta_t\n",
    "        x[i+1] = I\n",
    "        \n",
    "    return x"
   ]
  },
  {
   "cell_type": "code",
   "execution_count": null,
   "metadata": {
    "collapsed": true
   },
   "outputs": [],
   "source": [
    "# This function computes the accelerations\n",
    "\n",
    "def acceleration(times, velocities):    \n",
    "    dft = np.zeros_like(times)\n",
    "    for i in range(len(times)):\n",
    "        if i == 0:\n",
    "            dft[i] = (velocities[i] - velocities[i+1]) / (times[i] - times[i+1])\n",
    "        elif i == (len(times) - 1):\n",
    "            dft[i] = (velocities[i-1] - velocities[i]) / (times[i-1] - times[i])\n",
    "        else:\n",
    "            dft[i] = (velocities[i-1] - velocities[i+1]) / (times[i-1] - times[i+1])\n",
    "            \n",
    "    return dft"
   ]
  },
  {
   "cell_type": "code",
   "execution_count": null,
   "metadata": {
    "collapsed": false
   },
   "outputs": [],
   "source": [
    "# This is the main script for the position. \n",
    "\n",
    "# Modules\n",
    "%matplotlib inline\n",
    "import matplotlib.pyplot as plt\n",
    "\n",
    "# Get position at every time\n",
    "skydiver_position = position(2000, skydiver_time, skydiver_velocity)\n",
    "\n",
    "# Plot the position as a function of time\n",
    "plt.plot(skydiver_time, skydiver_position)\n",
    "plt.xlabel('Time')\n",
    "plt.ylabel('Position')\n",
    "plt.title('Position as a function of time')\n",
    "\n",
    "# The last measured position is above ground; interpolate to get time when the professor hits the ground\n",
    "print('The last measured time is:', skydiver_time[3336])\n",
    "print('The last measured position is:', skydiver_position[3336])\n",
    "time_ground = np.interp(0, skydiver_position[::-1], skydiver_time[::-1])\n",
    "print('The time on the ground is:', time_ground)"
   ]
  },
  {
   "cell_type": "code",
   "execution_count": null,
   "metadata": {
    "collapsed": false
   },
   "outputs": [],
   "source": [
    "# This is the main script for the acceleration\n",
    "\n",
    "# Get acceleration at every time\n",
    "skydiver_acceleration = acceleration(skydiver_time, skydiver_velocity)\n",
    "\n",
    "# Plot the position as a function of time\n",
    "plt.plot(skydiver_time, skydiver_acceleration)\n",
    "plt.xlabel('Time')\n",
    "plt.ylabel('Acceleration')\n",
    "plt.title('Acceleration as a function of time')\n",
    "\n",
    "# Interpolate to find when acceleration is zero (i.e., when professor reaches terminal velocity)\n",
    "# Hmm this doesn't really work because the magnitude of the acceleration is always slightly above zero\n",
    "# I suppose just look at the graphs to answer the terminal velocity question\n",
    "time_terminal_velocity = np.interp(0, skydiver_acceleration, skydiver_time)\n",
    "print('The time when the professor reaches terminal velocity is:', time_terminal_velocity)"
   ]
  },
  {
   "cell_type": "code",
   "execution_count": null,
   "metadata": {
    "collapsed": false
   },
   "outputs": [],
   "source": [
    "# height when the skydiver has basically reached terminal velocity\n",
    "# by eye (using the graph produced immediately above) this happens around\n",
    "# 22 seconds, give or take\n",
    "\n",
    "height = np.interp(22,skydiver_time,skydiver_position)\n",
    "print(\"the height when the skydiver reaches terminal velocity is:\", height, \n",
    "      \"meters above the ground\")"
   ]
  },
  {
   "cell_type": "markdown",
   "metadata": {},
   "source": [
    "## The second part of the challenge\n",
    "\n",
    "In addition to your professor, a mouse and an elephant have also chosen to go skydiving.  (Choice may have had less to do with it than a tired physics professor trying to make a point; work with me here.)  Their speeds were recorded as well, in the files ```mouse_time_velocities.csv``` and ```elephant_time_velocities.csv```.  Read the data in for these two unfortunate creatures and store them in their own arrays. (Don't worry, they had parachutes too, they're just not very happy about it!)  Then, do the same calculations as before and plot the position, velocity, and acceleration as a function of time for all three individuals on the same set of graphs.  Do the mouse and/or elephant reach terminal velocity?  If so, at what time, and at what height above the ground?  "
   ]
  },
  {
   "cell_type": "markdown",
   "metadata": {},
   "source": [
    "**ANSWER:**  The elephant never reaches terminal velocity; the mouse does it very quickly. "
   ]
  },
  {
   "cell_type": "code",
   "execution_count": null,
   "metadata": {
    "collapsed": false
   },
   "outputs": [],
   "source": [
    "# put your code here!\n",
    "\n",
    "mouse_time, mouse_velocity = np.loadtxt(\"mouse_time_velocities.csv\",\n",
    "                                              delimiter=',',skiprows=1,unpack=True)\n",
    "mouse_position = position(2000, mouse_time, mouse_velocity)\n",
    "mouse_acceleration = acceleration(mouse_time, mouse_velocity)\n",
    "\n",
    "elephant_time, elephant_velocity = np.loadtxt(\"elephant_time_velocities.csv\",\n",
    "                                              delimiter=',',skiprows=1,unpack=True)\n",
    "elephant_position = position(2000, elephant_time, elephant_velocity)\n",
    "elephant_acceleration = acceleration(elephant_time, elephant_velocity)\n",
    "\n",
    "person, mouse, elephant, = plt.plot(skydiver_time,skydiver_position,'k-',\n",
    "                                    mouse_time,mouse_position,'g-',\n",
    "                                    elephant_time,elephant_position,'b--')\n",
    "plt.xlabel('time [s]')\n",
    "plt.ylabel('position [m]')\n",
    "plt.title(\"vertical height as a function of time\")\n",
    "plt.legend((person,mouse,elephant),('person','mouse','elephant'),loc='upper right')"
   ]
  },
  {
   "cell_type": "code",
   "execution_count": null,
   "metadata": {
    "collapsed": false
   },
   "outputs": [],
   "source": [
    "person, mouse, elephant, = plt.plot(skydiver_time,skydiver_acceleration,'k-',\n",
    "                                    mouse_time,mouse_acceleration,'g-',\n",
    "                                     elephant_time,elephant_acceleration,'b--')\n",
    "plt.xlabel('time [s]')\n",
    "plt.ylabel(r'acceleration [$m/s^2$]')\n",
    "plt.title(\"vertical acceleration as a function of time\")\n",
    "plt.legend((person,mouse,elephant),('person','mouse','elephant'),loc='lower right')"
   ]
  },
  {
   "cell_type": "code",
   "execution_count": null,
   "metadata": {
    "collapsed": false
   },
   "outputs": [],
   "source": [
    "person, mouse, elephant, = plt.plot(skydiver_time,skydiver_velocity,'k-',\n",
    "                                    mouse_time,mouse_velocity,'g-',\n",
    "                                    elephant_time,elephant_velocity,'b--')\n",
    "plt.xlabel('time [s]')\n",
    "plt.ylabel('velocity [m/s]')\n",
    "plt.title(\"vertical velocity as a function of time\")\n",
    "plt.legend((person,mouse,elephant),('person','mouse','elephant'),loc='lower right')\n"
   ]
  },
  {
   "cell_type": "markdown",
   "metadata": {},
   "source": [
    "### Assignment wrapup\n",
    "\n",
    "Please fill out the form that appears when you run the code below.  **You must completely fill this out in order to receive credit for the assignment!**"
   ]
  },
  {
   "cell_type": "code",
   "execution_count": null,
   "metadata": {
    "collapsed": false
   },
   "outputs": [],
   "source": [
    "from IPython.display import HTML\n",
    "HTML(\n",
    "\"\"\"\n",
    "<iframe \n",
    "\tsrc=\"https://goo.gl/forms/XvxmPrGnDOD3UZcI2?embedded=true\" \n",
    "\twidth=\"80%\" \n",
    "\theight=\"1200px\" \n",
    "\tframeborder=\"0\" \n",
    "\tmarginheight=\"0\" \n",
    "\tmarginwidth=\"0\">\n",
    "\tLoading...\n",
    "</iframe>\n",
    "\"\"\"\n",
    ")"
   ]
  },
  {
   "cell_type": "markdown",
   "metadata": {},
   "source": [
    "## Turn it in!\n",
    "\n",
    "Turn this assignment in to the Day 19 dropbox in the \"in-class activities\" folder."
   ]
  }
 ],
 "metadata": {
  "kernelspec": {
   "display_name": "Python 3",
   "language": "python",
   "name": "python3"
  },
  "language_info": {
   "codemirror_mode": {
    "name": "ipython",
    "version": 3
   },
   "file_extension": ".py",
   "mimetype": "text/x-python",
   "name": "python",
   "nbconvert_exporter": "python",
   "pygments_lexer": "ipython3",
   "version": "3.5.1"
  }
 },
 "nbformat": 4,
 "nbformat_minor": 0
}
