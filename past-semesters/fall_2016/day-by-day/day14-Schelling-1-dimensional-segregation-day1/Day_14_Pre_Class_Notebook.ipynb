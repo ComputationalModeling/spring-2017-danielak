{
 "cells": [
  {
   "cell_type": "markdown",
   "metadata": {},
   "source": [
    "# List manipulation in Python\n",
    "\n",
    "## Goal for this assignment\n",
    "\n",
    "The goal for this assignment is to learn to use the various methods for Python's `list` data type."
   ]
  },
  {
   "cell_type": "markdown",
   "metadata": {},
   "source": [
    "## Your name"
   ]
  },
  {
   "cell_type": "markdown",
   "metadata": {},
   "source": [
    "// put your name here!"
   ]
  },
  {
   "cell_type": "markdown",
   "metadata": {},
   "source": [
    "## Part 1: working with lists in Python\n",
    "\n",
    "A [list](https://docs.python.org/3/tutorial/introduction.html#lists) in Python is what is known as a *compound data type*, which is fundamentally used to group together other types of variables.  It is possible for lists to have values of a variety of types (i.e., integers, strings, floating-point numbers, etc.) but in general people tend to create lists with a single data type.  Lists are written as comma-separated values between square brackets, like so:\n",
    "\n",
    "`odd_numbers = [1, 3, 5, 7, 9]`\n",
    "\n",
    "and an empty list can be created by using square brackets with no values:\n",
    "\n",
    "`empty_list = []`\n",
    "\n",
    "The number of elements of a list can be found by using the Python `len()` method: `len(odd_numbers)` would return 5, for example.\n",
    "\n",
    "Lists are accessed using index values: `odd_numbers[2]` will return the 3rd element from the beginning of the list  (since Python counts starting at 0).  In this case, the value returned would be 5.  Using negative numbers in the index gives you elements starting at the end.  For example, `odd_numbers[-1]` gives you the last element in the list, and `odd_numbers[-1]` gives you the second-to-last number.\n",
    "\n",
    "Lists can also be indexed by *slicing* the list, which gives you a sub-set of the list (which is also a list).  A colon indicates that slicing is occurring, and you use the syntax `my_array[start:end]`.  In this example, `start` is the index where you start, and `end` is the index *after* the one you want to end (in keeping with the rest of Python's syntax).  If `start` or `end` are blank, the slice either begins at the beginning of the list or continues to the end of the list, respectively.  \n",
    "\n",
    "You can also add a third argument, which is the `step`.  In other words, `my_array[start:end:step]` goes from `start` index to the index before `end` in steps of `step`.  More concretely, `my_array[1,6,2]` will return a list composed of elements 1, 3, and 5 of that list, and `my_array[::2]` returns every second element in the list.\n",
    "\n",
    "**IMPORTANT:** you can do all of these things in Numpy, too!\n",
    "\n",
    "Some examples are below:"
   ]
  },
  {
   "cell_type": "code",
   "execution_count": null,
   "metadata": {
    "collapsed": false
   },
   "outputs": [],
   "source": [
    "even_numbers = [2, 4, 6, 8, 10, 12, 14]\n",
    "\n",
    "s1 = even_numbers[1:5]  # returns the 2nd through 4th elements\n",
    "print(\"s1:\", s1)\n",
    "\n",
    "s2 = even_numbers[2:]  # returns the 3rd element thorugh the end\n",
    "print(\"s2:\", s2)\n",
    "\n",
    "s3 = even_numbers[:-2]  # returns everything but the last two elements\n",
    "print(\"s3:\", s3)\n",
    "\n",
    "s4 = even_numbers[1:-2]  # returns everything but the first element and the two elements on the end\n",
    "print(\"s4:\", s4)\n",
    "\n",
    "s5 = even_numbers[1:-1:2]  # returns every other element, starting with the second element and ending at the second-to-last\n",
    "print(\"s5:\", s5)\n",
    "\n",
    "s6 = even_numbers[::-1] # starts at the end of the list and returns all elements in backwards order (reversing original list) \n",
    "print(\"s6:\", s6)"
   ]
  },
  {
   "cell_type": "markdown",
   "metadata": {},
   "source": [
    "### Now, try it yourself!\n",
    "\n",
    "Using the array below, create and print out sub-arrays that do the following:\n",
    "\n",
    "1. print out the first four elements (a-d)\n",
    "2. print out the last three elements (g-i)\n",
    "3. starting with the second element, print out every third element (b, e, h)"
   ]
  },
  {
   "cell_type": "code",
   "execution_count": null,
   "metadata": {
    "collapsed": false
   },
   "outputs": [],
   "source": [
    "some_letters = ['a','b','c','d','e','f','g','h','i']\n",
    "\n",
    "# put your code here!\n",
    "\n",
    "\n"
   ]
  },
  {
   "cell_type": "markdown",
   "metadata": {},
   "source": [
    "## Part 2: list methods in Python\n",
    "\n",
    "There are several useful methods that are built into lists in Python.  A full explanation of all list methods can be [found here](https://docs.python.org/3/tutorial/datastructures.html#more-on-lists).  However, the most useful list methods are as follows:\n",
    "\n",
    "`list.append(x)` - adds an item x to the end of your list.\n",
    "\n",
    "`list.extend(L)` - extends the list by adding all items in the given list L.  If you try to use the `append()` method, you will end up with a list that has an element that is another list - this creates a single, unified list made up of the two original lists.\n",
    "\n",
    "`list.insert(i, x)` - insert item x at index position i.  `list.insert(0,x)` inserts at the front of the list\n",
    "\n",
    "`list.pop(i)` - removes the item at index i and returns it.  If you don't give an index, `list.pop()` gives you the last item in the list.\n",
    "\n",
    "`list.reverse()` - reverse the order of the elements of the list.  This happens in place, and doesn't return anything.\n",
    "\n",
    "### An important note about copying lists in Python\n",
    "\n",
    "You may try to copy a list so you can work with it:\n",
    "\n",
    "`new_list = old_list`\n",
    "\n",
    "However, you'll find that if you modify `new_list`, you also modify `old_list`.  That's because when you equate lists in the way shown above, you are creating a new list that \"points at\" the old values.  To truly copy a list, you have to do the following: \n",
    "\n",
    "you are still pointing at the old values, and can modify them.  The (weird, but correct) way to copy a list is to say:\n",
    "\n",
    "`new_list = list(old_list)`\n",
    "\n",
    "### Now, try it yourself!\n",
    "\n",
    "Using the arrays below, create new arrays, manipulate them as follows, and then print them out:\n",
    "\n",
    "* Create a new array C, which a *copy* of A, and append the numbers 7 and 8 to the end.  (so the elements of C are 1,2,3,4,5,6,7,8)\n",
    "* Then remove the third element of C and put it back into the array *before* the second element from the end (so its elements, in order, are 1, 2, 4, 5, 6, 3, 7, 8)\n",
    "* Make a new array D that is a copy of A, and then extend it with the middle three elements of array B, using slicing to get the middle 3 elements of B, (so its elements, in order, are 1, 2, 3, 4, 5, 6, 'b', 'c', 'd').\n",
    "* Make a new array E that is a copy of B, reverse the order of its elements, and then remove the first element (so its elements, in order, are 'd', 'c', 'b', 'a')."
   ]
  },
  {
   "cell_type": "code",
   "execution_count": null,
   "metadata": {
    "collapsed": false
   },
   "outputs": [],
   "source": [
    "A = [1,2,3,4,5,6]\n",
    "B = ['a','b','c','d','e']\n",
    "\n",
    "# put your code here!\n",
    "\n",
    "\n"
   ]
  },
  {
   "cell_type": "markdown",
   "metadata": {},
   "source": [
    "### Assignment wrapup\n",
    "\n",
    "Please fill out the form that appears when you run the code below.  **You must completely fill this out in order to receive credit for the assignment!**"
   ]
  },
  {
   "cell_type": "code",
   "execution_count": null,
   "metadata": {
    "collapsed": false
   },
   "outputs": [],
   "source": [
    "from IPython.display import HTML\n",
    "HTML(\n",
    "\"\"\"\n",
    "<iframe \n",
    "\tsrc=\"https://goo.gl/forms/jXRNcKiQ8C3lvt8E2?embedded=true\" \n",
    "\twidth=\"80%\" \n",
    "\theight=\"1200px\" \n",
    "\tframeborder=\"0\" \n",
    "\tmarginheight=\"0\" \n",
    "\tmarginwidth=\"0\">\n",
    "\tLoading...\n",
    "</iframe>\n",
    "\"\"\"\n",
    ")"
   ]
  },
  {
   "cell_type": "markdown",
   "metadata": {},
   "source": [
    "### Congratulations, you're done!\n",
    "\n",
    "Submit this assignment by uploading it to the course Desire2Learn web page.  Go to the \"Pre-class assignments\" folder, find the dropbox link for Day 14, and upload it there.\n",
    "\n",
    "See you in class!"
   ]
  }
 ],
 "metadata": {
  "kernelspec": {
   "display_name": "Python 3",
   "language": "python",
   "name": "python3"
  },
  "language_info": {
   "codemirror_mode": {
    "name": "ipython",
    "version": 3
   },
   "file_extension": ".py",
   "mimetype": "text/x-python",
   "name": "python",
   "nbconvert_exporter": "python",
   "pygments_lexer": "ipython3",
   "version": "3.5.1"
  }
 },
 "nbformat": 4,
 "nbformat_minor": 0
}
