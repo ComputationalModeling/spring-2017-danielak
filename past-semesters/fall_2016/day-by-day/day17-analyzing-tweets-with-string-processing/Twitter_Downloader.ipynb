{
 "cells": [
  {
   "cell_type": "markdown",
   "metadata": {},
   "source": [
    "# Tweepy Example - Twitter api for Python\n"
   ]
  },
  {
   "cell_type": "markdown",
   "metadata": {},
   "source": [
    "This example notebook shows the code we used to download twitter feeds for the in-class assignment.  You can try to follow along but this notebook may not work on some systems. \n",
    "\n",
    "Before starting we need to make sure Tweepy module is installed.  You need to use the pip command to install this module (other common install commands include conda, or easy_install. which one you use depends on the module). More information about Tweepy can be found on their website:\n",
    "\n",
    "http://www.tweepy.org/\n",
    "\n",
    "You only need to run the installer once on your system."
   ]
  },
  {
   "cell_type": "code",
   "execution_count": null,
   "metadata": {
    "collapsed": false
   },
   "outputs": [],
   "source": [
    "!pip install tweepy"
   ]
  },
  {
   "cell_type": "markdown",
   "metadata": {},
   "source": [
    "Assuming the installation worked, you can now import the tweepy module."
   ]
  },
  {
   "cell_type": "code",
   "execution_count": null,
   "metadata": {
    "collapsed": true
   },
   "outputs": [],
   "source": [
    "import tweepy"
   ]
  },
  {
   "cell_type": "markdown",
   "metadata": {},
   "source": [
    "The next step is to get a costomer_key, consumer_secret, access_token, and  access_token_secret from your twitter account. This is not strait forward but fortunalty you should only need to do it once. Here are the basic steps:\n",
    "\n",
    "1. Log onto your twitter account \n",
    "2. Go to the following website and click on the add button: https://apps.twitter.com/\n",
    "3. Fill out the following fields:\n",
    "    * Name (this needs to be unique) - DirkColbry-Python\n",
    "    * Description - Ipython notebook tweepy test\n",
    "    * URL - Not sure, I'm not planning on posting so I just used my personal website -  http://www.mus.edu/~colbrydi\n",
    "    * Check \"Yes I agree\" checkbox \n",
    "4. Assuming you are successful in creating the app, click on the \"Permissions\" tab and set it to \"read-only\" \n",
    "5. Note the consumer_key and consumer_secret strings for later.\n",
    "6. Click the \"create access token\" and record those two numbers.  \n",
    "7. Note the access_token and the access_token_secret strings\n",
    "8. Insert all four strings into the variables below. \n",
    "\n"
   ]
  },
  {
   "cell_type": "code",
   "execution_count": null,
   "metadata": {
    "collapsed": false
   },
   "outputs": [],
   "source": [
    "consumer_key=''\n",
    "consumer_secret = ''\n",
    "access_token = ''\n",
    "access_token_secret = ''\n",
    "\n",
    "auth = tweepy.OAuthHandler(consumer_key, consumer_secret)\n",
    "auth.set_access_token(access_token, access_token_secret)\n",
    "api = tweepy.API(auth)"
   ]
  },
  {
   "cell_type": "markdown",
   "metadata": {},
   "source": [
    "Now we can check that it is working by pulling the timeline from your personal twitter feed"
   ]
  },
  {
   "cell_type": "code",
   "execution_count": null,
   "metadata": {
    "collapsed": false
   },
   "outputs": [],
   "source": [
    "public_tweets = api.home_timeline()\n",
    "for tweet in public_tweets:\n",
    "    print(tweet.text)"
   ]
  },
  {
   "cell_type": "markdown",
   "metadata": {},
   "source": [
    "What we really want are the feeds from the presidential candidates.  You need to search for the Twitter feed handle for each person. Put their name in the search menu and go to their twitter timeline.  Their feed name is in the URL. For example here is Barack Obama's timeline:\n",
    "\n",
    "https://twitter.com/barackobama\n",
    "\n",
    "His twitter screen_name is just barackobama.\n",
    "\n",
    "Now let's download 10 of his latest twitters using the user_timeline function\n",
    "    "
   ]
  },
  {
   "cell_type": "code",
   "execution_count": null,
   "metadata": {
    "collapsed": false
   },
   "outputs": [],
   "source": [
    "#Test the code\n",
    "public_tweets = api.user_timeline(screen_name = 'barackobama', count = 10, include_rts = True)\n",
    "\n",
    "f = open('barackobama_tweets.txt', 'w')\n",
    "for tweet in public_tweets:\n",
    "    f.write(tweet.text+'\\n')\n",
    "f.close()"
   ]
  },
  {
   "cell_type": "code",
   "execution_count": null,
   "metadata": {
    "collapsed": false
   },
   "outputs": [],
   "source": [
    "'''\n",
    "This chunk of code downloads a bunch of tweets.  The tweepy API will only \n",
    "download 200 tweets at a time, and you can only access the last ~3200 tweets.\n",
    "\n",
    "This is a modified version of https://gist.github.com/yanofsky/5436496\n",
    "'''\n",
    "\n",
    "# whose tweets do I want to download?\n",
    "twitter_names = [ 'BarackObama', 'realDonaldTrump','HillaryClinton','timkaine','mike_pence']\n",
    "\n",
    "# how many do I want?  Max = 3200 or so.\n",
    "number_to_download = 2000\n",
    "\n",
    "# loop over all of the twitter handles\n",
    "for name in twitter_names:\n",
    "\n",
    "    print(name)\n",
    "    \n",
    "    # initialize a list to hold all the tweepy tweets\n",
    "    alltweets = []\n",
    "\n",
    "    #make initial request for most recent tweets (200 is the maximum allowed count)\n",
    "    new_tweets = api.user_timeline(screen_name = name, count = 200, include_rts = True)\n",
    "\n",
    "    # save most recent tweets in our new list\n",
    "    alltweets.extend(new_tweets)\n",
    "    \n",
    "    # save the ID of the oldest tweet\n",
    "    oldest = alltweets[-1].id - 1\n",
    "    \n",
    "    # keep grabbing tweets until we've reached the number we want.\n",
    "    while len(alltweets) < number_to_download:\n",
    "        \n",
    "        # all subsequent requests use the max_id param to prevent duplication\n",
    "        new_tweets = api.user_timeline(screen_name = name, count=200, max_id=oldest, include_rts=True)\n",
    "\n",
    "        # extend the list again\n",
    "        alltweets.extend(new_tweets)\n",
    "\n",
    "        # save the ID of the oldest tweet again\n",
    "        oldest = alltweets[-1].id - 1\n",
    "        \n",
    "        # give the user some sense of what's going on\n",
    "        print(\"...%s tweets downloaded so far\" % (len(alltweets)) )\n",
    "    \n",
    "    # write 'em out!\n",
    "    f = open(name+'_tweets.txt', 'w')\n",
    "    for tweet in alltweets:\n",
    "        f.write(tweet.text+'\\n')\n",
    "    f.close()\n"
   ]
  },
  {
   "cell_type": "markdown",
   "metadata": {},
   "source": [
    "For class, I uploaded these files to a GitHub account:  https://github.com/bwoshea/CMSE201_datasets"
   ]
  }
 ],
 "metadata": {
  "kernelspec": {
   "display_name": "Python 3",
   "language": "python",
   "name": "python3"
  },
  "language_info": {
   "codemirror_mode": {
    "name": "ipython",
    "version": 3
   },
   "file_extension": ".py",
   "mimetype": "text/x-python",
   "name": "python",
   "nbconvert_exporter": "python",
   "pygments_lexer": "ipython3",
   "version": "3.5.1"
  }
 },
 "nbformat": 4,
 "nbformat_minor": 0
}
