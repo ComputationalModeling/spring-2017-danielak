{
 "cells": [
  {
   "cell_type": "code",
   "execution_count": 3,
   "metadata": {},
   "outputs": [
    {
     "data": {
      "text/html": [
       "<div>\n",
       "<table border=\"1\" class=\"dataframe\">\n",
       "  <thead>\n",
       "    <tr style=\"text-align: right;\">\n",
       "      <th></th>\n",
       "      <th>line_of_script</th>\n",
       "    </tr>\n",
       "  </thead>\n",
       "  <tbody>\n",
       "    <tr>\n",
       "      <th>0</th>\n",
       "      <td>PIRATES OF THE CARRIBEAN: DEAD MAN'S CHEST, by...</td>\n",
       "    </tr>\n",
       "    <tr>\n",
       "      <th>1</th>\n",
       "      <td>[view looking straight down at rolling swells,...</td>\n",
       "    </tr>\n",
       "    <tr>\n",
       "      <th>2</th>\n",
       "      <td>Scene: PORT ROYAL</td>\n",
       "    </tr>\n",
       "    <tr>\n",
       "      <th>3</th>\n",
       "      <td>[teacups on a table in the rain]</td>\n",
       "    </tr>\n",
       "    <tr>\n",
       "      <th>4</th>\n",
       "      <td>[sheet music on music stands in the rain]</td>\n",
       "    </tr>\n",
       "    <tr>\n",
       "      <th>5</th>\n",
       "      <td>[bouquet of white orchids, Elizabeth sitting i...</td>\n",
       "    </tr>\n",
       "    <tr>\n",
       "      <th>6</th>\n",
       "      <td>[men rowing, men on horseback, to the sound of...</td>\n",
       "    </tr>\n",
       "    <tr>\n",
       "      <th>7</th>\n",
       "      <td>[EITC logo on flag blowing in the wind]</td>\n",
       "    </tr>\n",
       "    <tr>\n",
       "      <th>8</th>\n",
       "      <td>[many rowboats are entering the harbor]</td>\n",
       "    </tr>\n",
       "    <tr>\n",
       "      <th>9</th>\n",
       "      <td>[Elizabeth sitting alone, at a distance]</td>\n",
       "    </tr>\n",
       "    <tr>\n",
       "      <th>10</th>\n",
       "      <td>[marines running, kick a door in]</td>\n",
       "    </tr>\n",
       "    <tr>\n",
       "      <th>11</th>\n",
       "      <td>[a mule is seen on the left in the barn where ...</td>\n",
       "    </tr>\n",
       "    <tr>\n",
       "      <th>12</th>\n",
       "      <td>[Liz looking over her shoulder]</td>\n",
       "    </tr>\n",
       "    <tr>\n",
       "      <th>13</th>\n",
       "      <td>[Elizabeth drops her bouquet]</td>\n",
       "    </tr>\n",
       "    <tr>\n",
       "      <th>14</th>\n",
       "      <td>[Will is in manacles, being escorted by red co...</td>\n",
       "    </tr>\n",
       "    <tr>\n",
       "      <th>15</th>\n",
       "      <td>ELIZABETH SWANN: Will...!</td>\n",
       "    </tr>\n",
       "    <tr>\n",
       "      <th>16</th>\n",
       "      <td>[Elizabeth runs to Will]</td>\n",
       "    </tr>\n",
       "    <tr>\n",
       "      <th>17</th>\n",
       "      <td>ELIZABETH SWANN: Why is this happening?</td>\n",
       "    </tr>\n",
       "    <tr>\n",
       "      <th>18</th>\n",
       "      <td>WILL TURNER: I don't know. You look beautiful.</td>\n",
       "    </tr>\n",
       "    <tr>\n",
       "      <th>19</th>\n",
       "      <td>ELIZABETH SWANN: I think it's bad luck for the...</td>\n",
       "    </tr>\n",
       "  </tbody>\n",
       "</table>\n",
       "</div>"
      ],
      "text/plain": [
       "                                       line_of_script\n",
       "0   PIRATES OF THE CARRIBEAN: DEAD MAN'S CHEST, by...\n",
       "1   [view looking straight down at rolling swells,...\n",
       "2                                   Scene: PORT ROYAL\n",
       "3                    [teacups on a table in the rain]\n",
       "4           [sheet music on music stands in the rain]\n",
       "5   [bouquet of white orchids, Elizabeth sitting i...\n",
       "6   [men rowing, men on horseback, to the sound of...\n",
       "7             [EITC logo on flag blowing in the wind]\n",
       "8             [many rowboats are entering the harbor]\n",
       "9            [Elizabeth sitting alone, at a distance]\n",
       "10                 [marines running, kick a door in] \n",
       "11  [a mule is seen on the left in the barn where ...\n",
       "12                    [Liz looking over her shoulder]\n",
       "13                      [Elizabeth drops her bouquet]\n",
       "14  [Will is in manacles, being escorted by red co...\n",
       "15                          ELIZABETH SWANN: Will...!\n",
       "16                           [Elizabeth runs to Will]\n",
       "17           ELIZABETH SWANN: Why is this happening? \n",
       "18     WILL TURNER: I don't know. You look beautiful.\n",
       "19  ELIZABETH SWANN: I think it's bad luck for the..."
      ]
     },
     "execution_count": 3,
     "metadata": {},
     "output_type": "execute_result"
    }
   ],
   "source": [
    "## Boring setup stuff\n",
    "import pandas as pd\n",
    "import requests\n",
    "\n",
    "\n",
    "def load_pirates_movie_script():\n",
    "    \"\"\"\n",
    "    Returns a DataFrame where each row is a line from the script\n",
    "    \"\"\"\n",
    "    return pd.DataFrame(\n",
    "        data=requests.get(\n",
    "            \"https://gist.githubusercontent.com/briandk/61d60180accecff51807ffddf0c5f18e/raw/00cfc60c64e75dbd730635850dc393d6c0196243/pirates.txt\").text.splitlines(),\n",
    "        # or in nltk: webtext.raw('pirates.txt').splitlines(),\n",
    "        columns=[\"line_of_script\"])\n",
    "\n",
    "\n",
    "# pirates_of_the_caribbean = load_pirates_movie_script()\n",
    "pirates_of_the_caribbean.head(n = 20)"
   ]
  },
  {
   "cell_type": "code",
   "execution_count": 5,
   "metadata": {},
   "outputs": [],
   "source": [
    "dialogue_line = \"ELIZABETH SWANN: I think it's bad luck for the\""
   ]
  },
  {
   "cell_type": "code",
   "execution_count": 7,
   "metadata": {},
   "outputs": [
    {
     "data": {
      "text/plain": [
       "['ELIZABETH SWANN', \" I think it's bad luck for the\"]"
      ]
     },
     "execution_count": 7,
     "metadata": {},
     "output_type": "execute_result"
    }
   ],
   "source": [
    "dialogue_line.split(':')"
   ]
  },
  {
   "cell_type": "code",
   "execution_count": 8,
   "metadata": {},
   "outputs": [
    {
     "data": {
      "text/plain": [
       "['blueberries']"
      ]
     },
     "execution_count": 8,
     "metadata": {},
     "output_type": "execute_result"
    }
   ],
   "source": [
    "\"blueberries\".split(':')"
   ]
  },
  {
   "cell_type": "code",
   "execution_count": 23,
   "metadata": {},
   "outputs": [
    {
     "ename": "ValueError",
     "evalue": "not enough values to unpack (expected 2, got 1)",
     "output_type": "error",
     "traceback": [
      "\u001b[0;31m---------------------------------------------------------------------------\u001b[0m",
      "\u001b[0;31mValueError\u001b[0m                                Traceback (most recent call last)",
      "\u001b[0;32m<ipython-input-23-0c7968cd4f17>\u001b[0m in \u001b[0;36m<module>\u001b[0;34m()\u001b[0m\n\u001b[1;32m     11\u001b[0m         \u001b[0;32mreturn\u001b[0m \u001b[0mfirst_part\u001b[0m\u001b[0;34m\u001b[0m\u001b[0m\n\u001b[1;32m     12\u001b[0m \u001b[0;34m\u001b[0m\u001b[0m\n\u001b[0;32m---> 13\u001b[0;31m \u001b[0mextract_character_name\u001b[0m\u001b[0;34m(\u001b[0m\u001b[0;34m'Elizabeth runs to Will'\u001b[0m\u001b[0;34m)\u001b[0m\u001b[0;34m\u001b[0m\u001b[0m\n\u001b[0m\u001b[1;32m     14\u001b[0m \u001b[0;34m\u001b[0m\u001b[0m\n\u001b[1;32m     15\u001b[0m \u001b[0;31m# pirates_of_the_caribbean[\"line_of_script\"].apply(extract_character_name)\u001b[0m\u001b[0;34m\u001b[0m\u001b[0;34m\u001b[0m\u001b[0m\n",
      "\u001b[0;32m<ipython-input-23-0c7968cd4f17>\u001b[0m in \u001b[0;36mextract_character_name\u001b[0;34m(line_of_script)\u001b[0m\n\u001b[1;32m      6\u001b[0m \u001b[0;34m\u001b[0m\u001b[0m\n\u001b[1;32m      7\u001b[0m \u001b[0;32mdef\u001b[0m \u001b[0mextract_character_name\u001b[0m\u001b[0;34m(\u001b[0m\u001b[0mline_of_script\u001b[0m\u001b[0;34m)\u001b[0m\u001b[0;34m:\u001b[0m\u001b[0;34m\u001b[0m\u001b[0m\n\u001b[0;32m----> 8\u001b[0;31m     \u001b[0;34m(\u001b[0m\u001b[0mfirst_part\u001b[0m\u001b[0;34m,\u001b[0m \u001b[0msecond_part\u001b[0m\u001b[0;34m)\u001b[0m \u001b[0;34m=\u001b[0m \u001b[0mline_of_script\u001b[0m\u001b[0;34m.\u001b[0m\u001b[0msplit\u001b[0m\u001b[0;34m(\u001b[0m\u001b[0;34m':'\u001b[0m\u001b[0;34m)\u001b[0m\u001b[0;34m\u001b[0m\u001b[0m\n\u001b[0m\u001b[1;32m      9\u001b[0m \u001b[0;34m\u001b[0m\u001b[0m\n\u001b[1;32m     10\u001b[0m     \u001b[0;32mif\u001b[0m \u001b[0mfirst_part\u001b[0m\u001b[0;34m.\u001b[0m\u001b[0misupper\u001b[0m\u001b[0;34m(\u001b[0m\u001b[0;34m)\u001b[0m\u001b[0;34m:\u001b[0m\u001b[0;34m\u001b[0m\u001b[0m\n",
      "\u001b[0;31mValueError\u001b[0m: not enough values to unpack (expected 2, got 1)"
     ]
    }
   ],
   "source": [
    "# character_names = []\n",
    "# for line in pirates_of_the_caribbean[\"line_of_script\"]:\n",
    "#     character_names.append(line.split(\":\")[0])\n",
    "    \n",
    "# print(character_names)\n",
    "\n",
    "def extract_character_name(line_of_script):\n",
    "    (first_part, second_part) = line_of_script.split(':')\n",
    "    \n",
    "    if first_part.isupper():\n",
    "        return first_part\n",
    "\n",
    "extract_character_name('Elizabeth runs to Will')    \n",
    "\n",
    "# pirates_of_the_caribbean[\"line_of_script\"].apply(extract_character_name)\n",
    "\n",
    "# line = \"Elizabeth runs to Will\"\n",
    "# line.isupper()"
   ]
  },
  {
   "cell_type": "code",
   "execution_count": null,
   "metadata": {
    "collapsed": true
   },
   "outputs": [],
   "source": []
  }
 ],
 "metadata": {
  "kernelspec": {
   "display_name": "Python 3",
   "language": "python",
   "name": "python3"
  },
  "language_info": {
   "codemirror_mode": {
    "name": "ipython",
    "version": 3
   },
   "file_extension": ".py",
   "mimetype": "text/x-python",
   "name": "python",
   "nbconvert_exporter": "python",
   "pygments_lexer": "ipython3",
   "version": "3.5.3"
  }
 },
 "nbformat": 4,
 "nbformat_minor": 2
}
